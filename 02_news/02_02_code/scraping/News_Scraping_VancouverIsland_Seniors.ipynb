{
  "nbformat": 4,
  "nbformat_minor": 0,
  "metadata": {
    "colab": {
      "name": "News_Scraping_VancouverIsland_Seniors.ipynb",
      "provenance": [],
      "collapsed_sections": []
    },
    "kernelspec": {
      "name": "python3",
      "display_name": "Python 3"
    },
    "language_info": {
      "name": "python"
    }
  },
  "cells": [
    {
      "cell_type": "code",
      "execution_count": 16,
      "metadata": {
        "colab": {
          "base_uri": "https://localhost:8080/"
        },
        "id": "WjxuMXAxRjog",
        "outputId": "547abb6e-9aa4-4cbf-ced8-af09ceb7af6e"
      },
      "outputs": [
        {
          "output_type": "stream",
          "name": "stdout",
          "text": [
            "Requirement already satisfied: PyPDF2 in /usr/local/lib/python3.7/dist-packages (1.26.0)\n"
          ]
        }
      ],
      "source": [
        "!pip install PyPDF2"
      ]
    },
    {
      "cell_type": "code",
      "source": [
        "import requests\n",
        "import pandas as pd\n",
        "import io\n",
        "from bs4 import BeautifulSoup\n",
        "from PyPDF2 import PdfFileReader"
      ],
      "metadata": {
        "id": "6AHZId6RSf9t"
      },
      "execution_count": 17,
      "outputs": []
    },
    {
      "cell_type": "code",
      "source": [
        "reports_url = \"https://www.vancouverislandfreedaily.com/tag/seniors/\"\n",
        "link = reports_url\n",
        "\n",
        "headers = {'User-Agent': 'Mozilla/5.0 (Macintosh; Intel Mac OS X 10_11_5) AppleWebKit/537.36 (KHTML, like Gecko) Chrome/50.0.2661.102 Safari/537.36'}\n",
        "reports_page = requests.get(reports_url, headers=headers)\n",
        "reports_page"
      ],
      "metadata": {
        "colab": {
          "base_uri": "https://localhost:8080/"
        },
        "id": "OjnkAD_QShHe",
        "outputId": "d282410c-34d8-464e-8c17-01eaa160e726"
      },
      "execution_count": 18,
      "outputs": [
        {
          "output_type": "execute_result",
          "data": {
            "text/plain": [
              "<Response [200]>"
            ]
          },
          "metadata": {},
          "execution_count": 18
        }
      ]
    },
    {
      "cell_type": "code",
      "source": [
        "soup = BeautifulSoup(reports_page.content, 'html.parser')"
      ],
      "metadata": {
        "id": "AIUqfkBLSqVa"
      },
      "execution_count": 19,
      "outputs": []
    },
    {
      "cell_type": "code",
      "source": [
        "reports = {}\n",
        "reports['links'] = []\n",
        "reports['dates'] = []\n",
        "reports['header'] = []\n",
        "reports['body'] = []\n",
        "\n",
        "#News' links\n",
        "news_url = soup.select('h4 a')\n",
        "[reports['links'].append(link['href']) for link in news_url]\n",
        "reports['links']"
      ],
      "metadata": {
        "colab": {
          "base_uri": "https://localhost:8080/"
        },
        "id": "Irgm04EnStoC",
        "outputId": "3596d870-46b5-4899-8e5a-66eb4dcb3133"
      },
      "execution_count": null,
      "outputs": [
        {
          "output_type": "execute_result",
          "data": {
            "text/plain": [
              "['https://www.vancouverislandfreedaily.com/news/volunteers-who-supported-seniors-a-lasting-legacy-of-pandemic-b-c-seniors-advocate/',\n",
              " 'https://www.vancouverislandfreedaily.com/news/gis-one-time-payment-coming-earlier-for-affected-seniors/',\n",
              " 'https://www.vancouverislandfreedaily.com/community/inspired-by-crafts-with-grandma-victoria-student-recruits-classmates-to-make-valentines/',\n",
              " 'https://www.vancouverislandfreedaily.com/news/lack-of-heat-in-husbands-care-home-has-kelowna-woman-demanding-provincial-action/',\n",
              " 'https://www.vancouverislandfreedaily.com/news/a-positive-outlook-on-getting-old-could-help-with-aging-b-c-study-says/',\n",
              " 'https://www.vancouverislandfreedaily.com/community/oak-bay-resident-honours-her-dad-by-stuffing-seniors-mailboxes-with-love/',\n",
              " 'https://www.vancouverislandfreedaily.com/news/island-health-declares-new-care-home-outbreaks-in-victoria-chemainus/',\n",
              " 'https://www.vancouverislandfreedaily.com/news/vulnerable-seniors-have-been-abandoned-by-the-government-island-ndp-mps/',\n",
              " 'https://www.vancouverislandfreedaily.com/news/seniors-do-you-need-help-caring-for-your-four-legged-friend/',\n",
              " 'https://www.vancouverislandfreedaily.com/news/advocates-say-lengthy-covid-isolation-for-seniors-in-care-may-do-more-harm-than-good/',\n",
              " 'https://www.vancouverislandfreedaily.com/news/new-canadian-care-home-standards-to-emphasize-fact-that-they-are-homes-not-wards/',\n",
              " 'https://www.vancouverislandfreedaily.com/news/oak-bay-retirement-home-confirms-3-cases-of-covid-19-among-residents/',\n",
              " 'https://www.vancouverislandfreedaily.com/news/island-mla-criticizes-feds-for-five-month-wait-for-seniors-one-time-gis-payment/',\n",
              " 'https://www.vancouverislandfreedaily.com/news/b-c-gives-720k-grant-to-organization-supporting-seniors-at-risk-of-homelessness/',\n",
              " 'https://www.vancouverislandfreedaily.com/news/north-island-mp-says-time-running-out-to-fix-gis-cut-before-holidays/',\n",
              " 'https://www.vancouverislandfreedaily.com/news/seniors-advocate-calls-for-reporting-line-for-abuse-and-neglect-amid-rising-reports/',\n",
              " 'https://www.vancouverislandfreedaily.com/community/photos-victoria-pianist-helps-parkwood-place-residents-get-the-holiday-spirit/',\n",
              " 'https://www.vancouverislandfreedaily.com/community/councillor-shares-saanichs-age-friendly-actions-at-international-conference/',\n",
              " 'https://www.vancouverislandfreedaily.com/news/courtenay-senior-on-scooter-struck-by-car-compensated-with-cash/',\n",
              " 'https://www.vancouverislandfreedaily.com/news/no-euthanasia-in-quebec-care-homes-during-covid-19-expert-tells-coroners-inquest/']"
            ]
          },
          "metadata": {},
          "execution_count": 5
        }
      ]
    },
    {
      "cell_type": "code",
      "source": [
        "#News Dates\n",
        "news_span = soup.find_all('ul', class_ = 'author-meta')\n",
        "[reports['dates'].append(date.find('li').get_text()) for date in list(news_span)]\n",
        "reports['dates']"
      ],
      "metadata": {
        "colab": {
          "base_uri": "https://localhost:8080/"
        },
        "id": "r_eUm-8gS0To",
        "outputId": "63f30e8b-c751-486d-9a10-eeb796e9d063"
      },
      "execution_count": null,
      "outputs": [
        {
          "output_type": "execute_result",
          "data": {
            "text/plain": [
              "['Feb 16, 2022',\n",
              " 'Feb 14, 2022',\n",
              " 'Feb 14, 2022',\n",
              " 'Feb 11, 2022',\n",
              " 'Feb 9, 2022',\n",
              " 'Feb 4, 2022',\n",
              " 'Feb 4, 2022',\n",
              " 'Jan 23, 2022',\n",
              " 'Jan 21, 2022',\n",
              " 'Jan 20, 2022',\n",
              " 'Jan 12, 2022',\n",
              " 'Jan 4, 2022',\n",
              " 'Dec 21, 2021',\n",
              " 'Dec 20, 2021',\n",
              " 'Dec 13, 2021',\n",
              " 'Dec 8, 2021',\n",
              " 'Dec 6, 2021',\n",
              " 'Nov 21, 2021',\n",
              " 'Nov 17, 2021',\n",
              " 'Nov 2, 2021']"
            ]
          },
          "metadata": {},
          "execution_count": 7
        }
      ]
    },
    {
      "cell_type": "code",
      "source": [
        "#News Titles\n",
        "[reports['header'].append(title.get_text().strip().replace('\\n', '')) for title in news_url]\n",
        "reports['header']"
      ],
      "metadata": {
        "colab": {
          "base_uri": "https://localhost:8080/"
        },
        "id": "KJ8DMymSS5Nd",
        "outputId": "20e6d025-3255-4e41-8764-95ae64155fdb"
      },
      "execution_count": null,
      "outputs": [
        {
          "output_type": "execute_result",
          "data": {
            "text/plain": [
              "['Volunteers who supported seniors a lasting legacy of pandemic: B.C. seniors advocate',\n",
              " 'GIS one-time payment coming earlier for affected seniors',\n",
              " 'Inspired by crafts with grandma, Victoria student recruits classmates to make valentines',\n",
              " 'Lack of heat in husband’s care home has Kelowna woman demanding provincial action',\n",
              " 'A positive outlook on getting old could help with aging, B.C. study says',\n",
              " 'Oak Bay resident honours her dad by stuffing seniors’ mailboxes with love',\n",
              " 'Island Health declares new care home outbreaks in Victoria, Chemainus',\n",
              " 'Vulnerable seniors have been abandoned by the government: Island NDP MPs',\n",
              " 'Seniors, do you need help caring for your four-legged friend?',\n",
              " 'Advocates say lengthy COVID isolation for seniors in care may do more harm than good',\n",
              " 'New Canadian care home standards to emphasize fact that they are homes, not wards',\n",
              " 'Oak Bay retirement home confirms 3 cases of COVID-19 among residents',\n",
              " 'Island MLA criticizes feds for five-month wait for seniors’ one-time GIS payment',\n",
              " 'B.C. gives $720K grant to organization supporting seniors at risk of homelessness',\n",
              " 'North Island MP says time running out to fix GIS cut before holidays',\n",
              " 'Seniors advocate calls for reporting line for abuse and neglect amid rising reports',\n",
              " 'PHOTOS: Victoria pianist helps Parkwood Place residents get the holiday spirit',\n",
              " 'Councillor shares Saanich’s age-friendly actions at international conference',\n",
              " 'Courtenay senior on scooter struck by car compensated with cash',\n",
              " 'No ‘euthanasia’ in Quebec care homes during COVID-19, expert tells coroner’s inquest']"
            ]
          },
          "metadata": {},
          "execution_count": 8
        }
      ]
    },
    {
      "cell_type": "code",
      "source": [
        "#Looping inside the News' for News Body\n",
        "for j in reports['links']:\n",
        "  url = j\n",
        "  headers = {'User-Agent': 'Mozilla/5.0 (Macintosh; Intel Mac OS X 10_11_5) AppleWebKit/537.36 (KHTML, like Gecko) Chrome/50.0.2661.102 Safari/537.36'}\n",
        "  response = requests.get(url,headers=headers)\n",
        "\n",
        "  soup2 = BeautifulSoup(response.content, 'html.parser')\n",
        "\n",
        "  div = soup2.find_all('div', class_= 'entry-content')\n",
        "  reports['body'].append(' '.join([body.get_text(strip = True) for body in list(div)]))"
      ],
      "metadata": {
        "id": "zL3X8TJRS7ws"
      },
      "execution_count": null,
      "outputs": []
    },
    {
      "cell_type": "code",
      "source": [
        "# Scraping all pages\n",
        "link = \"https://www.vancouverislandfreedaily.com/tag/seniors/\"\n",
        "\n",
        "reports = {}\n",
        "reports['links'] = []\n",
        "reports['dates'] = []\n",
        "reports['header'] = []\n",
        "reports['body'] = []\n",
        "\n",
        "\n",
        "def webscrape(link):\n",
        "  headers = {'User-Agent': 'Mozilla/5.0 (Macintosh; Intel Mac OS X 10_11_5) AppleWebKit/537.36 (KHTML, like Gecko) Chrome/50.0.2661.102 Safari/537.36'}\n",
        "  reports_page = requests.get(link, headers=headers)\n",
        "  soup = BeautifulSoup(reports_page.content, 'html.parser')\n",
        "\n",
        "  #News' links\n",
        "  news_url = soup.select('h4 a')\n",
        "  [reports['links'].append(link['href']) for link in news_url]\n",
        "  #reports['links']\n",
        "\n",
        "  #News Dates\n",
        "  news_span = soup.find_all('ul', class_ = 'author-meta')\n",
        "  [reports['dates'].append(date.find('li').get_text()) for date in list(news_span)]\n",
        "  #reports['dates']\n",
        "\n",
        "  #News Titles\n",
        "  [reports['header'].append(title.get_text().strip().replace('\\n', '')) for title in news_url]\n",
        "\n",
        "  nextpage = soup.find('a', class_=\"next\") \n",
        "  next = (nextpage['href'])\n",
        "  webscrape(next)\n",
        "\n",
        "webscrape(link)"
      ],
      "metadata": {
        "colab": {
          "base_uri": "https://localhost:8080/",
          "height": 362
        },
        "id": "SEHnDcHjTiO8",
        "outputId": "953576a6-9248-4b77-b14f-cac7a60aa111"
      },
      "execution_count": 20,
      "outputs": [
        {
          "output_type": "error",
          "ename": "TypeError",
          "evalue": "ignored",
          "traceback": [
            "\u001b[0;31m---------------------------------------------------------------------------\u001b[0m",
            "\u001b[0;31mTypeError\u001b[0m                                 Traceback (most recent call last)",
            "\u001b[0;32m<ipython-input-20-e99845c8ebab>\u001b[0m in \u001b[0;36m<module>\u001b[0;34m()\u001b[0m\n\u001b[1;32m     31\u001b[0m   \u001b[0mwebscrape\u001b[0m\u001b[0;34m(\u001b[0m\u001b[0mnext\u001b[0m\u001b[0;34m)\u001b[0m\u001b[0;34m\u001b[0m\u001b[0;34m\u001b[0m\u001b[0m\n\u001b[1;32m     32\u001b[0m \u001b[0;34m\u001b[0m\u001b[0m\n\u001b[0;32m---> 33\u001b[0;31m \u001b[0mwebscrape\u001b[0m\u001b[0;34m(\u001b[0m\u001b[0mlink\u001b[0m\u001b[0;34m)\u001b[0m\u001b[0;34m\u001b[0m\u001b[0;34m\u001b[0m\u001b[0m\n\u001b[0m",
            "\u001b[0;32m<ipython-input-20-e99845c8ebab>\u001b[0m in \u001b[0;36mwebscrape\u001b[0;34m(link)\u001b[0m\n\u001b[1;32m     29\u001b[0m   \u001b[0mnextpage\u001b[0m \u001b[0;34m=\u001b[0m \u001b[0msoup\u001b[0m\u001b[0;34m.\u001b[0m\u001b[0mfind\u001b[0m\u001b[0;34m(\u001b[0m\u001b[0;34m'a'\u001b[0m\u001b[0;34m,\u001b[0m \u001b[0mclass_\u001b[0m\u001b[0;34m=\u001b[0m\u001b[0;34m\"next\"\u001b[0m\u001b[0;34m)\u001b[0m\u001b[0;34m\u001b[0m\u001b[0;34m\u001b[0m\u001b[0m\n\u001b[1;32m     30\u001b[0m   \u001b[0mnext\u001b[0m \u001b[0;34m=\u001b[0m \u001b[0;34m(\u001b[0m\u001b[0mnextpage\u001b[0m\u001b[0;34m[\u001b[0m\u001b[0;34m'href'\u001b[0m\u001b[0;34m]\u001b[0m\u001b[0;34m)\u001b[0m\u001b[0;34m\u001b[0m\u001b[0;34m\u001b[0m\u001b[0m\n\u001b[0;32m---> 31\u001b[0;31m   \u001b[0mwebscrape\u001b[0m\u001b[0;34m(\u001b[0m\u001b[0mnext\u001b[0m\u001b[0;34m)\u001b[0m\u001b[0;34m\u001b[0m\u001b[0;34m\u001b[0m\u001b[0m\n\u001b[0m\u001b[1;32m     32\u001b[0m \u001b[0;34m\u001b[0m\u001b[0m\n\u001b[1;32m     33\u001b[0m \u001b[0mwebscrape\u001b[0m\u001b[0;34m(\u001b[0m\u001b[0mlink\u001b[0m\u001b[0;34m)\u001b[0m\u001b[0;34m\u001b[0m\u001b[0;34m\u001b[0m\u001b[0m\n",
            "\u001b[0;32m<ipython-input-20-e99845c8ebab>\u001b[0m in \u001b[0;36mwebscrape\u001b[0;34m(link)\u001b[0m\n\u001b[1;32m     29\u001b[0m   \u001b[0mnextpage\u001b[0m \u001b[0;34m=\u001b[0m \u001b[0msoup\u001b[0m\u001b[0;34m.\u001b[0m\u001b[0mfind\u001b[0m\u001b[0;34m(\u001b[0m\u001b[0;34m'a'\u001b[0m\u001b[0;34m,\u001b[0m \u001b[0mclass_\u001b[0m\u001b[0;34m=\u001b[0m\u001b[0;34m\"next\"\u001b[0m\u001b[0;34m)\u001b[0m\u001b[0;34m\u001b[0m\u001b[0;34m\u001b[0m\u001b[0m\n\u001b[1;32m     30\u001b[0m   \u001b[0mnext\u001b[0m \u001b[0;34m=\u001b[0m \u001b[0;34m(\u001b[0m\u001b[0mnextpage\u001b[0m\u001b[0;34m[\u001b[0m\u001b[0;34m'href'\u001b[0m\u001b[0;34m]\u001b[0m\u001b[0;34m)\u001b[0m\u001b[0;34m\u001b[0m\u001b[0;34m\u001b[0m\u001b[0m\n\u001b[0;32m---> 31\u001b[0;31m   \u001b[0mwebscrape\u001b[0m\u001b[0;34m(\u001b[0m\u001b[0mnext\u001b[0m\u001b[0;34m)\u001b[0m\u001b[0;34m\u001b[0m\u001b[0;34m\u001b[0m\u001b[0m\n\u001b[0m\u001b[1;32m     32\u001b[0m \u001b[0;34m\u001b[0m\u001b[0m\n\u001b[1;32m     33\u001b[0m \u001b[0mwebscrape\u001b[0m\u001b[0;34m(\u001b[0m\u001b[0mlink\u001b[0m\u001b[0;34m)\u001b[0m\u001b[0;34m\u001b[0m\u001b[0;34m\u001b[0m\u001b[0m\n",
            "\u001b[0;32m<ipython-input-20-e99845c8ebab>\u001b[0m in \u001b[0;36mwebscrape\u001b[0;34m(link)\u001b[0m\n\u001b[1;32m     29\u001b[0m   \u001b[0mnextpage\u001b[0m \u001b[0;34m=\u001b[0m \u001b[0msoup\u001b[0m\u001b[0;34m.\u001b[0m\u001b[0mfind\u001b[0m\u001b[0;34m(\u001b[0m\u001b[0;34m'a'\u001b[0m\u001b[0;34m,\u001b[0m \u001b[0mclass_\u001b[0m\u001b[0;34m=\u001b[0m\u001b[0;34m\"next\"\u001b[0m\u001b[0;34m)\u001b[0m\u001b[0;34m\u001b[0m\u001b[0;34m\u001b[0m\u001b[0m\n\u001b[1;32m     30\u001b[0m   \u001b[0mnext\u001b[0m \u001b[0;34m=\u001b[0m \u001b[0;34m(\u001b[0m\u001b[0mnextpage\u001b[0m\u001b[0;34m[\u001b[0m\u001b[0;34m'href'\u001b[0m\u001b[0;34m]\u001b[0m\u001b[0;34m)\u001b[0m\u001b[0;34m\u001b[0m\u001b[0;34m\u001b[0m\u001b[0m\n\u001b[0;32m---> 31\u001b[0;31m   \u001b[0mwebscrape\u001b[0m\u001b[0;34m(\u001b[0m\u001b[0mnext\u001b[0m\u001b[0;34m)\u001b[0m\u001b[0;34m\u001b[0m\u001b[0;34m\u001b[0m\u001b[0m\n\u001b[0m\u001b[1;32m     32\u001b[0m \u001b[0;34m\u001b[0m\u001b[0m\n\u001b[1;32m     33\u001b[0m \u001b[0mwebscrape\u001b[0m\u001b[0;34m(\u001b[0m\u001b[0mlink\u001b[0m\u001b[0;34m)\u001b[0m\u001b[0;34m\u001b[0m\u001b[0;34m\u001b[0m\u001b[0m\n",
            "\u001b[0;32m<ipython-input-20-e99845c8ebab>\u001b[0m in \u001b[0;36mwebscrape\u001b[0;34m(link)\u001b[0m\n\u001b[1;32m     29\u001b[0m   \u001b[0mnextpage\u001b[0m \u001b[0;34m=\u001b[0m \u001b[0msoup\u001b[0m\u001b[0;34m.\u001b[0m\u001b[0mfind\u001b[0m\u001b[0;34m(\u001b[0m\u001b[0;34m'a'\u001b[0m\u001b[0;34m,\u001b[0m \u001b[0mclass_\u001b[0m\u001b[0;34m=\u001b[0m\u001b[0;34m\"next\"\u001b[0m\u001b[0;34m)\u001b[0m\u001b[0;34m\u001b[0m\u001b[0;34m\u001b[0m\u001b[0m\n\u001b[1;32m     30\u001b[0m   \u001b[0mnext\u001b[0m \u001b[0;34m=\u001b[0m \u001b[0;34m(\u001b[0m\u001b[0mnextpage\u001b[0m\u001b[0;34m[\u001b[0m\u001b[0;34m'href'\u001b[0m\u001b[0;34m]\u001b[0m\u001b[0;34m)\u001b[0m\u001b[0;34m\u001b[0m\u001b[0;34m\u001b[0m\u001b[0m\n\u001b[0;32m---> 31\u001b[0;31m   \u001b[0mwebscrape\u001b[0m\u001b[0;34m(\u001b[0m\u001b[0mnext\u001b[0m\u001b[0;34m)\u001b[0m\u001b[0;34m\u001b[0m\u001b[0;34m\u001b[0m\u001b[0m\n\u001b[0m\u001b[1;32m     32\u001b[0m \u001b[0;34m\u001b[0m\u001b[0m\n\u001b[1;32m     33\u001b[0m \u001b[0mwebscrape\u001b[0m\u001b[0;34m(\u001b[0m\u001b[0mlink\u001b[0m\u001b[0;34m)\u001b[0m\u001b[0;34m\u001b[0m\u001b[0;34m\u001b[0m\u001b[0m\n",
            "\u001b[0;32m<ipython-input-20-e99845c8ebab>\u001b[0m in \u001b[0;36mwebscrape\u001b[0;34m(link)\u001b[0m\n\u001b[1;32m     29\u001b[0m   \u001b[0mnextpage\u001b[0m \u001b[0;34m=\u001b[0m \u001b[0msoup\u001b[0m\u001b[0;34m.\u001b[0m\u001b[0mfind\u001b[0m\u001b[0;34m(\u001b[0m\u001b[0;34m'a'\u001b[0m\u001b[0;34m,\u001b[0m \u001b[0mclass_\u001b[0m\u001b[0;34m=\u001b[0m\u001b[0;34m\"next\"\u001b[0m\u001b[0;34m)\u001b[0m\u001b[0;34m\u001b[0m\u001b[0;34m\u001b[0m\u001b[0m\n\u001b[1;32m     30\u001b[0m   \u001b[0mnext\u001b[0m \u001b[0;34m=\u001b[0m \u001b[0;34m(\u001b[0m\u001b[0mnextpage\u001b[0m\u001b[0;34m[\u001b[0m\u001b[0;34m'href'\u001b[0m\u001b[0;34m]\u001b[0m\u001b[0;34m)\u001b[0m\u001b[0;34m\u001b[0m\u001b[0;34m\u001b[0m\u001b[0m\n\u001b[0;32m---> 31\u001b[0;31m   \u001b[0mwebscrape\u001b[0m\u001b[0;34m(\u001b[0m\u001b[0mnext\u001b[0m\u001b[0;34m)\u001b[0m\u001b[0;34m\u001b[0m\u001b[0;34m\u001b[0m\u001b[0m\n\u001b[0m\u001b[1;32m     32\u001b[0m \u001b[0;34m\u001b[0m\u001b[0m\n\u001b[1;32m     33\u001b[0m \u001b[0mwebscrape\u001b[0m\u001b[0;34m(\u001b[0m\u001b[0mlink\u001b[0m\u001b[0;34m)\u001b[0m\u001b[0;34m\u001b[0m\u001b[0;34m\u001b[0m\u001b[0m\n",
            "\u001b[0;32m<ipython-input-20-e99845c8ebab>\u001b[0m in \u001b[0;36mwebscrape\u001b[0;34m(link)\u001b[0m\n\u001b[1;32m     29\u001b[0m   \u001b[0mnextpage\u001b[0m \u001b[0;34m=\u001b[0m \u001b[0msoup\u001b[0m\u001b[0;34m.\u001b[0m\u001b[0mfind\u001b[0m\u001b[0;34m(\u001b[0m\u001b[0;34m'a'\u001b[0m\u001b[0;34m,\u001b[0m \u001b[0mclass_\u001b[0m\u001b[0;34m=\u001b[0m\u001b[0;34m\"next\"\u001b[0m\u001b[0;34m)\u001b[0m\u001b[0;34m\u001b[0m\u001b[0;34m\u001b[0m\u001b[0m\n\u001b[1;32m     30\u001b[0m   \u001b[0mnext\u001b[0m \u001b[0;34m=\u001b[0m \u001b[0;34m(\u001b[0m\u001b[0mnextpage\u001b[0m\u001b[0;34m[\u001b[0m\u001b[0;34m'href'\u001b[0m\u001b[0;34m]\u001b[0m\u001b[0;34m)\u001b[0m\u001b[0;34m\u001b[0m\u001b[0;34m\u001b[0m\u001b[0m\n\u001b[0;32m---> 31\u001b[0;31m   \u001b[0mwebscrape\u001b[0m\u001b[0;34m(\u001b[0m\u001b[0mnext\u001b[0m\u001b[0;34m)\u001b[0m\u001b[0;34m\u001b[0m\u001b[0;34m\u001b[0m\u001b[0m\n\u001b[0m\u001b[1;32m     32\u001b[0m \u001b[0;34m\u001b[0m\u001b[0m\n\u001b[1;32m     33\u001b[0m \u001b[0mwebscrape\u001b[0m\u001b[0;34m(\u001b[0m\u001b[0mlink\u001b[0m\u001b[0;34m)\u001b[0m\u001b[0;34m\u001b[0m\u001b[0;34m\u001b[0m\u001b[0m\n",
            "\u001b[0;32m<ipython-input-20-e99845c8ebab>\u001b[0m in \u001b[0;36mwebscrape\u001b[0;34m(link)\u001b[0m\n\u001b[1;32m     29\u001b[0m   \u001b[0mnextpage\u001b[0m \u001b[0;34m=\u001b[0m \u001b[0msoup\u001b[0m\u001b[0;34m.\u001b[0m\u001b[0mfind\u001b[0m\u001b[0;34m(\u001b[0m\u001b[0;34m'a'\u001b[0m\u001b[0;34m,\u001b[0m \u001b[0mclass_\u001b[0m\u001b[0;34m=\u001b[0m\u001b[0;34m\"next\"\u001b[0m\u001b[0;34m)\u001b[0m\u001b[0;34m\u001b[0m\u001b[0;34m\u001b[0m\u001b[0m\n\u001b[1;32m     30\u001b[0m   \u001b[0mnext\u001b[0m \u001b[0;34m=\u001b[0m \u001b[0;34m(\u001b[0m\u001b[0mnextpage\u001b[0m\u001b[0;34m[\u001b[0m\u001b[0;34m'href'\u001b[0m\u001b[0;34m]\u001b[0m\u001b[0;34m)\u001b[0m\u001b[0;34m\u001b[0m\u001b[0;34m\u001b[0m\u001b[0m\n\u001b[0;32m---> 31\u001b[0;31m   \u001b[0mwebscrape\u001b[0m\u001b[0;34m(\u001b[0m\u001b[0mnext\u001b[0m\u001b[0;34m)\u001b[0m\u001b[0;34m\u001b[0m\u001b[0;34m\u001b[0m\u001b[0m\n\u001b[0m\u001b[1;32m     32\u001b[0m \u001b[0;34m\u001b[0m\u001b[0m\n\u001b[1;32m     33\u001b[0m \u001b[0mwebscrape\u001b[0m\u001b[0;34m(\u001b[0m\u001b[0mlink\u001b[0m\u001b[0;34m)\u001b[0m\u001b[0;34m\u001b[0m\u001b[0;34m\u001b[0m\u001b[0m\n",
            "\u001b[0;32m<ipython-input-20-e99845c8ebab>\u001b[0m in \u001b[0;36mwebscrape\u001b[0;34m(link)\u001b[0m\n\u001b[1;32m     29\u001b[0m   \u001b[0mnextpage\u001b[0m \u001b[0;34m=\u001b[0m \u001b[0msoup\u001b[0m\u001b[0;34m.\u001b[0m\u001b[0mfind\u001b[0m\u001b[0;34m(\u001b[0m\u001b[0;34m'a'\u001b[0m\u001b[0;34m,\u001b[0m \u001b[0mclass_\u001b[0m\u001b[0;34m=\u001b[0m\u001b[0;34m\"next\"\u001b[0m\u001b[0;34m)\u001b[0m\u001b[0;34m\u001b[0m\u001b[0;34m\u001b[0m\u001b[0m\n\u001b[1;32m     30\u001b[0m   \u001b[0mnext\u001b[0m \u001b[0;34m=\u001b[0m \u001b[0;34m(\u001b[0m\u001b[0mnextpage\u001b[0m\u001b[0;34m[\u001b[0m\u001b[0;34m'href'\u001b[0m\u001b[0;34m]\u001b[0m\u001b[0;34m)\u001b[0m\u001b[0;34m\u001b[0m\u001b[0;34m\u001b[0m\u001b[0m\n\u001b[0;32m---> 31\u001b[0;31m   \u001b[0mwebscrape\u001b[0m\u001b[0;34m(\u001b[0m\u001b[0mnext\u001b[0m\u001b[0;34m)\u001b[0m\u001b[0;34m\u001b[0m\u001b[0;34m\u001b[0m\u001b[0m\n\u001b[0m\u001b[1;32m     32\u001b[0m \u001b[0;34m\u001b[0m\u001b[0m\n\u001b[1;32m     33\u001b[0m \u001b[0mwebscrape\u001b[0m\u001b[0;34m(\u001b[0m\u001b[0mlink\u001b[0m\u001b[0;34m)\u001b[0m\u001b[0;34m\u001b[0m\u001b[0;34m\u001b[0m\u001b[0m\n",
            "\u001b[0;32m<ipython-input-20-e99845c8ebab>\u001b[0m in \u001b[0;36mwebscrape\u001b[0;34m(link)\u001b[0m\n\u001b[1;32m     28\u001b[0m \u001b[0;34m\u001b[0m\u001b[0m\n\u001b[1;32m     29\u001b[0m   \u001b[0mnextpage\u001b[0m \u001b[0;34m=\u001b[0m \u001b[0msoup\u001b[0m\u001b[0;34m.\u001b[0m\u001b[0mfind\u001b[0m\u001b[0;34m(\u001b[0m\u001b[0;34m'a'\u001b[0m\u001b[0;34m,\u001b[0m \u001b[0mclass_\u001b[0m\u001b[0;34m=\u001b[0m\u001b[0;34m\"next\"\u001b[0m\u001b[0;34m)\u001b[0m\u001b[0;34m\u001b[0m\u001b[0;34m\u001b[0m\u001b[0m\n\u001b[0;32m---> 30\u001b[0;31m   \u001b[0mnext\u001b[0m \u001b[0;34m=\u001b[0m \u001b[0;34m(\u001b[0m\u001b[0mnextpage\u001b[0m\u001b[0;34m[\u001b[0m\u001b[0;34m'href'\u001b[0m\u001b[0;34m]\u001b[0m\u001b[0;34m)\u001b[0m\u001b[0;34m\u001b[0m\u001b[0;34m\u001b[0m\u001b[0m\n\u001b[0m\u001b[1;32m     31\u001b[0m   \u001b[0mwebscrape\u001b[0m\u001b[0;34m(\u001b[0m\u001b[0mnext\u001b[0m\u001b[0;34m)\u001b[0m\u001b[0;34m\u001b[0m\u001b[0;34m\u001b[0m\u001b[0m\n\u001b[1;32m     32\u001b[0m \u001b[0;34m\u001b[0m\u001b[0m\n",
            "\u001b[0;31mTypeError\u001b[0m: 'NoneType' object is not subscriptable"
          ]
        }
      ]
    },
    {
      "cell_type": "code",
      "source": [
        "for j in reports['links']:\n",
        "  url = j\n",
        "  headers = {'User-Agent': 'Mozilla/5.0 (Macintosh; Intel Mac OS X 10_11_5) AppleWebKit/537.36 (KHTML, like Gecko) Chrome/50.0.2661.102 Safari/537.36'}\n",
        "  response = requests.get(url,headers=headers)\n",
        "\n",
        "  soup2 = BeautifulSoup(response.content, 'html.parser')\n",
        "\n",
        "  div = soup2.find_all('div', class_= 'entry-content')\n",
        "  reports['body'].append(' '.join([body.get_text(strip = True) for body in list(div)]))"
      ],
      "metadata": {
        "id": "BSrN2y_3T-VS"
      },
      "execution_count": 21,
      "outputs": []
    },
    {
      "cell_type": "code",
      "source": [
        "#Generate File\n",
        "pd.DataFrame(reports).to_csv('seniors_vancouverisland_seniors.csv', encoding = 'utf-8-sig')\n",
        "print(\"Body:\", len(reports['body']))\n",
        "print(\"Header:\",len(reports['header']))\n",
        "print(\"Links:\",len(reports['links']))\n",
        "print(\"Dates:\",len(reports['dates']))"
      ],
      "metadata": {
        "colab": {
          "base_uri": "https://localhost:8080/"
        },
        "id": "OQrR0o8aUijR",
        "outputId": "f7edfdb9-274b-4ce7-c43e-b996fc14e7ba"
      },
      "execution_count": 22,
      "outputs": [
        {
          "output_type": "stream",
          "name": "stdout",
          "text": [
            "Body: 173\n",
            "Header: 173\n",
            "Links: 173\n",
            "Dates: 173\n"
          ]
        }
      ]
    }
  ]
}