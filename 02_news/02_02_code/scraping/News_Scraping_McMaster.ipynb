{
  "nbformat": 4,
  "nbformat_minor": 0,
  "metadata": {
    "colab": {
      "name": "News_Scraping_McMaster.ipynb",
      "provenance": [],
      "collapsed_sections": []
    },
    "kernelspec": {
      "name": "python3",
      "display_name": "Python 3"
    },
    "language_info": {
      "name": "python"
    }
  },
  "cells": [
    {
      "cell_type": "markdown",
      "source": [
        "# McMaster Optimal Aging Portal\n",
        "\n",
        "McMaster Optimal Aging Portal blog"
      ],
      "metadata": {
        "id": "w1PReEA9lpeX"
      }
    },
    {
      "cell_type": "markdown",
      "source": [
        "### Blog posts\n",
        "Scraping of blog posts at https://www.mcmasteroptimalaging.org/blog/1"
      ],
      "metadata": {
        "id": "NvRSMGtsmDrh"
      }
    },
    {
      "cell_type": "code",
      "execution_count": 2,
      "metadata": {
        "id": "7OuWkS72rTVD"
      },
      "outputs": [],
      "source": [
        "import requests\n",
        "import pandas as pd\n",
        "import io\n",
        "from bs4 import BeautifulSoup"
      ]
    },
    {
      "cell_type": "code",
      "source": [
        "# URLs for blog posts\n",
        "url_main = \"https://www.mcmasteroptimalaging.org/blog/\"\n",
        "pages = [i for i in range(1, 20)] # Pages 1 to 19\n",
        "url_list = [url_main + str(page) for page in pages]\n",
        "url_list"
      ],
      "metadata": {
        "id": "i0WXNfzr72gL",
        "colab": {
          "base_uri": "https://localhost:8080/"
        },
        "outputId": "2465b023-8a50-4fa8-b067-cf18af4285a0"
      },
      "execution_count": 7,
      "outputs": [
        {
          "output_type": "execute_result",
          "data": {
            "text/plain": [
              "['https://www.mcmasteroptimalaging.org/blog/1',\n",
              " 'https://www.mcmasteroptimalaging.org/blog/2',\n",
              " 'https://www.mcmasteroptimalaging.org/blog/3',\n",
              " 'https://www.mcmasteroptimalaging.org/blog/4',\n",
              " 'https://www.mcmasteroptimalaging.org/blog/5',\n",
              " 'https://www.mcmasteroptimalaging.org/blog/6',\n",
              " 'https://www.mcmasteroptimalaging.org/blog/7',\n",
              " 'https://www.mcmasteroptimalaging.org/blog/8',\n",
              " 'https://www.mcmasteroptimalaging.org/blog/9',\n",
              " 'https://www.mcmasteroptimalaging.org/blog/10',\n",
              " 'https://www.mcmasteroptimalaging.org/blog/11',\n",
              " 'https://www.mcmasteroptimalaging.org/blog/12',\n",
              " 'https://www.mcmasteroptimalaging.org/blog/13',\n",
              " 'https://www.mcmasteroptimalaging.org/blog/14',\n",
              " 'https://www.mcmasteroptimalaging.org/blog/15',\n",
              " 'https://www.mcmasteroptimalaging.org/blog/16',\n",
              " 'https://www.mcmasteroptimalaging.org/blog/17',\n",
              " 'https://www.mcmasteroptimalaging.org/blog/18',\n",
              " 'https://www.mcmasteroptimalaging.org/blog/19']"
            ]
          },
          "metadata": {},
          "execution_count": 7
        }
      ]
    },
    {
      "cell_type": "code",
      "source": [
        "posts = {}\n",
        "posts['links'] = []\n",
        "posts['dates'] = []\n",
        "posts['header'] = []\n",
        "\n",
        "for url in url_list:\n",
        "  blog_page = requests.get(url)\n",
        "  soup = BeautifulSoup(blog_page.content, 'html.parser')\n",
        "  blog_headers = soup.select('h2.sfpostTitle a')\n",
        "  posts['links'].append([link['href'] for link in list(blog_headers)])\n",
        "  posts['header'].append([header.get_text(strip = True) for header in list(blog_headers)])\n",
        "\n",
        "  blog_date = soup.find_all('div', class_ = 'monthyear')\n",
        "  posts['dates'].append([date.get_text(strip = True) for date in list(blog_date)])"
      ],
      "metadata": {
        "id": "WEA8lnJlS_6J"
      },
      "execution_count": 8,
      "outputs": []
    },
    {
      "cell_type": "code",
      "source": [
        "# Unnesting news links, dates, and headers\n",
        "links = []\n",
        "dates = []\n",
        "headers = []\n",
        "\n",
        "for urls in posts['links']:\n",
        "  for link in urls:\n",
        "    links.append(link)\n",
        "\n",
        "for dates_ in posts['dates']:\n",
        "  for date in dates_:\n",
        "    dates.append(date)\n",
        "\n",
        "for headers_ in posts['header']:\n",
        "  for header in headers_:\n",
        "    headers.append(header)"
      ],
      "metadata": {
        "id": "zTeZuWW4XBcp"
      },
      "execution_count": 9,
      "outputs": []
    },
    {
      "cell_type": "code",
      "source": [
        "posts['links'] = links\n",
        "posts['dates'] = dates\n",
        "posts['header'] = headers\n",
        "pd.DataFrame(posts)"
      ],
      "metadata": {
        "colab": {
          "base_uri": "https://localhost:8080/",
          "height": 424
        },
        "id": "tlpt7T4pZoLz",
        "outputId": "a18ef504-bfd7-453d-e6ce-fddc12dc7d6c"
      },
      "execution_count": 10,
      "outputs": [
        {
          "output_type": "execute_result",
          "data": {
            "text/html": [
              "\n",
              "  <div id=\"df-6ec35cd0-8726-4ae3-96bb-ac3bd91ac5bd\">\n",
              "    <div class=\"colab-df-container\">\n",
              "      <div>\n",
              "<style scoped>\n",
              "    .dataframe tbody tr th:only-of-type {\n",
              "        vertical-align: middle;\n",
              "    }\n",
              "\n",
              "    .dataframe tbody tr th {\n",
              "        vertical-align: top;\n",
              "    }\n",
              "\n",
              "    .dataframe thead th {\n",
              "        text-align: right;\n",
              "    }\n",
              "</style>\n",
              "<table border=\"1\" class=\"dataframe\">\n",
              "  <thead>\n",
              "    <tr style=\"text-align: right;\">\n",
              "      <th></th>\n",
              "      <th>links</th>\n",
              "      <th>dates</th>\n",
              "      <th>header</th>\n",
              "    </tr>\n",
              "  </thead>\n",
              "  <tbody>\n",
              "    <tr>\n",
              "      <th>0</th>\n",
              "      <td>https://www.mcmasteroptimalaging.org/blog/deta...</td>\n",
              "      <td>16 February 2022</td>\n",
              "      <td>Collaboration is key: Patient engagement for h...</td>\n",
              "    </tr>\n",
              "    <tr>\n",
              "      <th>1</th>\n",
              "      <td>https://www.mcmasteroptimalaging.org/blog/deta...</td>\n",
              "      <td>16 February 2022</td>\n",
              "      <td>Dandruff or seborrheic dermatitis? An itch by ...</td>\n",
              "    </tr>\n",
              "    <tr>\n",
              "      <th>2</th>\n",
              "      <td>https://www.mcmasteroptimalaging.org/blog/deta...</td>\n",
              "      <td>9 February 2022</td>\n",
              "      <td>The other side of the screen</td>\n",
              "    </tr>\n",
              "    <tr>\n",
              "      <th>3</th>\n",
              "      <td>https://www.mcmasteroptimalaging.org/blog/deta...</td>\n",
              "      <td>2 February 2022</td>\n",
              "      <td>Upping fruit and veggie consumption to get blo...</td>\n",
              "    </tr>\n",
              "    <tr>\n",
              "      <th>4</th>\n",
              "      <td>https://www.mcmasteroptimalaging.org/blog/deta...</td>\n",
              "      <td>2 February 2022</td>\n",
              "      <td>Vitamin D: Should I be taking a supplement?</td>\n",
              "    </tr>\n",
              "    <tr>\n",
              "      <th>...</th>\n",
              "      <td>...</td>\n",
              "      <td>...</td>\n",
              "      <td>...</td>\n",
              "    </tr>\n",
              "    <tr>\n",
              "      <th>374</th>\n",
              "      <td>https://www.mcmasteroptimalaging.org/blog/deta...</td>\n",
              "      <td>15 March 2014</td>\n",
              "      <td>Loneliness hurts. How to recognize loneliness ...</td>\n",
              "    </tr>\n",
              "    <tr>\n",
              "      <th>375</th>\n",
              "      <td>https://www.mcmasteroptimalaging.org/blog/deta...</td>\n",
              "      <td>14 March 2014</td>\n",
              "      <td>Recognize and prevent delirium (confusion and ...</td>\n",
              "    </tr>\n",
              "    <tr>\n",
              "      <th>376</th>\n",
              "      <td>https://www.mcmasteroptimalaging.org/blog/deta...</td>\n",
              "      <td>9 March 2014</td>\n",
              "      <td>Social isolation: what is it and why is it imp...</td>\n",
              "    </tr>\n",
              "    <tr>\n",
              "      <th>377</th>\n",
              "      <td>https://www.mcmasteroptimalaging.org/blog/deta...</td>\n",
              "      <td>8 March 2014</td>\n",
              "      <td>Multimorbidity: how to improve quality of life...</td>\n",
              "    </tr>\n",
              "    <tr>\n",
              "      <th>378</th>\n",
              "      <td>https://www.mcmasteroptimalaging.org/blog/deta...</td>\n",
              "      <td>8 March 2014</td>\n",
              "      <td>If I laugh too hard, Iâll pee my pants! Soci...</td>\n",
              "    </tr>\n",
              "  </tbody>\n",
              "</table>\n",
              "<p>379 rows × 3 columns</p>\n",
              "</div>\n",
              "      <button class=\"colab-df-convert\" onclick=\"convertToInteractive('df-6ec35cd0-8726-4ae3-96bb-ac3bd91ac5bd')\"\n",
              "              title=\"Convert this dataframe to an interactive table.\"\n",
              "              style=\"display:none;\">\n",
              "        \n",
              "  <svg xmlns=\"http://www.w3.org/2000/svg\" height=\"24px\"viewBox=\"0 0 24 24\"\n",
              "       width=\"24px\">\n",
              "    <path d=\"M0 0h24v24H0V0z\" fill=\"none\"/>\n",
              "    <path d=\"M18.56 5.44l.94 2.06.94-2.06 2.06-.94-2.06-.94-.94-2.06-.94 2.06-2.06.94zm-11 1L8.5 8.5l.94-2.06 2.06-.94-2.06-.94L8.5 2.5l-.94 2.06-2.06.94zm10 10l.94 2.06.94-2.06 2.06-.94-2.06-.94-.94-2.06-.94 2.06-2.06.94z\"/><path d=\"M17.41 7.96l-1.37-1.37c-.4-.4-.92-.59-1.43-.59-.52 0-1.04.2-1.43.59L10.3 9.45l-7.72 7.72c-.78.78-.78 2.05 0 2.83L4 21.41c.39.39.9.59 1.41.59.51 0 1.02-.2 1.41-.59l7.78-7.78 2.81-2.81c.8-.78.8-2.07 0-2.86zM5.41 20L4 18.59l7.72-7.72 1.47 1.35L5.41 20z\"/>\n",
              "  </svg>\n",
              "      </button>\n",
              "      \n",
              "  <style>\n",
              "    .colab-df-container {\n",
              "      display:flex;\n",
              "      flex-wrap:wrap;\n",
              "      gap: 12px;\n",
              "    }\n",
              "\n",
              "    .colab-df-convert {\n",
              "      background-color: #E8F0FE;\n",
              "      border: none;\n",
              "      border-radius: 50%;\n",
              "      cursor: pointer;\n",
              "      display: none;\n",
              "      fill: #1967D2;\n",
              "      height: 32px;\n",
              "      padding: 0 0 0 0;\n",
              "      width: 32px;\n",
              "    }\n",
              "\n",
              "    .colab-df-convert:hover {\n",
              "      background-color: #E2EBFA;\n",
              "      box-shadow: 0px 1px 2px rgba(60, 64, 67, 0.3), 0px 1px 3px 1px rgba(60, 64, 67, 0.15);\n",
              "      fill: #174EA6;\n",
              "    }\n",
              "\n",
              "    [theme=dark] .colab-df-convert {\n",
              "      background-color: #3B4455;\n",
              "      fill: #D2E3FC;\n",
              "    }\n",
              "\n",
              "    [theme=dark] .colab-df-convert:hover {\n",
              "      background-color: #434B5C;\n",
              "      box-shadow: 0px 1px 3px 1px rgba(0, 0, 0, 0.15);\n",
              "      filter: drop-shadow(0px 1px 2px rgba(0, 0, 0, 0.3));\n",
              "      fill: #FFFFFF;\n",
              "    }\n",
              "  </style>\n",
              "\n",
              "      <script>\n",
              "        const buttonEl =\n",
              "          document.querySelector('#df-6ec35cd0-8726-4ae3-96bb-ac3bd91ac5bd button.colab-df-convert');\n",
              "        buttonEl.style.display =\n",
              "          google.colab.kernel.accessAllowed ? 'block' : 'none';\n",
              "\n",
              "        async function convertToInteractive(key) {\n",
              "          const element = document.querySelector('#df-6ec35cd0-8726-4ae3-96bb-ac3bd91ac5bd');\n",
              "          const dataTable =\n",
              "            await google.colab.kernel.invokeFunction('convertToInteractive',\n",
              "                                                     [key], {});\n",
              "          if (!dataTable) return;\n",
              "\n",
              "          const docLinkHtml = 'Like what you see? Visit the ' +\n",
              "            '<a target=\"_blank\" href=https://colab.research.google.com/notebooks/data_table.ipynb>data table notebook</a>'\n",
              "            + ' to learn more about interactive tables.';\n",
              "          element.innerHTML = '';\n",
              "          dataTable['output_type'] = 'display_data';\n",
              "          await google.colab.output.renderOutput(dataTable, element);\n",
              "          const docLink = document.createElement('div');\n",
              "          docLink.innerHTML = docLinkHtml;\n",
              "          element.appendChild(docLink);\n",
              "        }\n",
              "      </script>\n",
              "    </div>\n",
              "  </div>\n",
              "  "
            ],
            "text/plain": [
              "                                                 links  ...                                             header\n",
              "0    https://www.mcmasteroptimalaging.org/blog/deta...  ...  Collaboration is key: Patient engagement for h...\n",
              "1    https://www.mcmasteroptimalaging.org/blog/deta...  ...  Dandruff or seborrheic dermatitis? An itch by ...\n",
              "2    https://www.mcmasteroptimalaging.org/blog/deta...  ...                       The other side of the screen\n",
              "3    https://www.mcmasteroptimalaging.org/blog/deta...  ...  Upping fruit and veggie consumption to get blo...\n",
              "4    https://www.mcmasteroptimalaging.org/blog/deta...  ...        Vitamin D: Should I be taking a supplement?\n",
              "..                                                 ...  ...                                                ...\n",
              "374  https://www.mcmasteroptimalaging.org/blog/deta...  ...  Loneliness hurts. How to recognize loneliness ...\n",
              "375  https://www.mcmasteroptimalaging.org/blog/deta...  ...  Recognize and prevent delirium (confusion and ...\n",
              "376  https://www.mcmasteroptimalaging.org/blog/deta...  ...  Social isolation: what is it and why is it imp...\n",
              "377  https://www.mcmasteroptimalaging.org/blog/deta...  ...  Multimorbidity: how to improve quality of life...\n",
              "378  https://www.mcmasteroptimalaging.org/blog/deta...  ...  If I laugh too hard, Iâll pee my pants! Soci...\n",
              "\n",
              "[379 rows x 3 columns]"
            ]
          },
          "metadata": {},
          "execution_count": 10
        }
      ]
    },
    {
      "cell_type": "code",
      "source": [
        "test_urls = posts['links'][0:3]\n",
        "test_urls"
      ],
      "metadata": {
        "colab": {
          "base_uri": "https://localhost:8080/"
        },
        "id": "iWTs1MdD0QYt",
        "outputId": "69588a4f-9c9f-4dc4-da5f-9eaba574b09c"
      },
      "execution_count": 11,
      "outputs": [
        {
          "output_type": "execute_result",
          "data": {
            "text/plain": [
              "['https://www.mcmasteroptimalaging.org/blog/detail/blog/2022/02/17/collaboration-is-key-patient-engagement-for-healthcare-improvement',\n",
              " 'https://www.mcmasteroptimalaging.org/blog/detail/videos/2022/02/16/dandruff-or-seborrheic-dermatitis-an-itch-by-any-other-name',\n",
              " 'https://www.mcmasteroptimalaging.org/blog/detail/blog/2022/02/09/the-other-side-of-the-screen']"
            ]
          },
          "metadata": {},
          "execution_count": 11
        }
      ]
    },
    {
      "cell_type": "code",
      "source": [
        "posts['body'] = []\n",
        "for url in posts['links']:\n",
        "  blog_post = requests.get(url)\n",
        "  soup = BeautifulSoup(blog_post.content, \"html.parser\")\n",
        "\n",
        "  # find_all method to gather article body\n",
        "  blog_body = soup.find_all('div', itemprop = \"articleBody\")\n",
        "  \n",
        "  # find_all method to gather text content\n",
        "  body = []\n",
        "  for paragraph in blog_body:\n",
        "    blog_p = paragraph.find_all('p')\n",
        "    body.append(' '.join([text.get_text(strip = True) for text in list(blog_p) if text.get_text(strip = True) != '']))\n",
        "\n",
        "  # Populating posts dictionary\n",
        "  posts['body'].append(body)"
      ],
      "metadata": {
        "id": "gvVD5MHpr6zI"
      },
      "execution_count": 15,
      "outputs": []
    },
    {
      "cell_type": "code",
      "source": [
        "len(posts['body'])"
      ],
      "metadata": {
        "colab": {
          "base_uri": "https://localhost:8080/"
        },
        "id": "i0dypwGs1UTu",
        "outputId": "e4c78670-7cd4-487e-8c18-3fe45e5e3b99"
      },
      "execution_count": 18,
      "outputs": [
        {
          "output_type": "execute_result",
          "data": {
            "text/plain": [
              "379"
            ]
          },
          "metadata": {},
          "execution_count": 18
        }
      ]
    },
    {
      "cell_type": "code",
      "source": [
        "pd.DataFrame(posts)"
      ],
      "metadata": {
        "colab": {
          "base_uri": "https://localhost:8080/",
          "height": 424
        },
        "id": "2FbtkLpo1ofu",
        "outputId": "093e4f1f-3b02-4613-8c64-fc3e7c32ad48"
      },
      "execution_count": 19,
      "outputs": [
        {
          "output_type": "execute_result",
          "data": {
            "text/html": [
              "\n",
              "  <div id=\"df-5806672b-9b1b-4319-903e-9ced061189dd\">\n",
              "    <div class=\"colab-df-container\">\n",
              "      <div>\n",
              "<style scoped>\n",
              "    .dataframe tbody tr th:only-of-type {\n",
              "        vertical-align: middle;\n",
              "    }\n",
              "\n",
              "    .dataframe tbody tr th {\n",
              "        vertical-align: top;\n",
              "    }\n",
              "\n",
              "    .dataframe thead th {\n",
              "        text-align: right;\n",
              "    }\n",
              "</style>\n",
              "<table border=\"1\" class=\"dataframe\">\n",
              "  <thead>\n",
              "    <tr style=\"text-align: right;\">\n",
              "      <th></th>\n",
              "      <th>links</th>\n",
              "      <th>dates</th>\n",
              "      <th>header</th>\n",
              "      <th>body</th>\n",
              "    </tr>\n",
              "  </thead>\n",
              "  <tbody>\n",
              "    <tr>\n",
              "      <th>0</th>\n",
              "      <td>https://www.mcmasteroptimalaging.org/blog/deta...</td>\n",
              "      <td>16 February 2022</td>\n",
              "      <td>Collaboration is key: Patient engagement for h...</td>\n",
              "      <td>[Have you ever heard the sayings “Teamwork mak...</td>\n",
              "    </tr>\n",
              "    <tr>\n",
              "      <th>1</th>\n",
              "      <td>https://www.mcmasteroptimalaging.org/blog/deta...</td>\n",
              "      <td>16 February 2022</td>\n",
              "      <td>Dandruff or seborrheic dermatitis? An itch by ...</td>\n",
              "      <td>[Seborrheic dermatitis is a common rash charac...</td>\n",
              "    </tr>\n",
              "    <tr>\n",
              "      <th>2</th>\n",
              "      <td>https://www.mcmasteroptimalaging.org/blog/deta...</td>\n",
              "      <td>9 February 2022</td>\n",
              "      <td>The other side of the screen</td>\n",
              "      <td>[The COVID-19 pandemic and the pandemic respon...</td>\n",
              "    </tr>\n",
              "    <tr>\n",
              "      <th>3</th>\n",
              "      <td>https://www.mcmasteroptimalaging.org/blog/deta...</td>\n",
              "      <td>2 February 2022</td>\n",
              "      <td>Upping fruit and veggie consumption to get blo...</td>\n",
              "      <td>[Blood pressure is a term we may hear often bu...</td>\n",
              "    </tr>\n",
              "    <tr>\n",
              "      <th>4</th>\n",
              "      <td>https://www.mcmasteroptimalaging.org/blog/deta...</td>\n",
              "      <td>2 February 2022</td>\n",
              "      <td>Vitamin D: Should I be taking a supplement?</td>\n",
              "      <td>[Vitamin D plays an important role in many fun...</td>\n",
              "    </tr>\n",
              "    <tr>\n",
              "      <th>...</th>\n",
              "      <td>...</td>\n",
              "      <td>...</td>\n",
              "      <td>...</td>\n",
              "      <td>...</td>\n",
              "    </tr>\n",
              "    <tr>\n",
              "      <th>374</th>\n",
              "      <td>https://www.mcmasteroptimalaging.org/blog/deta...</td>\n",
              "      <td>15 March 2014</td>\n",
              "      <td>Loneliness hurts. How to recognize loneliness ...</td>\n",
              "      <td>[Most people feel lonely once in a while, but ...</td>\n",
              "    </tr>\n",
              "    <tr>\n",
              "      <th>375</th>\n",
              "      <td>https://www.mcmasteroptimalaging.org/blog/deta...</td>\n",
              "      <td>14 March 2014</td>\n",
              "      <td>Recognize and prevent delirium (confusion and ...</td>\n",
              "      <td>[Delirium, sometimes called acute confusional ...</td>\n",
              "    </tr>\n",
              "    <tr>\n",
              "      <th>376</th>\n",
              "      <td>https://www.mcmasteroptimalaging.org/blog/deta...</td>\n",
              "      <td>9 March 2014</td>\n",
              "      <td>Social isolation: what is it and why is it imp...</td>\n",
              "      <td>[Human beings are social animals. We live with...</td>\n",
              "    </tr>\n",
              "    <tr>\n",
              "      <th>377</th>\n",
              "      <td>https://www.mcmasteroptimalaging.org/blog/deta...</td>\n",
              "      <td>8 March 2014</td>\n",
              "      <td>Multimorbidity: how to improve quality of life...</td>\n",
              "      <td>[At the most recent visit to my doctor, he men...</td>\n",
              "    </tr>\n",
              "    <tr>\n",
              "      <th>378</th>\n",
              "      <td>https://www.mcmasteroptimalaging.org/blog/deta...</td>\n",
              "      <td>8 March 2014</td>\n",
              "      <td>If I laugh too hard, Iâll pee my pants! Soci...</td>\n",
              "      <td>[Have you ever heard anyone say, “If I laugh t...</td>\n",
              "    </tr>\n",
              "  </tbody>\n",
              "</table>\n",
              "<p>379 rows × 4 columns</p>\n",
              "</div>\n",
              "      <button class=\"colab-df-convert\" onclick=\"convertToInteractive('df-5806672b-9b1b-4319-903e-9ced061189dd')\"\n",
              "              title=\"Convert this dataframe to an interactive table.\"\n",
              "              style=\"display:none;\">\n",
              "        \n",
              "  <svg xmlns=\"http://www.w3.org/2000/svg\" height=\"24px\"viewBox=\"0 0 24 24\"\n",
              "       width=\"24px\">\n",
              "    <path d=\"M0 0h24v24H0V0z\" fill=\"none\"/>\n",
              "    <path d=\"M18.56 5.44l.94 2.06.94-2.06 2.06-.94-2.06-.94-.94-2.06-.94 2.06-2.06.94zm-11 1L8.5 8.5l.94-2.06 2.06-.94-2.06-.94L8.5 2.5l-.94 2.06-2.06.94zm10 10l.94 2.06.94-2.06 2.06-.94-2.06-.94-.94-2.06-.94 2.06-2.06.94z\"/><path d=\"M17.41 7.96l-1.37-1.37c-.4-.4-.92-.59-1.43-.59-.52 0-1.04.2-1.43.59L10.3 9.45l-7.72 7.72c-.78.78-.78 2.05 0 2.83L4 21.41c.39.39.9.59 1.41.59.51 0 1.02-.2 1.41-.59l7.78-7.78 2.81-2.81c.8-.78.8-2.07 0-2.86zM5.41 20L4 18.59l7.72-7.72 1.47 1.35L5.41 20z\"/>\n",
              "  </svg>\n",
              "      </button>\n",
              "      \n",
              "  <style>\n",
              "    .colab-df-container {\n",
              "      display:flex;\n",
              "      flex-wrap:wrap;\n",
              "      gap: 12px;\n",
              "    }\n",
              "\n",
              "    .colab-df-convert {\n",
              "      background-color: #E8F0FE;\n",
              "      border: none;\n",
              "      border-radius: 50%;\n",
              "      cursor: pointer;\n",
              "      display: none;\n",
              "      fill: #1967D2;\n",
              "      height: 32px;\n",
              "      padding: 0 0 0 0;\n",
              "      width: 32px;\n",
              "    }\n",
              "\n",
              "    .colab-df-convert:hover {\n",
              "      background-color: #E2EBFA;\n",
              "      box-shadow: 0px 1px 2px rgba(60, 64, 67, 0.3), 0px 1px 3px 1px rgba(60, 64, 67, 0.15);\n",
              "      fill: #174EA6;\n",
              "    }\n",
              "\n",
              "    [theme=dark] .colab-df-convert {\n",
              "      background-color: #3B4455;\n",
              "      fill: #D2E3FC;\n",
              "    }\n",
              "\n",
              "    [theme=dark] .colab-df-convert:hover {\n",
              "      background-color: #434B5C;\n",
              "      box-shadow: 0px 1px 3px 1px rgba(0, 0, 0, 0.15);\n",
              "      filter: drop-shadow(0px 1px 2px rgba(0, 0, 0, 0.3));\n",
              "      fill: #FFFFFF;\n",
              "    }\n",
              "  </style>\n",
              "\n",
              "      <script>\n",
              "        const buttonEl =\n",
              "          document.querySelector('#df-5806672b-9b1b-4319-903e-9ced061189dd button.colab-df-convert');\n",
              "        buttonEl.style.display =\n",
              "          google.colab.kernel.accessAllowed ? 'block' : 'none';\n",
              "\n",
              "        async function convertToInteractive(key) {\n",
              "          const element = document.querySelector('#df-5806672b-9b1b-4319-903e-9ced061189dd');\n",
              "          const dataTable =\n",
              "            await google.colab.kernel.invokeFunction('convertToInteractive',\n",
              "                                                     [key], {});\n",
              "          if (!dataTable) return;\n",
              "\n",
              "          const docLinkHtml = 'Like what you see? Visit the ' +\n",
              "            '<a target=\"_blank\" href=https://colab.research.google.com/notebooks/data_table.ipynb>data table notebook</a>'\n",
              "            + ' to learn more about interactive tables.';\n",
              "          element.innerHTML = '';\n",
              "          dataTable['output_type'] = 'display_data';\n",
              "          await google.colab.output.renderOutput(dataTable, element);\n",
              "          const docLink = document.createElement('div');\n",
              "          docLink.innerHTML = docLinkHtml;\n",
              "          element.appendChild(docLink);\n",
              "        }\n",
              "      </script>\n",
              "    </div>\n",
              "  </div>\n",
              "  "
            ],
            "text/plain": [
              "                                                 links  ...                                               body\n",
              "0    https://www.mcmasteroptimalaging.org/blog/deta...  ...  [Have you ever heard the sayings “Teamwork mak...\n",
              "1    https://www.mcmasteroptimalaging.org/blog/deta...  ...  [Seborrheic dermatitis is a common rash charac...\n",
              "2    https://www.mcmasteroptimalaging.org/blog/deta...  ...  [The COVID-19 pandemic and the pandemic respon...\n",
              "3    https://www.mcmasteroptimalaging.org/blog/deta...  ...  [Blood pressure is a term we may hear often bu...\n",
              "4    https://www.mcmasteroptimalaging.org/blog/deta...  ...  [Vitamin D plays an important role in many fun...\n",
              "..                                                 ...  ...                                                ...\n",
              "374  https://www.mcmasteroptimalaging.org/blog/deta...  ...  [Most people feel lonely once in a while, but ...\n",
              "375  https://www.mcmasteroptimalaging.org/blog/deta...  ...  [Delirium, sometimes called acute confusional ...\n",
              "376  https://www.mcmasteroptimalaging.org/blog/deta...  ...  [Human beings are social animals. We live with...\n",
              "377  https://www.mcmasteroptimalaging.org/blog/deta...  ...  [At the most recent visit to my doctor, he men...\n",
              "378  https://www.mcmasteroptimalaging.org/blog/deta...  ...  [Have you ever heard anyone say, “If I laugh t...\n",
              "\n",
              "[379 rows x 4 columns]"
            ]
          },
          "metadata": {},
          "execution_count": 19
        }
      ]
    },
    {
      "cell_type": "code",
      "source": [
        "pd.DataFrame(posts).to_csv('mcmaster_blog_posts.csv', encoding = 'utf-8-sig')"
      ],
      "metadata": {
        "id": "EoT31Jtj1k3W"
      },
      "execution_count": 20,
      "outputs": []
    }
  ]
}