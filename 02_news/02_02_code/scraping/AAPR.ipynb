{
 "cells": [
  {
   "cell_type": "markdown",
   "metadata": {
    "id": "w1PReEA9lpeX"
   },
   "source": [
    "# AARP Ethel"
   ]
  },
  {
   "cell_type": "markdown",
   "metadata": {
    "id": "NvRSMGtsmDrh"
   },
   "source": [
    "### search results on seniors\n",
    "https://www.aarpethel.com/search?q=age\tload more manuallly scrapping 255 links"
   ]
  },
  {
   "cell_type": "code",
   "execution_count": 15,
   "metadata": {
    "id": "7OuWkS72rTVD"
   },
   "outputs": [],
   "source": [
    "import requests\n",
    "import pandas as pd\n",
    "import io\n",
    "from bs4 import BeautifulSoup\n",
    "#from PyPDF2 import PdfFileReader"
   ]
  },
  {
   "cell_type": "code",
   "execution_count": 18,
   "metadata": {
    "colab": {
     "base_uri": "https://localhost:8080/"
    },
    "id": "HExhWrhq8dea",
    "outputId": "c401e34f-82d8-4088-e3cf-0e8fced3f554"
   },
   "outputs": [],
   "source": [
    "reports = {}\n",
    "reports['links'] = []\n",
    "reports['dates'] = []\n",
    "reports['header'] = []\n",
    "reports['body'] = []"
   ]
  },
  {
   "cell_type": "code",
   "execution_count": 25,
   "metadata": {},
   "outputs": [
    {
     "name": "stdout",
     "output_type": "stream",
     "text": [
      "['https://www.aarpethel.com/ageism/i-admit-it-im-retired-and-have-started-to-feel-irrelevant\\n', 'https://www.aarpethel.com/ageism/im-71-and-i-still-remember-lust\\n', 'https://www.aarpethel.com/ageism/be-warned-these-well-intended-comments-are-actually-ageist\\n', 'https://www.aarpethel.com/ageism/its-time-to-stop-using-the-term-senior-citizen\\n', 'https://www.aarpethel.com/ageism/heres-the-real-reason-older-women-dont-want-to-be-invisible\\n', 'https://www.aarpethel.com/ageism/judged-because-of-age\\n', 'https://www.aarpethel.com/ageism/age-discrimination-language\\n', 'https://www.aarpethel.com/health/3-things-you-should-know-about-iron-as-you-age\\n', 'https://www.aarpethel.com/fulfillment/making-the-case-for-aging-disgracefully\\n', 'https://www.aarpethel.com/work-money/how-to-age-proof-your-resume\\n', 'https://www.aarpethel.com/health/how-to-cope-with-your-aging-feet\\n', 'https://www.aarpethel.com/health/why-we-pass-more-gas-as-we-age\\n', 'https://www.aarpethel.com/health/the-truth-about-your-eyes-as-you-age\\n', 'https://www.aarpethel.com/relationships/what-its-like-to-still-be-single-at-age-66\\n', 'https://www.aarpethel.com/fulfillment/10-tips-for-happy-aging-from-a-feisty-80-something\\n', 'https://www.aarpethel.com/work-money/how-to-age-proof-your-resume\\n', 'https://www.aarpethel.com/health/how-to-start-running-whatever-your-age\\n', 'https://www.aarpethel.com/lifestyle/bra-shopping\\n', 'https://www.aarpethel.com/fulfillment/self-affirming-lessons-that-come-with-age-on-being-biracial\\n', 'https://www.aarpethel.com/fulfillment/tiktok\\n', 'https://www.aarpethel.com/relationships/sex-lies-and-online-dating-over-age-50\\n', 'https://www.aarpethel.com/health/how-your-ob-gyn-needs-change-with-age\\n', 'https://www.aarpethel.com/work-money/i-couldnt-change-my-age-to-find-a-job\\n', 'https://www.aarpethel.com/health/the-most-important-exercises-you-can-do-after-age-50\\n', 'https://www.aarpethel.com/health/are-you-aiming-for-100-not-your-test-score-but-your-age\\n', 'https://www.aarpethel.com/health/the-truth-about-your-eyes-as-you-age\\n', 'https://www.aarpethel.com/work-money/think-a-senior-discount-is-the-only-perk-associated-with-aging\\n', 'https://www.aarpethel.com/fulfillment/after-painful-losses-i-am-finally-living-my-dream-life-at-age-55\\n', 'https://www.aarpethel.com/relationships/staying-connected-through-music\\n', 'https://www.aarpethel.com/ageism/be-warned-these-well-intended-comments-are-actually-ageist\\n', 'https://www.aarpethel.com/work-money/how-ageism-tainted-my-70th-birthday-as-a-tv-anchor\\n', 'https://www.aarpethel.com/lifestyle/4-things-i-want-by-the-time-i-turn-90\\n', 'https://www.aarpethel.com/health/my-mom-died-of-dementia\\n', 'https://www.aarpethel.com/fulfillment/meet-iris-krasnow-the-ethels-new-senior-editor\\n', 'https://www.aarpethel.com/fulfillment/it-works-for-wizards-embracing-the-wisdom-and-power-of-my-white-hair\\n', 'https://www.aarpethel.com/lifestyle/how-im-rocking-the-gray\\n', 'https://www.aarpethel.com/work-money/surviving-and-thriving-in-the-tech-economy\\n', 'https://www.aarpethel.com/lifestyle/the-new-retirement-how-golden-girls-are-redefining-the-golden-years\\n', 'https://www.aarpethel.com/work-money/are-you-protected-why-long-term-care-insurance-is-key\\n', 'https://www.aarpethel.com/lifestyle/the-makeup-products-and-tools-that-no-older-woman-should-be-without\\n', 'https://www.aarpethel.com/work-money/3-things-everyone-over-50-can-do-now-to-keep-their-jobs\\n', 'https://www.aarpethel.com/relationships/retiring-with-kids-still-at-home\\n', 'https://www.aarpethel.com/fulfillment/i-have-purple-hair-and-tattoos-and-am-darn-proud-of-it\\n', 'https://www.aarpethel.com/relationships/six-things-every-woman-over-60-needs-to-know-about-sex\\n', 'https://www.aarpethel.com/fulfillment/why-moms-and-grandmothers-need-to-flaunt-their-sexuality\\n', 'https://www.aarpethel.com/lifestyle/hats-are-back\\n', 'https://www.aarpethel.com/work-money/jobs-for-retirees-who-want-to-keep-working\\n', 'https://www.aarpethel.com/health/im-48-and-i-need-hearing-aids\\n', 'https://www.aarpethel.com/relationships/why-you-should-consider-living-with-friends-in-retirement\\n', 'https://www.aarpethel.com/relationships/call-me-gigi-or-mimi-but-not-grandma\\n', 'https://www.aarpethel.com/lifestyle/5-ways-to-refresh-your-face-without-surgery\\n', 'https://www.aarpethel.com/lifestyle/the-best-beauty-gifts-for-every-sister-or-bestie-and-for-any-budget\\n', 'https://www.aarpethel.com/lifestyle/why-i-will-never-ever-go-gray\\n', 'https://www.aarpethel.com/lifestyle/i-used-an-electric-scooter-and-im-ok-with-that\\n', 'https://www.aarpethel.com/health/say-goodbye-to-trouble-zones-with-this-body-reset\\n', 'https://www.aarpethel.com/lifestyle/quench-your-summer-skin-with-these-top-moisturizers\\n', 'https://www.aarpethel.com/relationships/who-says-you-cant-form-close-friendships-after-60\\n', 'https://www.aarpethel.com/work-money/they-lost-their-jobs-for-being-too-old\\n', 'https://www.aarpethel.com/work-money/how-to-land-a-great-job-when-you-are-over-50\\n', 'https://www.aarpethel.com/relationships/that-time-i-ran-a-personal-ad-in-a-literary-journal\\n', 'https://www.aarpethel.com/ageism/i-admit-it-im-retired-and-have-started-to-feel-irrelevant\\n', 'https://www.aarpethel.com/ageism/its-time-to-stop-using-the-term-senior-citizen\\n', 'https://www.aarpethel.com/ageism/heres-the-real-reason-older-women-dont-want-to-be-invisible\\n', 'https://www.aarpethel.com/relationships/a-look-back-at-a-beautiful-59-year-friendship\\n', 'https://www.aarpethel.com/relationships/this-51-year-old-is-happily-carrying-her-own-grandchild\\n', 'https://www.aarpethel.com/work-money/how-seinfeld-changed-my-life\\n', 'https://www.aarpethel.com/money/i-fired-my-boss-and-quit-my-job\\n', 'https://www.aarpethel.com/relationships/im-56-and-my-partner-is-68\\n', 'https://www.aarpethel.com/fulfillment/at-51-i-am-not-quite-young-and-not-quite-old\\n', 'https://www.aarpethel.com/relationships/50-things-woman-over-60-google-about-sex\\n', 'https://www.aarpethel.com/relationships/grandbaby-fever-im-not-sick-with-it-and-thats-ok\\n', 'https://www.aarpethel.com/fulfillment/a-short-happy-guide-to-turning-60-sort-of\\n', 'https://www.aarpethel.com/relationships/the-best-dating-sites-for-those-over-50\\n', 'https://www.aarpethel.com/relationships/i-dont-lament-my-kids-growing-older\\n', 'https://www.aarpethel.com/fulfillment/a-man-explains-what-he-loves-most-about-women-over-60\\n', 'https://www.aarpethel.com/lifestyle/why-older-women-are-opting-for-longer-hair\\n', 'https://www.aarpethel.com/fulfillment/older-women-actors-who-eternally-inspire-us\\n', 'https://www.aarpethel.com/relationships/why-i-am-getting-remarried-at-71\\n', 'https://www.aarpethel.com/work-money/thinking-of-retiring-abroad\\n', 'https://www.aarpethel.com/relationships/what-happens-when-youre-55-and-still-getting-sexually-harassed\\n', 'https://www.aarpethel.com/fulfillment/the-six-big-life-lessons-i-learned-from-millennials\\n', 'https://www.aarpethel.com/lifestyle/cleavage-reboot-how-to-smooth-out-chest-wrinkles\\n', 'https://www.aarpethel.com/health/secrets-to-better-sleep-post-menopause\\n', 'https://www.aarpethel.com/relationships/as-we-grow-older-my-husband-seems-older-than-me\\n', 'https://www.aarpethel.com/fulfillment/why-i-started-surfing-at-61\\n', 'https://www.aarpethel.com/lifestyle/eye-popping-beauty-secrets-every-mature-woman-should-know\\n', 'https://www.aarpethel.com/fulfillment/the-day-i-stopped-being-attractive-to-men\\n', 'https://www.aarpethel.com/health/a-gynecologist-answers-your-most-burning-menopause-questions\\n', 'https://www.aarpethel.com/relationships/the-evolution-of-a-fabulous-long-friendship\\n', 'https://www.aarpethel.com/relationships/why-grandparents-can-and-should-leave-the-parenting-to-their-kids\\n', 'https://www.aarpethel.com/health/why-hair-loss-is-such-a-lonely-and-embarrassing-battle\\n', 'https://www.aarpethel.com/lifestyle/surviving-being-an-older-father-because-of-a-wise-wife\\n', 'https://www.aarpethel.com/work-money/why-im-chasing-all-the-likes-i-can-get-in-midlife\\n', 'https://www.aarpethel.com/fulfillment/the-best-part-of-being-60-something\\n', 'https://www.aarpethel.com/relationships/how-the-golden-girls-revamped-my-menopausal-sex-life\\n', 'https://www.aarpethel.com/relationships/my-husband-and-i-have-a-great-new-way-to-bond\\n', 'https://www.aarpethel.com/relationships/lessons-i-learned-from-my-french-grandmothers-woods\\n', 'https://www.aarpethel.com/lifestyle/why-we-cant-stop-obsessing-about-our-hair\\n', 'https://www.aarpethel.com/relationships/a-divorcees-guide-to-navigating-the-holidays\\n', 'https://www.aarpethel.com/relationships/do-mothers-over-100-still-give-advice-of-course\\n', 'https://www.aarpethel.com/lifestyle/celebrity-upkeep-the-top-beauty-secrets-of-the-stars\\n', 'https://www.aarpethel.com/lifestyle/7-stellar-beauty-products-for-women-50-and-beyond\\n', 'https://www.aarpethel.com/relationships/do-social-invitations-dwindle-when-youre-no-longer-a-couple\\n', 'https://www.aarpethel.com/relationships/mothering-not-smothering-adult-children\\n', 'https://www.aarpethel.com/fulfillment/at-83-here-are-things-id-like-to-do-before-i-reach-100\\n', 'https://www.aarpethel.com/relationships/men-over-55-reveal-the-best-sex-they-ever-had\\n', 'https://www.aarpethel.com/lifestyle/your-ultimate-guide-to-binge-worthy-chick-flicks-starring-super-women\\n', 'https://www.aarpethel.com/fulfillment/heres-how-you-can-have-hip-gray-hair\\n', 'https://www.aarpethel.com/health/how-i-solved-my-hangover-woes\\n', 'https://www.aarpethel.com/health/thigh-high-4-quick-fixes-for-your-sagging-quads\\n', 'https://www.aarpethel.com/lifestyle/im-getting-ready-to-die\\n', 'https://www.aarpethel.com/lifestyle/why-im-missing-my-world-book-encyclopedia\\n', 'https://www.aarpethel.com/relationships/keeping-my-ambitions-to-myself\\n', 'https://www.aarpethel.com/lifestyle/six-great-must-read-books-by-women-for-summer-and-beyond\\n', 'https://www.aarpethel.com/health/how-to-rev-up-your-postmenopausal-orgasm\\n', 'https://www.aarpethel.com/fulfillment/this-is-not-my-mothers-midlife\\n', 'https://www.aarpethel.com/fulfillment/giving-away-an-old-cursed-wedding-gown\\n', 'https://www.aarpethel.com/fulfillment/the-5-things-i-want-to-learn-in-my-60s\\n', 'https://www.aarpethel.com/lifestyle/can-boomers-and-millennials-groove-to-the-same-tunes\\n', 'https://www.aarpethel.com/lifestyle/are-we-still-ourselves-without-our-stuff\\n', 'https://www.aarpethel.com/lifestyle/covid-has-changed-how-older-women-put-on-makeup\\n', 'https://www.aarpethel.com/lifestyle/the-things-men-say-that-get-on-womens-nerves\\n', 'https://www.aarpethel.com/relationships/our-two-week-safecation-road-trip\\n', 'https://www.aarpethel.com/relationships/the-reunion-to-go-or-not-to-go-that-is-the-question\\n', 'https://www.aarpethel.com/relationships/why-i-can-no-longer-share-a-bathroom-with-my-husband\\n', 'https://www.aarpethel.com/lifestyle/the-quest-for-the-perfect-bra\\n', 'https://www.aarpethel.com/relationships/how-i-learned-to-trust-again-after-2-divorces\\n', 'https://www.aarpethel.com/relationships/why-id-be-absolutely-lost-without-my-girl-gang\\n', 'https://www.aarpethel.com/fulfillment/im-still-california-dreamin-but-growing-old-here-is-a-nightmare\\n', 'https://www.aarpethel.com/relationships/finding-love-again-after-my-husband-was-murdered\\n', 'https://www.aarpethel.com/fulfillment/after-a-hard-youth-mom-found-beauty-in-making-art\\n', 'https://www.aarpethel.com/relationships/im-not-a-lesbian-but-my-wife-is\\n', 'https://www.aarpethel.com/lifestyle/how-to-pack-for-a-weekend-or-a-week-in-one-carry-on\\n', 'https://www.aarpethel.com/fulfillment/leaving-my-legacy-to-family-while-im-still-alive\\n', 'https://www.aarpethel.com/health/summer-smoothies-whats-healthy-whats-not\\n', 'https://www.aarpethel.com/relationships/why-men-friends-can-be-as-good-as-girlfriends\\n', 'https://www.aarpethel.com/lifestyle/the-best-shoes-for-older-women-that-combine-comfort-and-style\\n', 'https://www.aarpethel.com/fulfillment/how-this-seinfeld-actor-became-a-tiktok-queen-in-her-80s\\n', 'https://www.aarpethel.com/relationships/eight-ways-to-give-your-marriage-nine-lives\\n', 'https://www.aarpethel.com/relationships/is-this-the-secret-to-a-better-marriage\\n', 'https://www.aarpethel.com/fulfillment/what-i-learned-from-my-experience-as-a-playboy-bunny\\n', 'https://www.aarpethel.com/fulfillment/the-power-of-thankfulness-well-beyond-thanksgiving\\n', 'https://www.aarpethel.com/lifestyle/where-have-all-the-newspapers-gone\\n', 'https://www.aarpethel.com/lifestyle/books-my-mother-loved-and-you-will-love-too\\n', 'https://www.aarpethel.com/relationships/when-my-ex-turns-80-i-will-be-by-his-side\\n', 'https://www.aarpethel.com/health/beat-any-blues-by-walking-through-the-seasons-of-life\\n', 'https://www.aarpethel.com/health/could-a-change-in-diet-get-rid-of-those-hot-flashes\\n', 'https://www.aarpethel.com/health/simple-yoga-3-easy-poses-to-boost-flexibility-and-release-pain\\n', 'https://www.aarpethel.com/relationships/decades-before-metoo-i-was-a-silent-child-victim\\n', 'https://www.aarpethel.com/lifestyle/7-new-accessories-to-add-pizzazz-to-your-oldest-outfits\\n', 'https://www.aarpethel.com/relationships/how-to-find-love-on-valentines-day-when-you-are-on-your-own\\n', 'https://www.aarpethel.com/fulfillment/what-do-women-really-want-and-will-we-ever-get-it\\n', 'https://www.aarpethel.com/relationships/the-dog-breeds-that-are-a-womans-best-friend\\n', 'https://www.aarpethel.com/fulfillment/summer-camp\\n', 'https://www.aarpethel.com/relationships/i-had-to-grow-up-to-understand-my-mother-in-law\\n', 'https://www.aarpethel.com/health/moms-health-scare-and-my-biggest-fear\\n', 'https://www.aarpethel.com/lifestyle/the-secrets-to-repairing-damaged-hair\\n', 'https://www.aarpethel.com/relationships/the-daily-habit-that-brought-me-closer-to-my-grandmother\\n', 'https://www.aarpethel.com/relationships/what-do-you-owe-a-parent-who-was-mentally-ill\\n', 'https://www.aarpethel.com/lifestyle/flattering-fashion-for-women-who-werent-born-yesterday\\n', 'https://www.aarpethel.com/work-money/is-self-worth-tied-to-our-net-worth\\n', 'https://www.aarpethel.com/lifestyle/itching-to-travel-just-go-solo\\n', 'https://www.aarpethel.com/relationships/finding-love-later-in-life-is-possible\\n', 'https://www.aarpethel.com/relationships/finding-your-libido-im-in-my-60s-and-having-the-best-sex-of-my-life\\n', 'https://www.aarpethel.com/relationships/9-truths-about-later-in-life-marriage\\n', 'https://www.aarpethel.com/relationships/intergenerational-book-club\\n', 'https://www.aarpethel.com/work-money/first-senior-citizen-discount\\n', 'https://www.aarpethel.com/fulfillment/i-still-remember-the-girl\\n', 'https://www.aarpethel.com/health/menopause-the-change\\n', 'https://www.aarpethel.com/work-money/the-purchase-that-made-me-feel-like-a-woman\\n', 'https://www.aarpethel.com/relationships/i-lost-my-engagement-ring-why-am-i-so-upset\\n', 'https://www.aarpethel.com/relationships/feeling-disconnected-grab-a-piece-of-paper\\n', '\\n', '\\n', '\\n', '\\n', '\\n', '\\n', '\\n', '\\n', '\\n', '\\n', '\\n', '\\n', '\\n']\n"
     ]
    }
   ],
   "source": [
    "my_file = open(\"links.txt\", \"r\")\n",
    "content_list = my_file. readlines()\n",
    "print(content_list)"
   ]
  },
  {
   "cell_type": "code",
   "execution_count": 26,
   "metadata": {},
   "outputs": [
    {
     "data": {
      "text/plain": [
       "185"
      ]
     },
     "execution_count": 26,
     "metadata": {},
     "output_type": "execute_result"
    }
   ],
   "source": [
    "reports['links'] = content_list\n",
    "len(reports['links'])"
   ]
  },
  {
   "cell_type": "code",
   "execution_count": null,
   "metadata": {
    "id": "BMcC60OFecRp"
   },
   "outputs": [],
   "source": [
    "for link in reports['links']:\n",
    "  url = link\n",
    "  response = requests.get(url)\n",
    "  soup = BeautifulSoup(response.content, 'html.parser')\n",
    "\n",
    "  # CSS selector for header h1 under article\n",
    "  h1 = soup.find(\"h1\", class_=\"ArticlePage-headline\").string \n",
    "\n",
    "  # CSS selector for text under main tag\n",
    "  body = soup.find(\"div\", class_=\"RichTextArticleBody-body RichTextBody\")#<div class=\"RichTextArticleBody-body RichTextBody\">\n",
    "  body_p = body.select('p')\n",
    "\n",
    "  # dates\n",
    "  day = soup.find('div', class_ = 'ArticlePage-datePublished').string\n",
    "\n",
    "  # Populating reports dictionary\n",
    "  reports['header'].append(h1)\n",
    "  reports['body'].append(' '.join([item.get_text(strip = True) for item in list(body) if item.get_text() != '']))\n",
    "  reports['dates'].append(day)"
   ]
  },
  {
   "cell_type": "code",
   "execution_count": 102,
   "metadata": {},
   "outputs": [
    {
     "name": "stdout",
     "output_type": "stream",
     "text": [
      "Body: 280\n",
      "Header: 280\n",
      "Links: 280\n",
      "Dates: 280\n"
     ]
    }
   ],
   "source": [
    "print(\"Body:\", len(reports['body']))\n",
    "print(\"Header:\",len(reports['header']))\n",
    "print(\"Links:\",len(reports['links']))\n",
    "print(\"Dates:\",len(reports['dates']))"
   ]
  },
  {
   "cell_type": "code",
   "execution_count": 103,
   "metadata": {},
   "outputs": [
    {
     "data": {
      "text/html": [
       "<div>\n",
       "<style scoped>\n",
       "    .dataframe tbody tr th:only-of-type {\n",
       "        vertical-align: middle;\n",
       "    }\n",
       "\n",
       "    .dataframe tbody tr th {\n",
       "        vertical-align: top;\n",
       "    }\n",
       "\n",
       "    .dataframe thead th {\n",
       "        text-align: right;\n",
       "    }\n",
       "</style>\n",
       "<table border=\"1\" class=\"dataframe\">\n",
       "  <thead>\n",
       "    <tr style=\"text-align: right;\">\n",
       "      <th></th>\n",
       "      <th>links</th>\n",
       "      <th>dates</th>\n",
       "      <th>header</th>\n",
       "      <th>body</th>\n",
       "    </tr>\n",
       "  </thead>\n",
       "  <tbody>\n",
       "    <tr>\n",
       "      <th>0</th>\n",
       "      <td>https://news.bchousing.org/66-new-housing-unit...</td>\n",
       "      <td>16February2022</td>\n",
       "      <td>66 new housing units for seniors and youth in ...</td>\n",
       "      <td>CHILLIWACK– Every Canadian deserves a safe and...</td>\n",
       "    </tr>\n",
       "    <tr>\n",
       "      <th>1</th>\n",
       "      <td>https://news.bchousing.org/more-than-100-affor...</td>\n",
       "      <td>16February2022</td>\n",
       "      <td>More than 100 affordable new homes for sale in...</td>\n",
       "      <td>VICTORIA - Middle-income homebuyers have the o...</td>\n",
       "    </tr>\n",
       "    <tr>\n",
       "      <th>2</th>\n",
       "      <td>https://news.bchousing.org/new-affordable-home...</td>\n",
       "      <td>09February2022</td>\n",
       "      <td>New affordable homes underway in Burnaby</td>\n",
       "      <td>BURNABY - A redevelopment project is underway ...</td>\n",
       "    </tr>\n",
       "    <tr>\n",
       "      <th>3</th>\n",
       "      <td>https://news.bchousing.org/more-affordable-sen...</td>\n",
       "      <td>04February2022</td>\n",
       "      <td>More affordable seniors' housing coming to Nan...</td>\n",
       "      <td>NANAIMO - Work is underway on new rental housi...</td>\n",
       "    </tr>\n",
       "    <tr>\n",
       "      <th>4</th>\n",
       "      <td>https://news.bchousing.org/sixty-four-new-rent...</td>\n",
       "      <td>02February2022</td>\n",
       "      <td>Sixty-four new rental homes open in Maple Ridge</td>\n",
       "      <td>MAPLE RIDGE - Families and individuals are mov...</td>\n",
       "    </tr>\n",
       "    <tr>\n",
       "      <th>...</th>\n",
       "      <td>...</td>\n",
       "      <td>...</td>\n",
       "      <td>...</td>\n",
       "      <td>...</td>\n",
       "    </tr>\n",
       "    <tr>\n",
       "      <th>275</th>\n",
       "      <td>https://news.bchousing.org/province-bringing-n...</td>\n",
       "      <td>18January2018</td>\n",
       "      <td>Province bringing new homes and new jobs to Ka...</td>\n",
       "      <td>KAMLOOPS – People in Kamloops will benefit fro...</td>\n",
       "    </tr>\n",
       "    <tr>\n",
       "      <th>276</th>\n",
       "      <td>https://news.bchousing.org/province-takes-acti...</td>\n",
       "      <td>11January2018</td>\n",
       "      <td>Province takes action to address homelessness ...</td>\n",
       "      <td>MAPLE RIDGE – People who are struggling with h...</td>\n",
       "    </tr>\n",
       "    <tr>\n",
       "      <th>277</th>\n",
       "      <td>https://news.bchousing.org/province-partners-w...</td>\n",
       "      <td>14December2017</td>\n",
       "      <td>Province partners with Columbia Basin Trust fo...</td>\n",
       "      <td>VICTORIA – People struggling to find an afford...</td>\n",
       "    </tr>\n",
       "    <tr>\n",
       "      <th>278</th>\n",
       "      <td>https://news.bchousing.org/operator-sought-for...</td>\n",
       "      <td>13December2017</td>\n",
       "      <td>Operator sought for supportive housing project...</td>\n",
       "      <td>QUESNEL – In response to community concerns, B...</td>\n",
       "    </tr>\n",
       "    <tr>\n",
       "      <th>279</th>\n",
       "      <td>https://news.bchousing.org/joint-partnership-e...</td>\n",
       "      <td>06September2017</td>\n",
       "      <td>Joint partnership expands needed emergency she...</td>\n",
       "      <td>RICHMOND – Homeless residents (individuals who...</td>\n",
       "    </tr>\n",
       "  </tbody>\n",
       "</table>\n",
       "<p>280 rows × 4 columns</p>\n",
       "</div>"
      ],
      "text/plain": [
       "                                                 links            dates  \\\n",
       "0    https://news.bchousing.org/66-new-housing-unit...   16February2022   \n",
       "1    https://news.bchousing.org/more-than-100-affor...   16February2022   \n",
       "2    https://news.bchousing.org/new-affordable-home...   09February2022   \n",
       "3    https://news.bchousing.org/more-affordable-sen...   04February2022   \n",
       "4    https://news.bchousing.org/sixty-four-new-rent...   02February2022   \n",
       "..                                                 ...              ...   \n",
       "275  https://news.bchousing.org/province-bringing-n...    18January2018   \n",
       "276  https://news.bchousing.org/province-takes-acti...    11January2018   \n",
       "277  https://news.bchousing.org/province-partners-w...   14December2017   \n",
       "278  https://news.bchousing.org/operator-sought-for...   13December2017   \n",
       "279  https://news.bchousing.org/joint-partnership-e...  06September2017   \n",
       "\n",
       "                                                header  \\\n",
       "0    66 new housing units for seniors and youth in ...   \n",
       "1    More than 100 affordable new homes for sale in...   \n",
       "2             New affordable homes underway in Burnaby   \n",
       "3    More affordable seniors' housing coming to Nan...   \n",
       "4      Sixty-four new rental homes open in Maple Ridge   \n",
       "..                                                 ...   \n",
       "275  Province bringing new homes and new jobs to Ka...   \n",
       "276  Province takes action to address homelessness ...   \n",
       "277  Province partners with Columbia Basin Trust fo...   \n",
       "278  Operator sought for supportive housing project...   \n",
       "279  Joint partnership expands needed emergency she...   \n",
       "\n",
       "                                                  body  \n",
       "0    CHILLIWACK– Every Canadian deserves a safe and...  \n",
       "1    VICTORIA - Middle-income homebuyers have the o...  \n",
       "2    BURNABY - A redevelopment project is underway ...  \n",
       "3    NANAIMO - Work is underway on new rental housi...  \n",
       "4    MAPLE RIDGE - Families and individuals are mov...  \n",
       "..                                                 ...  \n",
       "275  KAMLOOPS – People in Kamloops will benefit fro...  \n",
       "276  MAPLE RIDGE – People who are struggling with h...  \n",
       "277  VICTORIA – People struggling to find an afford...  \n",
       "278  QUESNEL – In response to community concerns, B...  \n",
       "279  RICHMOND – Homeless residents (individuals who...  \n",
       "\n",
       "[280 rows x 4 columns]"
      ]
     },
     "execution_count": 103,
     "metadata": {},
     "output_type": "execute_result"
    }
   ],
   "source": [
    "df = pd.DataFrame.from_dict(reports, orient='index')\n",
    "df = df.transpose()\n",
    "df"
   ]
  },
  {
   "cell_type": "code",
   "execution_count": 104,
   "metadata": {
    "colab": {
     "base_uri": "https://localhost:8080/",
     "height": 645
    },
    "id": "lz35wPX6hJto",
    "outputId": "995c4782-44c5-4b7b-9cbd-778243625db4"
   },
   "outputs": [],
   "source": [
    "df.to_csv('bchousing_news.csv', encoding = 'utf-8-sig')"
   ]
  }
 ],
 "metadata": {
  "colab": {
   "collapsed_sections": [],
   "name": "News_Scraping.ipynb",
   "provenance": [],
   "toc_visible": true
  },
  "kernelspec": {
   "display_name": "Python 3",
   "language": "python",
   "name": "python3"
  },
  "language_info": {
   "codemirror_mode": {
    "name": "ipython",
    "version": 3
   },
   "file_extension": ".py",
   "mimetype": "text/x-python",
   "name": "python",
   "nbconvert_exporter": "python",
   "pygments_lexer": "ipython3",
   "version": "3.8.5"
  }
 },
 "nbformat": 4,
 "nbformat_minor": 1
}
