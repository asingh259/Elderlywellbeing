{
 "cells": [
  {
   "cell_type": "markdown",
   "metadata": {
    "id": "w1PReEA9lpeX"
   },
   "source": [
    "# Helpage Canada News\n",
    "\n",
    "Helping older persons live with dignity in Canada and around the world since 1975"
   ]
  },
  {
   "cell_type": "markdown",
   "metadata": {
    "id": "NvRSMGtsmDrh"
   },
   "source": [
    "### Reports\n",
    "Scraping news reports at https://helpagecanada.ca/news/"
   ]
  },
  {
   "cell_type": "code",
   "execution_count": 77,
   "metadata": {
    "id": "7OuWkS72rTVD"
   },
   "outputs": [],
   "source": [
    "import requests\n",
    "import pandas as pd\n",
    "import io\n",
    "from bs4 import BeautifulSoup\n",
    "#from PyPDF2 import PdfFileReader"
   ]
  },
  {
   "cell_type": "code",
   "execution_count": 78,
   "metadata": {
    "colab": {
     "base_uri": "https://localhost:8080/"
    },
    "id": "i0WXNfzr72gL",
    "outputId": "bf8fe70d-e40e-4f1a-9ab1-a9169b3b38f0"
   },
   "outputs": [
    {
     "data": {
      "text/plain": [
       "<Response [200]>"
      ]
     },
     "execution_count": 78,
     "metadata": {},
     "output_type": "execute_result"
    }
   ],
   "source": [
    "reports_url = \"https://helpagecanada.ca/news/\"\n",
    "reports_page = requests.get(reports_url)\n",
    "reports_page"
   ]
  },
  {
   "cell_type": "code",
   "execution_count": 79,
   "metadata": {
    "id": "jdsntBdc7_wi"
   },
   "outputs": [],
   "source": [
    "soup = BeautifulSoup(reports_page.content, 'html.parser')"
   ]
  },
  {
   "cell_type": "code",
   "execution_count": 80,
   "metadata": {
    "colab": {
     "base_uri": "https://localhost:8080/"
    },
    "id": "HExhWrhq8dea",
    "outputId": "c401e34f-82d8-4088-e3cf-0e8fced3f554"
   },
   "outputs": [],
   "source": [
    "reports = {}\n",
    "reports['links'] = []\n",
    "reports['dates'] = []\n",
    "reports['header'] = []\n",
    "reports['body'] = []\n",
    "reports['b_points'] = []"
   ]
  },
  {
   "cell_type": "code",
   "execution_count": 81,
   "metadata": {},
   "outputs": [
    {
     "data": {
      "text/plain": [
       "['#fl-main-content',\n",
       " '/',\n",
       " 'https://helpagecanada.ca/donate-now/',\n",
       " 'https://helpagecanada.ca/',\n",
       " 'https://helpagecanada.ca/who-we-are/',\n",
       " 'https://helpagecanada.ca/who-we-are/',\n",
       " 'https://helpagecanada.ca/who-we-are/history/',\n",
       " 'https://helpagecanada.ca/who-we-are/our-board-staff/',\n",
       " 'https://helpagecanada.ca/who-we-are/finances/',\n",
       " 'https://helpagecanada.ca/who-we-are/global-network/',\n",
       " 'https://helpagecanada.ca/how-we-help/',\n",
       " 'https://helpagecanada.ca/canada/',\n",
       " 'https://helpagecanada.ca/covid-canada/',\n",
       " 'https://helpagecanada.ca/canada/seniors-can/',\n",
       " 'https://helpagecanada.ca/canada/seniors-can/apply/',\n",
       " 'https://helpagecanada.ca/canada/digital-literacy/',\n",
       " 'https://helpagecanada.ca/canada/digital-literacy/connected-elders-and-youth/',\n",
       " 'https://helpagecanada.ca/canada/digital-literacy/connected-elders-and-youth/inuktitut/',\n",
       " 'https://helpagecanada.ca/mens-sheds/',\n",
       " 'https://helpagecanada.ca/fast-track/',\n",
       " 'https://helpagecanada.ca/international/',\n",
       " 'https://helpagecanada.ca/ukraine/',\n",
       " 'https://helpagecanada.ca/ethiopia/',\n",
       " 'https://helpagecanada.ca/lebanon/',\n",
       " 'https://helpagecanada.ca/sponsor-a-gran/',\n",
       " 'https://helpagecanada.ca/elders-harvest/',\n",
       " 'https://helpagecanada.ca/raise-the-roof/',\n",
       " 'https://helpagecanada.ca/sponsor-a-gran/',\n",
       " 'https://helpagecanada.ca/elders-harvest/',\n",
       " 'https://helpagecanada.ca/raise-the-roof/',\n",
       " 'https://helpagecanada.ca/africa2021/',\n",
       " 'https://helpagecanada.ca/resources/',\n",
       " 'https://helpagecanada.ca/resources/',\n",
       " 'https://helpagecanada.ca/news/',\n",
       " 'https://helpagecanada.ca/ways-to-give/',\n",
       " '/ways-to-give/#donate-now',\n",
       " 'https://helpagecanada.ca/ways-to-give/#corporate-giving',\n",
       " '/ways-to-give/#leave-a-legacy',\n",
       " '/ways-to-give/#donate-securities',\n",
       " '/ways-to-give/#start-a-fundraiser',\n",
       " '/ways-to-give/#stay-in-touch',\n",
       " 'https://helpagecanada.ca/medias/?lang=fr',\n",
       " 'https://helpagecanada.ca/',\n",
       " 'https://helpagecanada.ca/who-we-are/',\n",
       " 'https://helpagecanada.ca/who-we-are/',\n",
       " 'https://helpagecanada.ca/who-we-are/history/',\n",
       " 'https://helpagecanada.ca/who-we-are/our-board-staff/',\n",
       " 'https://helpagecanada.ca/who-we-are/finances/',\n",
       " 'https://helpagecanada.ca/who-we-are/global-network/',\n",
       " 'https://helpagecanada.ca/how-we-help/',\n",
       " 'https://helpagecanada.ca/canada/',\n",
       " 'https://helpagecanada.ca/covid-canada/',\n",
       " 'https://helpagecanada.ca/canada/seniors-can/',\n",
       " 'https://helpagecanada.ca/canada/seniors-can/apply/',\n",
       " 'https://helpagecanada.ca/canada/digital-literacy/',\n",
       " 'https://helpagecanada.ca/canada/digital-literacy/connected-elders-and-youth/',\n",
       " 'https://helpagecanada.ca/canada/digital-literacy/connected-elders-and-youth/inuktitut/',\n",
       " 'https://helpagecanada.ca/mens-sheds/',\n",
       " 'https://helpagecanada.ca/fast-track/',\n",
       " 'https://helpagecanada.ca/international/',\n",
       " 'https://helpagecanada.ca/ukraine/',\n",
       " 'https://helpagecanada.ca/ethiopia/',\n",
       " 'https://helpagecanada.ca/lebanon/',\n",
       " 'https://helpagecanada.ca/sponsor-a-gran/',\n",
       " 'https://helpagecanada.ca/elders-harvest/',\n",
       " 'https://helpagecanada.ca/raise-the-roof/',\n",
       " 'https://helpagecanada.ca/sponsor-a-gran/',\n",
       " 'https://helpagecanada.ca/elders-harvest/',\n",
       " 'https://helpagecanada.ca/raise-the-roof/',\n",
       " 'https://helpagecanada.ca/africa2021/',\n",
       " 'https://helpagecanada.ca/resources/',\n",
       " 'https://helpagecanada.ca/resources/',\n",
       " 'https://helpagecanada.ca/news/',\n",
       " 'https://helpagecanada.ca/ways-to-give/',\n",
       " '/ways-to-give/#donate-now',\n",
       " 'https://helpagecanada.ca/ways-to-give/#corporate-giving',\n",
       " '/ways-to-give/#leave-a-legacy',\n",
       " '/ways-to-give/#donate-securities',\n",
       " '/ways-to-give/#start-a-fundraiser',\n",
       " '/ways-to-give/#stay-in-touch',\n",
       " 'https://helpagecanada.ca/medias/?lang=fr',\n",
       " 'https://helpagecanada.ca/donate-now/',\n",
       " 'https://helpagecanada.ca/',\n",
       " 'https://helpagecanada.ca/2021/11/f-a-s-t-track/',\n",
       " 'https://helpagecanada.ca/2021/11/f-a-s-t-track/',\n",
       " 'https://helpagecanada.ca/2021/11/f-a-s-t-track/',\n",
       " 'https://helpagecanada.ca/2021/09/connecting-elders-through-youth-mentorship-in-the-kivalliq-region/',\n",
       " 'https://helpagecanada.ca/2021/09/connecting-elders-through-youth-mentorship-in-the-kivalliq-region/',\n",
       " 'https://helpagecanada.ca/2021/09/connecting-elders-through-youth-mentorship-in-the-kivalliq-region/',\n",
       " 'https://helpagecanada.ca/2021/06/bearing-the-brunt/',\n",
       " 'https://helpagecanada.ca/2021/06/bearing-the-brunt/',\n",
       " 'https://helpagecanada.ca/2021/06/bearing-the-brunt/',\n",
       " 'https://helpagecanada.ca/2021/05/helpage-canada-awards%e2%80%af200000-in-seniors-can-grants/',\n",
       " 'https://helpagecanada.ca/2021/05/helpage-canada-awards%e2%80%af200000-in-seniors-can-grants/',\n",
       " 'https://helpagecanada.ca/2021/05/helpage-canada-awards%e2%80%af200000-in-seniors-can-grants/',\n",
       " 'https://helpagecanada.ca/2021/03/8184/',\n",
       " 'https://helpagecanada.ca/2021/03/8184/',\n",
       " 'https://helpagecanada.ca/2021/03/8184/',\n",
       " 'https://helpagecanada.ca/2021/02/helpage-international-releases-their-unequal-treatment-report/',\n",
       " 'https://helpagecanada.ca/2021/02/helpage-international-releases-their-unequal-treatment-report/',\n",
       " 'https://helpagecanada.ca/2021/02/helpage-international-releases-their-unequal-treatment-report/',\n",
       " 'https://helpagecanada.ca/2020/12/helpage-international-welcomes-the-launch-of-the-un-decade-of-healthy-aging/',\n",
       " 'https://helpagecanada.ca/2020/12/helpage-international-welcomes-the-launch-of-the-un-decade-of-healthy-aging/',\n",
       " 'https://helpagecanada.ca/2020/12/helpage-international-welcomes-the-launch-of-the-un-decade-of-healthy-aging/',\n",
       " 'https://helpagecanada.ca/2020/09/ukraine-campaign/',\n",
       " 'https://helpagecanada.ca/2020/09/ukraine-campaign/',\n",
       " 'https://helpagecanada.ca/2020/09/ukraine-campaign/',\n",
       " 'https://helpagecanada.ca/2020/09/ride-to-connect/',\n",
       " 'https://helpagecanada.ca/2020/09/ride-to-connect/',\n",
       " 'https://helpagecanada.ca/2020/09/ride-to-connect/',\n",
       " 'https://helpagecanada.ca/2020/09/jacobs-grandparents-day/',\n",
       " 'https://helpagecanada.ca/2020/09/jacobs-grandparents-day/',\n",
       " 'https://helpagecanada.ca/2020/09/jacobs-grandparents-day/',\n",
       " 'https://helpagecanada.ca/2020/09/meridian/',\n",
       " 'https://helpagecanada.ca/2020/09/meridian/',\n",
       " 'https://helpagecanada.ca/2020/09/meridian/',\n",
       " 'https://helpagecanada.ca/2020/09/jacobs/',\n",
       " 'https://helpagecanada.ca/2020/09/jacobs/',\n",
       " 'https://helpagecanada.ca/2020/09/jacobs/',\n",
       " 'https://helpagecanada.ca/2020/08/hayat-beirut/',\n",
       " 'https://helpagecanada.ca/2020/08/hayat-beirut/',\n",
       " 'https://helpagecanada.ca/2020/08/hayat-beirut/',\n",
       " 'https://helpagecanada.ca/2020/08/beirut-blast-rapid-needs-assessment/',\n",
       " 'https://helpagecanada.ca/2020/08/beirut-blast-rapid-needs-assessment/',\n",
       " 'https://helpagecanada.ca/2020/08/beirut-blast-rapid-needs-assessment/',\n",
       " 'https://helpagecanada.ca/2020/06/neglect-and-abuse-of-older-people-around-the-world-intensified-by-covid-19/',\n",
       " 'https://helpagecanada.ca/2020/06/neglect-and-abuse-of-older-people-around-the-world-intensified-by-covid-19/',\n",
       " 'https://helpagecanada.ca/2020/06/neglect-and-abuse-of-older-people-around-the-world-intensified-by-covid-19/',\n",
       " 'https://helpagecanada.ca/2020/06/helpage-canada-is-thrilled-to-partner-with-centraide-estrie/',\n",
       " 'https://helpagecanada.ca/2020/06/helpage-canada-is-thrilled-to-partner-with-centraide-estrie/',\n",
       " 'https://helpagecanada.ca/2020/06/helpage-canada-is-thrilled-to-partner-with-centraide-estrie/',\n",
       " 'https://helpagecanada.ca/2020/05/helpage-canada-raises-more-than-400000-to-support-canadas-vulnerable-aging-population-in-the-fight-against-covid-19/',\n",
       " 'https://helpagecanada.ca/2020/05/helpage-canada-raises-more-than-400000-to-support-canadas-vulnerable-aging-population-in-the-fight-against-covid-19/',\n",
       " 'https://helpagecanada.ca/2020/05/helpage-canada-supported-over-150000-seniors-across-canada-since-march/',\n",
       " 'https://helpagecanada.ca/2020/05/helpage-canada-supported-over-150000-seniors-across-canada-since-march/',\n",
       " 'https://helpagecanada.ca/2020/05/helpage-canada-supported-over-150000-seniors-across-canada-since-march/',\n",
       " 'https://helpagecanada.ca/2020/05/helpage-canada-and-connected-canadians/',\n",
       " 'https://helpagecanada.ca/2020/05/helpage-canada-and-connected-canadians/',\n",
       " 'https://helpagecanada.ca/2020/05/helpage-canada-and-connected-canadians/',\n",
       " 'https://helpagecanada.ca/2020/05/christine-vilcocq/',\n",
       " 'https://helpagecanada.ca/2020/05/christine-vilcocq/',\n",
       " 'https://helpagecanada.ca/2020/05/christine-vilcocq/',\n",
       " 'https://helpagecanada.ca/2019/12/helpage-canada-is-thrilled-to-announce-the-appointment-of-its-new-executive-director-gregor-sneddon/',\n",
       " 'https://helpagecanada.ca/2019/12/helpage-canada-is-thrilled-to-announce-the-appointment-of-its-new-executive-director-gregor-sneddon/',\n",
       " 'https://helpagecanada.ca/2019/12/helpage-canada-is-thrilled-to-announce-the-appointment-of-its-new-executive-director-gregor-sneddon/',\n",
       " 'https://helpagecanada.ca/2019/01/cse-and-helpage-sri-lanka-organize-health-camp-in-padukka/',\n",
       " 'https://helpagecanada.ca/2019/01/cse-and-helpage-sri-lanka-organize-health-camp-in-padukka/',\n",
       " 'https://helpagecanada.ca/2019/01/cse-and-helpage-sri-lanka-organize-health-camp-in-padukka/',\n",
       " 'https://helpagecanada.ca/2018/09/canada-celebrates-seniors-on-the-international-day-of-older-persons/',\n",
       " 'https://helpagecanada.ca/2018/09/canada-celebrates-seniors-on-the-international-day-of-older-persons/',\n",
       " 'https://helpagecanada.ca/2018/09/canada-celebrates-seniors-on-the-international-day-of-older-persons/',\n",
       " 'https://helpagecanada.ca/2018/08/un-member-states-begin-discussing-older-peoples-rights-in-earnest-at-the-ninth-open-ended-working-group/',\n",
       " 'https://helpagecanada.ca/2018/08/un-member-states-begin-discussing-older-peoples-rights-in-earnest-at-the-ninth-open-ended-working-group/',\n",
       " 'https://helpagecanada.ca/2018/08/un-member-states-begin-discussing-older-peoples-rights-in-earnest-at-the-ninth-open-ended-working-group/',\n",
       " 'https://helpagecanada.ca/2018/07/demanding-an-end-to-elder-abuse-in-nepal/',\n",
       " 'https://helpagecanada.ca/2018/07/demanding-an-end-to-elder-abuse-in-nepal/',\n",
       " 'https://helpagecanada.ca/2018/07/demanding-an-end-to-elder-abuse-in-nepal/',\n",
       " 'https://helpagecanada.ca/2018/07/the-older-refugees-from-burundi/',\n",
       " 'https://helpagecanada.ca/2018/07/the-older-refugees-from-burundi/',\n",
       " 'https://helpagecanada.ca/2018/07/the-older-refugees-from-burundi/',\n",
       " 'https://helpagecanada.ca/2018/06/congratulations-to-kenya-on-the-launch-of-its-universal-social-pension-now-how-can-we-help-make-it-a-success/',\n",
       " 'https://helpagecanada.ca/2018/06/congratulations-to-kenya-on-the-launch-of-its-universal-social-pension-now-how-can-we-help-make-it-a-success/',\n",
       " 'https://helpagecanada.ca/2018/06/congratulations-to-kenya-on-the-launch-of-its-universal-social-pension-now-how-can-we-help-make-it-a-success/',\n",
       " 'https://helpagecanada.ca/2018/06/world-elder-abuse-awareness-day/',\n",
       " 'https://helpagecanada.ca/2018/06/world-elder-abuse-awareness-day/',\n",
       " 'https://helpagecanada.ca/2018/06/world-elder-abuse-awareness-day/',\n",
       " 'https://helpagecanada.ca/2018/06/humanitarian-inclusion-standards-for-older-people-and-people-with-disabilities-become-part-of-the-humanitarian-standards-partnership/',\n",
       " 'https://helpagecanada.ca/2018/06/humanitarian-inclusion-standards-for-older-people-and-people-with-disabilities-become-part-of-the-humanitarian-standards-partnership/',\n",
       " 'https://helpagecanada.ca/2018/06/humanitarian-inclusion-standards-for-older-people-and-people-with-disabilities-become-part-of-the-humanitarian-standards-partnership/',\n",
       " 'https://helpagecanada.ca/2018/06/how-our-network-is-making-the-western-balkans-more-inclusive-for-older-people/',\n",
       " 'https://helpagecanada.ca/2018/06/how-our-network-is-making-the-western-balkans-more-inclusive-for-older-people/',\n",
       " 'https://helpagecanada.ca/2018/06/how-our-network-is-making-the-western-balkans-more-inclusive-for-older-people/',\n",
       " 'https://helpagecanada.ca/2018/06/two-steps-forward-one-step-back-at-this-years-world-health-assembly/',\n",
       " 'https://helpagecanada.ca/2018/06/two-steps-forward-one-step-back-at-this-years-world-health-assembly/',\n",
       " 'https://helpagecanada.ca/2018/06/two-steps-forward-one-step-back-at-this-years-world-health-assembly/',\n",
       " 'https://helpagecanada.ca/2018/05/after-maria-hope-grows-in-dominica/',\n",
       " 'https://helpagecanada.ca/2018/05/after-maria-hope-grows-in-dominica/',\n",
       " 'https://helpagecanada.ca/2018/05/after-maria-hope-grows-in-dominica/',\n",
       " 'https://helpagecanada.ca/2018/05/millions-of-older-people-with-disabilities-risk-being-excluded-from-humanitarian-assistance-new-helpage-report-reveals/',\n",
       " 'https://helpagecanada.ca/2018/05/millions-of-older-people-with-disabilities-risk-being-excluded-from-humanitarian-assistance-new-helpage-report-reveals/',\n",
       " 'https://helpagecanada.ca/2018/05/millions-of-older-people-with-disabilities-risk-being-excluded-from-humanitarian-assistance-new-helpage-report-reveals/',\n",
       " 'https://helpagecanada.ca/2018/05/freedom-to-decide-for-ourselves-older-peoples-rights-are-denied-says-new-report/',\n",
       " 'https://helpagecanada.ca/2018/05/freedom-to-decide-for-ourselves-older-peoples-rights-are-denied-says-new-report/',\n",
       " 'https://helpagecanada.ca/2018/05/freedom-to-decide-for-ourselves-older-peoples-rights-are-denied-says-new-report/',\n",
       " 'https://helpagecanada.ca/2017/10/international-day-older-persons-recognizing-reaching-seniors/',\n",
       " 'https://helpagecanada.ca/2017/10/international-day-older-persons-recognizing-reaching-seniors/',\n",
       " 'https://helpagecanada.ca/2017/10/international-day-older-persons-recognizing-reaching-seniors/',\n",
       " 'https://helpagecanada.ca/2017/06/helpage-international-older-women-speak/',\n",
       " 'https://helpagecanada.ca/2017/06/helpage-international-older-women-speak/',\n",
       " 'https://helpagecanada.ca/2017/01/rise-sunday-february-19/',\n",
       " 'https://helpagecanada.ca/2017/01/rise-sunday-february-19/',\n",
       " 'https://helpagecanada.ca/2016/12/reaching-senior-precious-gift/',\n",
       " 'https://helpagecanada.ca/2016/12/reaching-senior-precious-gift/',\n",
       " 'https://helpagecanada.ca/2016/09/international-day-older-persons/',\n",
       " 'https://helpagecanada.ca/2016/09/international-day-older-persons/',\n",
       " 'https://helpagecanada.ca/2016/06/june-15-world-elder-abuse-awareness-day/',\n",
       " 'https://helpagecanada.ca/2016/06/june-15-world-elder-abuse-awareness-day/',\n",
       " 'https://helpagecanada.ca/2016/06/peg-world-health-assembly-23-28-may-geneva-switzerland/',\n",
       " 'https://helpagecanada.ca/2016/06/peg-world-health-assembly-23-28-may-geneva-switzerland/',\n",
       " 'https://helpagecanada.ca/2016/05/first-world-humanitarian-summit-may-23-24-2016-istanbul-turkey/',\n",
       " 'https://helpagecanada.ca/2016/05/first-world-humanitarian-summit-may-23-24-2016-istanbul-turkey/',\n",
       " 'https://helpagecanada.ca/2016/04/helpage-international-marks-world-health-day-focus-diabetes/',\n",
       " 'https://helpagecanada.ca/2016/04/helpage-international-marks-world-health-day-focus-diabetes/',\n",
       " 'https://helpagecanada.ca/2016/04/rise-cisa-oct-1-2015-event-nepean-ont/',\n",
       " 'https://helpagecanada.ca/2016/04/rise-cisa-oct-1-2015-event-nepean-ont/',\n",
       " 'https://helpagecanada.ca/2016/04/watch-jacques-bertrand-executive-director-helpagecanada-ctv/',\n",
       " 'https://helpagecanada.ca/2016/04/watch-jacques-bertrand-executive-director-helpagecanada-ctv/',\n",
       " 'https://helpagecanada.ca/2016/03/briser-lisolement-des-aines/',\n",
       " 'https://helpagecanada.ca/2016/03/briser-lisolement-des-aines/',\n",
       " 'https://helpagecanada.ca/2016/03/new-doro-824-smartphone-designed-seniors-comes-canada/',\n",
       " 'https://helpagecanada.ca/2016/03/new-doro-824-smartphone-designed-seniors-comes-canada/',\n",
       " 'https://helpagecanada.ca/2016/03/helpage-visits-toronto-partner/',\n",
       " 'https://helpagecanada.ca/2016/03/helpage-visits-toronto-partner/',\n",
       " 'https://helpagecanada.ca/2016/03/winner-of-rise-sunday-contest-is-from-winnipeg/',\n",
       " 'https://helpagecanada.ca/2016/03/winner-of-rise-sunday-contest-is-from-winnipeg/',\n",
       " 'https://helpagecanada.ca/2016/02/thank-you-for-a-successful-rise-sunday/',\n",
       " 'https://helpagecanada.ca/2016/02/thank-you-for-a-successful-rise-sunday/',\n",
       " 'https://helpagecanada.ca/2016/02/interview-rogers-tv/',\n",
       " 'https://helpagecanada.ca/2016/02/interview-rogers-tv/',\n",
       " 'https://helpagecanada.ca/2016/02/interview/',\n",
       " 'https://helpagecanada.ca/2016/02/interview/',\n",
       " 'https://helpagecanada.ca/2016/02/cbc-ottawa-interview/',\n",
       " 'https://helpagecanada.ca/2016/02/cbc-ottawa-interview/',\n",
       " 'https://helpagecanada.ca/2016/02/february-21st-rise-sunday/',\n",
       " 'https://helpagecanada.ca/2016/02/february-21st-rise-sunday/',\n",
       " 'https://helpagecanada.ca/2016/02/join-us-feb-21/',\n",
       " 'https://helpagecanada.ca/2016/02/join-us-feb-21/',\n",
       " 'https://helpagecanada.ca/2016/01/the-upbeat-reach-out-to-an-isolated-senior-on-feb-21/',\n",
       " 'https://helpagecanada.ca/2016/01/the-upbeat-reach-out-to-an-isolated-senior-on-feb-21/',\n",
       " 'https://helpagecanada.ca/2015/09/helpage-international-releases-third-global-agewatch-index/',\n",
       " 'https://helpagecanada.ca/2015/09/helpage-international-releases-third-global-agewatch-index/',\n",
       " 'https://helpagecanada.ca/2015/09/helpage-international-releases-third-global-agewatch-index/',\n",
       " 'https://helpagecanada.ca/2015/07/join-us-on-october-1-2015/',\n",
       " 'https://helpagecanada.ca/2015/07/join-us-on-october-1-2015/',\n",
       " 'https://helpagecanada.ca/2015/07/join-us-on-october-1-2015/',\n",
       " 'https://helpagecanada.ca/2015/06/minister-alice-wong-marks-elder-abuse-day-at-helpage-canada-s-office/',\n",
       " 'https://helpagecanada.ca/2015/06/minister-alice-wong-marks-elder-abuse-day-at-helpage-canada-s-office/',\n",
       " 'https://helpagecanada.ca/2015/06/minister-alice-wong-marks-elder-abuse-day-at-helpage-canada-s-office/',\n",
       " 'https://helpagecanada.ca/2015/04/7-8-magnitude-earthquake-strikes-nepal-killing-thousands/',\n",
       " 'https://helpagecanada.ca/2015/04/7-8-magnitude-earthquake-strikes-nepal-killing-thousands/',\n",
       " 'https://helpagecanada.ca/2015/04/7-8-magnitude-earthquake-strikes-nepal-killing-thousands/',\n",
       " 'https://helpagecanada.ca/2015/03/march-12-2015-helpage-international-launches-the-first-disaster-risk-and-age-index/',\n",
       " 'https://helpagecanada.ca/2015/03/march-12-2015-helpage-international-launches-the-first-disaster-risk-and-age-index/',\n",
       " 'https://helpagecanada.ca/2015/03/march-12-2015-helpage-international-launches-the-first-disaster-risk-and-age-index/',\n",
       " 'https://helpagecanada.ca/2015/02/our-stories-their-stories/',\n",
       " 'https://helpagecanada.ca/2015/02/our-stories-their-stories/',\n",
       " 'https://helpagecanada.ca/2015/02/our-stories-their-stories/',\n",
       " 'https://helpagecanada.ca/2015/02/february-2-2015-helpage-international-releases-report-on-impacts-of-ageing-population/',\n",
       " 'https://helpagecanada.ca/2015/02/february-2-2015-helpage-international-releases-report-on-impacts-of-ageing-population/',\n",
       " 'https://helpagecanada.ca/2015/02/february-2-2015-helpage-international-releases-report-on-impacts-of-ageing-population/',\n",
       " 'https://helpagecanada.ca/2015/01/january-12-2015-five-years-on-from-the-haiti-earthquake/',\n",
       " 'https://helpagecanada.ca/2015/01/january-12-2015-five-years-on-from-the-haiti-earthquake/',\n",
       " 'https://helpagecanada.ca/2015/01/january-12-2015-five-years-on-from-the-haiti-earthquake/',\n",
       " 'https://helpagecanada.ca/2014/12/helpage-assesses-damage-caused-by-typhoon-hagupit/',\n",
       " 'https://helpagecanada.ca/2014/12/helpage-assesses-damage-caused-by-typhoon-hagupit/',\n",
       " 'https://helpagecanada.ca/2014/10/october-1-2014-helpage-canada-co-hosts-press-event-with-minister-of-state-for-seniors/',\n",
       " 'https://helpagecanada.ca/2014/10/october-1-2014-helpage-canada-co-hosts-press-event-with-minister-of-state-for-seniors/',\n",
       " 'https://helpagecanada.ca/2014/10/october-1-2014-helpage-canada-co-hosts-press-event-with-minister-of-state-for-seniors/',\n",
       " 'https://helpagecanada.ca/2014/10/global-agewatch-index-ranks-canada-4th-in-seniors-quality-of-life/',\n",
       " 'https://helpagecanada.ca/2014/10/global-agewatch-index-ranks-canada-4th-in-seniors-quality-of-life/',\n",
       " 'https://helpagecanada.ca/2014/09/september-30-2014-global-agewatch-index-to-be-released-tomorrow/',\n",
       " 'https://helpagecanada.ca/2014/09/september-30-2014-global-agewatch-index-to-be-released-tomorrow/',\n",
       " 'https://helpagecanada.ca/2014/09/september-1-2014-your-thoughts-are-important/',\n",
       " 'https://helpagecanada.ca/2014/09/september-1-2014-your-thoughts-are-important/',\n",
       " 'https://helpagecanada.ca/2014/09/june-15-2014-violence-against-older-people-a-global-phenomenon/',\n",
       " 'https://helpagecanada.ca/2014/09/june-15-2014-violence-against-older-people-a-global-phenomenon/',\n",
       " '#',\n",
       " '#',\n",
       " '#',\n",
       " '#',\n",
       " '#',\n",
       " '#',\n",
       " '#',\n",
       " '#',\n",
       " 'mailto:info@helpagecanada.ca',\n",
       " 'https://www.facebook.com/helpagecanada/',\n",
       " 'https://twitter.com/helpageca',\n",
       " 'https://www.youtube.com/channel/UCeQtJt1-UgTWEar0AYz9LVw?view_as=subscriber',\n",
       " 'https://instagram.com/helpagecanada',\n",
       " 'https://helpagecanada.ca/?lang=fr',\n",
       " 'https://helpagecanada.ca/who-we-are/',\n",
       " 'https://helpagecanada.ca/resources/',\n",
       " 'https://helpagecanada.ca/ways-to-give/',\n",
       " 'https://helpagecanada.ca/privacy-policy/',\n",
       " 'mailto:info@helpagecanada.ca',\n",
       " 'https://helpagecanada.ca/2021/11/f-a-s-t-track/',\n",
       " 'https://helpagecanada.ca/2021/09/connecting-elders-through-youth-mentorship-in-the-kivalliq-region/',\n",
       " 'https://helpagecanada.ca/2021/06/bearing-the-brunt/']"
      ]
     },
     "execution_count": 81,
     "metadata": {},
     "output_type": "execute_result"
    }
   ],
   "source": [
    "reports_a = soup.find_all('a', href = True)\n",
    "\n",
    "[reports['links'].append(link['href']) for link in reports_a]\n",
    "\n",
    "reports['links']"
   ]
  },
  {
   "cell_type": "code",
   "execution_count": 82,
   "metadata": {},
   "outputs": [
    {
     "data": {
      "text/plain": [
       "186"
      ]
     },
     "execution_count": 82,
     "metadata": {},
     "output_type": "execute_result"
    }
   ],
   "source": [
    "#removing extra scrapped links\n",
    "L = []\n",
    "for s in reports['links']:\n",
    "        if s.find('https://helpagecanada.ca/20') != -1:\n",
    "            L.append(s)\n",
    "len(L)"
   ]
  },
  {
   "cell_type": "code",
   "execution_count": 83,
   "metadata": {},
   "outputs": [],
   "source": [
    "#removing duplicates\n",
    "L = list(dict.fromkeys(L))\n",
    "reports['links'] = L"
   ]
  },
  {
   "cell_type": "code",
   "execution_count": 41,
   "metadata": {},
   "outputs": [
    {
     "data": {
      "text/plain": [
       "['https://helpagecanada.ca/2021/11/f-a-s-t-track/',\n",
       " 'https://helpagecanada.ca/2021/09/connecting-elders-through-youth-mentorship-in-the-kivalliq-region/',\n",
       " 'https://helpagecanada.ca/2021/06/bearing-the-brunt/',\n",
       " 'https://helpagecanada.ca/2021/05/helpage-canada-awards%e2%80%af200000-in-seniors-can-grants/',\n",
       " 'https://helpagecanada.ca/2021/03/8184/',\n",
       " 'https://helpagecanada.ca/2021/02/helpage-international-releases-their-unequal-treatment-report/',\n",
       " 'https://helpagecanada.ca/2020/12/helpage-international-welcomes-the-launch-of-the-un-decade-of-healthy-aging/',\n",
       " 'https://helpagecanada.ca/2020/09/ukraine-campaign/',\n",
       " 'https://helpagecanada.ca/2020/09/ride-to-connect/',\n",
       " 'https://helpagecanada.ca/2020/09/jacobs-grandparents-day/',\n",
       " 'https://helpagecanada.ca/2020/09/meridian/',\n",
       " 'https://helpagecanada.ca/2020/09/jacobs/',\n",
       " 'https://helpagecanada.ca/2020/08/hayat-beirut/',\n",
       " 'https://helpagecanada.ca/2020/08/beirut-blast-rapid-needs-assessment/',\n",
       " 'https://helpagecanada.ca/2020/06/neglect-and-abuse-of-older-people-around-the-world-intensified-by-covid-19/',\n",
       " 'https://helpagecanada.ca/2020/06/helpage-canada-is-thrilled-to-partner-with-centraide-estrie/',\n",
       " 'https://helpagecanada.ca/2020/05/helpage-canada-raises-more-than-400000-to-support-canadas-vulnerable-aging-population-in-the-fight-against-covid-19/',\n",
       " 'https://helpagecanada.ca/2020/05/helpage-canada-supported-over-150000-seniors-across-canada-since-march/',\n",
       " 'https://helpagecanada.ca/2020/05/helpage-canada-and-connected-canadians/',\n",
       " 'https://helpagecanada.ca/2020/05/christine-vilcocq/',\n",
       " 'https://helpagecanada.ca/2019/12/helpage-canada-is-thrilled-to-announce-the-appointment-of-its-new-executive-director-gregor-sneddon/',\n",
       " 'https://helpagecanada.ca/2019/01/cse-and-helpage-sri-lanka-organize-health-camp-in-padukka/',\n",
       " 'https://helpagecanada.ca/2018/09/canada-celebrates-seniors-on-the-international-day-of-older-persons/',\n",
       " 'https://helpagecanada.ca/2018/08/un-member-states-begin-discussing-older-peoples-rights-in-earnest-at-the-ninth-open-ended-working-group/',\n",
       " 'https://helpagecanada.ca/2018/07/demanding-an-end-to-elder-abuse-in-nepal/',\n",
       " 'https://helpagecanada.ca/2018/07/the-older-refugees-from-burundi/',\n",
       " 'https://helpagecanada.ca/2018/06/congratulations-to-kenya-on-the-launch-of-its-universal-social-pension-now-how-can-we-help-make-it-a-success/',\n",
       " 'https://helpagecanada.ca/2018/06/world-elder-abuse-awareness-day/',\n",
       " 'https://helpagecanada.ca/2018/06/humanitarian-inclusion-standards-for-older-people-and-people-with-disabilities-become-part-of-the-humanitarian-standards-partnership/',\n",
       " 'https://helpagecanada.ca/2018/06/how-our-network-is-making-the-western-balkans-more-inclusive-for-older-people/',\n",
       " 'https://helpagecanada.ca/2018/06/two-steps-forward-one-step-back-at-this-years-world-health-assembly/',\n",
       " 'https://helpagecanada.ca/2018/05/after-maria-hope-grows-in-dominica/',\n",
       " 'https://helpagecanada.ca/2018/05/millions-of-older-people-with-disabilities-risk-being-excluded-from-humanitarian-assistance-new-helpage-report-reveals/',\n",
       " 'https://helpagecanada.ca/2018/05/freedom-to-decide-for-ourselves-older-peoples-rights-are-denied-says-new-report/',\n",
       " 'https://helpagecanada.ca/2017/10/international-day-older-persons-recognizing-reaching-seniors/',\n",
       " 'https://helpagecanada.ca/2017/06/helpage-international-older-women-speak/',\n",
       " 'https://helpagecanada.ca/2017/01/rise-sunday-february-19/',\n",
       " 'https://helpagecanada.ca/2016/12/reaching-senior-precious-gift/',\n",
       " 'https://helpagecanada.ca/2016/09/international-day-older-persons/',\n",
       " 'https://helpagecanada.ca/2016/06/june-15-world-elder-abuse-awareness-day/',\n",
       " 'https://helpagecanada.ca/2016/06/peg-world-health-assembly-23-28-may-geneva-switzerland/',\n",
       " 'https://helpagecanada.ca/2016/05/first-world-humanitarian-summit-may-23-24-2016-istanbul-turkey/',\n",
       " 'https://helpagecanada.ca/2016/04/helpage-international-marks-world-health-day-focus-diabetes/',\n",
       " 'https://helpagecanada.ca/2016/04/rise-cisa-oct-1-2015-event-nepean-ont/',\n",
       " 'https://helpagecanada.ca/2016/04/watch-jacques-bertrand-executive-director-helpagecanada-ctv/',\n",
       " 'https://helpagecanada.ca/2016/03/briser-lisolement-des-aines/',\n",
       " 'https://helpagecanada.ca/2016/03/new-doro-824-smartphone-designed-seniors-comes-canada/',\n",
       " 'https://helpagecanada.ca/2016/03/helpage-visits-toronto-partner/',\n",
       " 'https://helpagecanada.ca/2016/03/winner-of-rise-sunday-contest-is-from-winnipeg/',\n",
       " 'https://helpagecanada.ca/2016/02/thank-you-for-a-successful-rise-sunday/',\n",
       " 'https://helpagecanada.ca/2016/02/interview-rogers-tv/',\n",
       " 'https://helpagecanada.ca/2016/02/interview/',\n",
       " 'https://helpagecanada.ca/2016/02/cbc-ottawa-interview/',\n",
       " 'https://helpagecanada.ca/2016/02/february-21st-rise-sunday/',\n",
       " 'https://helpagecanada.ca/2016/02/join-us-feb-21/',\n",
       " 'https://helpagecanada.ca/2016/01/the-upbeat-reach-out-to-an-isolated-senior-on-feb-21/',\n",
       " 'https://helpagecanada.ca/2015/09/helpage-international-releases-third-global-agewatch-index/',\n",
       " 'https://helpagecanada.ca/2015/07/join-us-on-october-1-2015/',\n",
       " 'https://helpagecanada.ca/2015/06/minister-alice-wong-marks-elder-abuse-day-at-helpage-canada-s-office/',\n",
       " 'https://helpagecanada.ca/2015/04/7-8-magnitude-earthquake-strikes-nepal-killing-thousands/',\n",
       " 'https://helpagecanada.ca/2015/03/march-12-2015-helpage-international-launches-the-first-disaster-risk-and-age-index/',\n",
       " 'https://helpagecanada.ca/2015/02/our-stories-their-stories/',\n",
       " 'https://helpagecanada.ca/2015/02/february-2-2015-helpage-international-releases-report-on-impacts-of-ageing-population/',\n",
       " 'https://helpagecanada.ca/2015/01/january-12-2015-five-years-on-from-the-haiti-earthquake/',\n",
       " 'https://helpagecanada.ca/2014/12/helpage-assesses-damage-caused-by-typhoon-hagupit/',\n",
       " 'https://helpagecanada.ca/2014/10/october-1-2014-helpage-canada-co-hosts-press-event-with-minister-of-state-for-seniors/',\n",
       " 'https://helpagecanada.ca/2014/10/global-agewatch-index-ranks-canada-4th-in-seniors-quality-of-life/',\n",
       " 'https://helpagecanada.ca/2014/09/september-30-2014-global-agewatch-index-to-be-released-tomorrow/',\n",
       " 'https://helpagecanada.ca/2014/09/september-1-2014-your-thoughts-are-important/',\n",
       " 'https://helpagecanada.ca/2014/09/june-15-2014-violence-against-older-people-a-global-phenomenon/']"
      ]
     },
     "execution_count": 41,
     "metadata": {},
     "output_type": "execute_result"
    }
   ],
   "source": [
    "#content = soup.find_all('h4', class_=\"uabb-post-heading uabb-blog-post-section\")\n",
    "#for c in content:\n",
    " #   obj = c.find_all('a', href = True)\n",
    "  #  reports_a.append(obj)\n",
    "#reports['links'] = reports['links'][:-3] # removing footer dates - garbage val\n",
    "reports['links']"
   ]
  },
  {
   "cell_type": "code",
   "execution_count": 84,
   "metadata": {},
   "outputs": [],
   "source": [
    "reports_span = soup.find_all('span', class_ = 'uabb-meta-date')\n",
    "\n",
    "[reports['dates'].append(date.get_text()) for date in list(reports_span)]\n",
    "\n",
    "#reports['dates'] have \\n n ]t characters need to trim\n",
    "D=[]\n",
    "for d in reports['dates']:\n",
    "    d = d.strip('\\n')\n",
    "    d = d.strip('\\t')\n",
    "    D.append(d)\n",
    "    \n",
    "reports['dates'] = D\n",
    "reports['dates'] = reports['dates'][:-3] # removing footer dates - garbage val"
   ]
  },
  {
   "cell_type": "code",
   "execution_count": 85,
   "metadata": {},
   "outputs": [
    {
     "name": "stdout",
     "output_type": "stream",
     "text": [
      "70\n",
      "70\n"
     ]
    }
   ],
   "source": [
    "print(len(reports['dates']))\n",
    "print(len(reports['links']))\n",
    "reports['header'] = []\n",
    "reports['body'] = []"
   ]
  },
  {
   "cell_type": "code",
   "execution_count": 99,
   "metadata": {
    "id": "BMcC60OFecRp"
   },
   "outputs": [],
   "source": [
    "for link in reports['links']:\n",
    "  url = link\n",
    "  response = requests.get(url)\n",
    "  soup = BeautifulSoup(response.content, 'html.parser')\n",
    "\n",
    "  # CSS selector for header h1 under article\n",
    "  h1 = soup.find(\"title\").string\n",
    "\n",
    "  # CSS selector for text under main tag\n",
    "  body = soup.select('tbody p')\n",
    "\n",
    "  # Populating reports dictionary\n",
    "  reports['header'].append(h1)\n",
    "  reports['body'].append(' '.join([item.get_text(strip = True) for item in list(body) if item.get_text() != '']))\n"
   ]
  },
  {
   "cell_type": "code",
   "execution_count": 104,
   "metadata": {},
   "outputs": [],
   "source": [
    "reports['header'] = list(dict.fromkeys(reports['header']))\n",
    "reports['body'] = reports['body'][:-7]"
   ]
  },
  {
   "cell_type": "code",
   "execution_count": 105,
   "metadata": {},
   "outputs": [
    {
     "name": "stdout",
     "output_type": "stream",
     "text": [
      "Body: 70\n",
      "Header: 70\n",
      "Links: 70\n",
      "Dates: 70\n"
     ]
    }
   ],
   "source": [
    "print(\"Body:\", len(reports['body']))\n",
    "print(\"Header:\",len(reports['header']))\n",
    "print(\"Links:\",len(reports['links']))\n",
    "print(\"Dates:\",len(reports['dates']))"
   ]
  },
  {
   "cell_type": "code",
   "execution_count": 109,
   "metadata": {
    "colab": {
     "base_uri": "https://localhost:8080/",
     "height": 87
    },
    "id": "m0n8rxchj2uO",
    "outputId": "d252f8b0-f0b0-4435-805d-fa815c7a2cb1"
   },
   "outputs": [
    {
     "data": {
      "text/plain": [
       "dict"
      ]
     },
     "execution_count": 109,
     "metadata": {},
     "output_type": "execute_result"
    }
   ],
   "source": [
    "type(reports)"
   ]
  },
  {
   "cell_type": "code",
   "execution_count": 115,
   "metadata": {},
   "outputs": [],
   "source": [
    "df = pd.DataFrame.from_dict(reports, orient='index')\n",
    "df = df.transpose()"
   ]
  },
  {
   "cell_type": "code",
   "execution_count": 116,
   "metadata": {
    "id": "kAImH4WvijSg"
   },
   "outputs": [],
   "source": [
    "df.to_csv('helpagecanada_news.csv', encoding = 'utf-8-sig')"
   ]
  },
  {
   "cell_type": "code",
   "execution_count": null,
   "metadata": {},
   "outputs": [],
   "source": []
  }
 ],
 "metadata": {
  "colab": {
   "collapsed_sections": [],
   "name": "News_Scraping.ipynb",
   "provenance": [],
   "toc_visible": true
  },
  "kernelspec": {
   "display_name": "Python 3",
   "language": "python",
   "name": "python3"
  },
  "language_info": {
   "codemirror_mode": {
    "name": "ipython",
    "version": 3
   },
   "file_extension": ".py",
   "mimetype": "text/x-python",
   "name": "python",
   "nbconvert_exporter": "python",
   "pygments_lexer": "ipython3",
   "version": "3.8.5"
  }
 },
 "nbformat": 4,
 "nbformat_minor": 1
}
