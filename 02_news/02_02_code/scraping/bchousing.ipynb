{
 "cells": [
  {
   "cell_type": "markdown",
   "metadata": {
    "id": "w1PReEA9lpeX"
   },
   "source": [
    "# BC housing newsroom"
   ]
  },
  {
   "cell_type": "markdown",
   "metadata": {
    "id": "NvRSMGtsmDrh"
   },
   "source": [
    "### search results on seniors\n",
    "https://news.bchousing.org/?q=seniors&search.x=0&search.y=0\n",
    "01/01/2017 to 02/21/2022"
   ]
  },
  {
   "cell_type": "code",
   "execution_count": 92,
   "metadata": {
    "id": "7OuWkS72rTVD"
   },
   "outputs": [],
   "source": [
    "import requests\n",
    "import pandas as pd\n",
    "import io\n",
    "from bs4 import BeautifulSoup\n",
    "#from PyPDF2 import PdfFileReader"
   ]
  },
  {
   "cell_type": "code",
   "execution_count": 93,
   "metadata": {
    "colab": {
     "base_uri": "https://localhost:8080/"
    },
    "id": "i0WXNfzr72gL",
    "outputId": "bf8fe70d-e40e-4f1a-9ab1-a9169b3b38f0"
   },
   "outputs": [
    {
     "data": {
      "text/plain": [
       "<Response [200]>"
      ]
     },
     "execution_count": 93,
     "metadata": {},
     "output_type": "execute_result"
    }
   ],
   "source": [
    "reports_url = \"https://news.bchousing.org/?q=seniors&search.x=0&search.y=0\"\n",
    "reports_page = requests.get(reports_url)\n",
    "reports_page"
   ]
  },
  {
   "cell_type": "code",
   "execution_count": 94,
   "metadata": {
    "id": "jdsntBdc7_wi"
   },
   "outputs": [],
   "source": [
    "soup = BeautifulSoup(reports_page.content, 'html.parser')"
   ]
  },
  {
   "cell_type": "code",
   "execution_count": 95,
   "metadata": {
    "colab": {
     "base_uri": "https://localhost:8080/"
    },
    "id": "HExhWrhq8dea",
    "outputId": "c401e34f-82d8-4088-e3cf-0e8fced3f554"
   },
   "outputs": [],
   "source": [
    "reports = {}\n",
    "reports['links'] = []\n",
    "reports['dates'] = []\n",
    "reports['header'] = []\n",
    "reports['body'] = []\n",
    "day=[]\n",
    "month=[]\n",
    "year=[]"
   ]
  },
  {
   "cell_type": "code",
   "execution_count": 96,
   "metadata": {},
   "outputs": [
    {
     "data": {
      "text/plain": [
       "['//news.bchousing.org/66-new-housing-units-for-seniors-and-youth-in-chilliwack/',\n",
       " '//news.bchousing.org/more-than-100-affordable-new-homes-for-sale-in-victoria/',\n",
       " '//news.bchousing.org/new-affordable-homes-underway-in-burnaby/',\n",
       " '//news.bchousing.org/more-affordable-seniors-housing-coming-to-nanaimo/',\n",
       " '//news.bchousing.org/sixty-four-new-rental-homes-open-in-maple-ridge/',\n",
       " '//news.bchousing.org/new-affordable-homes-open-in-kamloops/',\n",
       " '//news.bchousing.org/province-to-finance-affordable-seniors-housing-in-burnaby/',\n",
       " '//news.bchousing.org/new-affordable-energy-efficient-homes-coming-to-kelowna/',\n",
       " '//news.bchousing.org/new-affordable-homes-underway-for-seniors-in-comox/',\n",
       " '//news.bchousing.org/new-affordable-homes-coming-to-north-nanaimo/']"
      ]
     },
     "execution_count": 96,
     "metadata": {},
     "output_type": "execute_result"
    }
   ],
   "source": [
    "reports_a = soup.find_all('a', class_='searchresult_readmore', href = True)\n",
    "[reports['links'].append(link['href']) for link in reports_a]\n",
    "reports['links']\n",
    "#now below links are just page one n we need to iterate for all next pages say next 20 pages"
   ]
  },
  {
   "cell_type": "code",
   "execution_count": 97,
   "metadata": {},
   "outputs": [],
   "source": [
    "nextpglinks = ['https://news.bchousing.org/?s=10&q=seniors&fd=01/01/2010&sd=02/21/2022',\n",
    "'https://news.bchousing.org/?s=20&q=seniors&fd=01/01/2010&sd=02/21/2022',\n",
    "'https://news.bchousing.org/?s=30&q=seniors&fd=01/01/2010&sd=02/21/2022',\n",
    "'https://news.bchousing.org/?s=40&q=seniors&fd=01/01/2010&sd=02/21/2022',\n",
    "'https://news.bchousing.org/?s=50&q=seniors&fd=01/01/2010&sd=02/21/2022',\n",
    "'https://news.bchousing.org/?s=60&q=seniors&fd=01/01/2010&sd=02/21/2022',\n",
    "'https://news.bchousing.org/?s=70&q=seniors&fd=01/01/2010&sd=02/21/2022',\n",
    "'https://news.bchousing.org/?s=80&q=seniors&fd=01/01/2010&sd=02/21/2022',\n",
    "'https://news.bchousing.org/?s=90&q=seniors&fd=01/01/2010&sd=02/21/2022',\n",
    "'https://news.bchousing.org/?s=100&q=seniors&fd=01/01/2010&sd=02/21/2022',\n",
    "'https://news.bchousing.org/?s=110&q=seniors&fd=01/01/2010&sd=02/21/2022',\n",
    "'https://news.bchousing.org/?s=120&q=seniors&fd=01/01/2010&sd=02/21/2022',\n",
    "'https://news.bchousing.org/?s=130&q=seniors&fd=01/01/2010&sd=02/21/2022',\n",
    "'https://news.bchousing.org/?s=140&q=seniors&fd=01/01/2010&sd=02/21/2022',\n",
    "'https://news.bchousing.org/?s=150&q=seniors&fd=01/01/2010&sd=02/21/2022',\n",
    "'https://news.bchousing.org/?s=160&q=seniors&fd=01/01/2010&sd=02/21/2022',\n",
    "'https://news.bchousing.org/?s=170&q=seniors&fd=01/01/2010&sd=02/21/2022',\n",
    "'https://news.bchousing.org/?s=180&q=seniors&fd=01/01/2010&sd=02/21/2022',\n",
    "'https://news.bchousing.org/?s=190&q=seniors&fd=01/01/2010&sd=02/21/2022',\n",
    "'https://news.bchousing.org/?s=200&q=seniors&fd=01/01/2010&sd=02/21/2022',\n",
    "'https://news.bchousing.org/?s=210&q=seniors&fd=01/01/2010&sd=02/21/2022',\n",
    "'https://news.bchousing.org/?s=220&q=seniors&fd=01/01/2010&sd=02/21/2022',\n",
    "'https://news.bchousing.org/?s=230&q=seniors&fd=01/01/2010&sd=02/21/2022',\n",
    "'https://news.bchousing.org/?s=240&q=seniors&fd=01/01/2010&sd=02/21/2022',\n",
    "'https://news.bchousing.org/?s=250&q=seniors&fd=01/01/2010&sd=02/21/2022',\n",
    "'https://news.bchousing.org/?s=260&q=seniors&fd=01/01/2010&sd=02/21/2022',\n",
    "'https://news.bchousing.org/?s=270&q=seniors&fd=01/01/2010&sd=02/21/2022',\n",
    "'https://news.bchousing.org/?s=280&q=seniors&fd=01/01/2010&sd=02/21/2022'\n",
    "]"
   ]
  },
  {
   "cell_type": "code",
   "execution_count": 98,
   "metadata": {},
   "outputs": [],
   "source": [
    "for link in nextpglinks:\n",
    "  url = link\n",
    "  response = requests.get(url)\n",
    "  soup = BeautifulSoup(response.content, 'html.parser')\n",
    "\n",
    "  reports_a = soup.find_all('a', class_='searchresult_readmore', href = True)\n",
    "  [reports['links'].append(link['href']) for link in reports_a]"
   ]
  },
  {
   "cell_type": "code",
   "execution_count": 99,
   "metadata": {},
   "outputs": [
    {
     "data": {
      "text/plain": [
       "280"
      ]
     },
     "execution_count": 99,
     "metadata": {},
     "output_type": "execute_result"
    }
   ],
   "source": [
    "len(reports['links'])"
   ]
  },
  {
   "cell_type": "code",
   "execution_count": 100,
   "metadata": {},
   "outputs": [
    {
     "data": {
      "text/plain": [
       "280"
      ]
     },
     "execution_count": 100,
     "metadata": {},
     "output_type": "execute_result"
    }
   ],
   "source": [
    "D=[]\n",
    "for d in reports['links']:\n",
    "    d = d.replace('//','https://')\n",
    "    D.append(d)\n",
    "\n",
    "reports['links']=[]    \n",
    "reports['links'] = D\n",
    "len(reports['links'])"
   ]
  },
  {
   "cell_type": "code",
   "execution_count": 101,
   "metadata": {
    "id": "BMcC60OFecRp"
   },
   "outputs": [],
   "source": [
    "for link in reports['links']:\n",
    "  url = link\n",
    "  response = requests.get(url)\n",
    "  soup = BeautifulSoup(response.content, 'html.parser')\n",
    "\n",
    "  # CSS selector for header h1 under article\n",
    "  h1 = soup.find(\"title\").string \n",
    "\n",
    "  # CSS selector for text under main tag\n",
    "  body = soup.select(\"article p\")\n",
    "\n",
    "  # dates\n",
    "  day = soup.find('div', class_ = 'pp_date_day').string\n",
    "  month = soup.find('div', class_ = 'pp_date_month').string\n",
    "  year = soup.find('div', class_ = 'pp_date_year').string\n",
    "\n",
    "  # Populating reports dictionary\n",
    "  reports['header'].append(h1)\n",
    "  reports['body'].append(' '.join([item.get_text(strip = True) for item in list(body) if item.get_text() != '']))\n",
    "  reports['dates'].append(day+month+year)"
   ]
  },
  {
   "cell_type": "code",
   "execution_count": 102,
   "metadata": {},
   "outputs": [
    {
     "name": "stdout",
     "output_type": "stream",
     "text": [
      "Body: 280\n",
      "Header: 280\n",
      "Links: 280\n",
      "Dates: 280\n"
     ]
    }
   ],
   "source": [
    "print(\"Body:\", len(reports['body']))\n",
    "print(\"Header:\",len(reports['header']))\n",
    "print(\"Links:\",len(reports['links']))\n",
    "print(\"Dates:\",len(reports['dates']))"
   ]
  },
  {
   "cell_type": "code",
   "execution_count": 103,
   "metadata": {},
   "outputs": [
    {
     "data": {
      "text/html": [
       "<div>\n",
       "<style scoped>\n",
       "    .dataframe tbody tr th:only-of-type {\n",
       "        vertical-align: middle;\n",
       "    }\n",
       "\n",
       "    .dataframe tbody tr th {\n",
       "        vertical-align: top;\n",
       "    }\n",
       "\n",
       "    .dataframe thead th {\n",
       "        text-align: right;\n",
       "    }\n",
       "</style>\n",
       "<table border=\"1\" class=\"dataframe\">\n",
       "  <thead>\n",
       "    <tr style=\"text-align: right;\">\n",
       "      <th></th>\n",
       "      <th>links</th>\n",
       "      <th>dates</th>\n",
       "      <th>header</th>\n",
       "      <th>body</th>\n",
       "    </tr>\n",
       "  </thead>\n",
       "  <tbody>\n",
       "    <tr>\n",
       "      <th>0</th>\n",
       "      <td>https://news.bchousing.org/66-new-housing-unit...</td>\n",
       "      <td>16February2022</td>\n",
       "      <td>66 new housing units for seniors and youth in ...</td>\n",
       "      <td>CHILLIWACK– Every Canadian deserves a safe and...</td>\n",
       "    </tr>\n",
       "    <tr>\n",
       "      <th>1</th>\n",
       "      <td>https://news.bchousing.org/more-than-100-affor...</td>\n",
       "      <td>16February2022</td>\n",
       "      <td>More than 100 affordable new homes for sale in...</td>\n",
       "      <td>VICTORIA - Middle-income homebuyers have the o...</td>\n",
       "    </tr>\n",
       "    <tr>\n",
       "      <th>2</th>\n",
       "      <td>https://news.bchousing.org/new-affordable-home...</td>\n",
       "      <td>09February2022</td>\n",
       "      <td>New affordable homes underway in Burnaby</td>\n",
       "      <td>BURNABY - A redevelopment project is underway ...</td>\n",
       "    </tr>\n",
       "    <tr>\n",
       "      <th>3</th>\n",
       "      <td>https://news.bchousing.org/more-affordable-sen...</td>\n",
       "      <td>04February2022</td>\n",
       "      <td>More affordable seniors' housing coming to Nan...</td>\n",
       "      <td>NANAIMO - Work is underway on new rental housi...</td>\n",
       "    </tr>\n",
       "    <tr>\n",
       "      <th>4</th>\n",
       "      <td>https://news.bchousing.org/sixty-four-new-rent...</td>\n",
       "      <td>02February2022</td>\n",
       "      <td>Sixty-four new rental homes open in Maple Ridge</td>\n",
       "      <td>MAPLE RIDGE - Families and individuals are mov...</td>\n",
       "    </tr>\n",
       "    <tr>\n",
       "      <th>...</th>\n",
       "      <td>...</td>\n",
       "      <td>...</td>\n",
       "      <td>...</td>\n",
       "      <td>...</td>\n",
       "    </tr>\n",
       "    <tr>\n",
       "      <th>275</th>\n",
       "      <td>https://news.bchousing.org/province-bringing-n...</td>\n",
       "      <td>18January2018</td>\n",
       "      <td>Province bringing new homes and new jobs to Ka...</td>\n",
       "      <td>KAMLOOPS – People in Kamloops will benefit fro...</td>\n",
       "    </tr>\n",
       "    <tr>\n",
       "      <th>276</th>\n",
       "      <td>https://news.bchousing.org/province-takes-acti...</td>\n",
       "      <td>11January2018</td>\n",
       "      <td>Province takes action to address homelessness ...</td>\n",
       "      <td>MAPLE RIDGE – People who are struggling with h...</td>\n",
       "    </tr>\n",
       "    <tr>\n",
       "      <th>277</th>\n",
       "      <td>https://news.bchousing.org/province-partners-w...</td>\n",
       "      <td>14December2017</td>\n",
       "      <td>Province partners with Columbia Basin Trust fo...</td>\n",
       "      <td>VICTORIA – People struggling to find an afford...</td>\n",
       "    </tr>\n",
       "    <tr>\n",
       "      <th>278</th>\n",
       "      <td>https://news.bchousing.org/operator-sought-for...</td>\n",
       "      <td>13December2017</td>\n",
       "      <td>Operator sought for supportive housing project...</td>\n",
       "      <td>QUESNEL – In response to community concerns, B...</td>\n",
       "    </tr>\n",
       "    <tr>\n",
       "      <th>279</th>\n",
       "      <td>https://news.bchousing.org/joint-partnership-e...</td>\n",
       "      <td>06September2017</td>\n",
       "      <td>Joint partnership expands needed emergency she...</td>\n",
       "      <td>RICHMOND – Homeless residents (individuals who...</td>\n",
       "    </tr>\n",
       "  </tbody>\n",
       "</table>\n",
       "<p>280 rows × 4 columns</p>\n",
       "</div>"
      ],
      "text/plain": [
       "                                                 links            dates  \\\n",
       "0    https://news.bchousing.org/66-new-housing-unit...   16February2022   \n",
       "1    https://news.bchousing.org/more-than-100-affor...   16February2022   \n",
       "2    https://news.bchousing.org/new-affordable-home...   09February2022   \n",
       "3    https://news.bchousing.org/more-affordable-sen...   04February2022   \n",
       "4    https://news.bchousing.org/sixty-four-new-rent...   02February2022   \n",
       "..                                                 ...              ...   \n",
       "275  https://news.bchousing.org/province-bringing-n...    18January2018   \n",
       "276  https://news.bchousing.org/province-takes-acti...    11January2018   \n",
       "277  https://news.bchousing.org/province-partners-w...   14December2017   \n",
       "278  https://news.bchousing.org/operator-sought-for...   13December2017   \n",
       "279  https://news.bchousing.org/joint-partnership-e...  06September2017   \n",
       "\n",
       "                                                header  \\\n",
       "0    66 new housing units for seniors and youth in ...   \n",
       "1    More than 100 affordable new homes for sale in...   \n",
       "2             New affordable homes underway in Burnaby   \n",
       "3    More affordable seniors' housing coming to Nan...   \n",
       "4      Sixty-four new rental homes open in Maple Ridge   \n",
       "..                                                 ...   \n",
       "275  Province bringing new homes and new jobs to Ka...   \n",
       "276  Province takes action to address homelessness ...   \n",
       "277  Province partners with Columbia Basin Trust fo...   \n",
       "278  Operator sought for supportive housing project...   \n",
       "279  Joint partnership expands needed emergency she...   \n",
       "\n",
       "                                                  body  \n",
       "0    CHILLIWACK– Every Canadian deserves a safe and...  \n",
       "1    VICTORIA - Middle-income homebuyers have the o...  \n",
       "2    BURNABY - A redevelopment project is underway ...  \n",
       "3    NANAIMO - Work is underway on new rental housi...  \n",
       "4    MAPLE RIDGE - Families and individuals are mov...  \n",
       "..                                                 ...  \n",
       "275  KAMLOOPS – People in Kamloops will benefit fro...  \n",
       "276  MAPLE RIDGE – People who are struggling with h...  \n",
       "277  VICTORIA – People struggling to find an afford...  \n",
       "278  QUESNEL – In response to community concerns, B...  \n",
       "279  RICHMOND – Homeless residents (individuals who...  \n",
       "\n",
       "[280 rows x 4 columns]"
      ]
     },
     "execution_count": 103,
     "metadata": {},
     "output_type": "execute_result"
    }
   ],
   "source": [
    "df = pd.DataFrame.from_dict(reports, orient='index')\n",
    "df = df.transpose()\n",
    "df"
   ]
  },
  {
   "cell_type": "code",
   "execution_count": 104,
   "metadata": {
    "colab": {
     "base_uri": "https://localhost:8080/",
     "height": 645
    },
    "id": "lz35wPX6hJto",
    "outputId": "995c4782-44c5-4b7b-9cbd-778243625db4"
   },
   "outputs": [],
   "source": [
    "df.to_csv('bchousing_news.csv', encoding = 'utf-8-sig')"
   ]
  }
 ],
 "metadata": {
  "colab": {
   "collapsed_sections": [],
   "name": "News_Scraping.ipynb",
   "provenance": [],
   "toc_visible": true
  },
  "kernelspec": {
   "display_name": "Python 3",
   "language": "python",
   "name": "python3"
  },
  "language_info": {
   "codemirror_mode": {
    "name": "ipython",
    "version": 3
   },
   "file_extension": ".py",
   "mimetype": "text/x-python",
   "name": "python",
   "nbconvert_exporter": "python",
   "pygments_lexer": "ipython3",
   "version": "3.8.5"
  }
 },
 "nbformat": 4,
 "nbformat_minor": 1
}
