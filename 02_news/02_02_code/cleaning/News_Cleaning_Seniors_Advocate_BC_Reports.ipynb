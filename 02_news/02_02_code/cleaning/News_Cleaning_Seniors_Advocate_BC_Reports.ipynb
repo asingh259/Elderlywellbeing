{
  "nbformat": 4,
  "nbformat_minor": 0,
  "metadata": {
    "colab": {
      "name": "News_Cleaning_Seniors_Advocate_BC_Reports.ipynb",
      "provenance": []
    },
    "kernelspec": {
      "name": "python3",
      "display_name": "Python 3"
    },
    "language_info": {
      "name": "python"
    }
  },
  "cells": [
    {
      "cell_type": "code",
      "execution_count": 1,
      "metadata": {
        "colab": {
          "base_uri": "https://localhost:8080/",
          "height": 243
        },
        "id": "0gqqexFU44vn",
        "outputId": "4dceec70-8470-4294-beeb-0ffaf7ad42d0"
      },
      "outputs": [
        {
          "output_type": "stream",
          "name": "stdout",
          "text": [
            "[nltk_data] Downloading package punkt to /root/nltk_data...\n",
            "[nltk_data]   Unzipping tokenizers/punkt.zip.\n"
          ]
        },
        {
          "output_type": "execute_result",
          "data": {
            "text/html": [
              "\n",
              "  <div id=\"df-7e8ce78b-7f9b-4460-b399-e074ca955ffd\">\n",
              "    <div class=\"colab-df-container\">\n",
              "      <div>\n",
              "<style scoped>\n",
              "    .dataframe tbody tr th:only-of-type {\n",
              "        vertical-align: middle;\n",
              "    }\n",
              "\n",
              "    .dataframe tbody tr th {\n",
              "        vertical-align: top;\n",
              "    }\n",
              "\n",
              "    .dataframe thead th {\n",
              "        text-align: right;\n",
              "    }\n",
              "</style>\n",
              "<table border=\"1\" class=\"dataframe\">\n",
              "  <thead>\n",
              "    <tr style=\"text-align: right;\">\n",
              "      <th></th>\n",
              "      <th>Unnamed: 0</th>\n",
              "      <th>links</th>\n",
              "      <th>dates</th>\n",
              "      <th>header</th>\n",
              "      <th>body</th>\n",
              "      <th>b_points</th>\n",
              "    </tr>\n",
              "  </thead>\n",
              "  <tbody>\n",
              "    <tr>\n",
              "      <th>0</th>\n",
              "      <td>0</td>\n",
              "      <td>https://www.seniorsadvocatebc.ca/osa-reports/h...</td>\n",
              "      <td>Dec 08, 2021</td>\n",
              "      <td>Hidden and Invisible: Seniors Abuse and Neglec...</td>\n",
              "      <td>In this report, Seniors Advocate Isobel Macken...</td>\n",
              "      <td>49% increase in report of abuse, neglect and s...</td>\n",
              "    </tr>\n",
              "    <tr>\n",
              "      <th>1</th>\n",
              "      <td>1</td>\n",
              "      <td>https://www.seniorsadvocatebc.ca/osa-reports/c...</td>\n",
              "      <td>Oct 06, 2021</td>\n",
              "      <td>Review of COVID-19 Outbreaks in Care Homes in ...</td>\n",
              "      <td>In this report, Seniors Advocate Isobel Macke...</td>\n",
              "      <td>84% of outbreaks occurred at sites in the lowe...</td>\n",
              "    </tr>\n",
              "    <tr>\n",
              "      <th>2</th>\n",
              "      <td>2</td>\n",
              "      <td>https://www.seniorsadvocatebc.ca/osa-reports/s...</td>\n",
              "      <td>Nov 03, 2020</td>\n",
              "      <td>Staying Apart to Stay Safe: The Impact of Visi...</td>\n",
              "      <td>In this report, Seniors Advocate Isobel Macke...</td>\n",
              "      <td>Before the pandemic, 55% of families were visi...</td>\n",
              "    </tr>\n",
              "    <tr>\n",
              "      <th>3</th>\n",
              "      <td>3</td>\n",
              "      <td>https://www.seniorsadvocatebc.ca/osa-reports/a...</td>\n",
              "      <td>Oct 29, 2020</td>\n",
              "      <td>A Billion Reasons to Care</td>\n",
              "      <td>A Billion Reasons to Careis the first provinc...</td>\n",
              "      <td>financial reporting systems were inconsistent ...</td>\n",
              "    </tr>\n",
              "    <tr>\n",
              "      <th>4</th>\n",
              "      <td>4</td>\n",
              "      <td>https://www.seniorsadvocatebc.ca/osa-reports/r...</td>\n",
              "      <td>Jun 19, 2019</td>\n",
              "      <td>Home Support Review</td>\n",
              "      <td>British Columbia’s home support program is una...</td>\n",
              "      <td>Public home support is unaffordable for most s...</td>\n",
              "    </tr>\n",
              "  </tbody>\n",
              "</table>\n",
              "</div>\n",
              "      <button class=\"colab-df-convert\" onclick=\"convertToInteractive('df-7e8ce78b-7f9b-4460-b399-e074ca955ffd')\"\n",
              "              title=\"Convert this dataframe to an interactive table.\"\n",
              "              style=\"display:none;\">\n",
              "        \n",
              "  <svg xmlns=\"http://www.w3.org/2000/svg\" height=\"24px\"viewBox=\"0 0 24 24\"\n",
              "       width=\"24px\">\n",
              "    <path d=\"M0 0h24v24H0V0z\" fill=\"none\"/>\n",
              "    <path d=\"M18.56 5.44l.94 2.06.94-2.06 2.06-.94-2.06-.94-.94-2.06-.94 2.06-2.06.94zm-11 1L8.5 8.5l.94-2.06 2.06-.94-2.06-.94L8.5 2.5l-.94 2.06-2.06.94zm10 10l.94 2.06.94-2.06 2.06-.94-2.06-.94-.94-2.06-.94 2.06-2.06.94z\"/><path d=\"M17.41 7.96l-1.37-1.37c-.4-.4-.92-.59-1.43-.59-.52 0-1.04.2-1.43.59L10.3 9.45l-7.72 7.72c-.78.78-.78 2.05 0 2.83L4 21.41c.39.39.9.59 1.41.59.51 0 1.02-.2 1.41-.59l7.78-7.78 2.81-2.81c.8-.78.8-2.07 0-2.86zM5.41 20L4 18.59l7.72-7.72 1.47 1.35L5.41 20z\"/>\n",
              "  </svg>\n",
              "      </button>\n",
              "      \n",
              "  <style>\n",
              "    .colab-df-container {\n",
              "      display:flex;\n",
              "      flex-wrap:wrap;\n",
              "      gap: 12px;\n",
              "    }\n",
              "\n",
              "    .colab-df-convert {\n",
              "      background-color: #E8F0FE;\n",
              "      border: none;\n",
              "      border-radius: 50%;\n",
              "      cursor: pointer;\n",
              "      display: none;\n",
              "      fill: #1967D2;\n",
              "      height: 32px;\n",
              "      padding: 0 0 0 0;\n",
              "      width: 32px;\n",
              "    }\n",
              "\n",
              "    .colab-df-convert:hover {\n",
              "      background-color: #E2EBFA;\n",
              "      box-shadow: 0px 1px 2px rgba(60, 64, 67, 0.3), 0px 1px 3px 1px rgba(60, 64, 67, 0.15);\n",
              "      fill: #174EA6;\n",
              "    }\n",
              "\n",
              "    [theme=dark] .colab-df-convert {\n",
              "      background-color: #3B4455;\n",
              "      fill: #D2E3FC;\n",
              "    }\n",
              "\n",
              "    [theme=dark] .colab-df-convert:hover {\n",
              "      background-color: #434B5C;\n",
              "      box-shadow: 0px 1px 3px 1px rgba(0, 0, 0, 0.15);\n",
              "      filter: drop-shadow(0px 1px 2px rgba(0, 0, 0, 0.3));\n",
              "      fill: #FFFFFF;\n",
              "    }\n",
              "  </style>\n",
              "\n",
              "      <script>\n",
              "        const buttonEl =\n",
              "          document.querySelector('#df-7e8ce78b-7f9b-4460-b399-e074ca955ffd button.colab-df-convert');\n",
              "        buttonEl.style.display =\n",
              "          google.colab.kernel.accessAllowed ? 'block' : 'none';\n",
              "\n",
              "        async function convertToInteractive(key) {\n",
              "          const element = document.querySelector('#df-7e8ce78b-7f9b-4460-b399-e074ca955ffd');\n",
              "          const dataTable =\n",
              "            await google.colab.kernel.invokeFunction('convertToInteractive',\n",
              "                                                     [key], {});\n",
              "          if (!dataTable) return;\n",
              "\n",
              "          const docLinkHtml = 'Like what you see? Visit the ' +\n",
              "            '<a target=\"_blank\" href=https://colab.research.google.com/notebooks/data_table.ipynb>data table notebook</a>'\n",
              "            + ' to learn more about interactive tables.';\n",
              "          element.innerHTML = '';\n",
              "          dataTable['output_type'] = 'display_data';\n",
              "          await google.colab.output.renderOutput(dataTable, element);\n",
              "          const docLink = document.createElement('div');\n",
              "          docLink.innerHTML = docLinkHtml;\n",
              "          element.appendChild(docLink);\n",
              "        }\n",
              "      </script>\n",
              "    </div>\n",
              "  </div>\n",
              "  "
            ],
            "text/plain": [
              "   Unnamed: 0                                              links  \\\n",
              "0           0  https://www.seniorsadvocatebc.ca/osa-reports/h...   \n",
              "1           1  https://www.seniorsadvocatebc.ca/osa-reports/c...   \n",
              "2           2  https://www.seniorsadvocatebc.ca/osa-reports/s...   \n",
              "3           3  https://www.seniorsadvocatebc.ca/osa-reports/a...   \n",
              "4           4  https://www.seniorsadvocatebc.ca/osa-reports/r...   \n",
              "\n",
              "          dates                                             header  \\\n",
              "0  Dec 08, 2021  Hidden and Invisible: Seniors Abuse and Neglec...   \n",
              "1  Oct 06, 2021  Review of COVID-19 Outbreaks in Care Homes in ...   \n",
              "2  Nov 03, 2020  Staying Apart to Stay Safe: The Impact of Visi...   \n",
              "3  Oct 29, 2020                          A Billion Reasons to Care   \n",
              "4  Jun 19, 2019                                Home Support Review   \n",
              "\n",
              "                                                body  \\\n",
              "0  In this report, Seniors Advocate Isobel Macken...   \n",
              "1   In this report, Seniors Advocate Isobel Macke...   \n",
              "2   In this report, Seniors Advocate Isobel Macke...   \n",
              "3   A Billion Reasons to Careis the first provinc...   \n",
              "4  British Columbia’s home support program is una...   \n",
              "\n",
              "                                            b_points  \n",
              "0  49% increase in report of abuse, neglect and s...  \n",
              "1  84% of outbreaks occurred at sites in the lowe...  \n",
              "2  Before the pandemic, 55% of families were visi...  \n",
              "3  financial reporting systems were inconsistent ...  \n",
              "4  Public home support is unaffordable for most s...  "
            ]
          },
          "metadata": {},
          "execution_count": 1
        }
      ],
      "source": [
        "import pandas as pd\n",
        "import nltk, re, string, collections\n",
        "from nltk.util import ngrams\n",
        "from nltk.tokenize import word_tokenize\n",
        "nltk.download('punkt')\n",
        "\n",
        "df = pd.read_csv(\"seniors_advocate_bc_reports.csv\")\n",
        "df.head()"
      ]
    },
    {
      "cell_type": "code",
      "source": [
        "# Remove all stopwords\n",
        "from gensim.parsing.preprocessing import remove_stopwords"
      ],
      "metadata": {
        "id": "P8ZCgmTk59RB"
      },
      "execution_count": 2,
      "outputs": []
    },
    {
      "cell_type": "code",
      "source": [
        "cleandata = {}\n",
        "cleandata['body'] = []"
      ],
      "metadata": {
        "id": "Val92tyb6FDz"
      },
      "execution_count": 3,
      "outputs": []
    },
    {
      "cell_type": "code",
      "source": [
        "#creating clean dataframe\n",
        "for i in df['body']:\n",
        "  clean = remove_stopwords(i)\n",
        "  cleandata['body'].append(clean)"
      ],
      "metadata": {
        "id": "YxjK_Din6HzF"
      },
      "execution_count": 4,
      "outputs": []
    },
    {
      "cell_type": "code",
      "source": [
        "#tokenizing the words\n",
        "tokenized = [sub.split() for sub in cleandata['body']]"
      ],
      "metadata": {
        "id": "8yMpkXIL6I32"
      },
      "execution_count": 5,
      "outputs": []
    },
    {
      "cell_type": "code",
      "source": [
        "#creating bigrams\n",
        "bigrams =[]\n",
        "for i in tokenized:\n",
        "  bigrams.append(ngrams(i, 2))"
      ],
      "metadata": {
        "id": "BryHh2DK6MRz"
      },
      "execution_count": 6,
      "outputs": []
    },
    {
      "cell_type": "code",
      "source": [
        "#get the frequency of each bigram in the news\n",
        "bigramsFreq = []\n",
        "for i in bigrams:\n",
        "  bigramsFreq.append(collections.Counter(i))"
      ],
      "metadata": {
        "id": "dtNn8CwiWw5_"
      },
      "execution_count": 7,
      "outputs": []
    },
    {
      "cell_type": "code",
      "source": [
        "#most popular ngrams in each news\n",
        "for i in bigramsFreq:\n",
        "  print(i.most_common(10))"
      ],
      "metadata": {
        "id": "npisHcB3OGPv",
        "colab": {
          "base_uri": "https://localhost:8080/"
        },
        "outputId": "6c9e9d9b-0cfc-444b-a620-b423793d20b1"
      },
      "execution_count": 8,
      "outputs": [
        {
          "output_type": "stream",
          "name": "stdout",
          "text": [
            "[(('seniors’', 'abuse'), 3), (('Seniors', 'Advocate'), 2), (('abuse', 'neglect'), 2), (('The', 'review'), 2), (('abuse', 'neglect,'), 2), (('The', 'report'), 2), (('In', 'report,'), 1), (('report,', 'Seniors'), 1), (('Advocate', 'Isobel'), 1), (('Isobel', 'Mackenzie'), 1)]\n",
            "[(('long-term', 'care'), 3), (('care', 'assisted'), 3), (('The', 'review'), 3), (('COVID-19', 'outbreaks'), 2), (('outbreaks', 'long-term'), 2), (('assisted', 'living'), 2), (('review', 'examined'), 2), (('The', 'report'), 2), (('In', 'report,'), 1), (('report,', 'Seniors'), 1)]\n",
            "[(('Seniors', 'Advocate'), 4), (('Advocate', 'Isobel'), 2), (('Isobel', 'Mackenzie'), 2), (('five-week', 'survey'), 2), (('COVID-19', 'related'), 2), (('restrictions', 'long-term'), 2), (('long-term', 'care'), 2), (('care', 'assisted'), 2), (('assisted', 'living'), 2), (('family', 'members'), 2)]\n",
            "[(('The', 'review'), 3), (('A', 'Billion'), 2), (('Billion', 'Reasons'), 2), (('contracted', 'long-term'), 2), (('long-term', 'care'), 2), (('Reasons', 'Careis'), 1), (('Careis', 'provincial'), 1), (('provincial', 'review'), 1), (('review', '$1.4'), 1), (('$1.4', 'billion-dollar'), 1)]\n",
            "[(('British', 'Columbia’s'), 1), (('Columbia’s', 'home'), 1), (('home', 'support'), 1), (('support', 'program'), 1), (('program', 'unaffordable'), 1), (('unaffordable', 'seniors,'), 1), (('seniors,', 'offers'), 1), (('offers', 'little'), 1), (('little', 'service'), 1), (('service', 'high-need'), 1)]\n",
            "[(('Seniors', 'Advocate'), 2), (('Advocate', 'Isobel'), 2), (('home', 'care'), 2), (('long-term', 'care'), 2), (('Isobel', 'Mackenzie'), 1), (('Mackenzie', 'today'), 1), (('today', 'releasedSeniors'), 1), (('releasedSeniors', 'Home'), 1), (('Home', 'Long-Term'), 1), (('Long-Term', 'Care'), 1)]\n",
            "[(('Seniors', 'Advocate'), 2), (('Advocate', 'Isobel'), 2), (('Isobel', 'Mackenzie'), 2), (('Residential', 'Care'), 2), (('Care', 'Hospital:'), 2), (('residents', 'contracted'), 2), (('contracted', 'long'), 2), (('long', 'term'), 2), (('term', 'care'), 2), (('care', 'facilities'), 2)]\n",
            "[(('new', 'program'), 2), (('Seniors', 'Advocate'), 1), (('Advocate', 'Isobel'), 1), (('Isobel', 'Mackenzie'), 1), (('Mackenzie', 'today'), 1), (('today', 'released'), 1), (('released', 'Seniors'), 1), (('Seniors', 'Transportation:'), 1), (('Transportation:', 'Affordable,'), 1), (('Affordable,', 'Appropriate'), 1)]\n",
            "[(('residential', 'care'), 4), (('Seniors', 'Advocate'), 2), (('care', 'facilities.'), 2), (('Full', 'Report'), 2), (('Advocate', 'Isobel'), 1), (('Isobel', 'Mackenzie'), 1), (('Mackenzie', 'today'), 1), (('today', 'released'), 1), (('released', 'results'), 1), (('results', 'Office'), 1)]\n",
            "[(('actual', 'number'), 2), (('home', 'support'), 2), (('Seniors', 'Advocate'), 1), (('Advocate', 'Isobel'), 1), (('Isobel', 'Mackenzie'), 1), (('Mackenzie', 'released'), 1), (('released', 'update'), 1), (('update', 'report'), 1), (('report', 'today'), 1), (('today', 'confirming'), 1)]\n",
            "[(('BC’s', 'Seniors'), 1), (('Seniors', 'Advocate'), 1), (('Advocate', 'released'), 1), (('released', 'results'), 1), (('results', 'province-wide'), 1), (('province-wide', 'survey'), 1), (('survey', '7,500'), 1), (('7,500', 'HandyDART'), 1), (('HandyDART', 'users'), 1), (('users', 'province'), 1)]\n",
            "[(('seniors', 'residential'), 3), (('Seniors', 'Advocate'), 2), (('The', 'progress'), 2), (('progress', 'report'), 2), (('residential', 'care'), 2), (('Advocate', 'Isobel'), 1), (('Isobel', 'Mackenzie'), 1), (('Mackenzie', 'released'), 1), (('released', 'update'), 1), (('update', 'today'), 1)]\n",
            "[(('home', 'support'), 2), (('The', 'Office'), 1), (('Office', 'Seniors'), 1), (('Seniors', 'Advocate'), 1), (('Advocate', 'releases'), 1), (('releases', 'results'), 1), (('results', 'comprehensive'), 1), (('comprehensive', 'home'), 1), (('support', 'survey'), 1), (('survey', 'conducted'), 1)]\n",
            "[(('The', 'Office'), 1), (('Office', 'Seniors'), 1), (('Seniors', 'Advocate'), 1), (('Advocate', 'releases'), 1), (('releases', 'review'), 1), (('review', 'incidents'), 1), (('incidents', 'resident'), 1), (('resident', 'resident'), 1), (('resident', 'aggression'), 1), (('aggression', 'B.C.’s'), 1)]\n",
            "[(('This', 'report'), 1), (('report', 'respite'), 1), (('respite', 'programs'), 1), (('programs', 'one-third'), 1), (('one-third', 'unpaid'), 1), (('unpaid', 'caregivers'), 1), (('caregivers', 'B.C.'), 1), (('B.C.', 'distress,'), 1), (('distress,', 'highest'), 1), (('highest', 'rates'), 1)]\n",
            "[(('The', 'report'), 1), (('report', 'highlights'), 1), (('highlights', '93%'), 1), (('93%', 'seniors'), 1), (('seniors', 'living'), 1), (('living', 'independently,'), 1), (('independently,', 'help'), 1), (('help', 'need'), 1), (('need', 'financial.'), 1), (('financial.', 'Among'), 1)]\n",
            "[(('The', 'report'), 1), (('report', 'documents'), 1), (('documents', 'findings'), 1), (('findings', 'Advocate’s'), 1), (('Advocate’s', 'high-level'), 1), (('high-level', 'review'), 1), (('review', 'health'), 1), (('health', 'assessment'), 1), (('assessment', 'records'), 1), (('records', 'B.C.’s'), 1)]\n",
            "[(('In', 'late'), 1), (('late', '2014,'), 1), (('2014,', 'Seniors'), 1), (('Seniors', 'Advocate'), 1), (('Advocate', 'surveyed'), 1), (('surveyed', 'seniors’'), 1), (('seniors’', 'knowledge'), 1), (('knowledge', 'awareness'), 1), (('awareness', 'range'), 1), (('range', 'programs'), 1)]\n",
            "[(('This', 'report'), 1), (('report', 'Seniors'), 1), (('Seniors', 'Advocate'), 1), (('Advocate', 'reflects'), 1), (('reflects', 'initial'), 1), (('initial', 'findings'), 1), (('findings', 'meeting'), 1), (('meeting', 'talking'), 1), (('talking', 'thousands'), 1), (('thousands', 'seniors,'), 1)]\n"
          ]
        }
      ]
    },
    {
      "cell_type": "code",
      "source": [
        "#Verifying the frequency of words in the whole dataframe. Nanaimo News Website\n",
        "corpus = \" \".join(cleandata['body'])"
      ],
      "metadata": {
        "id": "TelPvYIQ0oBg"
      },
      "execution_count": 9,
      "outputs": []
    },
    {
      "cell_type": "code",
      "source": [
        "corpus"
      ],
      "metadata": {
        "colab": {
          "base_uri": "https://localhost:8080/",
          "height": 110
        },
        "id": "vlbWVoS6Zxdn",
        "outputId": "52f23acc-df85-49b1-a6bd-602792f9a03e"
      },
      "execution_count": 10,
      "outputs": [
        {
          "output_type": "execute_result",
          "data": {
            "application/vnd.google.colaboratory.intrinsic+json": {
              "type": "string"
            },
            "text/plain": [
              "'In report, Seniors Advocate Isobel Mackenzie details results systemic review seniors’ abuse neglect British Columbia. The review examined protections exist B.C. seniors, prevalence seniors’ abuse neglect, method reporting abuse neglect, response reports seniors’ abuse neglect. The report examines current legislative protections, assesses reporting practices, reviews years existing data, consults 144 stakeholders 25 communities B.C., surveys 1500 British Columbians. The review highlights reports abuse neglect people 65 increased significantly past years with: Key concerns heard Office Seniors Advocate (OSA) lack public awareness, fragmented reporting response system, gaps service, need training working seniors community. Emerging trends issues B.C. listed sources concern, including self-neglect, physical, social, cultural isolation, family caregivers, on-line security, COVID-19. The report includes recommendations: Read reportRead news release In report, Seniors Advocate Isobel Mackenzie released results province-wide review COVID-19 outbreaks long-term care assisted living sites year pandemic. The review examined factors influence probability site experience COVID-19 outbreak factors minimize number staff residents infected outbreak occurs. The review examined 365 outbreaks 210 sites period March 1, 2020 February 28, 2021 found: In outbreaks (76%), COVID-19 case staff member. In 22% outbreaks, resident case outbreak confirmed case visitor. The report identifies site likely large outbreak: The review analyzed factors common larger outbreaks found: The report includes seven recommendations: Read reportRead news release Staff Survey ResultsOperator Survey Results List long-term care assisted living sitesList COVID-19 outbreaks long-term care assisted livingList reference documents Fraser HealthVancouver Coastal HealthInterior HealthVancouver Island HealthNorthern Health In report, Seniors Advocate Isobel Mackenzie shares findings five-week survey impact COVID-19 related visitor restrictions long-term care assisted living homes. The survey, answered residents, family members general public, 13,000 valid responses.Learn survey participant responses Seniors Advocate’s recommendations links below. Since established 2014, Office Seniors Advocate received calls emails COVID-19 related visit restrictions long-term care assisted living homes issue. In response, Seniors Advocate Isobel Mackenzie launched five-week survey end August 2020 learn more. Over 15,000 people participated, producing 13,000 valid responses residents, resident’s family members friends, general public. Based heard, Seniors Advocate learned residents families supportive COVID-19 prevention measures need longer frequent visits: Read News ReleaseRead ReportRead Participant Survey Responses A Billion Reasons Careis provincial review $1.4 billion-dollar contracted long-term care sector British Columbia. The review examined industry contracts, annual audited financial statements detailed reporting revenue expenditures years 2016/17 2017/18. The review found: Overall contracted long-term care sector: The review expenditures profits evenly distributed care homes distinct difference based type ownership: The report receiving, average, level public funding: A Billion Reasons CareNews Release British Columbia’s home support program unaffordable seniors, offers little service high-need clients created workforce 75 cent staff casual part-time, says B.C. Seniors Advocate Isobel Mackenzie. In comprehensive report released today titledHome Support…We Can Do Better, Mackenzie examines health care program, lifeline seniors, makes recommendations improvement. Key findings review include: The report makes series recommendations focused making program affordable seniors, increasing service levels, exploring client direct-funding model, providing seniors consistent comprehensive information services available exploring ways job community health worker attractive.Read Full ReportRead News ReleaseWatch Media Release Video Seniors Advocate Isobel Mackenzie today releasedSeniors Home Long-Term Care – A 2017/18 Snapshot. The report highlights latest health data B.C. residents receiving home care living long-term care facilities.“These data, released annually Canadian Institute Health Information (CIHI) invaluable telling health frail elderly B.C. receive home care live long-term care facilities,” stated Seniors Advocate Isobel Mackenzie. Read reportListen teleconference audio Seniors Advocate Isobel Mackenzie today releasedFrom Residential Care Hospital: An Emerging Pattern. The report compares hospitalization rates residents contracted long term care facilities (both not-for-profits private companies) residents publicly operated care facilities.“After careful review multi-year data, consistent pattern emerges shows demonstrably greater use emergency department hospital beds residents contracted long term care facilities versus residents publicly run facilities stunning 54% greater likelihood die hospital live contracted care facility versus publicly operated facility,” stated Mackenzie. Read Full ReportRead News Release In response high level Office Seniors Advocate’s latest reportFrom Residential Care Hospital: A Pattern Emerges, Seniors Advocate Isobel Mackenzie delivered presentation interested stakeholders, media, members public. This presentation conducted jointly Dr. Jeff Poss Dr. Kim McGrail–the lead researchers report–and provided deeper dive statistical methodology data sources used. It followed hour Q&A session. Listen Teleconference Audio Q&As Seniors Advocate Isobel Mackenzie today released Seniors Transportation: Affordable, Appropriate Available. The report, reflects year consultation research, concludes changes required address existing transportation systems new program required gaps. The report highlights getting person point A B totally capture transportation needs frail vulnerable seniors. Many seniors physical ability bus use HandyDART, cognitive challenges require accompany or, physical frailty requires assist trip. None current programs provide needs recommended improvements, report notes continue fall short. To gap, Mackenzie recommended new program called “Community Drives” administered existing home support program.A list recommendations report. Read news releaseRead report Seniors Advocate Isobel Mackenzie today released results Office Seniors Advocate’s landmark survey people living B.C.’s residential care facilities. This extensive survey kind conducted Canada, targeting 22,000 individuals 292 residential care facilities. “This project monumental undertaking I grateful supported efforts ensure voices important population province heard,” said Mackenzie, adding survey relied assistance 800 trained volunteers donated 25,000 hours time conduct in-person interviews seniors. Residents’ frequent visitors, usually family member, mailed surveys. Key positive responses survey include: Key areas residents families said improvements needed include: The Seniors Advocate number recommendations basis findings survey, including: “This report “voice” “voices” residential care diversity opinions apparent results. Together, voices telling residential care good aspects—even good some—but, taken whole, need better and, cases, better. You read report residents waiting long help need, frustrated rigidity fixed schedules want people talk to,” said Mackenzie. Read News ReleaseRead Full Report (Provincial Results)Read Full Report (Health Authority Results)Find facility results(through Quick Facts Directory)View video volunteersAudio transcript teleconferenceView video presentation Seniors Advocate Isobel Mackenzie released update report today confirming caregiver distress rising B.C. supports services keeping pace growing need.The report,Caregivers Distress: A Growing Problem,is update 2015 report indicated 29% unpaid caregivers experiencing symptoms distress anger, depression feelings able continue caregiving duties. Data highlighted current report indicate rates distress haveincreased 7%to31%. Key findings report include:• In 2015/16, 31% clients primary caregiver distress. This a7%increase 2015 report• Over period, actual number primary caregivers identifying distressed increased 1,000, represents a14%increase actual number caregivers distress• The number home support clients accessing Adult Day Programs decreased by5%and number days delivered clients decreased 2%• The average hours home support day client 65 decreased by5%, signaling intensive service Read Full ReportView PowerPoint PresentationListen teleconference BC’s Seniors Advocate released results province-wide survey 7,500 HandyDART users province today. The survey highlights 91% users satisfied service receive it, 1/3 respondents meeting, moderately meeting, transportation needs. Highlights survey include: View news releaseView reportView complete results Seniors Advocate Isobel Mackenzie released update today reportPlacement, Drugs Therapy…We Can Do Betterreleased Office Seniors Advocate April 2015. The progress report highlights improvements provisions rehabilitative therapies seniors residential care, use antipsychotic medications. Data premature placement seniors residential care declining. The progress report uses health assessment data 27,000 seniors residential care 2015/16. The data following changes 2013/14: Read news release here.The November 2016Making Progress: Placement, Drugs Therapy Updatecan viewed here.The initial April 2015Placement, Drugs Therapyreport viewed here. The Office Seniors Advocate releases results comprehensive home support survey conducted year. This report presents collective voice 10,000 home support clients family members responded survey. View news releaseView reportView complete results The Office Seniors Advocate releases review incidents resident resident aggression B.C.’s licensed residential care facilities. The review gathered examined data variety sources, including Health Authorities, reporting systems, facilities themselves. Read reportRead news releaseView presentationAudio transcript news conference This report respite programs one-third unpaid caregivers B.C. distress, highest rates Canada. Respite fundamental supports offered B.C. caregivers provincially funded programs. However, report details, major gaps way respite offered province. Read reportRead news release The report highlights 93% seniors living independently, help need financial. Among 18 recommendations report, Mackenzie proposes bold new initiative help senior homeowners afford stay home, calls increases rent subsidies seniors, demands commitment province address lack appropriate housing rural B.C., argues fundamental redesign assisted living, presses action getting seniors residential care facility choice. Read reportRead news releaseRead executive summaryView presentation Hear Louise, Isabel Edna share personal struggles housing issues highlighted report: The report documents findings Advocate’s high-level review health assessment records B.C.’s 25,000 seniors residential care 29,000 seniors receiving home care. Three systemic issues immediate concern found: These findings demonstrate work needed better serve seniors. Read reportRead news release In late 2014, Seniors Advocate surveyed seniors’ knowledge awareness range programs grants designed support them, including Shelter Aid Elderly Renters (SAFER), Medical Service Plan Premium Assistance, Fair Pharmacare, Property Tax Deferment Program, Home Adaptations Independence federal Guaranteed Income Supplement (GIS) programs. Across board, survey showed awareness lowest seniors age 75 incomes $30,000/year. Read reportRead news release This report Seniors Advocate reflects initial findings meeting talking thousands seniors, family members, service providers stakeholders British Columbia past months. The report highlights seniors’ concerns housing, transportation, income supports, residential care, home support pervasive culture ageism thwarts independence seniors erodes sense dignity. Read reportRead news release'"
            ]
          },
          "metadata": {},
          "execution_count": 10
        }
      ]
    },
    {
      "cell_type": "code",
      "source": [
        "tokenizedcorpus = corpus.split()"
      ],
      "metadata": {
        "id": "UjMZUKl_YySR"
      },
      "execution_count": 11,
      "outputs": []
    },
    {
      "cell_type": "code",
      "source": [
        "bigramcorpus = ngrams(tokenizedcorpus,2)"
      ],
      "metadata": {
        "id": "Gb3AGPAEY3C2"
      },
      "execution_count": 12,
      "outputs": []
    },
    {
      "cell_type": "code",
      "source": [
        "BigramFreq = collections.Counter(bigramcorpus)"
      ],
      "metadata": {
        "id": "SxtRzM1vbHlM"
      },
      "execution_count": 13,
      "outputs": []
    },
    {
      "cell_type": "code",
      "source": [
        "BigramFreq.most_common(100)"
      ],
      "metadata": {
        "colab": {
          "base_uri": "https://localhost:8080/"
        },
        "id": "dyo9CSGrbKB3",
        "outputId": "424d1c8f-f3d0-493c-b30d-5ea40bb15b80"
      },
      "execution_count": 14,
      "outputs": [
        {
          "output_type": "execute_result",
          "data": {
            "text/plain": [
              "[(('Seniors', 'Advocate'), 23),\n",
              " (('Advocate', 'Isobel'), 13),\n",
              " (('The', 'report'), 12),\n",
              " (('Isobel', 'Mackenzie'), 11),\n",
              " (('The', 'review'), 9),\n",
              " (('long-term', 'care'), 9),\n",
              " (('residential', 'care'), 9),\n",
              " (('Read', 'reportRead'), 8),\n",
              " (('reportRead', 'news'), 8),\n",
              " (('Office', 'Seniors'), 7),\n",
              " (('news', 'release'), 7),\n",
              " (('home', 'support'), 7),\n",
              " (('care', 'assisted'), 5),\n",
              " (('report', 'highlights'), 5),\n",
              " (('seniors', 'residential'), 5),\n",
              " (('review', 'examined'), 4),\n",
              " (('assisted', 'living'), 4),\n",
              " (('Mackenzie', 'today'), 4),\n",
              " (('In', 'report,'), 3),\n",
              " (('report,', 'Seniors'), 3),\n",
              " (('seniors’', 'abuse'), 3),\n",
              " (('Mackenzie', 'released'), 3),\n",
              " (('released', 'results'), 3),\n",
              " (('family', 'members'), 3),\n",
              " (('Seniors', 'Advocate’s'), 3),\n",
              " (('Mackenzie.', 'Read'), 3),\n",
              " (('care', 'facilities.'), 3),\n",
              " (('news', 'releaseView'), 3),\n",
              " (('This', 'report'), 3),\n",
              " (('abuse', 'neglect'), 2),\n",
              " (('British', 'Columbia.'), 2),\n",
              " (('Columbia.', 'The'), 2),\n",
              " (('abuse', 'neglect,'), 2),\n",
              " (('report', 'includes'), 2),\n",
              " (('recommendations:', 'Read'), 2),\n",
              " (('release', 'In'), 2),\n",
              " (('results', 'province-wide'), 2),\n",
              " (('COVID-19', 'outbreaks'), 2),\n",
              " (('outbreaks', 'long-term'), 2),\n",
              " (('five-week', 'survey'), 2),\n",
              " (('COVID-19', 'related'), 2),\n",
              " (('restrictions', 'long-term'), 2),\n",
              " (('13,000', 'valid'), 2),\n",
              " (('residents', 'families'), 2),\n",
              " (('Read', 'News'), 2),\n",
              " (('News', 'ReleaseRead'), 2),\n",
              " (('A', 'Billion'), 2),\n",
              " (('Billion', 'Reasons'), 2),\n",
              " (('contracted', 'long-term'), 2),\n",
              " (('Isobel', 'Mackenzie.'), 2),\n",
              " (('Can', 'Do'), 2),\n",
              " (('Key', 'findings'), 2),\n",
              " (('include:', 'The'), 2),\n",
              " (('Full', 'ReportRead'), 2),\n",
              " (('ReportRead', 'News'), 2),\n",
              " (('receiving', 'home'), 2),\n",
              " (('home', 'care'), 2),\n",
              " (('Residential', 'Care'), 2),\n",
              " (('Care', 'Hospital:'), 2),\n",
              " (('residents', 'contracted'), 2),\n",
              " (('contracted', 'long'), 2),\n",
              " (('long', 'term'), 2),\n",
              " (('term', 'care'), 2),\n",
              " (('care', 'facilities'), 2),\n",
              " (('residents', 'publicly'), 2),\n",
              " (('publicly', 'operated'), 2),\n",
              " (('care', 'facility'), 2),\n",
              " (('Read', 'Full'), 2),\n",
              " (('today', 'released'), 2),\n",
              " (('new', 'program'), 2),\n",
              " (('Read', 'news'), 2),\n",
              " (('news', 'releaseRead'), 2),\n",
              " (('report', 'Seniors'), 2),\n",
              " (('survey', 'include:'), 2),\n",
              " (('Full', 'Report'), 2),\n",
              " (('released', 'update'), 2),\n",
              " (('unpaid', 'caregivers'), 2),\n",
              " (('actual', 'number'), 2),\n",
              " (('support', 'clients'), 2),\n",
              " (('View', 'news'), 2),\n",
              " (('releaseView', 'reportView'), 2),\n",
              " (('reportView', 'complete'), 2),\n",
              " (('complete', 'results'), 2),\n",
              " (('The', 'progress'), 2),\n",
              " (('progress', 'report'), 2),\n",
              " (('residential', 'care,'), 2),\n",
              " (('health', 'assessment'), 2),\n",
              " (('The', 'Office'), 2),\n",
              " (('Advocate', 'releases'), 2),\n",
              " (('Mackenzie', 'details'), 1),\n",
              " (('details', 'results'), 1),\n",
              " (('results', 'systemic'), 1),\n",
              " (('systemic', 'review'), 1),\n",
              " (('review', 'seniors’'), 1),\n",
              " (('neglect', 'British'), 1),\n",
              " (('examined', 'protections'), 1),\n",
              " (('protections', 'exist'), 1),\n",
              " (('exist', 'B.C.'), 1),\n",
              " (('B.C.', 'seniors,'), 1),\n",
              " (('seniors,', 'prevalence'), 1)]"
            ]
          },
          "metadata": {},
          "execution_count": 14
        }
      ]
    },
    {
      "cell_type": "markdown",
      "source": [
        "#We can see that in these reports we don't have to remove any unwanted words. Thus data is considered cleaned."
      ],
      "metadata": {
        "id": "JaU8h8BN9p-C"
      }
    },
    {
      "cell_type": "code",
      "source": [
        "pd.DataFrame(df).to_csv('seniors_advocate_bc_reports_cleaned.csv', encoding = 'utf-8-sig')"
      ],
      "metadata": {
        "id": "p9Y3rgE3-BPE"
      },
      "execution_count": 15,
      "outputs": []
    }
  ]
}