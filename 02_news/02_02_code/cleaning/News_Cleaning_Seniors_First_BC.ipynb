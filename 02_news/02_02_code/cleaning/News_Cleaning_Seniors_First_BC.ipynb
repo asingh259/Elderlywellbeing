{
  "nbformat": 4,
  "nbformat_minor": 0,
  "metadata": {
    "colab": {
      "name": "News_Cleaning_Seniors_First_BC.ipynb",
      "provenance": []
    },
    "kernelspec": {
      "name": "python3",
      "display_name": "Python 3"
    },
    "language_info": {
      "name": "python"
    }
  },
  "cells": [
    {
      "cell_type": "code",
      "execution_count": 1,
      "metadata": {
        "colab": {
          "base_uri": "https://localhost:8080/",
          "height": 243
        },
        "id": "0gqqexFU44vn",
        "outputId": "e65e44e8-918e-4e4d-8e0f-eef2acbfad37"
      },
      "outputs": [
        {
          "output_type": "stream",
          "name": "stdout",
          "text": [
            "[nltk_data] Downloading package punkt to /root/nltk_data...\n",
            "[nltk_data]   Unzipping tokenizers/punkt.zip.\n"
          ]
        },
        {
          "output_type": "execute_result",
          "data": {
            "text/html": [
              "\n",
              "  <div id=\"df-f7c504dd-16af-48c4-8ac3-f2bf5ba543d7\">\n",
              "    <div class=\"colab-df-container\">\n",
              "      <div>\n",
              "<style scoped>\n",
              "    .dataframe tbody tr th:only-of-type {\n",
              "        vertical-align: middle;\n",
              "    }\n",
              "\n",
              "    .dataframe tbody tr th {\n",
              "        vertical-align: top;\n",
              "    }\n",
              "\n",
              "    .dataframe thead th {\n",
              "        text-align: right;\n",
              "    }\n",
              "</style>\n",
              "<table border=\"1\" class=\"dataframe\">\n",
              "  <thead>\n",
              "    <tr style=\"text-align: right;\">\n",
              "      <th></th>\n",
              "      <th>Unnamed: 0</th>\n",
              "      <th>links</th>\n",
              "      <th>dates</th>\n",
              "      <th>header</th>\n",
              "      <th>body</th>\n",
              "      <th>b_points</th>\n",
              "    </tr>\n",
              "  </thead>\n",
              "  <tbody>\n",
              "    <tr>\n",
              "      <th>0</th>\n",
              "      <td>0</td>\n",
              "      <td>https://seniorsfirstbc.ca/news/seniors-first-b...</td>\n",
              "      <td>October 1st, 2021</td>\n",
              "      <td>Seniors First BC 2020-2021 Annual Report Release</td>\n",
              "      <td>Seniors First BC recently released its Annual ...</td>\n",
              "      <td>NaN</td>\n",
              "    </tr>\n",
              "    <tr>\n",
              "      <th>1</th>\n",
              "      <td>1</td>\n",
              "      <td>https://seniorsfirstbc.ca/news/seniors-first-b...</td>\n",
              "      <td>July 26th, 2021</td>\n",
              "      <td>Seniors First BC Hiring Part-Time Seniors Abus...</td>\n",
              "      <td>We are hiring a part-time Intake Worker to ans...</td>\n",
              "      <td>NaN</td>\n",
              "    </tr>\n",
              "    <tr>\n",
              "      <th>2</th>\n",
              "      <td>2</td>\n",
              "      <td>https://seniorsfirstbc.ca/news/vaccine-appoint...</td>\n",
              "      <td>March 1st, 2021</td>\n",
              "      <td>Vaccine Appointments for Seniors</td>\n",
              "      <td>Vaccine call centres for seniors open March 8,...</td>\n",
              "      <td>NaN</td>\n",
              "    </tr>\n",
              "    <tr>\n",
              "      <th>3</th>\n",
              "      <td>3</td>\n",
              "      <td>https://seniorsfirstbc.ca/news/11839/</td>\n",
              "      <td>August 6th, 2020</td>\n",
              "      <td>ABUSE VERSUS NEGLECT</td>\n",
              "      <td>ABUSE VERSUS NEGLECT Abuse is an action that c...</td>\n",
              "      <td>Usecoping techniquesto manage “caregiver stres...</td>\n",
              "    </tr>\n",
              "    <tr>\n",
              "      <th>4</th>\n",
              "      <td>4</td>\n",
              "      <td>https://seniorsfirstbc.ca/news/what-to-do-if-y...</td>\n",
              "      <td>August 5th, 2020</td>\n",
              "      <td>What To Do if You’ve Fallen Victim to a Scam</td>\n",
              "      <td>What To Do if You’ve Fallen Victim to a Scam ...</td>\n",
              "      <td>If it will help you feel better, reach out to ...</td>\n",
              "    </tr>\n",
              "  </tbody>\n",
              "</table>\n",
              "</div>\n",
              "      <button class=\"colab-df-convert\" onclick=\"convertToInteractive('df-f7c504dd-16af-48c4-8ac3-f2bf5ba543d7')\"\n",
              "              title=\"Convert this dataframe to an interactive table.\"\n",
              "              style=\"display:none;\">\n",
              "        \n",
              "  <svg xmlns=\"http://www.w3.org/2000/svg\" height=\"24px\"viewBox=\"0 0 24 24\"\n",
              "       width=\"24px\">\n",
              "    <path d=\"M0 0h24v24H0V0z\" fill=\"none\"/>\n",
              "    <path d=\"M18.56 5.44l.94 2.06.94-2.06 2.06-.94-2.06-.94-.94-2.06-.94 2.06-2.06.94zm-11 1L8.5 8.5l.94-2.06 2.06-.94-2.06-.94L8.5 2.5l-.94 2.06-2.06.94zm10 10l.94 2.06.94-2.06 2.06-.94-2.06-.94-.94-2.06-.94 2.06-2.06.94z\"/><path d=\"M17.41 7.96l-1.37-1.37c-.4-.4-.92-.59-1.43-.59-.52 0-1.04.2-1.43.59L10.3 9.45l-7.72 7.72c-.78.78-.78 2.05 0 2.83L4 21.41c.39.39.9.59 1.41.59.51 0 1.02-.2 1.41-.59l7.78-7.78 2.81-2.81c.8-.78.8-2.07 0-2.86zM5.41 20L4 18.59l7.72-7.72 1.47 1.35L5.41 20z\"/>\n",
              "  </svg>\n",
              "      </button>\n",
              "      \n",
              "  <style>\n",
              "    .colab-df-container {\n",
              "      display:flex;\n",
              "      flex-wrap:wrap;\n",
              "      gap: 12px;\n",
              "    }\n",
              "\n",
              "    .colab-df-convert {\n",
              "      background-color: #E8F0FE;\n",
              "      border: none;\n",
              "      border-radius: 50%;\n",
              "      cursor: pointer;\n",
              "      display: none;\n",
              "      fill: #1967D2;\n",
              "      height: 32px;\n",
              "      padding: 0 0 0 0;\n",
              "      width: 32px;\n",
              "    }\n",
              "\n",
              "    .colab-df-convert:hover {\n",
              "      background-color: #E2EBFA;\n",
              "      box-shadow: 0px 1px 2px rgba(60, 64, 67, 0.3), 0px 1px 3px 1px rgba(60, 64, 67, 0.15);\n",
              "      fill: #174EA6;\n",
              "    }\n",
              "\n",
              "    [theme=dark] .colab-df-convert {\n",
              "      background-color: #3B4455;\n",
              "      fill: #D2E3FC;\n",
              "    }\n",
              "\n",
              "    [theme=dark] .colab-df-convert:hover {\n",
              "      background-color: #434B5C;\n",
              "      box-shadow: 0px 1px 3px 1px rgba(0, 0, 0, 0.15);\n",
              "      filter: drop-shadow(0px 1px 2px rgba(0, 0, 0, 0.3));\n",
              "      fill: #FFFFFF;\n",
              "    }\n",
              "  </style>\n",
              "\n",
              "      <script>\n",
              "        const buttonEl =\n",
              "          document.querySelector('#df-f7c504dd-16af-48c4-8ac3-f2bf5ba543d7 button.colab-df-convert');\n",
              "        buttonEl.style.display =\n",
              "          google.colab.kernel.accessAllowed ? 'block' : 'none';\n",
              "\n",
              "        async function convertToInteractive(key) {\n",
              "          const element = document.querySelector('#df-f7c504dd-16af-48c4-8ac3-f2bf5ba543d7');\n",
              "          const dataTable =\n",
              "            await google.colab.kernel.invokeFunction('convertToInteractive',\n",
              "                                                     [key], {});\n",
              "          if (!dataTable) return;\n",
              "\n",
              "          const docLinkHtml = 'Like what you see? Visit the ' +\n",
              "            '<a target=\"_blank\" href=https://colab.research.google.com/notebooks/data_table.ipynb>data table notebook</a>'\n",
              "            + ' to learn more about interactive tables.';\n",
              "          element.innerHTML = '';\n",
              "          dataTable['output_type'] = 'display_data';\n",
              "          await google.colab.output.renderOutput(dataTable, element);\n",
              "          const docLink = document.createElement('div');\n",
              "          docLink.innerHTML = docLinkHtml;\n",
              "          element.appendChild(docLink);\n",
              "        }\n",
              "      </script>\n",
              "    </div>\n",
              "  </div>\n",
              "  "
            ],
            "text/plain": [
              "   Unnamed: 0                                              links  \\\n",
              "0           0  https://seniorsfirstbc.ca/news/seniors-first-b...   \n",
              "1           1  https://seniorsfirstbc.ca/news/seniors-first-b...   \n",
              "2           2  https://seniorsfirstbc.ca/news/vaccine-appoint...   \n",
              "3           3              https://seniorsfirstbc.ca/news/11839/   \n",
              "4           4  https://seniorsfirstbc.ca/news/what-to-do-if-y...   \n",
              "\n",
              "               dates                                             header  \\\n",
              "0  October 1st, 2021   Seniors First BC 2020-2021 Annual Report Release   \n",
              "1    July 26th, 2021  Seniors First BC Hiring Part-Time Seniors Abus...   \n",
              "2    March 1st, 2021                   Vaccine Appointments for Seniors   \n",
              "3   August 6th, 2020                               ABUSE VERSUS NEGLECT   \n",
              "4   August 5th, 2020       What To Do if You’ve Fallen Victim to a Scam   \n",
              "\n",
              "                                                body  \\\n",
              "0  Seniors First BC recently released its Annual ...   \n",
              "1  We are hiring a part-time Intake Worker to ans...   \n",
              "2  Vaccine call centres for seniors open March 8,...   \n",
              "3  ABUSE VERSUS NEGLECT Abuse is an action that c...   \n",
              "4   What To Do if You’ve Fallen Victim to a Scam ...   \n",
              "\n",
              "                                            b_points  \n",
              "0                                                NaN  \n",
              "1                                                NaN  \n",
              "2                                                NaN  \n",
              "3  Usecoping techniquesto manage “caregiver stres...  \n",
              "4  If it will help you feel better, reach out to ...  "
            ]
          },
          "metadata": {},
          "execution_count": 1
        }
      ],
      "source": [
        "import pandas as pd\n",
        "import nltk, re, string, collections\n",
        "from nltk.util import ngrams\n",
        "from nltk.tokenize import word_tokenize\n",
        "nltk.download('punkt')\n",
        "\n",
        "df = pd.read_csv(\"seniors_first_bc_news.csv\")\n",
        "df.head()"
      ]
    },
    {
      "cell_type": "code",
      "source": [
        "# Remove all stopwords\n",
        "from gensim.parsing.preprocessing import remove_stopwords"
      ],
      "metadata": {
        "id": "P8ZCgmTk59RB"
      },
      "execution_count": 2,
      "outputs": []
    },
    {
      "cell_type": "code",
      "source": [
        "cleandata = {}\n",
        "cleandata['body'] = []"
      ],
      "metadata": {
        "id": "Val92tyb6FDz"
      },
      "execution_count": 3,
      "outputs": []
    },
    {
      "cell_type": "code",
      "source": [
        "#creating clean dataframe\n",
        "for i in df['body']:\n",
        "  clean = remove_stopwords(i)\n",
        "  cleandata['body'].append(clean)"
      ],
      "metadata": {
        "id": "YxjK_Din6HzF"
      },
      "execution_count": 4,
      "outputs": []
    },
    {
      "cell_type": "code",
      "source": [
        "#tokenizing the words\n",
        "tokenized = [sub.split() for sub in cleandata['body']]"
      ],
      "metadata": {
        "id": "8yMpkXIL6I32"
      },
      "execution_count": 5,
      "outputs": []
    },
    {
      "cell_type": "code",
      "source": [
        "#creating bigrams\n",
        "bigrams =[]\n",
        "for i in tokenized:\n",
        "  bigrams.append(ngrams(i, 2))"
      ],
      "metadata": {
        "id": "BryHh2DK6MRz"
      },
      "execution_count": 6,
      "outputs": []
    },
    {
      "cell_type": "code",
      "source": [
        "#get the frequency of each bigram in the news\n",
        "bigramsFreq = []\n",
        "for i in bigrams:\n",
        "  bigramsFreq.append(collections.Counter(i))"
      ],
      "metadata": {
        "id": "dtNn8CwiWw5_"
      },
      "execution_count": 7,
      "outputs": []
    },
    {
      "cell_type": "code",
      "source": [
        "#most popular ngrams in each news\n",
        "for i in bigramsFreq:\n",
        "  print(i.most_common(10))"
      ],
      "metadata": {
        "id": "npisHcB3OGPv",
        "colab": {
          "base_uri": "https://localhost:8080/"
        },
        "outputId": "b215fed6-da3f-417b-c29d-ba744e7d7c44"
      },
      "execution_count": 8,
      "outputs": [
        {
          "output_type": "stream",
          "name": "stdout",
          "text": [
            "[(('Seniors', 'First'), 1), (('First', 'BC'), 1), (('BC', 'recently'), 1), (('recently', 'released'), 1), (('released', 'Annual'), 1), (('Annual', 'Report'), 1), (('Report', '2020-2021.'), 1), (('2020-2021.', 'The'), 1), (('The', 'report'), 1), (('report', 'provides'), 1)]\n",
            "[(('We', 'hiring'), 1), (('hiring', 'part-time'), 1), (('part-time', 'Intake'), 1), (('Intake', 'Worker'), 1), (('Worker', 'answer'), 1), (('answer', 'Seniors'), 1), (('Seniors', 'Abuse'), 1), (('Abuse', 'Information'), 1), (('Information', 'Line'), 1), (('Line', '(SAIL).'), 1)]\n",
            "[(('Vaccine', 'centres'), 1), (('centres', 'seniors'), 1), (('seniors', 'open'), 1), (('open', 'March'), 1), (('March', '8,'), 1), (('8,', '2021.'), 1), (('2021.', 'You'), 1), (('You', 'book'), 1), (('book', 'vaccine'), 1), (('vaccine', 'appointment'), 1)]\n",
            "[(('elder', 'abuse'), 3), (('Elder', 'abuse'), 2), (('abuse', 'neglect'), 2), (('older', 'adults'), 2), (('Anti-Fraud', 'Centre.'), 2), (('What', 'elder'), 2), (('abuse', 'look'), 2), (('Family', 'members'), 2), (('ABUSE', 'VERSUS'), 1), (('VERSUS', 'NEGLECT'), 1)]\n",
            "[(('fallen', 'victim'), 2), (('What', 'To'), 1), (('To', 'Do'), 1), (('Do', 'You’ve'), 1), (('You’ve', 'Fallen'), 1), (('Fallen', 'Victim'), 1), (('Victim', 'Scam'), 1), (('Scam', 'Scammers'), 1), (('Scammers', 'target'), 1), (('target', 'seniors'), 1)]\n",
            "[(('Seniors', 'First'), 9), (('First', 'BC'), 8), (('frauds', 'scams'), 3), (('older', 'adults'), 3), (('Many', 'people'), 2), (('people', 'understandably'), 2), (('understandably', 'concerned'), 2), (('concerned', 'health'), 2), (('health', 'well-being'), 2), (('well-being', 'times'), 2)]\n",
            "[(('SENIORS', 'FIRST'), 1), (('FIRST', 'BC'), 1), (('BC', 'FRAUDS'), 1), (('FRAUDS', 'AND'), 1), (('AND', 'SCAMS'), 1), (('SCAMS', 'RESOURCE'), 1), (('RESOURCE', 'LIST'), 1), (('LIST', 'Fraudsters'), 1), (('Fraudsters', 'coronavirus'), 1), (('coronavirus', 'outbreak'), 1)]\n",
            "[(('Seniors', 'First'), 3), (('First', 'BC'), 2), (('legal', 'issues'), 2), (('access', 'legal'), 2), (('May', '14,'), 1), (('14,', '2020'), 1), (('2020', 'Seniors'), 1), (('BC', 'Continues'), 1), (('Continues', 'Assist'), 1), (('Assist', 'Seniors'), 1)]\n",
            "[(('Our', 'Seniors'), 1), (('Seniors', 'First'), 1), (('First', 'BC'), 1), (('BC', 'COVID-19'), 1), (('COVID-19', 'resource'), 1), (('resource', 'list'), 1), (('list', 'gives'), 1), (('gives', 'information'), 1), (('information', 'risks,'), 1), (('risks,', 'number'), 1)]\n",
            "[(('Find', 'resources'), 1), (('resources', 'announced'), 1), (('announced', 'Government'), 1), (('Government', 'Canada'), 1), (('Canada', 'COVID-19'), 1), (('COVID-19', 'situation,'), 1), (('situation,', 'gives'), 1), (('gives', 'information'), 1), (('information', 'outbreak,'), 1), (('outbreak,', 'symptoms'), 1)]\n",
            "[(('Find', 'resources'), 1), (('resources', 'announced'), 1), (('announced', 'Province'), 1), (('Province', 'BC'), 1), (('BC', 'COVID-19'), 1), (('COVID-19', 'situation,'), 1), (('situation,', 'gives'), 1), (('gives', 'information'), 1), (('information', 'protect'), 1), (('protect', 'yourself,'), 1)]\n",
            "[(('14,', '2020'), 2), (('2020', 'Seniors'), 2), (('Seniors', 'First'), 2), (('First', 'BC'), 2), (('July', '14,'), 1), (('BC', 'release'), 1), (('release', '_July'), 1), (('_July', '14,'), 1), (('BC', 'continues'), 1), (('continues', 'assist'), 1)]\n",
            "[(('Featuring:', 'Legal'), 1), (('Legal', 'Staff'), 1), (('Staff', '–'), 1), (('–', 'Seniors'), 1), (('Seniors', 'First'), 1), (('First', 'BC'), 1), (('BC', 'Victim'), 1), (('Victim', 'Services'), 1), (('Services', 'Worker'), 1), (('Worker', '–'), 1)]\n",
            "[(('June', '15'), 1), (('15', 'World'), 1), (('World', 'Elder'), 1), (('Elder', 'Abuse'), 1), (('Abuse', 'Awareness'), 1), (('Awareness', 'Day'), 1), (('Day', '(WEAAD)'), 1), (('(WEAAD)', 'Over'), 1), (('Over', '50'), 1), (('50', 'WEAAD'), 1)]\n",
            "[(('Seniors’', 'poverty'), 1), (('poverty', 'British'), 1), (('British', 'Columbia'), 1), (('Columbia', 'highest'), 1), (('highest', 'rate'), 1), (('rate', 'country,'), 1), (('country,', 'based'), 1), (('based', 'latest'), 1), (('latest', 'data'), 1), (('data', 'Statistics'), 1)]\n",
            "[(('“We', 'grateful'), 1), (('grateful', 'provincial'), 1), (('provincial', 'government'), 1), (('government', 'providing'), 1), (('providing', 'funding'), 1), (('funding', 'SAIL,”'), 1), (('SAIL,”', 'said'), 1), (('said', 'Sarah'), 1), (('Sarah', 'Khan,'), 1), (('Khan,', 'acting'), 1)]\n",
            "[(('Are', 'senior'), 1), (('senior', 'representing'), 1), (('representing', 'Small'), 1), (('Small', 'Claims'), 1), (('Claims', 'Court'), 1), (('Court', 'proceeding?'), 1), (('proceeding?', 'Call'), 1), (('Call', '604-336-5653'), 1), (('604-336-5653', 'Trial'), 1), (('Trial', 'Preparation'), 1)]\n",
            "[(('Small', 'Claims'), 3), (('Claims', 'Court'), 3), (('doesnothave', 'legal'), 2), (('legal', 'authority'), 2), (('authority', 'deal'), 2), (('deal', 'with:'), 2), (('The', 'Civil'), 1), (('Civil', 'Resolution'), 1), (('Resolution', 'Tribunal'), 1), (('Tribunal', '(CRT)'), 1)]\n",
            "[(('principal', 'residence'), 8), (('residence', 'exemption'), 3), (('older', 'adults'), 2), (('adults', 'inadvertently'), 2), (('nature', 'ownership'), 2), (('capital', 'gains'), 2), (('Tax', 'Benefit'), 2), (('Schedule', '3'), 2), (('property', 'principal'), 2), (('The', 'following'), 1)]\n",
            "[(('Seniors', 'First'), 2), (('First', 'BC'), 2), (('BC', 'proud'), 1), (('proud', 'present'), 1), (('present', 'Clicklaw'), 1), (('Clicklaw', 'Wikibook,Legal'), 1), (('Wikibook,Legal', 'Issues'), 1), (('Issues', 'Residential'), 1), (('Residential', 'Care:'), 1), (('Care:', 'An'), 1)]\n",
            "[(('BC’s', 'Civil'), 1), (('Civil', 'Resolution'), 1), (('Resolution', 'Tribunal'), 1), (('Tribunal', 'accepting'), 1), (('accepting', 'strata'), 1), (('strata', 'claims'), 1), (('claims', '‘early'), 1), (('‘early', 'intake.’'), 1), (('intake.’', 'Since'), 1), (('Since', 'tribunal'), 1)]\n",
            "[(('We', 'offer'), 1), (('offer', 'legal'), 1), (('legal', 'services'), 1), (('services', 'seniors,'), 1), (('seniors,', 'afford'), 1), (('afford', 'assistance,'), 1), (('assistance,', 'select'), 1), (('select', 'locations'), 1), (('locations', 'New'), 1), (('New', 'Westminster,'), 1)]\n",
            "[(('older', 'women'), 2), (('ROADS', 'TO'), 1), (('TO', 'SAFETYis'), 1), (('SAFETYis', 'new'), 1), (('new', 'legal'), 1), (('legal', 'handbook'), 1), (('handbook', 'older'), 1), (('women', 'BC'), 1), (('BC', 'covers'), 1), (('covers', 'legal'), 1)]\n",
            "[(('The', 'Gerontology'), 1), (('Gerontology', 'Research'), 1), (('Research', 'Centre'), 1), (('Centre', 'Simon'), 1), (('Simon', 'Fraser'), 1), (('Fraser', 'University'), 1), (('University', 'produced'), 1), (('produced', 'resource'), 1), (('resource', 'materials'), 1), (('materials', 'elder'), 1)]\n",
            "[(('Elder', 'Abuse'), 8), (('World', 'Elder'), 5), (('Abuse', 'Awareness'), 5), (('June', '15th'), 5), (('Awareness', 'Day'), 4), (('Council', 'Reduce'), 4), (('Reduce', 'Elder'), 4), (('elder', 'abuse'), 4), (('15th', 'World'), 2), (('wearing', 'purple'), 2)]\n",
            "[(('Find', 'information'), 1), (('information', 'need'), 1), (('need', 'community'), 1), (('community', 'organizations,'), 1), (('organizations,', 'retirement'), 1), (('retirement', 'residences,'), 1), (('residences,', 'medical'), 1), (('medical', 'offices,'), 1), (('offices,', 'etc.'), 1), (('etc.', 'Watch'), 1)]\n",
            "[(('legal', 'information'), 3), (('The', 'scripts'), 3), (('automated', 'phone'), 2), (('phone', 'service'), 2), (('MP3', 'files'), 2), (('Happens', 'When'), 2), (('BC', 'new'), 1), (('new', 'legal'), 1), (('information', 'resource'), 1), (('resource', '–'), 1)]\n",
            "[(('health', 'care'), 5), (('seniors’', 'health'), 2), (('Canadians', 'health'), 2), (('care', 'concerns'), 2), (('The', 'results'), 2), (('long', 'term'), 2), (('term', 'care,'), 2), (('The', 'Canadian'), 1), (('Canadian', 'Medical'), 1), (('Medical', 'Association'), 1)]\n",
            "[(('older', 'adults'), 3), (('work', 'older'), 2), (('adults', 'abused'), 2), (('The', 'E-Book'), 2), (('types', 'elder'), 2), (('TheUnderstanding', 'Responding'), 1), (('Responding', 'Elder'), 1), (('Elder', 'Abuse'), 1), (('Abuse', 'E-Bookis'), 1), (('E-Bookis', 'designed'), 1)]\n",
            "[(('Seniors', 'Advocate'), 6), (('The', 'Office'), 4), (('Office', 'Seniors'), 2), (('seniors’', 'services'), 2), (('Advocate', 'describes'), 1), (('describes', 'mandate'), 1), (('mandate', 'follows:'), 1), (('follows:', 'The'), 1), (('Advocate', 'monitors'), 1), (('monitors', 'analyzes'), 1)]\n",
            "[(('National', 'Seniors'), 1), (('Seniors', 'Day'), 1), (('Day', 'coming'), 1), (('coming', 'October'), 1), (('October', '1'), 1), (('1', 'Government'), 1), (('Government', 'Canada’s'), 1), (('Canada’s', 'Action'), 1), (('Action', 'Seniors'), 1), (('Seniors', 'Report'), 1)]\n",
            "[(('talk', 'given'), 2), (('Click', 'following'), 1), (('following', 'link'), 1), (('link', 'watch'), 1), (('watch', 'talk'), 1), (('given', 'TEDxVictoria'), 1), (('TEDxVictoria', '2013'), 1), (('2013', 'event'), 1), (('event', 'financial'), 1), (('financial', 'exploitation'), 1)]\n",
            "[(('Click', 'hereto'), 1), (('hereto', 'read'), 1), (('read', 'Spring'), 1), (('Spring', '2013'), 1), (('2013', 'edition'), 1), (('edition', 'ofThe'), 1), (('ofThe', 'Scrivener,'), 1), (('Scrivener,', 'magazine'), 1), (('magazine', 'published'), 1), (('published', 'Society'), 1)]\n",
            "[(('Providence', 'Health'), 2), (('research', 'study'), 2), (('The', 'following'), 1), (('following', 'letter'), 1), (('letter', 'Providence'), 1), (('Health', 'Care:'), 1), (('Care:', 'Researchers'), 1), (('Researchers', 'University'), 1), (('University', 'British'), 1), (('British', 'Columbia'), 1)]\n",
            "[]\n",
            "[]\n",
            "[(('Great', 'article'), 1), (('article', 'Winter'), 1), (('Winter', '2012'), 1), (('2012', 'edition'), 1), (('edition', 'The'), 1), (('The', 'Scrivener'), 1), (('Scrivener', 'published'), 1), (('published', 'Society'), 1), (('Society', 'Notaries'), 1), (('Notaries', 'Public'), 1)]\n",
            "[(('Many', 'Canadians'), 1), (('Canadians', 'so-called'), 1), (('so-called', 'golden'), 1), (('golden', 'years'), 1), (('years', 'struggling'), 1), (('struggling', 'ends'), 1), (('ends', 'meet.'), 1), (('meet.', 'The'), 1), (('The', 'rate'), 1), (('rate', 'insolvency'), 1)]\n",
            "[(('residential', 'care'), 2), (('The', 'December'), 1), (('December', '2011'), 1), (('2011', 'report'), 1), (('report', 'documents'), 1), (('documents', 'process'), 1), (('process', 'findings'), 1), (('findings', 'review'), 1), (('review', 'issues'), 1), (('issues', 'associated'), 1)]\n"
          ]
        }
      ]
    },
    {
      "cell_type": "code",
      "source": [
        "#Verifying the frequency of words in the whole dataframe. Nanaimo News Website\n",
        "corpus = \" \".join(cleandata['body'])"
      ],
      "metadata": {
        "id": "TelPvYIQ0oBg"
      },
      "execution_count": 9,
      "outputs": []
    },
    {
      "cell_type": "code",
      "source": [
        "corpus"
      ],
      "metadata": {
        "colab": {
          "base_uri": "https://localhost:8080/",
          "height": 110
        },
        "id": "vlbWVoS6Zxdn",
        "outputId": "c60614b6-5141-4039-8fac-27296ee83c35"
      },
      "execution_count": 10,
      "outputs": [
        {
          "output_type": "execute_result",
          "data": {
            "application/vnd.google.colaboratory.intrinsic+json": {
              "type": "string"
            },
            "text/plain": [
              "'Seniors First BC recently released Annual Report 2020-2021. The report provides updates statistics programs period. To read report, visithere. We hiring part-time Intake Worker answer Seniors Abuse Information Line (SAIL). For job description, visithere. Contactinfo@seniorsfirstbc.caif questions position. The posting remain open suitable candidate recruited. Vaccine centres seniors open March 8, 2021. You book vaccine appointment spouse. It’s easy safe book phone. Our SAIL staff assist well. Call Call: 604-437-1940 Toll Free: 1-866-437-1940 Click details: ABUSE VERSUS NEGLECT Abuse action causes harm individual, neglect non-action providing care assistance dependent person (Canada.ca, 2016). Elder abuse single definition stories abuse neglect varied complex. Most people like consider victim use word survivor speaking experienced abuse. Elder abuse common think hidden problem, WHO estimates that1 6 older adults experience abuse worldwide. And study Elder Abuse Prevention Ontario revealed prevalence elder abuse Canada year was7.5% (physical, sexual, psychological financial abuse) representing 695,248older Canadians. Currently, older adults finding vulnerable incidences financial abuse otherCOVID-19 related scams.If know experiencing scam fraud, information theCanadian Anti-Fraud Centre. Report scam Canadian Anti-Fraud Centre. Their centre currently closed COVID-19, butyou report scam online. The know elder abuse, better equipped prevent happening love. What elder abuse look like figure explains. Figure 1– What elder abuse look like. (Source WHO, 2016.https://www.who.int/violence_injury_prevention/violence/elder_abuse/Elder_abuse_infographic_EN.pdf?ua=1) It likely abuse neglect perpetrated somebody known trusted. Most commonly experienced family setting (Wister, 2019). Which muddies water comes recognizing abusive scenario? Family members people trust hard spot abuse hands family member goes believe true related to. Family members informal caregivers lower risk committing abuse by: Risk factors: ELDER ABUSE RESOURCES SENIORS ABUSE AND INFORMATION LINE (SAIL): Call: 604-437-1940 Toll Free: 1-866-437-1940 7 days week (excluding holidays), 8am 8pm Language interpretation available Monday Friday, 9am 4pm. SAIL safe place speak trainedintake worker abuse mistreatment, receive information support issues impact health well-being older adult. If confusing situation sure turn – call! There harm calling ask questions. Those answer line trained identifying red flags best mind comes offering advice. The tools have, better manage situation life throws way! Stay socially connected. Now, important stay socially connected engaged. We physically distant, mean socially isolated well. You burden. Repeat! You deserve safe, secure comfortable Remember alone. Free support group Filipino seniors experienced experiencing abuse kind, seeking help voluntary basis, referred family, friends, neighbours. Serves seniors reside Burnaby, Coquitlam, New Westminster, Port Coquitlam, Port Moody, Richmond, Surrey, Vancouver.seniorsbrigade@yahoo.caPhone: 604-453-5885 CONTRIBUTOR Thank volunteer Meeka Marsolais writing blog! What To Do You’ve Fallen Victim Scam Scammers target seniors highly skilled. It hard identify scams, it’s scary try figure falling victim one. If fallen victims scam financial fraud, feel shame embarrassment, shouldn’t. Scams convincing difficult identify.It victim’s fault scammed Scammers fraudsters strike phone, email, door-to-door sales, fake charities, social media. Seniors First BC great resource learning scams recently compiled aresource liston scams fraud COVID-19. How I tell I fallen victim scam? It’s important close eye finances learn scams order identify fraudulent activity. Check bank account statement regularly catch suspicious purchases. If suspicious purchases remember making, likely fallen victim scam. I think I scammed. What I do? It feel overwhelming know next. You contact organizations resolve situation. Try best stay calm; organizations help you. You callVictimLink BCat 1-800-563-0808. It’s scary victim scam, community support you. Remember it’s fault people organizations help. Reference List CONTRIBUTOR Thank volunteer Margaret Ovenell writing article! Sadly, fraudsters coronavirus outbreak opportunity try trick public seniors vulnerable it. Many people understandably concerned health well-being times uncertainty. Unfortunately, fraudsters COVID-19 opportunity trick public, seniors vulnerable. It difficult identify fraudulent activities legitimate ones new technology, important stay aware precautions help loved ones safe. Route 65 spoke withSeniors First BCabout increases frauds scams COVID-19, seniors stay safe. Seniors First BC works prevent elder abuse assist support older adults abused, rights violated. This article originally published onRoute 65. Many people understandably concerned health well-being times uncertainty. Unfortunately, fraudsters COVID-19 opportunity trick public, seniors vulnerable. It difficult identify fraudulent activities legitimate ones new technology, important stay aware precautions help loved ones safe. Route 65 spoke withSeniors First BCabout increases frauds scams COVID-19, seniors stay safe. Seniors First BC works prevent elder abuse assist support older adults abused, rights violated. What common COVID-19 frauds scams? According Seniors First BC, common COVID-19 scams targeting public phone calls, text messages, phishing (fraudulent) emails, door-to-door canvassing, fake charities, websites, social media online shopping. What I scam fraud suspected? Seniors First BC recommends responding attempted communications precautions. Do answer door expecting visitor package, ensure purchasing reputable websites, research shopping online. Do click website pop-ups close page immediately appears screen. How fraudulent activity identified? Official organizations send threats, errors, warning messages. They explain situation reasonable calm manner, demand immediate resolution problem speedy payment reason panic unnecessarily. Scammers ways making appear extremely legitimate. They impersonate well-known organizations, taking advantage official symbols logos. They pretend bank police. Seniors First BC recommends keeping calm reviewing situation. Ask yourself: legitimate organizations behave customers public? How I protect scammers? Never personal information credit card numbers, banking information, passwords social insurance numbers, contacted services verified identity first. If doubt, research providing money personal information. Scammers tell family members police deal them. It important listen advice. Reach family member, trusted friend, local police department concerned. How I report fraudulent activity? Suspected frauds scams reported to: – The Canadian Anti-Fraud Centre atantifraudcentre.caor 1-888-495-8501– Your local police department filing non-emergency report (donotcall 911)– Your local bank/financial institution credit card company– The National Credit Bureaus place fraud alert credit reports (Equifax Canada 1-800-465-7166 TransUnion Canada 1-800-663-9980)– The National Do-Not-Call List atlnnte-dncl.gc.caor 1-866-580-3625 Where I learn more? Visit Seniors First BC’sFrauds Scams Resource Listto learn COVID-19 frauds scams. Connect Seniors First BC Seniors First BC operates theSeniors Abuse Information Line(SAIL), BC-wide program trained intake workers ready talk confidence abusive situations kind involving older adults.Seniors First BC providesfree legal servicesto older adults age 55+ afford lawyer. To connect Seniors First BC SAIL line book legal services, call604-437-1940or toll-free at1-866-437-1940, available 7 days week (excluding holidays) 8:00 a.m. 8:00 p.m.Language interpretation available Monday Friday 9:00 a.m. 4:00 p.m. TTY Teletype deaf access TTY equipment: 604-428-3359 toll-free 1-855-306-1443. (Source: Link) SENIORS FIRST BC FRAUDS AND SCAMS RESOURCE LIST Fraudsters coronavirus outbreak opportunity try trick public new phishing emails, phone calls text messages. There coronavirus-related scams amid COVID-19 pandemic. The prevalent scams include: May 14, 2020 Seniors First BC Continues Assist Seniors legal issues These Challenging Times Seniors First BC Release Legal Our Legal Programs provide legal advice, advocacy representation people aged 55+, able access legal help low income, wide range legal issues including: Legal Services provided legal advocate lawyers elder law clinic. Many services provided phone email videoconferencing. How help Seniors First BCTo access legal programs; phone 604-437-1940 toll-free 1-866-437-1940 speak trained intake worker. Our Seniors First BC COVID-19 resource list gives information risks, number cases, symptoms, precautions help crisis. COVID-19 RESOURCES UPDATED May 15, 2020 Find resources announced Government Canada COVID-19 situation, gives information outbreak, symptoms treatment, prevention risks, prepared, health professionals, Canada’s response, travel advice, awareness resources guidance documents protect yourself, family community steps suspect virus. Coronavirus disease (COVID-19): Awareness resources Find resources announced Province BC COVID-19 situation, gives information protect yourself, family community steps suspect virus. COVID-19 Provincial Support Information July 14, 2020 Seniors First BC release _July 14, 2020 Seniors First BC continues assist seniors challenging times. But order ensure health safety senior clients staff families, adjusting operations. We update regularly situation evolves. We continue follow advice Canadian BC Centres Disease Control. We challenging time together. Featuring: Legal Staff – Seniors First BC Victim Services Worker – Family Services Greater Vancouver Public Guardian Trustee BC Designated Agency – Fraser Health Watch online June 15 World Elder Abuse Awareness Day (WEAAD) Over 50 WEAAD events place BC –Find Out More WEAR PURPLEto support! Seniors’ poverty British Columbia highest rate country, based latest data Statistics Canada (2015). Read online –B.C. Seniors’ Poverty Report Card “We grateful provincial government providing funding SAIL,” said Sarah Khan, acting executive director clinic lawyer Seniors First BC. “Our staff, answer SAIL, trained provide listening, non-judgmental supportive ear. SAIL staff refer callers legal issues legal staff, refer victims abuse family sexual violence Victim Services Program.” Read More Are senior representing Small Claims Court proceeding? Call 604-336-5653 Trial Preparation Clinic. The Civil Resolution Tribunal (CRT) start taking civil claims (up $5000) June 1st. On June 1stas well, monetary limit Small Claims Court raised $35,000 present $25,000. The CRT doesnothave legal authority deal with: For clarification, Small Claims Court doesnothave legal authority deal with: In addition, federal government sued Provincial Court. Further information changes Small Claims Court Rules procedures starting June 1stare available here:http://provincialcourt.bc.ca/enews/enews-20-03-2017 For information CRT ourCRT information pageand/or theCRT website. The following changes impact older adults inadvertently changed nature ownership principal residence. This result transfers family members, adding family members title (joint ownership), etc. Some changes nature ownership result liability significant capital gains tax sell home, circumstances. If following apply you, recommend seeking professional advice accountant tax lawyer. The Department Finance released series measures October 3, 2016, aimed “…protecting financial security Canadians, supporting long-term stability housing market improving integrity fairness tax system, including ensuring principal residence exemption available appropriate cases.” While measure principal residence exemption likely aimed real estate agents ‘flipping’ properties wrongly principal residence exemption avoid paying capital gains tax, catch well. There significant tax consequences older adults inadvertently triggered capital gain, given equity (or capital gain) residences lower mainland. Concurrent Department Finance’s announcement, Canada Revenue Agency (CRA) announced significant changes administrative position thereporting principal residence dispositions. Briefly, CRA states following: Starting 2016 tax year, individuals sell principal residence report sale Schedule 3,Capital Gainsof theT1Income Tax Benefit Return. Reporting required sales occur January 1, 2016. You complete Schedule 3 file yourT1 Income Tax Benefit Returnfor year sell property. If property principal residence year owned it, principal residence designation Schedule 3. In case, year acquisition, proceeds disposition description property information reported. Schedule 3 modified accordingly. Form T2091 (or Form T1255) required designation case property principal residence years owned it. Seniors First BC proud present Clicklaw Wikibook,Legal Issues Residential Care: An Advocate’s Manual,an online guide legal issues regard residential care British Columbia, processes solutions needed deal them. This e-book primarily meant legal health care professionals working support people residential care, Seniors First BC legal team.Click access e-book. BC’s Civil Resolution Tribunal accepting strata claims ‘early intake.’ Since tribunal fully staffed online technology fully developed, months resolve dispute. They expecting high number initial claims, given pent demand people afford previous solution application BC Supreme Court. The Tribunal describes process follows: The Tribunal’s website notes following benefits limits early intake: We offer legal services seniors, afford assistance, select locations New Westminster, Surrey, Burnaby, North Vancouver Vancouver month. Click herefor information. Note: obtaining legal information assistance outside clinic hours, phone604-437-1940 toll-free1-866-437-1940. ROADS TO SAFETYis new legal handbook older women BC covers legal issues older women face experienced violence. It explains rights options, stories illustrate legal information. It developed West Coast LEAF Canadian Centre Elder Law. It available Clicklaw at:Roads Safety. [Note– 97 page pdf download] The Gerontology Research Centre Simon Fraser University produced resource materials elder abuse prevention LGBTQ community. Find information theSFU – LGBTQ project website. If questions project, emaillgbteol@sfu.ca World Elder Abuse Awareness Day (WEAAD) celebrated year June 15. This year, Wednesday, June 15, wear purple support occasion. Print, circulate post theWEAAD Posteron community bulletin boards. Read following announcement BC Council Reduce Elder Abuse: British Columbia’s Council Reduce Elder Abuse Joins Citizens Around World Marking June 15th World Elder Abuse Awareness Day Join BC’s 15-member Council Reduce Elder Abuse Wearing Purple June 15th promote World Elder Abuse Awareness Day. Vancouver, British Columbia. June 15th World Elder Abuse Awareness Day 15 members BC’s Council Reduce Elder Abuse (CREA) wearing purple commemorate day shine light important, seldom discussed, issue. “The abuse older adults – grandparents, neighbours, aunts, uncles older friends – people rarely think about, speak about,” says Martha Jane Lewis, CREA Chair Executive Director BC Centre Elder Advocacy Support, “but year thousands older British Columbians experience form abuse. We receive hundreds calls month Seniors Abuse Information Line (1 866 437-1940) people seeking help,” says. Barb MacLean, Executive Director Family Caregivers BC CREA member agrees. “Some older adults rely help day-to-day needs, lead situations abuse. They over-medicated, under-medicated, kept socially isolated, denied access visitors friends, victims neglect.” Studies seniors risk suffering violence hands family member caregiver. World Elder Abuse Awareness Day observed June 15th 2006, British Columbia seen population older people steadily increase. Last July, Canada reached milestone number people aged 65 years older overtaking number children 15 time history; BC, milestone occurred 2011. “As population ages,” notes Superintendent Mark Fisher, RCMP Officer Charge CREA member, “there greater proportion seniors province risk elder abuse.” CREA protecting seniors collaborating strengthen foundation existing supports protection mechanisms. It raising awareness issue informing British Columbians forms elder abuse help. Last year, CREA provided community capacity building grants $50,000 14 organizations partners undertake actions BC reduce elder abuse. These actions include: assessing impact elder abuse LGBT community; building strong foundation awareness support safety Kwadacha Elders Northern BC; developing delivering customizable, ‘train-the-trainer’ training module frontline criminal justice practitioners, victim services workers community professionals. “There different kinds abuse neglect,” says Supt. Mark Fisher. Some signs elder abuse include: changes behaviour, depression agitation (psychological abuse); changes consumer banking habits, legal documents (financial abuse); bruises injuries stages healing (physical abuse); inappropriate clothing, under-medicated, poor personal hygiene (neglect). “Join CREA Members wearing purple June 15th raise awareness elder abuse plan action,” urges Sheila Pither, Council Senior Citizens’ Organizations (COSCO) representative CREA member. “One ways help prevent abuse visit parents, older relatives friends. We mean touch, time passes aren’t recognize signs important older person life abused.” To more, know abused, Seniors Abuse Information Line (SAIL) 1 866 437-1940, toll free, province, 8 8 pm daily, excluding statutory holidays, Vancouver: 604 437-1940. SAIL operated BC Centre Elder Advocacy Support. For information, togov.bc.ca/elderabuse. If imminent danger think situation emergency, 9-1-1. Find information need community organizations, retirement residences, medical offices, etc. Watch short video Seniors Canada: Here transcript video:If senior looking information on: Visit Canada.ca/Seniors: Active, engaged, informed. Canada.ca/SeniorsCanada BC new legal information resource – Dial-A-Law ‘wikibook.’ What mean? Dial-A-Law free legal information service. You able up, person line listen issue play relevant tape providing legal information topic. The Dial-A-Law program funding cut, longer staff answering phone line. There automated phone service available, work ‘automated attendant’ topic script looking for. Lawyers Canadian Bar Association keeping information date available public phone, online. There 130 topics! Funding provided Law Foundation BC. The scripts topics reviewed updated necessary, tapes available online, phone, MP3 files listen to. The scripts available read online printed computer. The scripts MP3 files available English, Simplified Chinese Punjabi. The topics cover following legal areas: Some scripts particular relevance older adults are:150What Happens When Your Spouse Dies –Audio176Making Will Estate Planning –Audio177What Happens When You Die Without Will?178Your Duties As Executor –Audio179The Disappointed Beneficiary180Power Attorney Representation Agreements –Audio217Applying Peace Bond Filing Assault Charges –Audio270Protection Against Job Discrimination245Your Bank Account –Audio248Co-Signing Guaranteeing Loan –Audio255Door-to-Door Sales, Time-Shares Contracts You Can Cancel –Audio256Shopping Phone, Mail Internet –Audio257Buying Defective Goods –Audio258Receiving Unsatisfactory Services –Audio260Dishonest Business Practices Schemes –Audio235Freedom Information & Protection Privacy –Audio236Human Rights & Discrimination Protection –Audio239Senior Law Elder Abuse –Audio420Medical Malpractice –Audio421Getting Your Medical Records –Audio423Making Complaint Against Your Doctor –Audio425Hospitalizing Mentally Ill Person –Audio426Committeeship –Audio428Adults Consent Medical Care –Audio435Choosing Lawyer –Audio436If You Have Problem With Your Lawyer –Audio438Lawyers’ Fees –AudioThese scripts gathered ‘wikibook’ – electronic online version book – ‘hyperlinks’ sections. With wikibook easily jump topics. It easy ‘wikibook’ updated online. Individual topics wikibook read printed out. The wikibook downloaded pdf format, ‘EPUB’ format. Here screenshot wikibook main page:At time wikibook available English. For Dial-A-Law scripts recordings Chinese Punjabi, CBA’s Dial-A-Law webpage here:http://www.cbabc.org/For-the-Public/Dial-A-Law. The automated phone service available English Chinese. You Dial-A-Law automated attendant listen script calling 604-687-4680 lower mainland, 1-800-565-5297 BC. Clicklaw numerous ‘wikibooks’ topics including: family law;getting legal help BC; tenant survival guide; death family; consumer law; driving BC; human trafficking Canada; learning law; paying taxes; workplace bullying harassment; executor; family violence abuse; writing will; power attorney; legal issues residential care (from Seniors First BC); etc. Many wikibooks published People’s Law School. The main page Clicklaw access wikibooks here:http://wiki.clicklaw.bc.ca/index.php/Clicklaw_Wikibooks The Canadian Medical Association (CMA) Canadian Association Retired People (CARP) pushing national strategy seniors’ health care. In preparation campaign, Ipsos Reid conduct survey Canadians health care concerns later life, 2014. The results poll summarized following ‘report card’ infographic below.They want ensure candidates federal by-elections upcoming general election consider seniors’ health care issues, specifically following issues: Besides Ipsos-Reid poll Canadians health care concerns seniors, specific polling 26 “key” ridings winning candidate won 3% vote. The results shown infographic CMA: Polling ‘key ridings’ upcoming federal election health care issues seniors. With regard long term care, following infographic provides information older adults receiving long term care, providing care, issues different perspectives:For information campaign national health care strategy, seewww.demandaplan.ca/ TheUnderstanding Responding Elder Abuse E-Bookis designed workers B.C. work older adults abused neglected. The E-Book covers types elder abuse risk factors, B.C. government programs community services available older adults abused neglected, practice tips work older adults abused. The E-Book includes resources, information, links, video interviews local stakeholders, role play video scenarios address different types elder abuse.Click access e-book. The Office Seniors Advocate describes mandate follows: The Office Seniors Advocate monitors analyzes seniors’ services issues B.C., makes recommendations government service providers address systemic issues. The Office provides information referrals individuals navigating seniors’ services tracks concerns, helps inform future work. The services Office monitors key areas: health care, housing, income supports, personal supports transportation. The Office collaborates service providers, government health authorities improve effectiveness, efficiency outcomes. A council advisers, B.C. seniors, provides Seniors Advocate advice feedback perspective seniors diverse backgrounds, ages, geographical areas cultures. REPORTS AND PUBLICATIONS Each year, Seniors Advocate report Minister Health Office’s activities, reports possible issues matters arising Office’s work.Reports Publications. The Seniors Advocate produced reports key areas. To access reports Seniors Advocate, theOffice Seniors Advocate BC website National Seniors Day coming October 1 Government Canada’s Action Seniors Report presented Honourable Alice Wong, Minister State Seniors. In words: The report result extensive collaboration 22 federal departments agencies reflects wide-ranging nature seniors’ issues cuts organizations. It highlights programs resources available seniors, ranging help combating elder abuse government supports ensure seniors’ financial security. I proud commitment well-being Canada’s seniors I look forward continuing work levels government, seniors seniors’ organizations stakeholders develop policies programs related seniors. Click access report.You visithttp://www.seniors.gc.ca/for information programs initiatives seniors Canada. Click following link watch talk given TEDxVictoria 2013 event financial exploitation older adults. The talk given Lee Anne Davies, PhD Aging, Health, Well-Being, author upcoming bookWhen Life Bites You Wallet: The Human Side Getting Your Money Under Control.https://www.youtube.com/watch?v=yegboxSb3uM&list=PLsRNoUx8w3rO-AXiRYZ7SkZNVclCTBf6g&index=7 Click hereto read Spring 2013 edition ofThe Scrivener, magazine published Society Notaries Public British Columbia, featuring article Powers Attorney lawyer Kevin Smith. The article starting Page 38.http://www.notaries.bc.ca/resources/scrivener/Spring2013/pdf/Scriv_Spring%2013-online.pdf The following letter Providence Health Care: Researchers University British Columbia interested talking patients and/or family members diverse economic, cultural, linguistic backgrounds views making important and/or difficult healthcare decisions. You eligible study adult engaged complex decision-making healthcare, surrogate decision maker behalf loved one. The study involve 45-60 minute (longer interpreters used) in-person interview time location convenient you. We able accommodate telephone interviews interviews line Skype. You receive $15 gift card appreciation time participation. This research study funded Canadian Institute Health Research (CIHR), received approval UBC’s Behavioural Research Ethics Board. If like information research study and/or arrange participate research, contact project research assistant, Kim Taylor:taylorka@exchange.ubc.ca. You contact Principal Investigator, Dr Anita Ho:anita.ho@ubc.ca Anita Ho, PhD Associate Professor, Centre Applied Ethics, UBC Director, Ethics Services, Providence Health Care 604-822-4049 (Office)anita.ho@ubc.ca http://www.flickr.com/photos/bcgovphotos/8535372120/in/photostream/ http://www.americanbar.org/publications/human_rights_magazine_home/human_rights_vol31_2004/spring2004/hr_spring04_incapacitated.html Great article Winter 2012 edition The Scrivener published Society Notaries Public British Columbia, quarterly publication. Clickhere. Many Canadians so-called golden years struggling ends meet. The rate insolvency 65 soared 1747 cent 1990 2010, according latest family finances report Vanier Institute Family. Click link read story:http://www.cbc.ca/news/canada/story/2012/06/22/f-bankrupt-seniors.html The December 2011 report documents process findings review issues associated prescription antipsychotic medications elderly residents residential care facilities British Columbia. The Ministry Health undertook review direction Minister Health, response public concerns including complaint raised family mother residential care Fraser Valley.Click read report'"
            ]
          },
          "metadata": {},
          "execution_count": 10
        }
      ]
    },
    {
      "cell_type": "code",
      "source": [
        "tokenizedcorpus = corpus.split()"
      ],
      "metadata": {
        "id": "UjMZUKl_YySR"
      },
      "execution_count": 11,
      "outputs": []
    },
    {
      "cell_type": "code",
      "source": [
        "bigramcorpus = ngrams(tokenizedcorpus,2)"
      ],
      "metadata": {
        "id": "Gb3AGPAEY3C2"
      },
      "execution_count": 12,
      "outputs": []
    },
    {
      "cell_type": "code",
      "source": [
        "BigramFreq = collections.Counter(bigramcorpus)"
      ],
      "metadata": {
        "id": "SxtRzM1vbHlM"
      },
      "execution_count": 13,
      "outputs": []
    },
    {
      "cell_type": "code",
      "source": [
        "BigramFreq.most_common(100)"
      ],
      "metadata": {
        "colab": {
          "base_uri": "https://localhost:8080/"
        },
        "id": "dyo9CSGrbKB3",
        "outputId": "e6944cae-83dd-4f5d-ed6e-cd486110ad87"
      },
      "execution_count": 14,
      "outputs": [
        {
          "output_type": "execute_result",
          "data": {
            "text/plain": [
              "[(('Seniors', 'First'), 22),\n",
              " (('First', 'BC'), 18),\n",
              " (('older', 'adults'), 14),\n",
              " (('Elder', 'Abuse'), 12),\n",
              " (('elder', 'abuse'), 12),\n",
              " (('principal', 'residence'), 8),\n",
              " (('legal', 'issues'), 6),\n",
              " (('World', 'Elder'), 6),\n",
              " (('Abuse', 'Awareness'), 6),\n",
              " (('health', 'care'), 6),\n",
              " (('Seniors', 'Advocate'), 6),\n",
              " (('Awareness', 'Day'), 5),\n",
              " (('June', '15th'), 5),\n",
              " (('Abuse', 'Information'), 4),\n",
              " (('Small', 'Claims'), 4),\n",
              " (('Claims', 'Court'), 4),\n",
              " (('residential', 'care'), 4),\n",
              " (('legal', 'information'), 4),\n",
              " (('Council', 'Reduce'), 4),\n",
              " (('Reduce', 'Elder'), 4),\n",
              " (('The', 'Office'), 4),\n",
              " (('Seniors', 'Abuse'), 3),\n",
              " (('Information', 'Line'), 3),\n",
              " (('health', 'well-being'), 3),\n",
              " (('important', 'stay'), 3),\n",
              " (('How', 'I'), 3),\n",
              " (('identify', 'fraudulent'), 3),\n",
              " (('precautions', 'help'), 3),\n",
              " (('frauds', 'scams'), 3),\n",
              " (('family', 'members'), 3),\n",
              " (('14,', '2020'), 3),\n",
              " (('2020', 'Seniors'), 3),\n",
              " (('gives', 'information'), 3),\n",
              " (('British', 'Columbia'), 3),\n",
              " (('residence', 'exemption'), 3),\n",
              " (('British', 'Columbia,'), 3),\n",
              " (('Centre', 'Elder'), 3),\n",
              " (('The', 'scripts'), 3),\n",
              " (('The', 'report'), 2),\n",
              " (('SAIL', 'staff'), 2),\n",
              " (('Call:', '604-437-1940'), 2),\n",
              " (('604-437-1940', 'Toll'), 2),\n",
              " (('Toll', 'Free:'), 2),\n",
              " (('Free:', '1-866-437-1940'), 2),\n",
              " (('Elder', 'abuse'), 2),\n",
              " (('abuse', 'neglect'), 2),\n",
              " (('Anti-Fraud', 'Centre.'), 2),\n",
              " (('Canadian', 'Anti-Fraud'), 2),\n",
              " (('What', 'elder'), 2),\n",
              " (('abuse', 'look'), 2),\n",
              " (('Family', 'members'), 2),\n",
              " (('hands', 'family'), 2),\n",
              " (('family', 'member'), 2),\n",
              " (('7', 'days'), 2),\n",
              " (('days', 'week'), 2),\n",
              " (('week', '(excluding'), 2),\n",
              " (('interpretation', 'available'), 2),\n",
              " (('available', 'Monday'), 2),\n",
              " (('New', 'Westminster,'), 2),\n",
              " (('CONTRIBUTOR', 'Thank'), 2),\n",
              " (('Thank', 'volunteer'), 2),\n",
              " (('fake', 'charities,'), 2),\n",
              " (('fallen', 'victim'), 2),\n",
              " (('What', 'I'), 2),\n",
              " (('You', 'contact'), 2),\n",
              " (('coronavirus', 'outbreak'), 2),\n",
              " (('outbreak', 'opportunity'), 2),\n",
              " (('opportunity', 'try'), 2),\n",
              " (('try', 'trick'), 2),\n",
              " (('trick', 'public'), 2),\n",
              " (('Many', 'people'), 2),\n",
              " (('people', 'understandably'), 2),\n",
              " (('understandably', 'concerned'), 2),\n",
              " (('concerned', 'health'), 2),\n",
              " (('well-being', 'times'), 2),\n",
              " (('times', 'uncertainty.'), 2),\n",
              " (('uncertainty.', 'Unfortunately,'), 2),\n",
              " (('Unfortunately,', 'fraudsters'), 2),\n",
              " (('fraudsters', 'COVID-19'), 2),\n",
              " (('COVID-19', 'opportunity'), 2),\n",
              " (('opportunity', 'trick'), 2),\n",
              " (('trick', 'public,'), 2),\n",
              " (('public,', 'seniors'), 2),\n",
              " (('seniors', 'vulnerable.'), 2),\n",
              " (('vulnerable.', 'It'), 2),\n",
              " (('It', 'difficult'), 2),\n",
              " (('difficult', 'identify'), 2),\n",
              " (('fraudulent', 'activities'), 2),\n",
              " (('activities', 'legitimate'), 2),\n",
              " (('legitimate', 'ones'), 2),\n",
              " (('ones', 'new'), 2),\n",
              " (('new', 'technology,'), 2),\n",
              " (('technology,', 'important'), 2),\n",
              " (('stay', 'aware'), 2),\n",
              " (('aware', 'precautions'), 2),\n",
              " (('help', 'loved'), 2),\n",
              " (('loved', 'ones'), 2),\n",
              " (('ones', 'safe.'), 2),\n",
              " (('safe.', 'Route'), 2),\n",
              " (('Route', '65'), 2)]"
            ]
          },
          "metadata": {},
          "execution_count": 14
        }
      ]
    },
    {
      "cell_type": "markdown",
      "source": [
        "#We can see that the words below appeared several times among the data, however they are not meaningful for the analysis, thus need to be removed\n",
        "'604-437-1940','1-866-437-1940','(excluding','CONTRIBUTOR'"
      ],
      "metadata": {
        "id": "JaU8h8BN9p-C"
      }
    },
    {
      "cell_type": "code",
      "source": [
        "#Importing Stopwords\n",
        "from nltk.corpus import stopwords\n",
        "nltk.download('stopwords')"
      ],
      "metadata": {
        "id": "GL-FCdFGmyEM",
        "colab": {
          "base_uri": "https://localhost:8080/"
        },
        "outputId": "834acb7c-a1ad-43d8-8468-37bc65356fa6"
      },
      "execution_count": 15,
      "outputs": [
        {
          "output_type": "stream",
          "name": "stdout",
          "text": [
            "[nltk_data] Downloading package stopwords to /root/nltk_data...\n",
            "[nltk_data]   Unzipping corpora/stopwords.zip.\n"
          ]
        },
        {
          "output_type": "execute_result",
          "data": {
            "text/plain": [
              "True"
            ]
          },
          "metadata": {},
          "execution_count": 15
        }
      ]
    },
    {
      "cell_type": "code",
      "source": [
        "#Adding the unwanted words into the stopwords list.\n",
        "stop_words = stopwords.words('english')\n",
        "stop_words.extend(['604-437-1940','1-866-437-1940','(excluding','CONTRIBUTOR'])"
      ],
      "metadata": {
        "id": "86W_ZQfy9PM-"
      },
      "execution_count": 16,
      "outputs": []
    },
    {
      "cell_type": "code",
      "source": [
        "clean_text = []\n",
        "for word in tokenizedcorpus:\n",
        "    if word not in stop_words:\n",
        "      clean_text.append(word)"
      ],
      "metadata": {
        "id": "El5m4k7qjhPs"
      },
      "execution_count": 17,
      "outputs": []
    },
    {
      "cell_type": "code",
      "source": [
        "bigramcorpusnonstop = ngrams(clean_text,2)"
      ],
      "metadata": {
        "id": "iZWMN-16l98y"
      },
      "execution_count": 18,
      "outputs": []
    },
    {
      "cell_type": "code",
      "source": [
        "BigramnonstopFreq = collections.Counter(bigramcorpusnonstop)"
      ],
      "metadata": {
        "id": "b7wUy2rhofiY"
      },
      "execution_count": 19,
      "outputs": []
    },
    {
      "cell_type": "code",
      "source": [
        "#Verifying the new frequency of words to assure cleaned data.\n",
        "BigramnonstopFreq.most_common(100)"
      ],
      "metadata": {
        "colab": {
          "base_uri": "https://localhost:8080/"
        },
        "id": "75Q9J-1Pojts",
        "outputId": "75c9f006-5d59-4d6a-d388-dd163fa132ec"
      },
      "execution_count": 20,
      "outputs": [
        {
          "output_type": "execute_result",
          "data": {
            "text/plain": [
              "[(('Seniors', 'First'), 22),\n",
              " (('First', 'BC'), 18),\n",
              " (('older', 'adults'), 14),\n",
              " (('Elder', 'Abuse'), 12),\n",
              " (('elder', 'abuse'), 12),\n",
              " (('principal', 'residence'), 8),\n",
              " (('legal', 'issues'), 6),\n",
              " (('World', 'Elder'), 6),\n",
              " (('Abuse', 'Awareness'), 6),\n",
              " (('health', 'care'), 6),\n",
              " (('Seniors', 'Advocate'), 6),\n",
              " (('Awareness', 'Day'), 5),\n",
              " (('June', '15th'), 5),\n",
              " (('Abuse', 'Information'), 4),\n",
              " (('Small', 'Claims'), 4),\n",
              " (('Claims', 'Court'), 4),\n",
              " (('residential', 'care'), 4),\n",
              " (('legal', 'information'), 4),\n",
              " (('Council', 'Reduce'), 4),\n",
              " (('Reduce', 'Elder'), 4),\n",
              " (('The', 'Office'), 4),\n",
              " (('Seniors', 'Abuse'), 3),\n",
              " (('Information', 'Line'), 3),\n",
              " (('health', 'well-being'), 3),\n",
              " (('important', 'stay'), 3),\n",
              " (('How', 'I'), 3),\n",
              " (('identify', 'fraudulent'), 3),\n",
              " (('precautions', 'help'), 3),\n",
              " (('frauds', 'scams'), 3),\n",
              " (('family', 'members'), 3),\n",
              " (('14,', '2020'), 3),\n",
              " (('2020', 'Seniors'), 3),\n",
              " (('gives', 'information'), 3),\n",
              " (('British', 'Columbia'), 3),\n",
              " (('residence', 'exemption'), 3),\n",
              " (('British', 'Columbia,'), 3),\n",
              " (('Centre', 'Elder'), 3),\n",
              " (('The', 'scripts'), 3),\n",
              " (('The', 'report'), 2),\n",
              " (('SAIL', 'staff'), 2),\n",
              " (('Call:', 'Toll'), 2),\n",
              " (('Toll', 'Free:'), 2),\n",
              " (('Elder', 'abuse'), 2),\n",
              " (('abuse', 'neglect'), 2),\n",
              " (('Anti-Fraud', 'Centre.'), 2),\n",
              " (('Canadian', 'Anti-Fraud'), 2),\n",
              " (('What', 'elder'), 2),\n",
              " (('abuse', 'look'), 2),\n",
              " (('Family', 'members'), 2),\n",
              " (('hands', 'family'), 2),\n",
              " (('family', 'member'), 2),\n",
              " (('7', 'days'), 2),\n",
              " (('days', 'week'), 2),\n",
              " (('interpretation', 'available'), 2),\n",
              " (('available', 'Monday'), 2),\n",
              " (('New', 'Westminster,'), 2),\n",
              " (('Thank', 'volunteer'), 2),\n",
              " (('fake', 'charities,'), 2),\n",
              " (('fallen', 'victim'), 2),\n",
              " (('What', 'I'), 2),\n",
              " (('You', 'contact'), 2),\n",
              " (('coronavirus', 'outbreak'), 2),\n",
              " (('outbreak', 'opportunity'), 2),\n",
              " (('opportunity', 'try'), 2),\n",
              " (('try', 'trick'), 2),\n",
              " (('trick', 'public'), 2),\n",
              " (('Many', 'people'), 2),\n",
              " (('people', 'understandably'), 2),\n",
              " (('understandably', 'concerned'), 2),\n",
              " (('concerned', 'health'), 2),\n",
              " (('well-being', 'times'), 2),\n",
              " (('times', 'uncertainty.'), 2),\n",
              " (('uncertainty.', 'Unfortunately,'), 2),\n",
              " (('Unfortunately,', 'fraudsters'), 2),\n",
              " (('fraudsters', 'COVID-19'), 2),\n",
              " (('COVID-19', 'opportunity'), 2),\n",
              " (('opportunity', 'trick'), 2),\n",
              " (('trick', 'public,'), 2),\n",
              " (('public,', 'seniors'), 2),\n",
              " (('seniors', 'vulnerable.'), 2),\n",
              " (('vulnerable.', 'It'), 2),\n",
              " (('It', 'difficult'), 2),\n",
              " (('difficult', 'identify'), 2),\n",
              " (('fraudulent', 'activities'), 2),\n",
              " (('activities', 'legitimate'), 2),\n",
              " (('legitimate', 'ones'), 2),\n",
              " (('ones', 'new'), 2),\n",
              " (('new', 'technology,'), 2),\n",
              " (('technology,', 'important'), 2),\n",
              " (('stay', 'aware'), 2),\n",
              " (('aware', 'precautions'), 2),\n",
              " (('help', 'loved'), 2),\n",
              " (('loved', 'ones'), 2),\n",
              " (('ones', 'safe.'), 2),\n",
              " (('safe.', 'Route'), 2),\n",
              " (('Route', '65'), 2),\n",
              " (('65', 'spoke'), 2),\n",
              " (('spoke', 'withSeniors'), 2),\n",
              " (('withSeniors', 'First'), 2),\n",
              " (('First', 'BCabout'), 2)]"
            ]
          },
          "metadata": {},
          "execution_count": 20
        }
      ]
    },
    {
      "cell_type": "markdown",
      "source": [
        "#Creating the cleaned Dataframe for further analysis and modelling.\n",
        "After removing the unwanted words, it is necessary to filter the text from the original file without those selected words."
      ],
      "metadata": {
        "id": "OKJDpNAb-JmC"
      }
    },
    {
      "cell_type": "code",
      "source": [
        "final_tokenized = [sub.split() for sub in df['body']]"
      ],
      "metadata": {
        "id": "y1w3DW_797ei"
      },
      "execution_count": 21,
      "outputs": []
    },
    {
      "cell_type": "code",
      "source": [
        "def cleantext(text):\n",
        "  stop_words = (['604-437-1940','1-866-437-1940','(excluding','CONTRIBUTOR'])\n",
        "  bodytext = []\n",
        "  for word in text:\n",
        "    if word not in stop_words:\n",
        "      bodytext.append(word)\n",
        "  return bodytext"
      ],
      "metadata": {
        "id": "OkHEAHT098ny"
      },
      "execution_count": 22,
      "outputs": []
    },
    {
      "cell_type": "code",
      "source": [
        "cleancolumn = [] \n",
        "for i in final_tokenized:\n",
        "  cleancolumn.append(cleantext(i))"
      ],
      "metadata": {
        "id": "fRNbx-CY99kR"
      },
      "execution_count": 23,
      "outputs": []
    },
    {
      "cell_type": "code",
      "source": [
        "#Recreating cleaned text\n",
        "listofwords = []\n",
        "for i in cleancolumn:\n",
        "  listofwords.append(\" \".join(i))"
      ],
      "metadata": {
        "id": "6W5TVIVM9-0W"
      },
      "execution_count": 24,
      "outputs": []
    },
    {
      "cell_type": "code",
      "source": [
        "df['clean'] = listofwords"
      ],
      "metadata": {
        "id": "RfosE3Oz9_79"
      },
      "execution_count": 25,
      "outputs": []
    },
    {
      "cell_type": "code",
      "source": [
        "pd.DataFrame(df).to_csv('seniors_first_bc_news_cleaned.csv', encoding = 'utf-8-sig')"
      ],
      "metadata": {
        "id": "p9Y3rgE3-BPE"
      },
      "execution_count": 26,
      "outputs": []
    }
  ]
}