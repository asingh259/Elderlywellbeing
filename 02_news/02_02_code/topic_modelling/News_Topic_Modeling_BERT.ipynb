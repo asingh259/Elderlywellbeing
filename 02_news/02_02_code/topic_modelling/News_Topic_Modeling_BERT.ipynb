{
  "nbformat": 4,
  "nbformat_minor": 0,
  "metadata": {
    "colab": {
      "name": "News_Topic_Modeling_BERT.ipynb",
      "provenance": [],
      "collapsed_sections": []
    },
    "kernelspec": {
      "name": "python3",
      "display_name": "Python 3"
    },
    "language_info": {
      "name": "python"
    },
    "accelerator": "GPU"
  },
  "cells": [
    {
      "cell_type": "code",
      "source": [
        "!pip -qq install bertopic"
      ],
      "metadata": {
        "id": "5glQ_HTcLf8u",
        "colab": {
          "base_uri": "https://localhost:8080/"
        },
        "outputId": "b5f9a93e-6c91-4c47-e26e-a21a8fe1021d"
      },
      "execution_count": null,
      "outputs": [
        {
          "output_type": "stream",
          "name": "stdout",
          "text": [
            "\u001b[K     |████████████████████████████████| 57 kB 3.5 MB/s \n",
            "\u001b[K     |████████████████████████████████| 5.2 MB 22.2 MB/s \n",
            "\u001b[?25h  Installing build dependencies ... \u001b[?25l\u001b[?25hdone\n",
            "  Getting requirements to build wheel ... \u001b[?25l\u001b[?25hdone\n",
            "    Preparing wheel metadata ... \u001b[?25l\u001b[?25hdone\n",
            "\u001b[K     |████████████████████████████████| 86 kB 5.8 MB/s \n",
            "\u001b[K     |████████████████████████████████| 79 kB 7.8 MB/s \n",
            "\u001b[K     |████████████████████████████████| 3.8 MB 46.1 MB/s \n",
            "\u001b[K     |████████████████████████████████| 1.2 MB 47.9 MB/s \n",
            "\u001b[K     |████████████████████████████████| 67 kB 5.6 MB/s \n",
            "\u001b[K     |████████████████████████████████| 6.5 MB 39.6 MB/s \n",
            "\u001b[K     |████████████████████████████████| 895 kB 51.2 MB/s \n",
            "\u001b[K     |████████████████████████████████| 636 kB 47.4 MB/s \n",
            "\u001b[K     |████████████████████████████████| 1.1 MB 43.6 MB/s \n",
            "\u001b[?25h  Building wheel for hdbscan (PEP 517) ... \u001b[?25l\u001b[?25hdone\n",
            "  Building wheel for sentence-transformers (setup.py) ... \u001b[?25l\u001b[?25hdone\n",
            "  Building wheel for umap-learn (setup.py) ... \u001b[?25l\u001b[?25hdone\n",
            "  Building wheel for pynndescent (setup.py) ... \u001b[?25l\u001b[?25hdone\n"
          ]
        }
      ]
    },
    {
      "cell_type": "code",
      "source": [
        "import pandas as pd\n",
        "from bertopic import BERTopic"
      ],
      "metadata": {
        "id": "_DuZEhkHLcv3"
      },
      "execution_count": null,
      "outputs": []
    },
    {
      "cell_type": "code",
      "execution_count": null,
      "metadata": {
        "colab": {
          "base_uri": "https://localhost:8080/",
          "height": 641
        },
        "id": "_grXeek8xzG9",
        "outputId": "86702033-6804-478c-8b27-d9f50ac5a554"
      },
      "outputs": [
        {
          "output_type": "execute_result",
          "data": {
            "text/plain": [
              "                                                   link       date  \\\n",
              "0     https://seniorsfirstbc.ca/news/seniors-first-b...  10/1/2021   \n",
              "1     https://seniorsfirstbc.ca/news/seniors-first-b...  7/26/2021   \n",
              "2     https://seniorsfirstbc.ca/news/vaccine-appoint...   3/1/2021   \n",
              "3                 https://seniorsfirstbc.ca/news/11839/   8/6/2020   \n",
              "4     https://seniorsfirstbc.ca/news/what-to-do-if-y...   8/5/2020   \n",
              "...                                                 ...        ...   \n",
              "1086  https://helpagecanada.ca/2015/09/helpage-inter...  9/28/2015   \n",
              "1087  https://helpagecanada.ca/2015/07/join-us-on-oc...  7/28/2015   \n",
              "1088  https://helpagecanada.ca/2015/06/minister-alic...  6/15/2015   \n",
              "1089  https://helpagecanada.ca/2015/02/february-2-20...   2/2/2015   \n",
              "1090  https://helpagecanada.ca/2014/09/june-15-2014-...  9/28/2014   \n",
              "\n",
              "                                                 header  \\\n",
              "0      Seniors First BC 2020-2021 Annual Report Release   \n",
              "1     Seniors First BC Hiring Part-Time Seniors Abus...   \n",
              "2                      Vaccine Appointments for Seniors   \n",
              "3                                  ABUSE VERSUS NEGLECT   \n",
              "4          What To Do if You’ve Fallen Victim to a Scam   \n",
              "...                                                 ...   \n",
              "1086  HelpAge International Releases Third Global Ag...   \n",
              "1087  Join us on October 1, 2015 for Seen Your Citiz...   \n",
              "1088  Minister Alice Wong marks Elder Abuse Day at H...   \n",
              "1089  HelpAge International Releases Report on Impac...   \n",
              "1090  Violence against older people: a global phenom...   \n",
              "\n",
              "                                              body_text  \\\n",
              "0     Seniors First BC recently released its Annual ...   \n",
              "1     We are hiring a part-time Intake Worker to ans...   \n",
              "2     Vaccine call centres for seniors open March 8,...   \n",
              "3     ABUSE VERSUS NEGLECT Abuse is an action that c...   \n",
              "4      What To Do if You’ve Fallen Victim to a Scam ...   \n",
              "...                                                 ...   \n",
              "1086  HelpAge International has released the third G...   \n",
              "1087  About a million Canadian seniors describe them...   \n",
              "1088  Alice Wong, Minister of State (Seniors), visit...   \n",
              "1089  In 2050, for the first time in history there w...   \n",
              "1090  June 15, 2014 – Violence against older people:...   \n",
              "\n",
              "                                           cleaned_text  \\\n",
              "0     Seniors First BC recently released its Annual ...   \n",
              "1     We are hiring a part-time Intake Worker to ans...   \n",
              "2     Vaccine call centres for seniors open March 8,...   \n",
              "3     ABUSE VERSUS NEGLECT Abuse is an action that c...   \n",
              "4     What To Do if You’ve Fallen Victim to a Scam S...   \n",
              "...                                                 ...   \n",
              "1086  International has released the third Global Ag...   \n",
              "1087  About a million Canadian seniors describe them...   \n",
              "1088  Alice Wong, Minister of State (Seniors), visit...   \n",
              "1089  In 2050, for the first time in history there w...   \n",
              "1090  2014 – Violence against older people: a global...   \n",
              "\n",
              "                    website  blob_polarity  \n",
              "0     seniors_first_bc_news       0.125000  \n",
              "1     seniors_first_bc_news       0.300000  \n",
              "2     seniors_first_bc_news       0.366667  \n",
              "3     seniors_first_bc_news       0.209425  \n",
              "4     seniors_first_bc_news       0.109195  \n",
              "...                     ...            ...  \n",
              "1086           helpage_news       0.068469  \n",
              "1087           helpage_news       0.070513  \n",
              "1088           helpage_news       0.091414  \n",
              "1089           helpage_news       0.098485  \n",
              "1090           helpage_news       0.150417  \n",
              "\n",
              "[1091 rows x 7 columns]"
            ],
            "text/html": [
              "\n",
              "  <div id=\"df-67c53cef-3152-445f-8516-99c26d04aee5\">\n",
              "    <div class=\"colab-df-container\">\n",
              "      <div>\n",
              "<style scoped>\n",
              "    .dataframe tbody tr th:only-of-type {\n",
              "        vertical-align: middle;\n",
              "    }\n",
              "\n",
              "    .dataframe tbody tr th {\n",
              "        vertical-align: top;\n",
              "    }\n",
              "\n",
              "    .dataframe thead th {\n",
              "        text-align: right;\n",
              "    }\n",
              "</style>\n",
              "<table border=\"1\" class=\"dataframe\">\n",
              "  <thead>\n",
              "    <tr style=\"text-align: right;\">\n",
              "      <th></th>\n",
              "      <th>link</th>\n",
              "      <th>date</th>\n",
              "      <th>header</th>\n",
              "      <th>body_text</th>\n",
              "      <th>cleaned_text</th>\n",
              "      <th>website</th>\n",
              "      <th>blob_polarity</th>\n",
              "    </tr>\n",
              "  </thead>\n",
              "  <tbody>\n",
              "    <tr>\n",
              "      <th>0</th>\n",
              "      <td>https://seniorsfirstbc.ca/news/seniors-first-b...</td>\n",
              "      <td>10/1/2021</td>\n",
              "      <td>Seniors First BC 2020-2021 Annual Report Release</td>\n",
              "      <td>Seniors First BC recently released its Annual ...</td>\n",
              "      <td>Seniors First BC recently released its Annual ...</td>\n",
              "      <td>seniors_first_bc_news</td>\n",
              "      <td>0.125000</td>\n",
              "    </tr>\n",
              "    <tr>\n",
              "      <th>1</th>\n",
              "      <td>https://seniorsfirstbc.ca/news/seniors-first-b...</td>\n",
              "      <td>7/26/2021</td>\n",
              "      <td>Seniors First BC Hiring Part-Time Seniors Abus...</td>\n",
              "      <td>We are hiring a part-time Intake Worker to ans...</td>\n",
              "      <td>We are hiring a part-time Intake Worker to ans...</td>\n",
              "      <td>seniors_first_bc_news</td>\n",
              "      <td>0.300000</td>\n",
              "    </tr>\n",
              "    <tr>\n",
              "      <th>2</th>\n",
              "      <td>https://seniorsfirstbc.ca/news/vaccine-appoint...</td>\n",
              "      <td>3/1/2021</td>\n",
              "      <td>Vaccine Appointments for Seniors</td>\n",
              "      <td>Vaccine call centres for seniors open March 8,...</td>\n",
              "      <td>Vaccine call centres for seniors open March 8,...</td>\n",
              "      <td>seniors_first_bc_news</td>\n",
              "      <td>0.366667</td>\n",
              "    </tr>\n",
              "    <tr>\n",
              "      <th>3</th>\n",
              "      <td>https://seniorsfirstbc.ca/news/11839/</td>\n",
              "      <td>8/6/2020</td>\n",
              "      <td>ABUSE VERSUS NEGLECT</td>\n",
              "      <td>ABUSE VERSUS NEGLECT Abuse is an action that c...</td>\n",
              "      <td>ABUSE VERSUS NEGLECT Abuse is an action that c...</td>\n",
              "      <td>seniors_first_bc_news</td>\n",
              "      <td>0.209425</td>\n",
              "    </tr>\n",
              "    <tr>\n",
              "      <th>4</th>\n",
              "      <td>https://seniorsfirstbc.ca/news/what-to-do-if-y...</td>\n",
              "      <td>8/5/2020</td>\n",
              "      <td>What To Do if You’ve Fallen Victim to a Scam</td>\n",
              "      <td>What To Do if You’ve Fallen Victim to a Scam ...</td>\n",
              "      <td>What To Do if You’ve Fallen Victim to a Scam S...</td>\n",
              "      <td>seniors_first_bc_news</td>\n",
              "      <td>0.109195</td>\n",
              "    </tr>\n",
              "    <tr>\n",
              "      <th>...</th>\n",
              "      <td>...</td>\n",
              "      <td>...</td>\n",
              "      <td>...</td>\n",
              "      <td>...</td>\n",
              "      <td>...</td>\n",
              "      <td>...</td>\n",
              "      <td>...</td>\n",
              "    </tr>\n",
              "    <tr>\n",
              "      <th>1086</th>\n",
              "      <td>https://helpagecanada.ca/2015/09/helpage-inter...</td>\n",
              "      <td>9/28/2015</td>\n",
              "      <td>HelpAge International Releases Third Global Ag...</td>\n",
              "      <td>HelpAge International has released the third G...</td>\n",
              "      <td>International has released the third Global Ag...</td>\n",
              "      <td>helpage_news</td>\n",
              "      <td>0.068469</td>\n",
              "    </tr>\n",
              "    <tr>\n",
              "      <th>1087</th>\n",
              "      <td>https://helpagecanada.ca/2015/07/join-us-on-oc...</td>\n",
              "      <td>7/28/2015</td>\n",
              "      <td>Join us on October 1, 2015 for Seen Your Citiz...</td>\n",
              "      <td>About a million Canadian seniors describe them...</td>\n",
              "      <td>About a million Canadian seniors describe them...</td>\n",
              "      <td>helpage_news</td>\n",
              "      <td>0.070513</td>\n",
              "    </tr>\n",
              "    <tr>\n",
              "      <th>1088</th>\n",
              "      <td>https://helpagecanada.ca/2015/06/minister-alic...</td>\n",
              "      <td>6/15/2015</td>\n",
              "      <td>Minister Alice Wong marks Elder Abuse Day at H...</td>\n",
              "      <td>Alice Wong, Minister of State (Seniors), visit...</td>\n",
              "      <td>Alice Wong, Minister of State (Seniors), visit...</td>\n",
              "      <td>helpage_news</td>\n",
              "      <td>0.091414</td>\n",
              "    </tr>\n",
              "    <tr>\n",
              "      <th>1089</th>\n",
              "      <td>https://helpagecanada.ca/2015/02/february-2-20...</td>\n",
              "      <td>2/2/2015</td>\n",
              "      <td>HelpAge International Releases Report on Impac...</td>\n",
              "      <td>In 2050, for the first time in history there w...</td>\n",
              "      <td>In 2050, for the first time in history there w...</td>\n",
              "      <td>helpage_news</td>\n",
              "      <td>0.098485</td>\n",
              "    </tr>\n",
              "    <tr>\n",
              "      <th>1090</th>\n",
              "      <td>https://helpagecanada.ca/2014/09/june-15-2014-...</td>\n",
              "      <td>9/28/2014</td>\n",
              "      <td>Violence against older people: a global phenom...</td>\n",
              "      <td>June 15, 2014 – Violence against older people:...</td>\n",
              "      <td>2014 – Violence against older people: a global...</td>\n",
              "      <td>helpage_news</td>\n",
              "      <td>0.150417</td>\n",
              "    </tr>\n",
              "  </tbody>\n",
              "</table>\n",
              "<p>1091 rows × 7 columns</p>\n",
              "</div>\n",
              "      <button class=\"colab-df-convert\" onclick=\"convertToInteractive('df-67c53cef-3152-445f-8516-99c26d04aee5')\"\n",
              "              title=\"Convert this dataframe to an interactive table.\"\n",
              "              style=\"display:none;\">\n",
              "        \n",
              "  <svg xmlns=\"http://www.w3.org/2000/svg\" height=\"24px\"viewBox=\"0 0 24 24\"\n",
              "       width=\"24px\">\n",
              "    <path d=\"M0 0h24v24H0V0z\" fill=\"none\"/>\n",
              "    <path d=\"M18.56 5.44l.94 2.06.94-2.06 2.06-.94-2.06-.94-.94-2.06-.94 2.06-2.06.94zm-11 1L8.5 8.5l.94-2.06 2.06-.94-2.06-.94L8.5 2.5l-.94 2.06-2.06.94zm10 10l.94 2.06.94-2.06 2.06-.94-2.06-.94-.94-2.06-.94 2.06-2.06.94z\"/><path d=\"M17.41 7.96l-1.37-1.37c-.4-.4-.92-.59-1.43-.59-.52 0-1.04.2-1.43.59L10.3 9.45l-7.72 7.72c-.78.78-.78 2.05 0 2.83L4 21.41c.39.39.9.59 1.41.59.51 0 1.02-.2 1.41-.59l7.78-7.78 2.81-2.81c.8-.78.8-2.07 0-2.86zM5.41 20L4 18.59l7.72-7.72 1.47 1.35L5.41 20z\"/>\n",
              "  </svg>\n",
              "      </button>\n",
              "      \n",
              "  <style>\n",
              "    .colab-df-container {\n",
              "      display:flex;\n",
              "      flex-wrap:wrap;\n",
              "      gap: 12px;\n",
              "    }\n",
              "\n",
              "    .colab-df-convert {\n",
              "      background-color: #E8F0FE;\n",
              "      border: none;\n",
              "      border-radius: 50%;\n",
              "      cursor: pointer;\n",
              "      display: none;\n",
              "      fill: #1967D2;\n",
              "      height: 32px;\n",
              "      padding: 0 0 0 0;\n",
              "      width: 32px;\n",
              "    }\n",
              "\n",
              "    .colab-df-convert:hover {\n",
              "      background-color: #E2EBFA;\n",
              "      box-shadow: 0px 1px 2px rgba(60, 64, 67, 0.3), 0px 1px 3px 1px rgba(60, 64, 67, 0.15);\n",
              "      fill: #174EA6;\n",
              "    }\n",
              "\n",
              "    [theme=dark] .colab-df-convert {\n",
              "      background-color: #3B4455;\n",
              "      fill: #D2E3FC;\n",
              "    }\n",
              "\n",
              "    [theme=dark] .colab-df-convert:hover {\n",
              "      background-color: #434B5C;\n",
              "      box-shadow: 0px 1px 3px 1px rgba(0, 0, 0, 0.15);\n",
              "      filter: drop-shadow(0px 1px 2px rgba(0, 0, 0, 0.3));\n",
              "      fill: #FFFFFF;\n",
              "    }\n",
              "  </style>\n",
              "\n",
              "      <script>\n",
              "        const buttonEl =\n",
              "          document.querySelector('#df-67c53cef-3152-445f-8516-99c26d04aee5 button.colab-df-convert');\n",
              "        buttonEl.style.display =\n",
              "          google.colab.kernel.accessAllowed ? 'block' : 'none';\n",
              "\n",
              "        async function convertToInteractive(key) {\n",
              "          const element = document.querySelector('#df-67c53cef-3152-445f-8516-99c26d04aee5');\n",
              "          const dataTable =\n",
              "            await google.colab.kernel.invokeFunction('convertToInteractive',\n",
              "                                                     [key], {});\n",
              "          if (!dataTable) return;\n",
              "\n",
              "          const docLinkHtml = 'Like what you see? Visit the ' +\n",
              "            '<a target=\"_blank\" href=https://colab.research.google.com/notebooks/data_table.ipynb>data table notebook</a>'\n",
              "            + ' to learn more about interactive tables.';\n",
              "          element.innerHTML = '';\n",
              "          dataTable['output_type'] = 'display_data';\n",
              "          await google.colab.output.renderOutput(dataTable, element);\n",
              "          const docLink = document.createElement('div');\n",
              "          docLink.innerHTML = docLinkHtml;\n",
              "          element.appendChild(docLink);\n",
              "        }\n",
              "      </script>\n",
              "    </div>\n",
              "  </div>\n",
              "  "
            ]
          },
          "metadata": {},
          "execution_count": 3
        }
      ],
      "source": [
        "news_df = pd.read_csv(\"sentimentanalysis.csv\" , header = 0)\n",
        "news_df.rename(columns = {'Unnamed: 0':'Index'}, inplace = True)\n",
        "news_df.drop(news_df.columns[[0,5]], axis = 1, inplace = True)\n",
        "news_df.columns = [\"link\", \"date\", \"header\", \"body_text\",\n",
        "                     \"cleaned_text\",\"website\", \"blob_polarity\"]\n",
        "news_df"
      ]
    },
    {
      "cell_type": "code",
      "source": [
        "import nltk\n",
        "nltk.download('stopwords')\n",
        "nltk.download('punkt')"
      ],
      "metadata": {
        "colab": {
          "base_uri": "https://localhost:8080/"
        },
        "id": "0a7X3g4oZusw",
        "outputId": "ffdf03c1-a926-492b-d0eb-c0680fa59365"
      },
      "execution_count": null,
      "outputs": [
        {
          "output_type": "stream",
          "name": "stdout",
          "text": [
            "[nltk_data] Downloading package stopwords to /root/nltk_data...\n",
            "[nltk_data]   Unzipping corpora/stopwords.zip.\n",
            "[nltk_data] Downloading package punkt to /root/nltk_data...\n",
            "[nltk_data]   Unzipping tokenizers/punkt.zip.\n"
          ]
        },
        {
          "output_type": "execute_result",
          "data": {
            "text/plain": [
              "True"
            ]
          },
          "metadata": {},
          "execution_count": 4
        }
      ]
    },
    {
      "cell_type": "markdown",
      "source": [
        "### Removing StopWords"
      ],
      "metadata": {
        "id": "gK-7rP4ujpYI"
      }
    },
    {
      "cell_type": "code",
      "source": [
        "from nltk.corpus import stopwords\n",
        "from nltk.tokenize import word_tokenize\n",
        "\n",
        "stop_words = set(stopwords.words('english'))\n",
        "\n",
        "df_nostop ={}\n",
        "df_nostop['nostop'] = []\n",
        "filtered_sentence = []\n",
        "\n",
        "for i in news_df['cleaned_text']:\n",
        "  word_tokens = word_tokenize(i)\n",
        "  filtered_sentence = [w for w in word_tokens if not w.lower() in stop_words]\n",
        "  nostop = ' '.join(filtered_sentence)\n",
        "  df_nostop['nostop'].append(nostop)"
      ],
      "metadata": {
        "id": "Ja9XrD8_Y-vF"
      },
      "execution_count": null,
      "outputs": []
    },
    {
      "cell_type": "code",
      "source": [
        "df_nostop['nospec'] = []\n",
        "no_spec =[]\n",
        "for i in news_df['cleaned_text']:\n",
        "  no_spec = ''.join(e for e in i if (e.isalnum() or e.isspace()))\n",
        "  df_nostop['nospec'].append(no_spec)"
      ],
      "metadata": {
        "id": "WzzSIX7bhKgI"
      },
      "execution_count": null,
      "outputs": []
    },
    {
      "cell_type": "code",
      "source": [
        "#Removing non english words\n",
        "nltk.download('words')"
      ],
      "metadata": {
        "colab": {
          "base_uri": "https://localhost:8080/"
        },
        "id": "gZXJG0Djk0ja",
        "outputId": "9ca2a555-5945-42f2-84d0-433b21727850"
      },
      "execution_count": null,
      "outputs": [
        {
          "output_type": "stream",
          "name": "stdout",
          "text": [
            "[nltk_data] Downloading package words to /root/nltk_data...\n",
            "[nltk_data]   Unzipping corpora/words.zip.\n"
          ]
        },
        {
          "output_type": "execute_result",
          "data": {
            "text/plain": [
              "True"
            ]
          },
          "metadata": {},
          "execution_count": 7
        }
      ]
    },
    {
      "cell_type": "code",
      "source": [
        "words = set(nltk.corpus.words.words())\n",
        "\n",
        "df_nostop['only_english'] = []\n",
        "onlyenglish = []\n",
        "\n",
        "for i in df_nostop['nospec']:\n",
        "  onlyenglish = \" \".join(w for w in nltk.wordpunct_tokenize(i) \\\n",
        "         if w.lower() in words or not w.isalpha())\n",
        "  df_nostop['only_english'].append(onlyenglish)"
      ],
      "metadata": {
        "id": "wPhXEPC_icV3"
      },
      "execution_count": null,
      "outputs": []
    },
    {
      "cell_type": "code",
      "source": [
        "df_nostop['nospec'][0:5]"
      ],
      "metadata": {
        "colab": {
          "base_uri": "https://localhost:8080/"
        },
        "id": "8usAolnIlTwi",
        "outputId": "146c87bf-4c40-4bca-98c7-a613c8daf643"
      },
      "execution_count": null,
      "outputs": [
        {
          "output_type": "execute_result",
          "data": {
            "text/plain": [
              "['Seniors First BC recently released its Annual Report for 20202021 The report provides updates and statistics about its programs during this period To read the report visithere',\n",
              " 'We are hiring a parttime Intake Worker to answer our Seniors Abuse and Information Line SAIL For the full job description please visithere Contactinfoseniorsfirstbccaif you have any questions about this position The posting will remain open until a suitable candidate has been recruited',\n",
              " 'Vaccine call centres for seniors open March 8 2021 You can book a vaccine appointment for yourself or your spouse Its easy and safe to book over the phone Our SAIL staff can assist as well Call us at Call or Toll Free Click here for more details',\n",
              " 'ABUSE VERSUS NEGLECT Abuse is an action that causes harm to another individual and neglect is the nonaction of not providing care or assistance to a dependent person Canadaca 2016 Elder abuse has no single definition and the stories of abuse and neglect are varied and complex Most people never like to consider themselves as a victim which is why we use the word survivor when speaking about those who have experienced abuse Elder abuse is more common than you might think as it is often a hidden problem but WHO estimates that1 in 6 older adults experience abuse worldwide And a study by Elder Abuse Prevention Ontario revealed the prevalence of elder abuse in Canada for the last year was75 physical sexual psychological and financial abuse representing 695248older Canadians Currently older adults are finding themselves more vulnerable than ever to incidences of financial abuse and otherCOVID19 related scamsIf you or someone you know is experiencing a scam or fraud find more information from theCanadian AntiFraud Centre Report the scam to the Canadian AntiFraud Centre Their call centre is currently closed due to COVID19 butyou can report the scam online The more you know about elder abuse the better equipped you will be to prevent it from happening to you and those you love What elder abuse might look like the figure below explains Figure 1 What elder abuse might look like Source WHO 2016httpswwwwhointviolenceinjurypreventionviolenceelderabuseElderabuseinfographicENpdfua1 It is most likely that abuse or neglect will be perpetrated by somebody well known or trusted Most commonly experienced in a family setting Wister 2019 Which further muddies the water when it comes to recognizing that you are in an abusive scenario Family members should be people that you can trust and it can be hard to spot abuse at the hands of a family member because it goes against everything you may believe to be true about those you are related to Family members and informal caregivers can lower their risk of committing abuse by Risk factors ELDER ABUSE RESOURCES SENIORS ABUSE AND INFORMATION LINE SAIL Call or Toll Free 7 days a week holidays 8am to 8pm Language interpretation is available Monday through Friday 9am to 4pm SAIL is a safe place to speak to a trainedintake worker about abuse or mistreatment receive information and support about issues that impact the health and wellbeing of an older adult If you are in a confusing situation and not sure where to turn  give them a call There is no harm in calling to ask a few questions Those who answer the line are trained in identifying any red flags and have your best interest in mind when it comes to offering advice The more tools we have the better we can manage any situation that life throws our way Stay socially connected Now more than ever it is important to stay socially connected and engaged We may be physically distant but that does not mean socially isolated as well You are not a burden Repeat You deserve to be safe secure and comfortable Remember that you are not alone Free support group for Filipino seniors who have experienced or are experiencing abuse of any kind seeking help on a voluntary basis or referred by family friends or neighbours Serves seniors who reside in Burnaby Coquitlam New Westminster Port Coquitlam Port Moody Richmond Surrey and VancouverseniorsbrigadeyahoocaPhone 6044535885 Thank you to our volunteer Meeka Marsolais for writing this blog',\n",
              " 'What To Do if Youve Fallen Victim to a Scam Scammers target seniors and are highly skilled It can be hard to identify scams and its scary to try to figure out what to do after falling victim to one If you have fallen victims to a scam or financial fraud you may feel shame and embarrassment but you shouldnt Scams are convincing and difficult to identifyIt is never the victims fault for being scammed Scammers and fraudsters can strike by phone email doortodoor sales fake charities and on social media Seniors First BC is a great resource for learning more about scams and has recently compiled aresource liston scams and fraud during COVID19 How do I tell if I have fallen victim to a scam Its important to keep a close eye on your finances and learn more about scams in order to identify any fraudulent activity Check your bank account statement regularly to catch any suspicious purchases If you see any suspicious purchases that you do not remember making you have likely fallen victim to a scam I think I have been scammed What should I do It can feel really overwhelming and you may not know what to do next You will have to contact several organizations to resolve the situation Try your best to stay calm these organizations are there to help you You can callVictimLink BCat 18005630808 Its really scary to be the victim of a scam but your community is here to support you Remember that its not your fault and there are many people and organizations that are here to help Reference List Thank you to our volunteer Margaret Ovenell for writing this article']"
            ]
          },
          "metadata": {},
          "execution_count": 9
        }
      ]
    },
    {
      "cell_type": "code",
      "source": [
        "df_nostop['only_english'][0:5]"
      ],
      "metadata": {
        "colab": {
          "base_uri": "https://localhost:8080/"
        },
        "id": "DVAJ8x86lKDm",
        "outputId": "00232ba6-704c-4c14-98a1-ab04152c9109"
      },
      "execution_count": null,
      "outputs": [
        {
          "output_type": "execute_result",
          "data": {
            "text/plain": [
              "['First recently its Annual Report for 20202021 The report and statistics about its during this period To read the report',\n",
              " 'We are a Intake Worker to answer our Abuse and Information Line SAIL For the full job description please you have any about this position The posting will remain open until a suitable candidate been',\n",
              " 'Vaccine call for open March 8 2021 You can book a vaccine appointment for yourself or your spouse Its easy and safe to book over the phone Our SAIL staff can assist as well Call us at Call or Toll Free Click here for more',\n",
              " 'ABUSE VERSUS NEGLECT Abuse is an action that harm to another individual and neglect is the nonaction of not providing care or assistance to a dependent person 2016 Elder abuse no single definition and the of abuse and neglect are varied and complex Most people never like to consider themselves as a victim which is why we use the word survivor when speaking about those who have experienced abuse Elder abuse is more common than you might think as it is often a hidden problem but WHO that1 in 6 older experience abuse And a study by Elder Abuse Prevention revealed the prevalence of elder abuse in Canada for the last year was75 physical sexual psychological and financial abuse 695248older Currently older are finding themselves more vulnerable than ever to of financial abuse and otherCOVID19 related you or someone you know is a scam or fraud find more information from Report the scam to the Their call is currently closed due to COVID19 can report the scam The more you know about elder abuse the better you will be to prevent it from happening to you and those you love What elder abuse might look like the figure below Figure 1 What elder abuse might look like Source WHO 2016httpswwwwhointviolenceinjurypreventionviolenceelderabuseElderabuseinfographicENpdfua1 It is most likely that abuse or neglect will be by somebody well known or Most commonly experienced in a family setting 2019 Which further the water when it comes to that you are in an abusive scenario Family should be people that you can trust and it can be hard to spot abuse at the of a family member because it goes against everything you may believe to be true about those you are related to Family and informal can lower their risk of abuse by Risk ELDER ABUSE ABUSE AND INFORMATION LINE SAIL Call or Toll Free 7 days a week 8am to 8pm Language interpretation is available through 9am to 4pm SAIL is a safe place to speak to a worker about abuse or mistreatment receive information and support about that impact the health and of an older adult If you are in a situation and not sure where to turn give them a call There is no harm in calling to ask a few Those who answer the line are trained in any red and have your best interest in mind when it comes to offering advice The more we have the better we can manage any situation that life our way Stay socially connected Now more than ever it is important to stay socially connected and engaged We may be physically distant but that does not mean socially isolated as well You are not a burden Repeat You deserve to be safe secure and comfortable Remember that you are not alone Free support group for who have experienced or are abuse of any kind seeking help on a voluntary basis or by family or who reside in New Port Port Moody Surrey and 6044535885 Thank you to our volunteer for writing this',\n",
              " 'What To Do if Youve Fallen Victim to a Scam target and are highly skilled It can be hard to identify and its scary to try to figure out what to do after falling victim to one If you have fallen to a scam or financial fraud you may feel shame and embarrassment but you shouldnt are convincing and difficult to is never the fault for being and can strike by phone fake and on social media First is a great resource for learning more about and recently and fraud during COVID19 How do I tell if I have fallen victim to a scam Its important to keep a close eye on your and learn more about in order to identify any fraudulent activity Check your bank account statement regularly to catch any suspicious If you see any suspicious that you do not remember making you have likely fallen victim to a scam I think I have been What should I do It can feel really overwhelming and you may not know what to do next You will have to contact several to resolve the situation Try your best to stay calm these are there to help you You can 18005630808 Its really scary to be the victim of a scam but your community is here to support you Remember that its not your fault and there are many people and that are here to help Reference List Thank you to our volunteer for writing this article']"
            ]
          },
          "metadata": {},
          "execution_count": 10
        }
      ]
    },
    {
      "cell_type": "code",
      "source": [
        "news_df['nostop'] = df_nostop['nostop']"
      ],
      "metadata": {
        "id": "cOiPoexRZ0EE"
      },
      "execution_count": null,
      "outputs": []
    },
    {
      "cell_type": "markdown",
      "source": [
        "### Stemming and Lemmatization"
      ],
      "metadata": {
        "id": "OIOgv-N-jizQ"
      }
    },
    {
      "cell_type": "code",
      "source": [
        "import nltk\n",
        "import gensim\n",
        "from nltk.stem import WordNetLemmatizer, SnowballStemmer\n",
        "from nltk.tokenize import sent_tokenize, word_tokenize\n",
        "from nltk.stem.porter import *\n",
        "from nltk.stem import PorterStemmer\n",
        "nltk.download('wordnet')\n",
        "\n",
        "stemmer = SnowballStemmer('english')"
      ],
      "metadata": {
        "colab": {
          "base_uri": "https://localhost:8080/"
        },
        "id": "o_gNno-aTHlH",
        "outputId": "01c1015b-a20a-4790-e75b-b00ab3706183"
      },
      "execution_count": null,
      "outputs": [
        {
          "output_type": "stream",
          "name": "stdout",
          "text": [
            "[nltk_data] Downloading package wordnet to /root/nltk_data...\n",
            "[nltk_data]   Unzipping corpora/wordnet.zip.\n"
          ]
        }
      ]
    },
    {
      "cell_type": "code",
      "source": [
        "porter = PorterStemmer()\n",
        "\n",
        "def stemSentence(sentence):\n",
        "    token_words=word_tokenize(sentence)\n",
        "    token_words\n",
        "    stem_sentence=[]\n",
        "    for word in token_words:\n",
        "        stem_sentence.append(porter.stem(word))\n",
        "        stem_sentence.append(\" \")\n",
        "    return \"\".join(stem_sentence)"
      ],
      "metadata": {
        "id": "Gk7HyWAZTW2s"
      },
      "execution_count": null,
      "outputs": []
    },
    {
      "cell_type": "code",
      "source": [
        "def lemmatize_stemming(text):\n",
        "    return stemmer.stem(WordNetLemmatizer().lemmatize(text, pos='v'))\n",
        "\n",
        "def preprocess(text):\n",
        "    result = []\n",
        "    for token in gensim.utils.simple_preprocess(text):\n",
        "        if token not in gensim.parsing.preprocessing.STOPWORDS and len(token) > 3:\n",
        "            result.append(lemmatize_stemming(token))\n",
        "    return result"
      ],
      "metadata": {
        "id": "lcQD0U6MS_4R"
      },
      "execution_count": null,
      "outputs": []
    },
    {
      "cell_type": "code",
      "source": [
        "df_lemma ={}\n",
        "df_lemma['lemmatized'] = []\n",
        "for i in news_df['cleaned_text']:\n",
        "  lemma = ' '.join(preprocess(i))\n",
        "  df_lemma['lemmatized'].append(lemma)"
      ],
      "metadata": {
        "id": "Pd0OcwKrTCt_"
      },
      "execution_count": null,
      "outputs": []
    },
    {
      "cell_type": "code",
      "source": [
        "news_df['lemmatized'] = df_lemma['lemmatized']"
      ],
      "metadata": {
        "id": "2ZYOH0hZUFwY"
      },
      "execution_count": null,
      "outputs": []
    },
    {
      "cell_type": "markdown",
      "source": [
        "### BERT Topic Modeling"
      ],
      "metadata": {
        "id": "qYHFGetZjvEH"
      }
    },
    {
      "cell_type": "code",
      "source": [
        "# Instanciating BERTopic\n",
        "topic_model = BERTopic(language = \"english\", calculate_probabilities = True, verbose = True)"
      ],
      "metadata": {
        "id": "gm-R7HakMDdv"
      },
      "execution_count": null,
      "outputs": []
    },
    {
      "cell_type": "code",
      "source": [
        "# Fitting\n",
        "topics, probs = topic_model.fit_transform(news_df['lemmatized'])"
      ],
      "metadata": {
        "id": "08dt7_y7MeZu"
      },
      "execution_count": null,
      "outputs": []
    },
    {
      "cell_type": "code",
      "source": [
        "topic_model.save(\"BERTopic_elderly_news_model\")"
      ],
      "metadata": {
        "id": "cYKaVr-ErVRw"
      },
      "execution_count": null,
      "outputs": []
    },
    {
      "cell_type": "code",
      "source": [
        "topic_model = BERTopic.load(\"BERTopic_elderly_news_model\")"
      ],
      "metadata": {
        "id": "jSletjsDShnn"
      },
      "execution_count": null,
      "outputs": []
    },
    {
      "cell_type": "code",
      "source": [
        "topic_model.get_topic_info().head(20)"
      ],
      "metadata": {
        "colab": {
          "base_uri": "https://localhost:8080/",
          "height": 614
        },
        "id": "u6lps2ibX3O8",
        "outputId": "57c7995d-cd79-49c4-81e5-bc570722b70b"
      },
      "execution_count": null,
      "outputs": [
        {
          "output_type": "execute_result",
          "data": {
            "text/plain": [
              "    Topic  Count                            Name\n",
              "0       0    298        0_hous_home_afford_build\n",
              "1      -1    201       -1_senior_care_older_help\n",
              "2       1    150           1_year_like_hair_love\n",
              "3       2     68       2_blood_diet_diabet_heart\n",
              "4       3     57      3_senior_care_report_advoc\n",
              "5       4     54       4_social_older_adult_care\n",
              "6       5     39  5_vaccin_covid_outbreak_pandem\n",
              "7       6     38       6_walk_exercis_fall_speed\n",
              "8       7     27  7_senior_campaign_intern_older\n",
              "9       8     26    8_cognit_dementia_brain_hear\n",
              "10      9     25      9_pain_drug_exercis_pillow\n",
              "11     10     23     10_abus_elder_older_neglect\n",
              "12     11     17   11_older_worker_age_discrimin\n",
              "13     12     16   12_cancer_screen_prostat_risk\n",
              "14     13     14         13_hear_sound_aid_hanan\n",
              "15     14     14   14_drug_women_menopaus_hormon\n",
              "16     15     13   15_smoke_quit_alcohol_nicotin\n",
              "17     16     11     16_driver_drive_vehicl_road"
            ],
            "text/html": [
              "\n",
              "  <div id=\"df-4c63f648-d1e1-443e-8850-9784b0ee6436\">\n",
              "    <div class=\"colab-df-container\">\n",
              "      <div>\n",
              "<style scoped>\n",
              "    .dataframe tbody tr th:only-of-type {\n",
              "        vertical-align: middle;\n",
              "    }\n",
              "\n",
              "    .dataframe tbody tr th {\n",
              "        vertical-align: top;\n",
              "    }\n",
              "\n",
              "    .dataframe thead th {\n",
              "        text-align: right;\n",
              "    }\n",
              "</style>\n",
              "<table border=\"1\" class=\"dataframe\">\n",
              "  <thead>\n",
              "    <tr style=\"text-align: right;\">\n",
              "      <th></th>\n",
              "      <th>Topic</th>\n",
              "      <th>Count</th>\n",
              "      <th>Name</th>\n",
              "    </tr>\n",
              "  </thead>\n",
              "  <tbody>\n",
              "    <tr>\n",
              "      <th>0</th>\n",
              "      <td>0</td>\n",
              "      <td>298</td>\n",
              "      <td>0_hous_home_afford_build</td>\n",
              "    </tr>\n",
              "    <tr>\n",
              "      <th>1</th>\n",
              "      <td>-1</td>\n",
              "      <td>201</td>\n",
              "      <td>-1_senior_care_older_help</td>\n",
              "    </tr>\n",
              "    <tr>\n",
              "      <th>2</th>\n",
              "      <td>1</td>\n",
              "      <td>150</td>\n",
              "      <td>1_year_like_hair_love</td>\n",
              "    </tr>\n",
              "    <tr>\n",
              "      <th>3</th>\n",
              "      <td>2</td>\n",
              "      <td>68</td>\n",
              "      <td>2_blood_diet_diabet_heart</td>\n",
              "    </tr>\n",
              "    <tr>\n",
              "      <th>4</th>\n",
              "      <td>3</td>\n",
              "      <td>57</td>\n",
              "      <td>3_senior_care_report_advoc</td>\n",
              "    </tr>\n",
              "    <tr>\n",
              "      <th>5</th>\n",
              "      <td>4</td>\n",
              "      <td>54</td>\n",
              "      <td>4_social_older_adult_care</td>\n",
              "    </tr>\n",
              "    <tr>\n",
              "      <th>6</th>\n",
              "      <td>5</td>\n",
              "      <td>39</td>\n",
              "      <td>5_vaccin_covid_outbreak_pandem</td>\n",
              "    </tr>\n",
              "    <tr>\n",
              "      <th>7</th>\n",
              "      <td>6</td>\n",
              "      <td>38</td>\n",
              "      <td>6_walk_exercis_fall_speed</td>\n",
              "    </tr>\n",
              "    <tr>\n",
              "      <th>8</th>\n",
              "      <td>7</td>\n",
              "      <td>27</td>\n",
              "      <td>7_senior_campaign_intern_older</td>\n",
              "    </tr>\n",
              "    <tr>\n",
              "      <th>9</th>\n",
              "      <td>8</td>\n",
              "      <td>26</td>\n",
              "      <td>8_cognit_dementia_brain_hear</td>\n",
              "    </tr>\n",
              "    <tr>\n",
              "      <th>10</th>\n",
              "      <td>9</td>\n",
              "      <td>25</td>\n",
              "      <td>9_pain_drug_exercis_pillow</td>\n",
              "    </tr>\n",
              "    <tr>\n",
              "      <th>11</th>\n",
              "      <td>10</td>\n",
              "      <td>23</td>\n",
              "      <td>10_abus_elder_older_neglect</td>\n",
              "    </tr>\n",
              "    <tr>\n",
              "      <th>12</th>\n",
              "      <td>11</td>\n",
              "      <td>17</td>\n",
              "      <td>11_older_worker_age_discrimin</td>\n",
              "    </tr>\n",
              "    <tr>\n",
              "      <th>13</th>\n",
              "      <td>12</td>\n",
              "      <td>16</td>\n",
              "      <td>12_cancer_screen_prostat_risk</td>\n",
              "    </tr>\n",
              "    <tr>\n",
              "      <th>14</th>\n",
              "      <td>13</td>\n",
              "      <td>14</td>\n",
              "      <td>13_hear_sound_aid_hanan</td>\n",
              "    </tr>\n",
              "    <tr>\n",
              "      <th>15</th>\n",
              "      <td>14</td>\n",
              "      <td>14</td>\n",
              "      <td>14_drug_women_menopaus_hormon</td>\n",
              "    </tr>\n",
              "    <tr>\n",
              "      <th>16</th>\n",
              "      <td>15</td>\n",
              "      <td>13</td>\n",
              "      <td>15_smoke_quit_alcohol_nicotin</td>\n",
              "    </tr>\n",
              "    <tr>\n",
              "      <th>17</th>\n",
              "      <td>16</td>\n",
              "      <td>11</td>\n",
              "      <td>16_driver_drive_vehicl_road</td>\n",
              "    </tr>\n",
              "  </tbody>\n",
              "</table>\n",
              "</div>\n",
              "      <button class=\"colab-df-convert\" onclick=\"convertToInteractive('df-4c63f648-d1e1-443e-8850-9784b0ee6436')\"\n",
              "              title=\"Convert this dataframe to an interactive table.\"\n",
              "              style=\"display:none;\">\n",
              "        \n",
              "  <svg xmlns=\"http://www.w3.org/2000/svg\" height=\"24px\"viewBox=\"0 0 24 24\"\n",
              "       width=\"24px\">\n",
              "    <path d=\"M0 0h24v24H0V0z\" fill=\"none\"/>\n",
              "    <path d=\"M18.56 5.44l.94 2.06.94-2.06 2.06-.94-2.06-.94-.94-2.06-.94 2.06-2.06.94zm-11 1L8.5 8.5l.94-2.06 2.06-.94-2.06-.94L8.5 2.5l-.94 2.06-2.06.94zm10 10l.94 2.06.94-2.06 2.06-.94-2.06-.94-.94-2.06-.94 2.06-2.06.94z\"/><path d=\"M17.41 7.96l-1.37-1.37c-.4-.4-.92-.59-1.43-.59-.52 0-1.04.2-1.43.59L10.3 9.45l-7.72 7.72c-.78.78-.78 2.05 0 2.83L4 21.41c.39.39.9.59 1.41.59.51 0 1.02-.2 1.41-.59l7.78-7.78 2.81-2.81c.8-.78.8-2.07 0-2.86zM5.41 20L4 18.59l7.72-7.72 1.47 1.35L5.41 20z\"/>\n",
              "  </svg>\n",
              "      </button>\n",
              "      \n",
              "  <style>\n",
              "    .colab-df-container {\n",
              "      display:flex;\n",
              "      flex-wrap:wrap;\n",
              "      gap: 12px;\n",
              "    }\n",
              "\n",
              "    .colab-df-convert {\n",
              "      background-color: #E8F0FE;\n",
              "      border: none;\n",
              "      border-radius: 50%;\n",
              "      cursor: pointer;\n",
              "      display: none;\n",
              "      fill: #1967D2;\n",
              "      height: 32px;\n",
              "      padding: 0 0 0 0;\n",
              "      width: 32px;\n",
              "    }\n",
              "\n",
              "    .colab-df-convert:hover {\n",
              "      background-color: #E2EBFA;\n",
              "      box-shadow: 0px 1px 2px rgba(60, 64, 67, 0.3), 0px 1px 3px 1px rgba(60, 64, 67, 0.15);\n",
              "      fill: #174EA6;\n",
              "    }\n",
              "\n",
              "    [theme=dark] .colab-df-convert {\n",
              "      background-color: #3B4455;\n",
              "      fill: #D2E3FC;\n",
              "    }\n",
              "\n",
              "    [theme=dark] .colab-df-convert:hover {\n",
              "      background-color: #434B5C;\n",
              "      box-shadow: 0px 1px 3px 1px rgba(0, 0, 0, 0.15);\n",
              "      filter: drop-shadow(0px 1px 2px rgba(0, 0, 0, 0.3));\n",
              "      fill: #FFFFFF;\n",
              "    }\n",
              "  </style>\n",
              "\n",
              "      <script>\n",
              "        const buttonEl =\n",
              "          document.querySelector('#df-4c63f648-d1e1-443e-8850-9784b0ee6436 button.colab-df-convert');\n",
              "        buttonEl.style.display =\n",
              "          google.colab.kernel.accessAllowed ? 'block' : 'none';\n",
              "\n",
              "        async function convertToInteractive(key) {\n",
              "          const element = document.querySelector('#df-4c63f648-d1e1-443e-8850-9784b0ee6436');\n",
              "          const dataTable =\n",
              "            await google.colab.kernel.invokeFunction('convertToInteractive',\n",
              "                                                     [key], {});\n",
              "          if (!dataTable) return;\n",
              "\n",
              "          const docLinkHtml = 'Like what you see? Visit the ' +\n",
              "            '<a target=\"_blank\" href=https://colab.research.google.com/notebooks/data_table.ipynb>data table notebook</a>'\n",
              "            + ' to learn more about interactive tables.';\n",
              "          element.innerHTML = '';\n",
              "          dataTable['output_type'] = 'display_data';\n",
              "          await google.colab.output.renderOutput(dataTable, element);\n",
              "          const docLink = document.createElement('div');\n",
              "          docLink.innerHTML = docLinkHtml;\n",
              "          element.appendChild(docLink);\n",
              "        }\n",
              "      </script>\n",
              "    </div>\n",
              "  </div>\n",
              "  "
            ]
          },
          "metadata": {},
          "execution_count": 21
        }
      ]
    },
    {
      "cell_type": "code",
      "source": [
        "print(f\"Topics discovered: {max(topic_model.get_topic_info()['Topic']) +1}\")"
      ],
      "metadata": {
        "colab": {
          "base_uri": "https://localhost:8080/"
        },
        "id": "PMceygsgaBGr",
        "outputId": "c2b5cd84-f925-4fd2-dae5-9da7a3b76588"
      },
      "execution_count": null,
      "outputs": [
        {
          "output_type": "stream",
          "name": "stdout",
          "text": [
            "Topics discovered: 17\n"
          ]
        }
      ]
    },
    {
      "cell_type": "code",
      "source": [
        "news_df['topic'] = topics\n",
        "news_df.head()"
      ],
      "metadata": {
        "colab": {
          "base_uri": "https://localhost:8080/",
          "height": 424
        },
        "id": "CnOa_SXUvkDR",
        "outputId": "f81db78a-e952-4b03-a507-7f9ca58e91ee"
      },
      "execution_count": null,
      "outputs": [
        {
          "output_type": "execute_result",
          "data": {
            "text/plain": [
              "                                                link       date  \\\n",
              "0  https://seniorsfirstbc.ca/news/seniors-first-b...  10/1/2021   \n",
              "1  https://seniorsfirstbc.ca/news/seniors-first-b...  7/26/2021   \n",
              "2  https://seniorsfirstbc.ca/news/vaccine-appoint...   3/1/2021   \n",
              "3              https://seniorsfirstbc.ca/news/11839/   8/6/2020   \n",
              "4  https://seniorsfirstbc.ca/news/what-to-do-if-y...   8/5/2020   \n",
              "\n",
              "                                              header  \\\n",
              "0   Seniors First BC 2020-2021 Annual Report Release   \n",
              "1  Seniors First BC Hiring Part-Time Seniors Abus...   \n",
              "2                   Vaccine Appointments for Seniors   \n",
              "3                               ABUSE VERSUS NEGLECT   \n",
              "4       What To Do if You’ve Fallen Victim to a Scam   \n",
              "\n",
              "                                           body_text  \\\n",
              "0  Seniors First BC recently released its Annual ...   \n",
              "1  We are hiring a part-time Intake Worker to ans...   \n",
              "2  Vaccine call centres for seniors open March 8,...   \n",
              "3  ABUSE VERSUS NEGLECT Abuse is an action that c...   \n",
              "4   What To Do if You’ve Fallen Victim to a Scam ...   \n",
              "\n",
              "                                        cleaned_text                website  \\\n",
              "0  Seniors First BC recently released its Annual ...  seniors_first_bc_news   \n",
              "1  We are hiring a part-time Intake Worker to ans...  seniors_first_bc_news   \n",
              "2  Vaccine call centres for seniors open March 8,...  seniors_first_bc_news   \n",
              "3  ABUSE VERSUS NEGLECT Abuse is an action that c...  seniors_first_bc_news   \n",
              "4  What To Do if You’ve Fallen Victim to a Scam S...  seniors_first_bc_news   \n",
              "\n",
              "   blob_polarity                                             nostop  \\\n",
              "0       0.125000  Seniors First BC recently released Annual Repo...   \n",
              "1       0.300000  hiring part-time Intake Worker answer Seniors ...   \n",
              "2       0.366667  Vaccine call centres seniors open March 8 , 20...   \n",
              "3       0.209425  ABUSE VERSUS NEGLECT Abuse action causes harm ...   \n",
              "4       0.109195  ’ Fallen Victim Scam Scammers target seniors h...   \n",
              "\n",
              "                                          lemmatized  topic  \n",
              "0  senior recent releas annual report report prov...      3  \n",
              "1  hire time intak worker answer senior abus info...      7  \n",
              "2  vaccin centr senior open march book vaccin app...      5  \n",
              "3  abus versus neglect abus action caus harm indi...     10  \n",
              "4  fall victim scam scammer target senior high sk...     -1  "
            ],
            "text/html": [
              "\n",
              "  <div id=\"df-1dbe8b4e-ab2d-43e3-afdd-1ae730951168\">\n",
              "    <div class=\"colab-df-container\">\n",
              "      <div>\n",
              "<style scoped>\n",
              "    .dataframe tbody tr th:only-of-type {\n",
              "        vertical-align: middle;\n",
              "    }\n",
              "\n",
              "    .dataframe tbody tr th {\n",
              "        vertical-align: top;\n",
              "    }\n",
              "\n",
              "    .dataframe thead th {\n",
              "        text-align: right;\n",
              "    }\n",
              "</style>\n",
              "<table border=\"1\" class=\"dataframe\">\n",
              "  <thead>\n",
              "    <tr style=\"text-align: right;\">\n",
              "      <th></th>\n",
              "      <th>link</th>\n",
              "      <th>date</th>\n",
              "      <th>header</th>\n",
              "      <th>body_text</th>\n",
              "      <th>cleaned_text</th>\n",
              "      <th>website</th>\n",
              "      <th>blob_polarity</th>\n",
              "      <th>nostop</th>\n",
              "      <th>lemmatized</th>\n",
              "      <th>topic</th>\n",
              "    </tr>\n",
              "  </thead>\n",
              "  <tbody>\n",
              "    <tr>\n",
              "      <th>0</th>\n",
              "      <td>https://seniorsfirstbc.ca/news/seniors-first-b...</td>\n",
              "      <td>10/1/2021</td>\n",
              "      <td>Seniors First BC 2020-2021 Annual Report Release</td>\n",
              "      <td>Seniors First BC recently released its Annual ...</td>\n",
              "      <td>Seniors First BC recently released its Annual ...</td>\n",
              "      <td>seniors_first_bc_news</td>\n",
              "      <td>0.125000</td>\n",
              "      <td>Seniors First BC recently released Annual Repo...</td>\n",
              "      <td>senior recent releas annual report report prov...</td>\n",
              "      <td>3</td>\n",
              "    </tr>\n",
              "    <tr>\n",
              "      <th>1</th>\n",
              "      <td>https://seniorsfirstbc.ca/news/seniors-first-b...</td>\n",
              "      <td>7/26/2021</td>\n",
              "      <td>Seniors First BC Hiring Part-Time Seniors Abus...</td>\n",
              "      <td>We are hiring a part-time Intake Worker to ans...</td>\n",
              "      <td>We are hiring a part-time Intake Worker to ans...</td>\n",
              "      <td>seniors_first_bc_news</td>\n",
              "      <td>0.300000</td>\n",
              "      <td>hiring part-time Intake Worker answer Seniors ...</td>\n",
              "      <td>hire time intak worker answer senior abus info...</td>\n",
              "      <td>7</td>\n",
              "    </tr>\n",
              "    <tr>\n",
              "      <th>2</th>\n",
              "      <td>https://seniorsfirstbc.ca/news/vaccine-appoint...</td>\n",
              "      <td>3/1/2021</td>\n",
              "      <td>Vaccine Appointments for Seniors</td>\n",
              "      <td>Vaccine call centres for seniors open March 8,...</td>\n",
              "      <td>Vaccine call centres for seniors open March 8,...</td>\n",
              "      <td>seniors_first_bc_news</td>\n",
              "      <td>0.366667</td>\n",
              "      <td>Vaccine call centres seniors open March 8 , 20...</td>\n",
              "      <td>vaccin centr senior open march book vaccin app...</td>\n",
              "      <td>5</td>\n",
              "    </tr>\n",
              "    <tr>\n",
              "      <th>3</th>\n",
              "      <td>https://seniorsfirstbc.ca/news/11839/</td>\n",
              "      <td>8/6/2020</td>\n",
              "      <td>ABUSE VERSUS NEGLECT</td>\n",
              "      <td>ABUSE VERSUS NEGLECT Abuse is an action that c...</td>\n",
              "      <td>ABUSE VERSUS NEGLECT Abuse is an action that c...</td>\n",
              "      <td>seniors_first_bc_news</td>\n",
              "      <td>0.209425</td>\n",
              "      <td>ABUSE VERSUS NEGLECT Abuse action causes harm ...</td>\n",
              "      <td>abus versus neglect abus action caus harm indi...</td>\n",
              "      <td>10</td>\n",
              "    </tr>\n",
              "    <tr>\n",
              "      <th>4</th>\n",
              "      <td>https://seniorsfirstbc.ca/news/what-to-do-if-y...</td>\n",
              "      <td>8/5/2020</td>\n",
              "      <td>What To Do if You’ve Fallen Victim to a Scam</td>\n",
              "      <td>What To Do if You’ve Fallen Victim to a Scam ...</td>\n",
              "      <td>What To Do if You’ve Fallen Victim to a Scam S...</td>\n",
              "      <td>seniors_first_bc_news</td>\n",
              "      <td>0.109195</td>\n",
              "      <td>’ Fallen Victim Scam Scammers target seniors h...</td>\n",
              "      <td>fall victim scam scammer target senior high sk...</td>\n",
              "      <td>-1</td>\n",
              "    </tr>\n",
              "  </tbody>\n",
              "</table>\n",
              "</div>\n",
              "      <button class=\"colab-df-convert\" onclick=\"convertToInteractive('df-1dbe8b4e-ab2d-43e3-afdd-1ae730951168')\"\n",
              "              title=\"Convert this dataframe to an interactive table.\"\n",
              "              style=\"display:none;\">\n",
              "        \n",
              "  <svg xmlns=\"http://www.w3.org/2000/svg\" height=\"24px\"viewBox=\"0 0 24 24\"\n",
              "       width=\"24px\">\n",
              "    <path d=\"M0 0h24v24H0V0z\" fill=\"none\"/>\n",
              "    <path d=\"M18.56 5.44l.94 2.06.94-2.06 2.06-.94-2.06-.94-.94-2.06-.94 2.06-2.06.94zm-11 1L8.5 8.5l.94-2.06 2.06-.94-2.06-.94L8.5 2.5l-.94 2.06-2.06.94zm10 10l.94 2.06.94-2.06 2.06-.94-2.06-.94-.94-2.06-.94 2.06-2.06.94z\"/><path d=\"M17.41 7.96l-1.37-1.37c-.4-.4-.92-.59-1.43-.59-.52 0-1.04.2-1.43.59L10.3 9.45l-7.72 7.72c-.78.78-.78 2.05 0 2.83L4 21.41c.39.39.9.59 1.41.59.51 0 1.02-.2 1.41-.59l7.78-7.78 2.81-2.81c.8-.78.8-2.07 0-2.86zM5.41 20L4 18.59l7.72-7.72 1.47 1.35L5.41 20z\"/>\n",
              "  </svg>\n",
              "      </button>\n",
              "      \n",
              "  <style>\n",
              "    .colab-df-container {\n",
              "      display:flex;\n",
              "      flex-wrap:wrap;\n",
              "      gap: 12px;\n",
              "    }\n",
              "\n",
              "    .colab-df-convert {\n",
              "      background-color: #E8F0FE;\n",
              "      border: none;\n",
              "      border-radius: 50%;\n",
              "      cursor: pointer;\n",
              "      display: none;\n",
              "      fill: #1967D2;\n",
              "      height: 32px;\n",
              "      padding: 0 0 0 0;\n",
              "      width: 32px;\n",
              "    }\n",
              "\n",
              "    .colab-df-convert:hover {\n",
              "      background-color: #E2EBFA;\n",
              "      box-shadow: 0px 1px 2px rgba(60, 64, 67, 0.3), 0px 1px 3px 1px rgba(60, 64, 67, 0.15);\n",
              "      fill: #174EA6;\n",
              "    }\n",
              "\n",
              "    [theme=dark] .colab-df-convert {\n",
              "      background-color: #3B4455;\n",
              "      fill: #D2E3FC;\n",
              "    }\n",
              "\n",
              "    [theme=dark] .colab-df-convert:hover {\n",
              "      background-color: #434B5C;\n",
              "      box-shadow: 0px 1px 3px 1px rgba(0, 0, 0, 0.15);\n",
              "      filter: drop-shadow(0px 1px 2px rgba(0, 0, 0, 0.3));\n",
              "      fill: #FFFFFF;\n",
              "    }\n",
              "  </style>\n",
              "\n",
              "      <script>\n",
              "        const buttonEl =\n",
              "          document.querySelector('#df-1dbe8b4e-ab2d-43e3-afdd-1ae730951168 button.colab-df-convert');\n",
              "        buttonEl.style.display =\n",
              "          google.colab.kernel.accessAllowed ? 'block' : 'none';\n",
              "\n",
              "        async function convertToInteractive(key) {\n",
              "          const element = document.querySelector('#df-1dbe8b4e-ab2d-43e3-afdd-1ae730951168');\n",
              "          const dataTable =\n",
              "            await google.colab.kernel.invokeFunction('convertToInteractive',\n",
              "                                                     [key], {});\n",
              "          if (!dataTable) return;\n",
              "\n",
              "          const docLinkHtml = 'Like what you see? Visit the ' +\n",
              "            '<a target=\"_blank\" href=https://colab.research.google.com/notebooks/data_table.ipynb>data table notebook</a>'\n",
              "            + ' to learn more about interactive tables.';\n",
              "          element.innerHTML = '';\n",
              "          dataTable['output_type'] = 'display_data';\n",
              "          await google.colab.output.renderOutput(dataTable, element);\n",
              "          const docLink = document.createElement('div');\n",
              "          docLink.innerHTML = docLinkHtml;\n",
              "          element.appendChild(docLink);\n",
              "        }\n",
              "      </script>\n",
              "    </div>\n",
              "  </div>\n",
              "  "
            ]
          },
          "metadata": {},
          "execution_count": 23
        }
      ]
    },
    {
      "cell_type": "code",
      "source": [
        "news_df.to_csv('topic_elderly_news.csv')"
      ],
      "metadata": {
        "id": "7cQAmN5jv6Q3"
      },
      "execution_count": null,
      "outputs": []
    },
    {
      "cell_type": "code",
      "source": [
        "topic_model.visualize_barchart(top_n_topics=16)"
      ],
      "metadata": {
        "colab": {
          "base_uri": "https://localhost:8080/",
          "height": 1000
        },
        "id": "_cF8wnDzZIqz",
        "outputId": "9eab608a-074e-4f09-ba62-d0b9563487f6"
      },
      "execution_count": null,
      "outputs": [
        {
          "output_type": "display_data",
          "data": {
            "text/html": [
              "<html>\n",
              "<head><meta charset=\"utf-8\" /></head>\n",
              "<body>\n",
              "    <div>            <script src=\"https://cdnjs.cloudflare.com/ajax/libs/mathjax/2.7.5/MathJax.js?config=TeX-AMS-MML_SVG\"></script><script type=\"text/javascript\">if (window.MathJax) {MathJax.Hub.Config({SVG: {font: \"STIX-Web\"}});}</script>                <script type=\"text/javascript\">window.PlotlyConfig = {MathJaxConfig: 'local'};</script>\n",
              "        <script src=\"https://cdn.plot.ly/plotly-2.8.3.min.js\"></script>                <div id=\"adffae6a-68eb-47d4-8faf-fb043f8c16e7\" class=\"plotly-graph-div\" style=\"height:1000px; width:1000px;\"></div>            <script type=\"text/javascript\">                                    window.PLOTLYENV=window.PLOTLYENV || {};                                    if (document.getElementById(\"adffae6a-68eb-47d4-8faf-fb043f8c16e7\")) {                    Plotly.newPlot(                        \"adffae6a-68eb-47d4-8faf-fb043f8c16e7\",                        [{\"marker\":{\"color\":\"#D55E00\"},\"orientation\":\"h\",\"x\":[0.016556263610227297,0.017237320268354287,0.019283146429566585,0.02203305271088086,0.02247740128224135],\"y\":[\"health  \",\"help  \",\"older  \",\"care  \",\"senior  \"],\"type\":\"bar\",\"xaxis\":\"x\",\"yaxis\":\"y\"},{\"marker\":{\"color\":\"#0072B2\"},\"orientation\":\"h\",\"x\":[0.018364642211176067,0.01872200413321826,0.01948201282323784,0.020123655819586552,0.023530292130509733],\"y\":[\"time  \",\"love  \",\"hair  \",\"like  \",\"year  \"],\"type\":\"bar\",\"xaxis\":\"x2\",\"yaxis\":\"y2\"},{\"marker\":{\"color\":\"#CC79A7\"},\"orientation\":\"h\",\"x\":[0.03261746999048885,0.03302829934278283,0.04647283573267361,0.048634383896545175,0.05065371994359806],\"y\":[\"weight  \",\"heart  \",\"diabet  \",\"diet  \",\"blood  \"],\"type\":\"bar\",\"xaxis\":\"x3\",\"yaxis\":\"y3\"},{\"marker\":{\"color\":\"#E69F00\"},\"orientation\":\"h\",\"x\":[0.04382701396364399,0.054226299120335344,0.057450100741321584,0.06458984856837846,0.0897079373354319],\"y\":[\"increas  \",\"advoc  \",\"report  \",\"care  \",\"senior  \"],\"type\":\"bar\",\"xaxis\":\"x4\",\"yaxis\":\"y4\"},{\"marker\":{\"color\":\"#56B4E9\"},\"orientation\":\"h\",\"x\":[0.03224967007759283,0.04098598137756498,0.049991341754660225,0.05175469985575301,0.05328028290555959],\"y\":[\"caregiv  \",\"care  \",\"adult  \",\"older  \",\"social  \"],\"type\":\"bar\",\"xaxis\":\"x5\",\"yaxis\":\"y5\"},{\"marker\":{\"color\":\"#009E73\"},\"orientation\":\"h\",\"x\":[0.04014896566651135,0.04117158239910133,0.05241904014049177,0.06260221406997553,0.06624006109274161],\"y\":[\"staff  \",\"pandem  \",\"outbreak  \",\"covid  \",\"vaccin  \"],\"type\":\"bar\",\"xaxis\":\"x6\",\"yaxis\":\"y6\"},{\"marker\":{\"color\":\"#F0E442\"},\"orientation\":\"h\",\"x\":[0.03274535451890692,0.034919975572273554,0.04252266269945728,0.06615467690624166,0.08289111743422337],\"y\":[\"activ  \",\"speed  \",\"fall  \",\"exercis  \",\"walk  \"],\"type\":\"bar\",\"xaxis\":\"x7\",\"yaxis\":\"y7\"},{\"marker\":{\"color\":\"#D55E00\"},\"orientation\":\"h\",\"x\":[0.036804025117203626,0.03787747240878092,0.03928443471545254,0.04409377177521962,0.09947057552810971],\"y\":[\"stori  \",\"older  \",\"intern  \",\"campaign  \",\"senior  \"],\"type\":\"bar\",\"xaxis\":\"x8\",\"yaxis\":\"y8\"},{\"marker\":{\"color\":\"#0072B2\"},\"orientation\":\"h\",\"x\":[0.03190062583636059,0.04462288532639784,0.04902451117204201,0.08648801255120236,0.09148441439492626],\"y\":[\"activ  \",\"hear  \",\"brain  \",\"dementia  \",\"cognit  \"],\"type\":\"bar\",\"xaxis\":\"x9\",\"yaxis\":\"y9\"},{\"marker\":{\"color\":\"#CC79A7\"},\"orientation\":\"h\",\"x\":[0.034640356676716076,0.037351718478293966,0.03938346236692428,0.05101940083221947,0.13433123849262724],\"y\":[\"treatment  \",\"pillow  \",\"exercis  \",\"drug  \",\"pain  \"],\"type\":\"bar\",\"xaxis\":\"x10\",\"yaxis\":\"y10\"},{\"marker\":{\"color\":\"#E69F00\"},\"orientation\":\"h\",\"x\":[0.0327481730652634,0.035869596484892054,0.05846083646068541,0.12720734195150266,0.22252219282538216],\"y\":[\"adult  \",\"neglect  \",\"older  \",\"elder  \",\"abus  \"],\"type\":\"bar\",\"xaxis\":\"x11\",\"yaxis\":\"y11\"},{\"marker\":{\"color\":\"#56B4E9\"},\"orientation\":\"h\",\"x\":[0.03280358287211071,0.035595513599334404,0.03916658376960767,0.054260779661356104,0.07260456158628541],\"y\":[\"disabl  \",\"discrimin  \",\"age  \",\"worker  \",\"older  \"],\"type\":\"bar\",\"xaxis\":\"x12\",\"yaxis\":\"y12\"},{\"marker\":{\"color\":\"#009E73\"},\"orientation\":\"h\",\"x\":[0.04996606757215314,0.05201534741647571,0.05406690426220524,0.09592374412797194,0.20906814601502516],\"y\":[\"breast  \",\"risk  \",\"prostat  \",\"screen  \",\"cancer  \"],\"type\":\"bar\",\"xaxis\":\"x13\",\"yaxis\":\"y13\"},{\"marker\":{\"color\":\"#F0E442\"},\"orientation\":\"h\",\"x\":[0.05962538762565208,0.06905842936354249,0.1129786446943177,0.11956332032562438,0.3065280848741064],\"y\":[\"clinic  \",\"hanan  \",\"aid  \",\"sound  \",\"hear  \"],\"type\":\"bar\",\"xaxis\":\"x14\",\"yaxis\":\"y14\"},{\"marker\":{\"color\":\"#D55E00\"},\"orientation\":\"h\",\"x\":[0.05265986157221817,0.05393270981233108,0.054124134221032696,0.058924862134318065,0.07058803979164933],\"y\":[\"incontin  \",\"hormon  \",\"menopaus  \",\"women  \",\"drug  \"],\"type\":\"bar\",\"xaxis\":\"x15\",\"yaxis\":\"y15\"},{\"marker\":{\"color\":\"#0072B2\"},\"orientation\":\"h\",\"x\":[0.04372153965700762,0.05540817292584638,0.07948416967027343,0.12428433802988208,0.1492572553344477],\"y\":[\"drink  \",\"nicotin  \",\"alcohol  \",\"quit  \",\"smoke  \"],\"type\":\"bar\",\"xaxis\":\"x16\",\"yaxis\":\"y16\"}],                        {\"template\":{\"data\":{\"barpolar\":[{\"marker\":{\"line\":{\"color\":\"white\",\"width\":0.5},\"pattern\":{\"fillmode\":\"overlay\",\"size\":10,\"solidity\":0.2}},\"type\":\"barpolar\"}],\"bar\":[{\"error_x\":{\"color\":\"#2a3f5f\"},\"error_y\":{\"color\":\"#2a3f5f\"},\"marker\":{\"line\":{\"color\":\"white\",\"width\":0.5},\"pattern\":{\"fillmode\":\"overlay\",\"size\":10,\"solidity\":0.2}},\"type\":\"bar\"}],\"carpet\":[{\"aaxis\":{\"endlinecolor\":\"#2a3f5f\",\"gridcolor\":\"#C8D4E3\",\"linecolor\":\"#C8D4E3\",\"minorgridcolor\":\"#C8D4E3\",\"startlinecolor\":\"#2a3f5f\"},\"baxis\":{\"endlinecolor\":\"#2a3f5f\",\"gridcolor\":\"#C8D4E3\",\"linecolor\":\"#C8D4E3\",\"minorgridcolor\":\"#C8D4E3\",\"startlinecolor\":\"#2a3f5f\"},\"type\":\"carpet\"}],\"choropleth\":[{\"colorbar\":{\"outlinewidth\":0,\"ticks\":\"\"},\"type\":\"choropleth\"}],\"contourcarpet\":[{\"colorbar\":{\"outlinewidth\":0,\"ticks\":\"\"},\"type\":\"contourcarpet\"}],\"contour\":[{\"colorbar\":{\"outlinewidth\":0,\"ticks\":\"\"},\"colorscale\":[[0.0,\"#0d0887\"],[0.1111111111111111,\"#46039f\"],[0.2222222222222222,\"#7201a8\"],[0.3333333333333333,\"#9c179e\"],[0.4444444444444444,\"#bd3786\"],[0.5555555555555556,\"#d8576b\"],[0.6666666666666666,\"#ed7953\"],[0.7777777777777778,\"#fb9f3a\"],[0.8888888888888888,\"#fdca26\"],[1.0,\"#f0f921\"]],\"type\":\"contour\"}],\"heatmapgl\":[{\"colorbar\":{\"outlinewidth\":0,\"ticks\":\"\"},\"colorscale\":[[0.0,\"#0d0887\"],[0.1111111111111111,\"#46039f\"],[0.2222222222222222,\"#7201a8\"],[0.3333333333333333,\"#9c179e\"],[0.4444444444444444,\"#bd3786\"],[0.5555555555555556,\"#d8576b\"],[0.6666666666666666,\"#ed7953\"],[0.7777777777777778,\"#fb9f3a\"],[0.8888888888888888,\"#fdca26\"],[1.0,\"#f0f921\"]],\"type\":\"heatmapgl\"}],\"heatmap\":[{\"colorbar\":{\"outlinewidth\":0,\"ticks\":\"\"},\"colorscale\":[[0.0,\"#0d0887\"],[0.1111111111111111,\"#46039f\"],[0.2222222222222222,\"#7201a8\"],[0.3333333333333333,\"#9c179e\"],[0.4444444444444444,\"#bd3786\"],[0.5555555555555556,\"#d8576b\"],[0.6666666666666666,\"#ed7953\"],[0.7777777777777778,\"#fb9f3a\"],[0.8888888888888888,\"#fdca26\"],[1.0,\"#f0f921\"]],\"type\":\"heatmap\"}],\"histogram2dcontour\":[{\"colorbar\":{\"outlinewidth\":0,\"ticks\":\"\"},\"colorscale\":[[0.0,\"#0d0887\"],[0.1111111111111111,\"#46039f\"],[0.2222222222222222,\"#7201a8\"],[0.3333333333333333,\"#9c179e\"],[0.4444444444444444,\"#bd3786\"],[0.5555555555555556,\"#d8576b\"],[0.6666666666666666,\"#ed7953\"],[0.7777777777777778,\"#fb9f3a\"],[0.8888888888888888,\"#fdca26\"],[1.0,\"#f0f921\"]],\"type\":\"histogram2dcontour\"}],\"histogram2d\":[{\"colorbar\":{\"outlinewidth\":0,\"ticks\":\"\"},\"colorscale\":[[0.0,\"#0d0887\"],[0.1111111111111111,\"#46039f\"],[0.2222222222222222,\"#7201a8\"],[0.3333333333333333,\"#9c179e\"],[0.4444444444444444,\"#bd3786\"],[0.5555555555555556,\"#d8576b\"],[0.6666666666666666,\"#ed7953\"],[0.7777777777777778,\"#fb9f3a\"],[0.8888888888888888,\"#fdca26\"],[1.0,\"#f0f921\"]],\"type\":\"histogram2d\"}],\"histogram\":[{\"marker\":{\"pattern\":{\"fillmode\":\"overlay\",\"size\":10,\"solidity\":0.2}},\"type\":\"histogram\"}],\"mesh3d\":[{\"colorbar\":{\"outlinewidth\":0,\"ticks\":\"\"},\"type\":\"mesh3d\"}],\"parcoords\":[{\"line\":{\"colorbar\":{\"outlinewidth\":0,\"ticks\":\"\"}},\"type\":\"parcoords\"}],\"pie\":[{\"automargin\":true,\"type\":\"pie\"}],\"scatter3d\":[{\"line\":{\"colorbar\":{\"outlinewidth\":0,\"ticks\":\"\"}},\"marker\":{\"colorbar\":{\"outlinewidth\":0,\"ticks\":\"\"}},\"type\":\"scatter3d\"}],\"scattercarpet\":[{\"marker\":{\"colorbar\":{\"outlinewidth\":0,\"ticks\":\"\"}},\"type\":\"scattercarpet\"}],\"scattergeo\":[{\"marker\":{\"colorbar\":{\"outlinewidth\":0,\"ticks\":\"\"}},\"type\":\"scattergeo\"}],\"scattergl\":[{\"marker\":{\"colorbar\":{\"outlinewidth\":0,\"ticks\":\"\"}},\"type\":\"scattergl\"}],\"scattermapbox\":[{\"marker\":{\"colorbar\":{\"outlinewidth\":0,\"ticks\":\"\"}},\"type\":\"scattermapbox\"}],\"scatterpolargl\":[{\"marker\":{\"colorbar\":{\"outlinewidth\":0,\"ticks\":\"\"}},\"type\":\"scatterpolargl\"}],\"scatterpolar\":[{\"marker\":{\"colorbar\":{\"outlinewidth\":0,\"ticks\":\"\"}},\"type\":\"scatterpolar\"}],\"scatter\":[{\"marker\":{\"colorbar\":{\"outlinewidth\":0,\"ticks\":\"\"}},\"type\":\"scatter\"}],\"scatterternary\":[{\"marker\":{\"colorbar\":{\"outlinewidth\":0,\"ticks\":\"\"}},\"type\":\"scatterternary\"}],\"surface\":[{\"colorbar\":{\"outlinewidth\":0,\"ticks\":\"\"},\"colorscale\":[[0.0,\"#0d0887\"],[0.1111111111111111,\"#46039f\"],[0.2222222222222222,\"#7201a8\"],[0.3333333333333333,\"#9c179e\"],[0.4444444444444444,\"#bd3786\"],[0.5555555555555556,\"#d8576b\"],[0.6666666666666666,\"#ed7953\"],[0.7777777777777778,\"#fb9f3a\"],[0.8888888888888888,\"#fdca26\"],[1.0,\"#f0f921\"]],\"type\":\"surface\"}],\"table\":[{\"cells\":{\"fill\":{\"color\":\"#EBF0F8\"},\"line\":{\"color\":\"white\"}},\"header\":{\"fill\":{\"color\":\"#C8D4E3\"},\"line\":{\"color\":\"white\"}},\"type\":\"table\"}]},\"layout\":{\"annotationdefaults\":{\"arrowcolor\":\"#2a3f5f\",\"arrowhead\":0,\"arrowwidth\":1},\"autotypenumbers\":\"strict\",\"coloraxis\":{\"colorbar\":{\"outlinewidth\":0,\"ticks\":\"\"}},\"colorscale\":{\"diverging\":[[0,\"#8e0152\"],[0.1,\"#c51b7d\"],[0.2,\"#de77ae\"],[0.3,\"#f1b6da\"],[0.4,\"#fde0ef\"],[0.5,\"#f7f7f7\"],[0.6,\"#e6f5d0\"],[0.7,\"#b8e186\"],[0.8,\"#7fbc41\"],[0.9,\"#4d9221\"],[1,\"#276419\"]],\"sequential\":[[0.0,\"#0d0887\"],[0.1111111111111111,\"#46039f\"],[0.2222222222222222,\"#7201a8\"],[0.3333333333333333,\"#9c179e\"],[0.4444444444444444,\"#bd3786\"],[0.5555555555555556,\"#d8576b\"],[0.6666666666666666,\"#ed7953\"],[0.7777777777777778,\"#fb9f3a\"],[0.8888888888888888,\"#fdca26\"],[1.0,\"#f0f921\"]],\"sequentialminus\":[[0.0,\"#0d0887\"],[0.1111111111111111,\"#46039f\"],[0.2222222222222222,\"#7201a8\"],[0.3333333333333333,\"#9c179e\"],[0.4444444444444444,\"#bd3786\"],[0.5555555555555556,\"#d8576b\"],[0.6666666666666666,\"#ed7953\"],[0.7777777777777778,\"#fb9f3a\"],[0.8888888888888888,\"#fdca26\"],[1.0,\"#f0f921\"]]},\"colorway\":[\"#636efa\",\"#EF553B\",\"#00cc96\",\"#ab63fa\",\"#FFA15A\",\"#19d3f3\",\"#FF6692\",\"#B6E880\",\"#FF97FF\",\"#FECB52\"],\"font\":{\"color\":\"#2a3f5f\"},\"geo\":{\"bgcolor\":\"white\",\"lakecolor\":\"white\",\"landcolor\":\"white\",\"showlakes\":true,\"showland\":true,\"subunitcolor\":\"#C8D4E3\"},\"hoverlabel\":{\"align\":\"left\"},\"hovermode\":\"closest\",\"mapbox\":{\"style\":\"light\"},\"paper_bgcolor\":\"white\",\"plot_bgcolor\":\"white\",\"polar\":{\"angularaxis\":{\"gridcolor\":\"#EBF0F8\",\"linecolor\":\"#EBF0F8\",\"ticks\":\"\"},\"bgcolor\":\"white\",\"radialaxis\":{\"gridcolor\":\"#EBF0F8\",\"linecolor\":\"#EBF0F8\",\"ticks\":\"\"}},\"scene\":{\"xaxis\":{\"backgroundcolor\":\"white\",\"gridcolor\":\"#DFE8F3\",\"gridwidth\":2,\"linecolor\":\"#EBF0F8\",\"showbackground\":true,\"ticks\":\"\",\"zerolinecolor\":\"#EBF0F8\"},\"yaxis\":{\"backgroundcolor\":\"white\",\"gridcolor\":\"#DFE8F3\",\"gridwidth\":2,\"linecolor\":\"#EBF0F8\",\"showbackground\":true,\"ticks\":\"\",\"zerolinecolor\":\"#EBF0F8\"},\"zaxis\":{\"backgroundcolor\":\"white\",\"gridcolor\":\"#DFE8F3\",\"gridwidth\":2,\"linecolor\":\"#EBF0F8\",\"showbackground\":true,\"ticks\":\"\",\"zerolinecolor\":\"#EBF0F8\"}},\"shapedefaults\":{\"line\":{\"color\":\"#2a3f5f\"}},\"ternary\":{\"aaxis\":{\"gridcolor\":\"#DFE8F3\",\"linecolor\":\"#A2B1C6\",\"ticks\":\"\"},\"baxis\":{\"gridcolor\":\"#DFE8F3\",\"linecolor\":\"#A2B1C6\",\"ticks\":\"\"},\"bgcolor\":\"white\",\"caxis\":{\"gridcolor\":\"#DFE8F3\",\"linecolor\":\"#A2B1C6\",\"ticks\":\"\"}},\"title\":{\"x\":0.05},\"xaxis\":{\"automargin\":true,\"gridcolor\":\"#EBF0F8\",\"linecolor\":\"#EBF0F8\",\"ticks\":\"\",\"title\":{\"standoff\":15},\"zerolinecolor\":\"#EBF0F8\",\"zerolinewidth\":2},\"yaxis\":{\"automargin\":true,\"gridcolor\":\"#EBF0F8\",\"linecolor\":\"#EBF0F8\",\"ticks\":\"\",\"title\":{\"standoff\":15},\"zerolinecolor\":\"#EBF0F8\",\"zerolinewidth\":2}}},\"xaxis\":{\"anchor\":\"y\",\"domain\":[0.0,0.175],\"showgrid\":true},\"yaxis\":{\"anchor\":\"x\",\"domain\":[0.825,1.0],\"showgrid\":true},\"xaxis2\":{\"anchor\":\"y2\",\"domain\":[0.275,0.45],\"showgrid\":true},\"yaxis2\":{\"anchor\":\"x2\",\"domain\":[0.825,1.0],\"showgrid\":true},\"xaxis3\":{\"anchor\":\"y3\",\"domain\":[0.55,0.7250000000000001],\"showgrid\":true},\"yaxis3\":{\"anchor\":\"x3\",\"domain\":[0.825,1.0],\"showgrid\":true},\"xaxis4\":{\"anchor\":\"y4\",\"domain\":[0.825,1.0],\"showgrid\":true},\"yaxis4\":{\"anchor\":\"x4\",\"domain\":[0.825,1.0],\"showgrid\":true},\"xaxis5\":{\"anchor\":\"y5\",\"domain\":[0.0,0.175],\"showgrid\":true},\"yaxis5\":{\"anchor\":\"x5\",\"domain\":[0.55,0.7250000000000001],\"showgrid\":true},\"xaxis6\":{\"anchor\":\"y6\",\"domain\":[0.275,0.45],\"showgrid\":true},\"yaxis6\":{\"anchor\":\"x6\",\"domain\":[0.55,0.7250000000000001],\"showgrid\":true},\"xaxis7\":{\"anchor\":\"y7\",\"domain\":[0.55,0.7250000000000001],\"showgrid\":true},\"yaxis7\":{\"anchor\":\"x7\",\"domain\":[0.55,0.7250000000000001],\"showgrid\":true},\"xaxis8\":{\"anchor\":\"y8\",\"domain\":[0.825,1.0],\"showgrid\":true},\"yaxis8\":{\"anchor\":\"x8\",\"domain\":[0.55,0.7250000000000001],\"showgrid\":true},\"xaxis9\":{\"anchor\":\"y9\",\"domain\":[0.0,0.175],\"showgrid\":true},\"yaxis9\":{\"anchor\":\"x9\",\"domain\":[0.275,0.45],\"showgrid\":true},\"xaxis10\":{\"anchor\":\"y10\",\"domain\":[0.275,0.45],\"showgrid\":true},\"yaxis10\":{\"anchor\":\"x10\",\"domain\":[0.275,0.45],\"showgrid\":true},\"xaxis11\":{\"anchor\":\"y11\",\"domain\":[0.55,0.7250000000000001],\"showgrid\":true},\"yaxis11\":{\"anchor\":\"x11\",\"domain\":[0.275,0.45],\"showgrid\":true},\"xaxis12\":{\"anchor\":\"y12\",\"domain\":[0.825,1.0],\"showgrid\":true},\"yaxis12\":{\"anchor\":\"x12\",\"domain\":[0.275,0.45],\"showgrid\":true},\"xaxis13\":{\"anchor\":\"y13\",\"domain\":[0.0,0.175],\"showgrid\":true},\"yaxis13\":{\"anchor\":\"x13\",\"domain\":[0.0,0.175],\"showgrid\":true},\"xaxis14\":{\"anchor\":\"y14\",\"domain\":[0.275,0.45],\"showgrid\":true},\"yaxis14\":{\"anchor\":\"x14\",\"domain\":[0.0,0.175],\"showgrid\":true},\"xaxis15\":{\"anchor\":\"y15\",\"domain\":[0.55,0.7250000000000001],\"showgrid\":true},\"yaxis15\":{\"anchor\":\"x15\",\"domain\":[0.0,0.175],\"showgrid\":true},\"xaxis16\":{\"anchor\":\"y16\",\"domain\":[0.825,1.0],\"showgrid\":true},\"yaxis16\":{\"anchor\":\"x16\",\"domain\":[0.0,0.175],\"showgrid\":true},\"annotations\":[{\"font\":{\"size\":16},\"showarrow\":false,\"text\":\"Topic -1\",\"x\":0.0875,\"xanchor\":\"center\",\"xref\":\"paper\",\"y\":1.0,\"yanchor\":\"bottom\",\"yref\":\"paper\"},{\"font\":{\"size\":16},\"showarrow\":false,\"text\":\"Topic 1\",\"x\":0.36250000000000004,\"xanchor\":\"center\",\"xref\":\"paper\",\"y\":1.0,\"yanchor\":\"bottom\",\"yref\":\"paper\"},{\"font\":{\"size\":16},\"showarrow\":false,\"text\":\"Topic 2\",\"x\":0.6375000000000001,\"xanchor\":\"center\",\"xref\":\"paper\",\"y\":1.0,\"yanchor\":\"bottom\",\"yref\":\"paper\"},{\"font\":{\"size\":16},\"showarrow\":false,\"text\":\"Topic 3\",\"x\":0.9125,\"xanchor\":\"center\",\"xref\":\"paper\",\"y\":1.0,\"yanchor\":\"bottom\",\"yref\":\"paper\"},{\"font\":{\"size\":16},\"showarrow\":false,\"text\":\"Topic 4\",\"x\":0.0875,\"xanchor\":\"center\",\"xref\":\"paper\",\"y\":0.7250000000000001,\"yanchor\":\"bottom\",\"yref\":\"paper\"},{\"font\":{\"size\":16},\"showarrow\":false,\"text\":\"Topic 5\",\"x\":0.36250000000000004,\"xanchor\":\"center\",\"xref\":\"paper\",\"y\":0.7250000000000001,\"yanchor\":\"bottom\",\"yref\":\"paper\"},{\"font\":{\"size\":16},\"showarrow\":false,\"text\":\"Topic 6\",\"x\":0.6375000000000001,\"xanchor\":\"center\",\"xref\":\"paper\",\"y\":0.7250000000000001,\"yanchor\":\"bottom\",\"yref\":\"paper\"},{\"font\":{\"size\":16},\"showarrow\":false,\"text\":\"Topic 7\",\"x\":0.9125,\"xanchor\":\"center\",\"xref\":\"paper\",\"y\":0.7250000000000001,\"yanchor\":\"bottom\",\"yref\":\"paper\"},{\"font\":{\"size\":16},\"showarrow\":false,\"text\":\"Topic 8\",\"x\":0.0875,\"xanchor\":\"center\",\"xref\":\"paper\",\"y\":0.45,\"yanchor\":\"bottom\",\"yref\":\"paper\"},{\"font\":{\"size\":16},\"showarrow\":false,\"text\":\"Topic 9\",\"x\":0.36250000000000004,\"xanchor\":\"center\",\"xref\":\"paper\",\"y\":0.45,\"yanchor\":\"bottom\",\"yref\":\"paper\"},{\"font\":{\"size\":16},\"showarrow\":false,\"text\":\"Topic 10\",\"x\":0.6375000000000001,\"xanchor\":\"center\",\"xref\":\"paper\",\"y\":0.45,\"yanchor\":\"bottom\",\"yref\":\"paper\"},{\"font\":{\"size\":16},\"showarrow\":false,\"text\":\"Topic 11\",\"x\":0.9125,\"xanchor\":\"center\",\"xref\":\"paper\",\"y\":0.45,\"yanchor\":\"bottom\",\"yref\":\"paper\"},{\"font\":{\"size\":16},\"showarrow\":false,\"text\":\"Topic 12\",\"x\":0.0875,\"xanchor\":\"center\",\"xref\":\"paper\",\"y\":0.175,\"yanchor\":\"bottom\",\"yref\":\"paper\"},{\"font\":{\"size\":16},\"showarrow\":false,\"text\":\"Topic 13\",\"x\":0.36250000000000004,\"xanchor\":\"center\",\"xref\":\"paper\",\"y\":0.175,\"yanchor\":\"bottom\",\"yref\":\"paper\"},{\"font\":{\"size\":16},\"showarrow\":false,\"text\":\"Topic 14\",\"x\":0.6375000000000001,\"xanchor\":\"center\",\"xref\":\"paper\",\"y\":0.175,\"yanchor\":\"bottom\",\"yref\":\"paper\"},{\"font\":{\"size\":16},\"showarrow\":false,\"text\":\"Topic 15\",\"x\":0.9125,\"xanchor\":\"center\",\"xref\":\"paper\",\"y\":0.175,\"yanchor\":\"bottom\",\"yref\":\"paper\"}],\"title\":{\"font\":{\"size\":22,\"color\":\"Black\"},\"text\":\"<b>Topic Word Scores\",\"x\":0.5,\"xanchor\":\"center\",\"yanchor\":\"top\"},\"hoverlabel\":{\"font\":{\"size\":16,\"family\":\"Rockwell\"},\"bgcolor\":\"white\"},\"showlegend\":false,\"width\":1000,\"height\":1000},                        {\"responsive\": true}                    ).then(function(){\n",
              "                            \n",
              "var gd = document.getElementById('adffae6a-68eb-47d4-8faf-fb043f8c16e7');\n",
              "var x = new MutationObserver(function (mutations, observer) {{\n",
              "        var display = window.getComputedStyle(gd).display;\n",
              "        if (!display || display === 'none') {{\n",
              "            console.log([gd, 'removed!']);\n",
              "            Plotly.purge(gd);\n",
              "            observer.disconnect();\n",
              "        }}\n",
              "}});\n",
              "\n",
              "// Listen for the removal of the full notebook cells\n",
              "var notebookContainer = gd.closest('#notebook-container');\n",
              "if (notebookContainer) {{\n",
              "    x.observe(notebookContainer, {childList: true});\n",
              "}}\n",
              "\n",
              "// Listen for the clearing of the current output cell\n",
              "var outputEl = gd.closest('.output');\n",
              "if (outputEl) {{\n",
              "    x.observe(outputEl, {childList: true});\n",
              "}}\n",
              "\n",
              "                        })                };                            </script>        </div>\n",
              "</body>\n",
              "</html>"
            ]
          },
          "metadata": {}
        }
      ]
    },
    {
      "cell_type": "code",
      "source": [
        "topic_model.visualize_term_rank()"
      ],
      "metadata": {
        "colab": {
          "base_uri": "https://localhost:8080/",
          "height": 517
        },
        "id": "NdUMRIdgZZfb",
        "outputId": "ead007bb-7148-4cb6-8a40-4bca94e60654"
      },
      "execution_count": null,
      "outputs": [
        {
          "output_type": "display_data",
          "data": {
            "text/html": [
              "<html>\n",
              "<head><meta charset=\"utf-8\" /></head>\n",
              "<body>\n",
              "    <div>            <script src=\"https://cdnjs.cloudflare.com/ajax/libs/mathjax/2.7.5/MathJax.js?config=TeX-AMS-MML_SVG\"></script><script type=\"text/javascript\">if (window.MathJax) {MathJax.Hub.Config({SVG: {font: \"STIX-Web\"}});}</script>                <script type=\"text/javascript\">window.PlotlyConfig = {MathJaxConfig: 'local'};</script>\n",
              "        <script src=\"https://cdn.plot.ly/plotly-2.8.3.min.js\"></script>                <div id=\"5ad1fdbe-b723-40d9-bb27-b210ae500c54\" class=\"plotly-graph-div\" style=\"height:500px; width:800px;\"></div>            <script type=\"text/javascript\">                                    window.PLOTLYENV=window.PLOTLYENV || {};                                    if (document.getElementById(\"5ad1fdbe-b723-40d9-bb27-b210ae500c54\")) {                    Plotly.newPlot(                        \"5ad1fdbe-b723-40d9-bb27-b210ae500c54\",                        [{\"hovertext\":\"<b>Topic 0</b>:hous_home_afford_build_peopl_commun\",\"line\":{\"color\":\"black\",\"width\":1.5},\"mode\":\"lines+lines\",\"name\":\"\",\"opacity\":0.1,\"x\":[1,2,3,4,5,6,7,8,9,10],\"y\":[0.07601227258337048,0.04990010944545549,0.04381010745713621,0.03857845108728577,0.03822427433437531,0.03430924816852318,0.034030088756675694,0.03318818820355369,0.031021060700324114,0.029766580332065203],\"type\":\"scatter\"},{\"hovertext\":\"<b>Topic -1</b>:senior_care_older_help_health_medi\",\"line\":{\"color\":\"black\",\"width\":1.5},\"mode\":\"lines+lines\",\"name\":\"\",\"opacity\":0.1,\"x\":[1,2,3,4,5,6,7,8,9,10],\"y\":[0.02247740128224135,0.02203305271088086,0.019283146429566585,0.017237320268354287,0.016556263610227297,0.016236764957755202,0.01616902826385811,0.015760783450092353,0.01523571016902383,0.014762291295219087],\"type\":\"scatter\"},{\"hovertext\":\"<b>Topic 1</b>:year_like_hair_love_time_say_want_l\",\"line\":{\"color\":\"black\",\"width\":1.5},\"mode\":\"lines+lines\",\"name\":\"\",\"opacity\":0.1,\"x\":[1,2,3,4,5,6,7,8,9,10],\"y\":[0.023530292130509733,0.020123655819586552,0.01948201282323784,0.01872200413321826,0.018364642211176067,0.01830088050413446,0.01763689881591529,0.016020167138205907,0.01591638156079487,0.015501470642093684],\"type\":\"scatter\"},{\"hovertext\":\"<b>Topic 2</b>:blood_diet_diabet_heart_weight_pres\",\"line\":{\"color\":\"black\",\"width\":1.5},\"mode\":\"lines+lines\",\"name\":\"\",\"opacity\":0.1,\"x\":[1,2,3,4,5,6,7,8,9,10],\"y\":[0.05065371994359806,0.048634383896545175,0.04647283573267361,0.03302829934278283,0.03261746999048885,0.03198566273306212,0.03126076083233562,0.0304320827168607,0.030195908652782422,0.027697525193416995],\"type\":\"scatter\"},{\"hovertext\":\"<b>Topic 3</b>:senior_care_report_advoc_increas_ma\",\"line\":{\"color\":\"black\",\"width\":1.5},\"mode\":\"lines+lines\",\"name\":\"\",\"opacity\":0.1,\"x\":[1,2,3,4,5,6,7,8,9,10],\"y\":[0.0897079373354319,0.06458984856837846,0.057450100741321584,0.054226299120335344,0.04382701396364399,0.042993697807040945,0.04213196342494972,0.039153935615596956,0.03581128835988555,0.034483193042899235],\"type\":\"scatter\"},{\"hovertext\":\"<b>Topic 4</b>:social_older_adult_care_caregiv_hea\",\"line\":{\"color\":\"black\",\"width\":1.5},\"mode\":\"lines+lines\",\"name\":\"\",\"opacity\":0.1,\"x\":[1,2,3,4,5,6,7,8,9,10],\"y\":[0.05328028290555959,0.05175469985575301,0.049991341754660225,0.04098598137756498,0.03224967007759283,0.03154400739741573,0.031455269382448435,0.023257525179764555,0.02274893799350864,0.022729129460791385],\"type\":\"scatter\"},{\"hovertext\":\"<b>Topic 5</b>:vaccin_covid_outbreak_pandem_staff_\",\"line\":{\"color\":\"black\",\"width\":1.5},\"mode\":\"lines+lines\",\"name\":\"\",\"opacity\":0.1,\"x\":[1,2,3,4,5,6,7,8,9,10],\"y\":[0.06624006109274161,0.06260221406997553,0.05241904014049177,0.04117158239910133,0.04014896566651135,0.03985743095065135,0.03839089767912782,0.03254714479192722,0.031981387487000426,0.029925224087461663],\"type\":\"scatter\"},{\"hovertext\":\"<b>Topic 6</b>:walk_exercis_fall_speed_activ_impro\",\"line\":{\"color\":\"black\",\"width\":1.5},\"mode\":\"lines+lines\",\"name\":\"\",\"opacity\":0.1,\"x\":[1,2,3,4,5,6,7,8,9,10],\"y\":[0.08289111743422337,0.06615467690624166,0.04252266269945728,0.034919975572273554,0.03274535451890692,0.031413455979618254,0.030021828571927017,0.028691320811073374,0.026502703764139157,0.025542260615798604],\"type\":\"scatter\"},{\"hovertext\":\"<b>Topic 7</b>:senior_campaign_intern_older_stori_\",\"line\":{\"color\":\"black\",\"width\":1.5},\"mode\":\"lines+lines\",\"name\":\"\",\"opacity\":0.1,\"x\":[1,2,3,4,5,6,7,8,9,10],\"y\":[0.09947057552810971,0.04409377177521962,0.03928443471545254,0.03787747240878092,0.036804025117203626,0.03524871986506228,0.03518568768536433,0.03254340251693166,0.03083691452660161,0.028820733893944073],\"type\":\"scatter\"},{\"hovertext\":\"<b>Topic 8</b>:cognit_dementia_brain_hear_activ_me\",\"line\":{\"color\":\"black\",\"width\":1.5},\"mode\":\"lines+lines\",\"name\":\"\",\"opacity\":0.1,\"x\":[1,2,3,4,5,6,7,8,9,10],\"y\":[0.09148441439492626,0.08648801255120236,0.04902451117204201,0.04462288532639784,0.03190062583636059,0.03186472582167704,0.031147286606670696,0.03069699382560114,0.029720642946205765,0.02789018159426301],\"type\":\"scatter\"},{\"hovertext\":\"<b>Topic 9</b>:pain_drug_exercis_pillow_treatment_\",\"line\":{\"color\":\"black\",\"width\":1.5},\"mode\":\"lines+lines\",\"name\":\"\",\"opacity\":0.1,\"x\":[1,2,3,4,5,6,7,8,9,10],\"y\":[0.13433123849262724,0.05101940083221947,0.03938346236692428,0.037351718478293966,0.034640356676716076,0.028324555030525764,0.027766792535024606,0.027434074101595686,0.027193229529364617,0.026994053147234652],\"type\":\"scatter\"},{\"hovertext\":\"<b>Topic 10</b>:abus_elder_older_neglect_adult_fin\",\"line\":{\"color\":\"black\",\"width\":1.5},\"mode\":\"lines+lines\",\"name\":\"\",\"opacity\":0.1,\"x\":[1,2,3,4,5,6,7,8,9,10],\"y\":[0.22252219282538216,0.12720734195150266,0.05846083646068541,0.035869596484892054,0.0327481730652634,0.0311719325448542,0.03093216788463439,0.02897093569743984,0.028615207360251305,0.026630060737966057],\"type\":\"scatter\"},{\"hovertext\":\"<b>Topic 11</b>:older_worker_age_discrimin_disabl_\",\"line\":{\"color\":\"black\",\"width\":1.5},\"mode\":\"lines+lines\",\"name\":\"\",\"opacity\":0.1,\"x\":[1,2,3,4,5,6,7,8,9,10],\"y\":[0.07260456158628541,0.054260779661356104,0.03916658376960767,0.035595513599334404,0.03280358287211071,0.030732014836046553,0.030013485253561907,0.029686154437870968,0.02926813893934136,0.027117483080486306],\"type\":\"scatter\"},{\"hovertext\":\"<b>Topic 12</b>:cancer_screen_prostat_risk_breast_\",\"line\":{\"color\":\"black\",\"width\":1.5},\"mode\":\"lines+lines\",\"name\":\"\",\"opacity\":0.1,\"x\":[1,2,3,4,5,6,7,8,9,10],\"y\":[0.20906814601502516,0.09592374412797194,0.05406690426220524,0.05201534741647571,0.04996606757215314,0.040920375031384695,0.035505579310592304,0.03451679709721152,0.030289523996144846,0.029188166612790854],\"type\":\"scatter\"},{\"hovertext\":\"<b>Topic 13</b>:hear_sound_aid_hanan_clinic_audio_\",\"line\":{\"color\":\"black\",\"width\":1.5},\"mode\":\"lines+lines\",\"name\":\"\",\"opacity\":0.1,\"x\":[1,2,3,4,5,6,7,8,9,10],\"y\":[0.3065280848741064,0.11956332032562438,0.1129786446943177,0.06905842936354249,0.05962538762565208,0.05133630902983744,0.048949155610560055,0.04578331725182693,0.03972400726133031,0.03594526479958774],\"type\":\"scatter\"},{\"hovertext\":\"<b>Topic 14</b>:drug_women_menopaus_hormon_inconti\",\"line\":{\"color\":\"black\",\"width\":1.5},\"mode\":\"lines+lines\",\"name\":\"\",\"opacity\":0.1,\"x\":[1,2,3,4,5,6,7,8,9,10],\"y\":[0.07058803979164933,0.058924862134318065,0.054124134221032696,0.05393270981233108,0.05265986157221817,0.05100816427093061,0.04359528254030305,0.042567815509626704,0.04014011521496621,0.03922364664614971],\"type\":\"scatter\"},{\"hovertext\":\"<b>Topic 15</b>:smoke_quit_alcohol_nicotin_drink_s\",\"line\":{\"color\":\"black\",\"width\":1.5},\"mode\":\"lines+lines\",\"name\":\"\",\"opacity\":0.1,\"x\":[1,2,3,4,5,6,7,8,9,10],\"y\":[0.1492572553344477,0.12428433802988208,0.07948416967027343,0.05540817292584638,0.04372153965700762,0.042096000516094224,0.04185849248388796,0.04116739254841889,0.03574720833925572,0.03364639365819102],\"type\":\"scatter\"},{\"hovertext\":\"<b>Topic 16</b>:driver_drive_vehicl_road_transport\",\"line\":{\"color\":\"black\",\"width\":1.5},\"mode\":\"lines+lines\",\"name\":\"\",\"opacity\":0.1,\"x\":[1,2,3,4,5,6,7,8,9,10],\"y\":[0.11701036172209903,0.10059490714364547,0.06490015590158468,0.046491809815802726,0.04477271233734707,0.040599574848433455,0.037642598498135754,0.033664905922698315,0.03175398542126812,0.02963349312096492],\"type\":\"scatter\"}],                        {\"template\":{\"data\":{\"barpolar\":[{\"marker\":{\"line\":{\"color\":\"white\",\"width\":0.5},\"pattern\":{\"fillmode\":\"overlay\",\"size\":10,\"solidity\":0.2}},\"type\":\"barpolar\"}],\"bar\":[{\"error_x\":{\"color\":\"#2a3f5f\"},\"error_y\":{\"color\":\"#2a3f5f\"},\"marker\":{\"line\":{\"color\":\"white\",\"width\":0.5},\"pattern\":{\"fillmode\":\"overlay\",\"size\":10,\"solidity\":0.2}},\"type\":\"bar\"}],\"carpet\":[{\"aaxis\":{\"endlinecolor\":\"#2a3f5f\",\"gridcolor\":\"#C8D4E3\",\"linecolor\":\"#C8D4E3\",\"minorgridcolor\":\"#C8D4E3\",\"startlinecolor\":\"#2a3f5f\"},\"baxis\":{\"endlinecolor\":\"#2a3f5f\",\"gridcolor\":\"#C8D4E3\",\"linecolor\":\"#C8D4E3\",\"minorgridcolor\":\"#C8D4E3\",\"startlinecolor\":\"#2a3f5f\"},\"type\":\"carpet\"}],\"choropleth\":[{\"colorbar\":{\"outlinewidth\":0,\"ticks\":\"\"},\"type\":\"choropleth\"}],\"contourcarpet\":[{\"colorbar\":{\"outlinewidth\":0,\"ticks\":\"\"},\"type\":\"contourcarpet\"}],\"contour\":[{\"colorbar\":{\"outlinewidth\":0,\"ticks\":\"\"},\"colorscale\":[[0.0,\"#0d0887\"],[0.1111111111111111,\"#46039f\"],[0.2222222222222222,\"#7201a8\"],[0.3333333333333333,\"#9c179e\"],[0.4444444444444444,\"#bd3786\"],[0.5555555555555556,\"#d8576b\"],[0.6666666666666666,\"#ed7953\"],[0.7777777777777778,\"#fb9f3a\"],[0.8888888888888888,\"#fdca26\"],[1.0,\"#f0f921\"]],\"type\":\"contour\"}],\"heatmapgl\":[{\"colorbar\":{\"outlinewidth\":0,\"ticks\":\"\"},\"colorscale\":[[0.0,\"#0d0887\"],[0.1111111111111111,\"#46039f\"],[0.2222222222222222,\"#7201a8\"],[0.3333333333333333,\"#9c179e\"],[0.4444444444444444,\"#bd3786\"],[0.5555555555555556,\"#d8576b\"],[0.6666666666666666,\"#ed7953\"],[0.7777777777777778,\"#fb9f3a\"],[0.8888888888888888,\"#fdca26\"],[1.0,\"#f0f921\"]],\"type\":\"heatmapgl\"}],\"heatmap\":[{\"colorbar\":{\"outlinewidth\":0,\"ticks\":\"\"},\"colorscale\":[[0.0,\"#0d0887\"],[0.1111111111111111,\"#46039f\"],[0.2222222222222222,\"#7201a8\"],[0.3333333333333333,\"#9c179e\"],[0.4444444444444444,\"#bd3786\"],[0.5555555555555556,\"#d8576b\"],[0.6666666666666666,\"#ed7953\"],[0.7777777777777778,\"#fb9f3a\"],[0.8888888888888888,\"#fdca26\"],[1.0,\"#f0f921\"]],\"type\":\"heatmap\"}],\"histogram2dcontour\":[{\"colorbar\":{\"outlinewidth\":0,\"ticks\":\"\"},\"colorscale\":[[0.0,\"#0d0887\"],[0.1111111111111111,\"#46039f\"],[0.2222222222222222,\"#7201a8\"],[0.3333333333333333,\"#9c179e\"],[0.4444444444444444,\"#bd3786\"],[0.5555555555555556,\"#d8576b\"],[0.6666666666666666,\"#ed7953\"],[0.7777777777777778,\"#fb9f3a\"],[0.8888888888888888,\"#fdca26\"],[1.0,\"#f0f921\"]],\"type\":\"histogram2dcontour\"}],\"histogram2d\":[{\"colorbar\":{\"outlinewidth\":0,\"ticks\":\"\"},\"colorscale\":[[0.0,\"#0d0887\"],[0.1111111111111111,\"#46039f\"],[0.2222222222222222,\"#7201a8\"],[0.3333333333333333,\"#9c179e\"],[0.4444444444444444,\"#bd3786\"],[0.5555555555555556,\"#d8576b\"],[0.6666666666666666,\"#ed7953\"],[0.7777777777777778,\"#fb9f3a\"],[0.8888888888888888,\"#fdca26\"],[1.0,\"#f0f921\"]],\"type\":\"histogram2d\"}],\"histogram\":[{\"marker\":{\"pattern\":{\"fillmode\":\"overlay\",\"size\":10,\"solidity\":0.2}},\"type\":\"histogram\"}],\"mesh3d\":[{\"colorbar\":{\"outlinewidth\":0,\"ticks\":\"\"},\"type\":\"mesh3d\"}],\"parcoords\":[{\"line\":{\"colorbar\":{\"outlinewidth\":0,\"ticks\":\"\"}},\"type\":\"parcoords\"}],\"pie\":[{\"automargin\":true,\"type\":\"pie\"}],\"scatter3d\":[{\"line\":{\"colorbar\":{\"outlinewidth\":0,\"ticks\":\"\"}},\"marker\":{\"colorbar\":{\"outlinewidth\":0,\"ticks\":\"\"}},\"type\":\"scatter3d\"}],\"scattercarpet\":[{\"marker\":{\"colorbar\":{\"outlinewidth\":0,\"ticks\":\"\"}},\"type\":\"scattercarpet\"}],\"scattergeo\":[{\"marker\":{\"colorbar\":{\"outlinewidth\":0,\"ticks\":\"\"}},\"type\":\"scattergeo\"}],\"scattergl\":[{\"marker\":{\"colorbar\":{\"outlinewidth\":0,\"ticks\":\"\"}},\"type\":\"scattergl\"}],\"scattermapbox\":[{\"marker\":{\"colorbar\":{\"outlinewidth\":0,\"ticks\":\"\"}},\"type\":\"scattermapbox\"}],\"scatterpolargl\":[{\"marker\":{\"colorbar\":{\"outlinewidth\":0,\"ticks\":\"\"}},\"type\":\"scatterpolargl\"}],\"scatterpolar\":[{\"marker\":{\"colorbar\":{\"outlinewidth\":0,\"ticks\":\"\"}},\"type\":\"scatterpolar\"}],\"scatter\":[{\"marker\":{\"colorbar\":{\"outlinewidth\":0,\"ticks\":\"\"}},\"type\":\"scatter\"}],\"scatterternary\":[{\"marker\":{\"colorbar\":{\"outlinewidth\":0,\"ticks\":\"\"}},\"type\":\"scatterternary\"}],\"surface\":[{\"colorbar\":{\"outlinewidth\":0,\"ticks\":\"\"},\"colorscale\":[[0.0,\"#0d0887\"],[0.1111111111111111,\"#46039f\"],[0.2222222222222222,\"#7201a8\"],[0.3333333333333333,\"#9c179e\"],[0.4444444444444444,\"#bd3786\"],[0.5555555555555556,\"#d8576b\"],[0.6666666666666666,\"#ed7953\"],[0.7777777777777778,\"#fb9f3a\"],[0.8888888888888888,\"#fdca26\"],[1.0,\"#f0f921\"]],\"type\":\"surface\"}],\"table\":[{\"cells\":{\"fill\":{\"color\":\"#EBF0F8\"},\"line\":{\"color\":\"white\"}},\"header\":{\"fill\":{\"color\":\"#C8D4E3\"},\"line\":{\"color\":\"white\"}},\"type\":\"table\"}]},\"layout\":{\"annotationdefaults\":{\"arrowcolor\":\"#2a3f5f\",\"arrowhead\":0,\"arrowwidth\":1},\"autotypenumbers\":\"strict\",\"coloraxis\":{\"colorbar\":{\"outlinewidth\":0,\"ticks\":\"\"}},\"colorscale\":{\"diverging\":[[0,\"#8e0152\"],[0.1,\"#c51b7d\"],[0.2,\"#de77ae\"],[0.3,\"#f1b6da\"],[0.4,\"#fde0ef\"],[0.5,\"#f7f7f7\"],[0.6,\"#e6f5d0\"],[0.7,\"#b8e186\"],[0.8,\"#7fbc41\"],[0.9,\"#4d9221\"],[1,\"#276419\"]],\"sequential\":[[0.0,\"#0d0887\"],[0.1111111111111111,\"#46039f\"],[0.2222222222222222,\"#7201a8\"],[0.3333333333333333,\"#9c179e\"],[0.4444444444444444,\"#bd3786\"],[0.5555555555555556,\"#d8576b\"],[0.6666666666666666,\"#ed7953\"],[0.7777777777777778,\"#fb9f3a\"],[0.8888888888888888,\"#fdca26\"],[1.0,\"#f0f921\"]],\"sequentialminus\":[[0.0,\"#0d0887\"],[0.1111111111111111,\"#46039f\"],[0.2222222222222222,\"#7201a8\"],[0.3333333333333333,\"#9c179e\"],[0.4444444444444444,\"#bd3786\"],[0.5555555555555556,\"#d8576b\"],[0.6666666666666666,\"#ed7953\"],[0.7777777777777778,\"#fb9f3a\"],[0.8888888888888888,\"#fdca26\"],[1.0,\"#f0f921\"]]},\"colorway\":[\"#636efa\",\"#EF553B\",\"#00cc96\",\"#ab63fa\",\"#FFA15A\",\"#19d3f3\",\"#FF6692\",\"#B6E880\",\"#FF97FF\",\"#FECB52\"],\"font\":{\"color\":\"#2a3f5f\"},\"geo\":{\"bgcolor\":\"white\",\"lakecolor\":\"white\",\"landcolor\":\"white\",\"showlakes\":true,\"showland\":true,\"subunitcolor\":\"#C8D4E3\"},\"hoverlabel\":{\"align\":\"left\"},\"hovermode\":\"closest\",\"mapbox\":{\"style\":\"light\"},\"paper_bgcolor\":\"white\",\"plot_bgcolor\":\"white\",\"polar\":{\"angularaxis\":{\"gridcolor\":\"#EBF0F8\",\"linecolor\":\"#EBF0F8\",\"ticks\":\"\"},\"bgcolor\":\"white\",\"radialaxis\":{\"gridcolor\":\"#EBF0F8\",\"linecolor\":\"#EBF0F8\",\"ticks\":\"\"}},\"scene\":{\"xaxis\":{\"backgroundcolor\":\"white\",\"gridcolor\":\"#DFE8F3\",\"gridwidth\":2,\"linecolor\":\"#EBF0F8\",\"showbackground\":true,\"ticks\":\"\",\"zerolinecolor\":\"#EBF0F8\"},\"yaxis\":{\"backgroundcolor\":\"white\",\"gridcolor\":\"#DFE8F3\",\"gridwidth\":2,\"linecolor\":\"#EBF0F8\",\"showbackground\":true,\"ticks\":\"\",\"zerolinecolor\":\"#EBF0F8\"},\"zaxis\":{\"backgroundcolor\":\"white\",\"gridcolor\":\"#DFE8F3\",\"gridwidth\":2,\"linecolor\":\"#EBF0F8\",\"showbackground\":true,\"ticks\":\"\",\"zerolinecolor\":\"#EBF0F8\"}},\"shapedefaults\":{\"line\":{\"color\":\"#2a3f5f\"}},\"ternary\":{\"aaxis\":{\"gridcolor\":\"#DFE8F3\",\"linecolor\":\"#A2B1C6\",\"ticks\":\"\"},\"baxis\":{\"gridcolor\":\"#DFE8F3\",\"linecolor\":\"#A2B1C6\",\"ticks\":\"\"},\"bgcolor\":\"white\",\"caxis\":{\"gridcolor\":\"#DFE8F3\",\"linecolor\":\"#A2B1C6\",\"ticks\":\"\"}},\"title\":{\"x\":0.05},\"xaxis\":{\"automargin\":true,\"gridcolor\":\"#EBF0F8\",\"linecolor\":\"#EBF0F8\",\"ticks\":\"\",\"title\":{\"standoff\":15},\"zerolinecolor\":\"#EBF0F8\",\"zerolinewidth\":2},\"yaxis\":{\"automargin\":true,\"gridcolor\":\"#EBF0F8\",\"linecolor\":\"#EBF0F8\",\"ticks\":\"\",\"title\":{\"standoff\":15},\"zerolinecolor\":\"#EBF0F8\",\"zerolinewidth\":2}}},\"xaxis\":{\"range\":[0,10],\"tick0\":1,\"dtick\":2,\"title\":{\"text\":\"Term Rank\"}},\"title\":{\"font\":{\"size\":22,\"color\":\"Black\"},\"text\":\"<b>Term score decline per Topic</b>\",\"y\":0.9,\"x\":0.5,\"xanchor\":\"center\",\"yanchor\":\"top\"},\"hoverlabel\":{\"font\":{\"size\":16,\"family\":\"Rockwell\"},\"bgcolor\":\"white\"},\"showlegend\":false,\"width\":800,\"height\":500,\"yaxis\":{\"title\":{\"text\":\"c-TF-IDF score\"}}},                        {\"responsive\": true}                    ).then(function(){\n",
              "                            \n",
              "var gd = document.getElementById('5ad1fdbe-b723-40d9-bb27-b210ae500c54');\n",
              "var x = new MutationObserver(function (mutations, observer) {{\n",
              "        var display = window.getComputedStyle(gd).display;\n",
              "        if (!display || display === 'none') {{\n",
              "            console.log([gd, 'removed!']);\n",
              "            Plotly.purge(gd);\n",
              "            observer.disconnect();\n",
              "        }}\n",
              "}});\n",
              "\n",
              "// Listen for the removal of the full notebook cells\n",
              "var notebookContainer = gd.closest('#notebook-container');\n",
              "if (notebookContainer) {{\n",
              "    x.observe(notebookContainer, {childList: true});\n",
              "}}\n",
              "\n",
              "// Listen for the clearing of the current output cell\n",
              "var outputEl = gd.closest('.output');\n",
              "if (outputEl) {{\n",
              "    x.observe(outputEl, {childList: true});\n",
              "}}\n",
              "\n",
              "                        })                };                            </script>        </div>\n",
              "</body>\n",
              "</html>"
            ]
          },
          "metadata": {}
        }
      ]
    },
    {
      "cell_type": "code",
      "source": [
        "topic_model.get_topic(2)"
      ],
      "metadata": {
        "colab": {
          "base_uri": "https://localhost:8080/"
        },
        "id": "rCFLz-LKZk3L",
        "outputId": "32a0562c-7641-46c8-daed-acad3e3f9a56"
      },
      "execution_count": null,
      "outputs": [
        {
          "output_type": "execute_result",
          "data": {
            "text/plain": [
              "[('blood', 0.05065371994359806),\n",
              " ('diet', 0.048634383896545175),\n",
              " ('diabet', 0.04647283573267361),\n",
              " ('heart', 0.03302829934278283),\n",
              " ('weight', 0.03261746999048885),\n",
              " ('pressur', 0.03198566273306212),\n",
              " ('health', 0.03126076083233562),\n",
              " ('diseas', 0.0304320827168607),\n",
              " ('vitamin', 0.030195908652782422),\n",
              " ('supplement', 0.027697525193416995)]"
            ]
          },
          "metadata": {},
          "execution_count": 27
        }
      ]
    },
    {
      "cell_type": "code",
      "source": [
        "covid_topics, covid_topics_similarity = topic_model.find_topics(\"covid\", top_n=8)\n",
        "covid_topics, covid_topics_similarity"
      ],
      "metadata": {
        "colab": {
          "base_uri": "https://localhost:8080/"
        },
        "id": "p3G2YPzTcF1E",
        "outputId": "e7f43a89-6d33-4330-f3af-70465bf2754e"
      },
      "execution_count": null,
      "outputs": [
        {
          "output_type": "execute_result",
          "data": {
            "text/plain": [
              "([5, 0, 4, 12, 14, 7, 2, 6],\n",
              " [0.724833927387293,\n",
              "  0.5001418319475763,\n",
              "  0.43137685869949455,\n",
              "  0.42936022609786034,\n",
              "  0.4288731670738206,\n",
              "  0.4267232730468722,\n",
              "  0.4252761813833041,\n",
              "  0.4183936228234978])"
            ]
          },
          "metadata": {},
          "execution_count": 28
        }
      ]
    },
    {
      "cell_type": "code",
      "source": [
        "health_topics, health_topics_similarity = topic_model.find_topics(\"health\", top_n=4)\n",
        "health_topics, health_topics_similarity"
      ],
      "metadata": {
        "colab": {
          "base_uri": "https://localhost:8080/"
        },
        "id": "VbCerp8ednWS",
        "outputId": "e90540d7-4127-4ecb-c586-41090090bed7"
      },
      "execution_count": null,
      "outputs": [
        {
          "output_type": "execute_result",
          "data": {
            "text/plain": [
              "([2, 5, 12, 4],\n",
              " [0.7373827700487817,\n",
              "  0.630025704765296,\n",
              "  0.6185706346876738,\n",
              "  0.6075983690004023])"
            ]
          },
          "metadata": {},
          "execution_count": 29
        }
      ]
    },
    {
      "cell_type": "code",
      "source": [
        "house_topics, house_topics_similarity = topic_model.find_topics(\"house\", top_n=6)\n",
        "house_topics, house_topics_similarity"
      ],
      "metadata": {
        "colab": {
          "base_uri": "https://localhost:8080/"
        },
        "id": "h99E9GDZd6bi",
        "outputId": "0b2f9458-4b20-43a5-9454-50a13996119a"
      },
      "execution_count": null,
      "outputs": [
        {
          "output_type": "execute_result",
          "data": {
            "text/plain": [
              "([0, 4, 7, 6, 8, -1],\n",
              " [0.5984315846714925,\n",
              "  0.5137350482749384,\n",
              "  0.48867835224776596,\n",
              "  0.46684993208858,\n",
              "  0.46416310310322334,\n",
              "  0.463258915391315])"
            ]
          },
          "metadata": {},
          "execution_count": 30
        }
      ]
    },
    {
      "cell_type": "code",
      "source": [
        "homecare_topics, homecare_topics_similarity = topic_model.find_topics(\"homecare\", top_n=3)\n",
        "homecare_topics, homecare_topics_similarity"
      ],
      "metadata": {
        "colab": {
          "base_uri": "https://localhost:8080/"
        },
        "id": "6z49v2mk3RZF",
        "outputId": "4b35cb1e-0d6f-4f5d-cc8b-58b3a3801121"
      },
      "execution_count": null,
      "outputs": [
        {
          "output_type": "execute_result",
          "data": {
            "text/plain": [
              "([0, 4, 5], [0.4358412963501482, 0.42459956042763797, 0.4125670530688317])"
            ]
          },
          "metadata": {},
          "execution_count": 31
        }
      ]
    },
    {
      "cell_type": "code",
      "source": [
        "money_topics, money_topics_similarity = topic_model.find_topics(\"money\", top_n=3)\n",
        "money_topics, money_topics_similarity"
      ],
      "metadata": {
        "colab": {
          "base_uri": "https://localhost:8080/"
        },
        "id": "zQ0ZLCKuesVy",
        "outputId": "e3864d51-8d49-4160-ea1a-163543192a74"
      },
      "execution_count": null,
      "outputs": [
        {
          "output_type": "execute_result",
          "data": {
            "text/plain": [
              "([1, 4, 13], [0.5684927187535675, 0.5261289278677477, 0.5205647724371341])"
            ]
          },
          "metadata": {},
          "execution_count": 32
        }
      ]
    },
    {
      "cell_type": "code",
      "source": [
        "charity_topics, charity_topics_similarity = topic_model.find_topics(\"charity\", top_n=3)\n",
        "charity_topics, charity_topics_similarity"
      ],
      "metadata": {
        "colab": {
          "base_uri": "https://localhost:8080/"
        },
        "id": "1kQp3ijS7SEj",
        "outputId": "3bcc0a3b-d027-424c-f2a8-94d76dd9e140"
      },
      "execution_count": null,
      "outputs": [
        {
          "output_type": "execute_result",
          "data": {
            "text/plain": [
              "([5, 2, 12], [0.5164840475796681, 0.5041100273288914, 0.4947891044159261])"
            ]
          },
          "metadata": {},
          "execution_count": 33
        }
      ]
    },
    {
      "cell_type": "code",
      "source": [
        "safety_topics, safety_topics_similarity = topic_model.find_topics(\"safety\", top_n=3)\n",
        "safety_topics, safety_topics_similarity"
      ],
      "metadata": {
        "colab": {
          "base_uri": "https://localhost:8080/"
        },
        "id": "e-PrzC4Wgpxy",
        "outputId": "c4a92a8b-a633-4630-f69f-a157231c9e88"
      },
      "execution_count": null,
      "outputs": [
        {
          "output_type": "execute_result",
          "data": {
            "text/plain": [
              "([12, 5, -1], [0.4743744368305005, 0.4489881453637011, 0.42249542023545056])"
            ]
          },
          "metadata": {},
          "execution_count": 34
        }
      ]
    },
    {
      "cell_type": "code",
      "source": [
        "activity_topics, activity_topics_similarity = topic_model.find_topics(\"activity\", top_n=10)\n",
        "activity_topics, activity_topics_similarity"
      ],
      "metadata": {
        "colab": {
          "base_uri": "https://localhost:8080/"
        },
        "id": "YJHK2Ya1hdnS",
        "outputId": "528a945b-cbe1-4787-ede7-7b24bcbcec2b"
      },
      "execution_count": null,
      "outputs": [
        {
          "output_type": "execute_result",
          "data": {
            "text/plain": [
              "([6, 0, 8, 16, -1, 4, 9, 7, 11, 15],\n",
              " [0.6280601653531159,\n",
              "  0.4995983035914304,\n",
              "  0.4898957301893603,\n",
              "  0.48951873768508913,\n",
              "  0.48881417471299415,\n",
              "  0.4812621007946321,\n",
              "  0.46514826874628334,\n",
              "  0.46463365354604963,\n",
              "  0.462556018020702,\n",
              "  0.4464992721041772])"
            ]
          },
          "metadata": {},
          "execution_count": 35
        }
      ]
    },
    {
      "cell_type": "code",
      "source": [
        "first_nations_topics, first_nations_topics_similarity = topic_model.find_topics(\"first nations\", top_n=8)\n",
        "first_nations_topics, first_nations_topics_similarity"
      ],
      "metadata": {
        "colab": {
          "base_uri": "https://localhost:8080/"
        },
        "id": "ps2NczH6hqWy",
        "outputId": "2e5fd862-3251-411b-b44b-1d822d20c9c6"
      },
      "execution_count": null,
      "outputs": [
        {
          "output_type": "execute_result",
          "data": {
            "text/plain": [
              "([10, 7, 5, 3, 0, 4, 11, 13],\n",
              " [0.33246451304533126,\n",
              "  0.3245503967419684,\n",
              "  0.30288172157656684,\n",
              "  0.28808232398526323,\n",
              "  0.2862973496338188,\n",
              "  0.284505091376142,\n",
              "  0.25521029679550217,\n",
              "  0.2525314809291426])"
            ]
          },
          "metadata": {},
          "execution_count": 36
        }
      ]
    },
    {
      "cell_type": "code",
      "source": [
        "first_nations_topics, first_nations_topics_similarity = topic_model.find_topics(\"inter generation\", top_n=8)\n",
        "first_nations_topics, first_nations_topics_similarity"
      ],
      "metadata": {
        "id": "P_HfFpLp-_BL",
        "colab": {
          "base_uri": "https://localhost:8080/"
        },
        "outputId": "4a4233cb-2f8d-4a84-8e77-b4a6cbfd2369"
      },
      "execution_count": null,
      "outputs": [
        {
          "output_type": "execute_result",
          "data": {
            "text/plain": [
              "([4, 3, 11, 8, 10, 0, -1, 5],\n",
              " [0.41291530581024233,\n",
              "  0.39799058453967084,\n",
              "  0.38993885437842624,\n",
              "  0.3849421366375858,\n",
              "  0.38140411753841763,\n",
              "  0.38072382741135,\n",
              "  0.3787966342497869,\n",
              "  0.37682035522973406])"
            ]
          },
          "metadata": {},
          "execution_count": 37
        }
      ]
    },
    {
      "cell_type": "code",
      "source": [
        "categories = ['covid', 'health', 'house', 'homecare', 'money', 'volunteer',\n",
        "              'safety', 'abuse', 'physical activity', 'social activity',\n",
        "              'first nations', 'schooling', 'environment', 'autonomy',\n",
        "              'freedom', 'climate', 'temperature', 'vaccine', 'grocery']\n",
        "\n",
        "similarity_cutoff = 0.50\n",
        "top_n = 20\n",
        "\n",
        "my_topics = {}\n",
        "for category in categories:\n",
        "  # Initiate category list\n",
        "  my_topics[str(category)] = []\n",
        "\n",
        "  # Get topics and similarities for given category\n",
        "  topics, similarities = topic_model.find_topics(category, top_n = top_n)\n",
        "\n",
        "  # Populate my_topics dict\n",
        "  for topic, similarity in zip(topics, similarities):\n",
        "    if similarity >= similarity_cutoff:\n",
        "      my_topics[str(category)].append(topic)"
      ],
      "metadata": {
        "id": "b80VIc2v-tIz"
      },
      "execution_count": null,
      "outputs": []
    },
    {
      "cell_type": "code",
      "source": [
        "for key, value in zip(my_topics.keys(), my_topics.values()):\n",
        "  print(key, value)"
      ],
      "metadata": {
        "colab": {
          "base_uri": "https://localhost:8080/"
        },
        "id": "pduEop5KDbND",
        "outputId": "748ba653-e1a8-4a26-d2e0-7572ad087935"
      },
      "execution_count": null,
      "outputs": [
        {
          "output_type": "stream",
          "name": "stdout",
          "text": [
            "covid [5, 0]\n",
            "health [2, 5, 12, 4, -1, 9, 14, 6, 15]\n",
            "house [0, 4]\n",
            "homecare []\n",
            "money [1, 4, 13, 0, 2]\n",
            "volunteer []\n",
            "safety []\n",
            "abuse [9, 10]\n",
            "physical activity [6]\n",
            "social activity [4]\n",
            "first nations []\n",
            "schooling []\n",
            "environment []\n",
            "autonomy []\n",
            "freedom []\n",
            "climate []\n",
            "temperature []\n",
            "vaccine [5]\n",
            "grocery []\n"
          ]
        }
      ]
    },
    {
      "cell_type": "code",
      "source": [
        "topic_model.get_topics()"
      ],
      "metadata": {
        "colab": {
          "base_uri": "https://localhost:8080/"
        },
        "id": "2ePZtwKHYzDt",
        "outputId": "29f380a1-bf5e-4f7c-d062-e70de5a79a59"
      },
      "execution_count": null,
      "outputs": [
        {
          "output_type": "execute_result",
          "data": {
            "text/plain": [
              "{-1: [('senior', 0.02247740128224135),\n",
              "  ('care', 0.02203305271088086),\n",
              "  ('older', 0.019283146429566585),\n",
              "  ('help', 0.017237320268354287),\n",
              "  ('health', 0.016556263610227297),\n",
              "  ('medic', 0.016236764957755202),\n",
              "  ('adult', 0.01616902826385811),\n",
              "  ('studi', 0.015760783450092353),\n",
              "  ('effect', 0.01523571016902383),\n",
              "  ('peopl', 0.014762291295219087)],\n",
              " 0: [('hous', 0.07601227258337048),\n",
              "  ('home', 0.04990010944545549),\n",
              "  ('afford', 0.04381010745713621),\n",
              "  ('build', 0.03857845108728577),\n",
              "  ('peopl', 0.03822427433437531),\n",
              "  ('communiti', 0.03430924816852318),\n",
              "  ('project', 0.034030088756675694),\n",
              "  ('support', 0.03318818820355369),\n",
              "  ('incom', 0.031021060700324114),\n",
              "  ('provid', 0.029766580332065203)],\n",
              " 1: [('year', 0.023530292130509733),\n",
              "  ('like', 0.020123655819586552),\n",
              "  ('hair', 0.01948201282323784),\n",
              "  ('love', 0.01872200413321826),\n",
              "  ('time', 0.018364642211176067),\n",
              "  ('say', 0.01830088050413446),\n",
              "  ('want', 0.01763689881591529),\n",
              "  ('look', 0.016020167138205907),\n",
              "  ('women', 0.01591638156079487),\n",
              "  ('think', 0.015501470642093684)],\n",
              " 2: [('blood', 0.05065371994359806),\n",
              "  ('diet', 0.048634383896545175),\n",
              "  ('diabet', 0.04647283573267361),\n",
              "  ('heart', 0.03302829934278283),\n",
              "  ('weight', 0.03261746999048885),\n",
              "  ('pressur', 0.03198566273306212),\n",
              "  ('health', 0.03126076083233562),\n",
              "  ('diseas', 0.0304320827168607),\n",
              "  ('vitamin', 0.030195908652782422),\n",
              "  ('supplement', 0.027697525193416995)],\n",
              " 3: [('senior', 0.0897079373354319),\n",
              "  ('care', 0.06458984856837846),\n",
              "  ('report', 0.057450100741321584),\n",
              "  ('advoc', 0.054226299120335344),\n",
              "  ('increas', 0.04382701396364399),\n",
              "  ('mackenzi', 0.042993697807040945),\n",
              "  ('residenti', 0.04213196342494972),\n",
              "  ('facil', 0.039153935615596956),\n",
              "  ('offic', 0.03581128835988555),\n",
              "  ('resid', 0.034483193042899235)],\n",
              " 4: [('social', 0.05328028290555959),\n",
              "  ('older', 0.05175469985575301),\n",
              "  ('adult', 0.049991341754660225),\n",
              "  ('care', 0.04098598137756498),\n",
              "  ('caregiv', 0.03224967007759283),\n",
              "  ('health', 0.03154400739741573),\n",
              "  ('decis', 0.031455269382448435),\n",
              "  ('studi', 0.023257525179764555),\n",
              "  ('life', 0.02274893799350864),\n",
              "  ('loneli', 0.022729129460791385)],\n",
              " 5: [('vaccin', 0.06624006109274161),\n",
              "  ('covid', 0.06260221406997553),\n",
              "  ('outbreak', 0.05241904014049177),\n",
              "  ('pandem', 0.04117158239910133),\n",
              "  ('staff', 0.04014896566651135),\n",
              "  ('resid', 0.03985743095065135),\n",
              "  ('health', 0.03839089767912782),\n",
              "  ('care', 0.03254714479192722),\n",
              "  ('term', 0.031981387487000426),\n",
              "  ('long', 0.029925224087461663)],\n",
              " 6: [('walk', 0.08289111743422337),\n",
              "  ('exercis', 0.06615467690624166),\n",
              "  ('fall', 0.04252266269945728),\n",
              "  ('speed', 0.034919975572273554),\n",
              "  ('activ', 0.03274535451890692),\n",
              "  ('improv', 0.031413455979618254),\n",
              "  ('health', 0.030021828571927017),\n",
              "  ('balanc', 0.028691320811073374),\n",
              "  ('adult', 0.026502703764139157),\n",
              "  ('condit', 0.025542260615798604)],\n",
              " 7: [('senior', 0.09947057552810971),\n",
              "  ('campaign', 0.04409377177521962),\n",
              "  ('intern', 0.03928443471545254),\n",
              "  ('older', 0.03787747240878092),\n",
              "  ('stori', 0.036804025117203626),\n",
              "  ('world', 0.03524871986506228),\n",
              "  ('celebr', 0.03518568768536433),\n",
              "  ('canada', 0.03254340251693166),\n",
              "  ('ottawa', 0.03083691452660161),\n",
              "  ('person', 0.028820733893944073)],\n",
              " 8: [('cognit', 0.09148441439492626),\n",
              "  ('dementia', 0.08648801255120236),\n",
              "  ('brain', 0.04902451117204201),\n",
              "  ('hear', 0.04462288532639784),\n",
              "  ('activ', 0.03190062583636059),\n",
              "  ('memori', 0.03186472582167704),\n",
              "  ('peopl', 0.031147286606670696),\n",
              "  ('caregiv', 0.03069699382560114),\n",
              "  ('train', 0.029720642946205765),\n",
              "  ('effect', 0.02789018159426301)],\n",
              " 9: [('pain', 0.13433123849262724),\n",
              "  ('drug', 0.05101940083221947),\n",
              "  ('exercis', 0.03938346236692428),\n",
              "  ('pillow', 0.037351718478293966),\n",
              "  ('treatment', 0.034640356676716076),\n",
              "  ('acupunctur', 0.028324555030525764),\n",
              "  ('relief', 0.027766792535024606),\n",
              "  ('knee', 0.027434074101595686),\n",
              "  ('chronic', 0.027193229529364617),\n",
              "  ('effect', 0.026994053147234652)],\n",
              " 10: [('abus', 0.22252219282538216),\n",
              "  ('elder', 0.12720734195150266),\n",
              "  ('older', 0.05846083646068541),\n",
              "  ('neglect', 0.035869596484892054),\n",
              "  ('adult', 0.0327481730652634),\n",
              "  ('financi', 0.0311719325448542),\n",
              "  ('awar', 0.03093216788463439),\n",
              "  ('inmat', 0.02897093569743984),\n",
              "  ('victim', 0.028615207360251305),\n",
              "  ('studi', 0.026630060737966057)],\n",
              " 11: [('older', 0.07260456158628541),\n",
              "  ('worker', 0.054260779661356104),\n",
              "  ('age', 0.03916658376960767),\n",
              "  ('discrimin', 0.035595513599334404),\n",
              "  ('disabl', 0.03280358287211071),\n",
              "  ('retir', 0.030732014836046553),\n",
              "  ('peopl', 0.030013485253561907),\n",
              "  ('intern', 0.029686154437870968),\n",
              "  ('countri', 0.02926813893934136),\n",
              "  ('index', 0.027117483080486306)],\n",
              " 12: [('cancer', 0.20906814601502516),\n",
              "  ('screen', 0.09592374412797194),\n",
              "  ('prostat', 0.05406690426220524),\n",
              "  ('risk', 0.05201534741647571),\n",
              "  ('breast', 0.04996606757215314),\n",
              "  ('ovarian', 0.040920375031384695),\n",
              "  ('test', 0.035505579310592304),\n",
              "  ('decis', 0.03451679709721152),\n",
              "  ('women', 0.030289523996144846),\n",
              "  ('health', 0.029188166612790854)],\n",
              " 13: [('hear', 0.3065280848741064),\n",
              "  ('sound', 0.11956332032562438),\n",
              "  ('aid', 0.1129786446943177),\n",
              "  ('hanan', 0.06905842936354249),\n",
              "  ('clinic', 0.05962538762565208),\n",
              "  ('audio', 0.05133630902983744),\n",
              "  ('threshold', 0.048949155610560055),\n",
              "  ('audiogram', 0.04578331725182693),\n",
              "  ('loss', 0.03972400726133031),\n",
              "  ('loud', 0.03594526479958774)],\n",
              " 14: [('drug', 0.07058803979164933),\n",
              "  ('women', 0.058924862134318065),\n",
              "  ('menopaus', 0.054124134221032696),\n",
              "  ('hormon', 0.05393270981233108),\n",
              "  ('incontin', 0.05265986157221817),\n",
              "  ('estrogen', 0.05100816427093061),\n",
              "  ('symptom', 0.04359528254030305),\n",
              "  ('effect', 0.042567815509626704),\n",
              "  ('urinari', 0.04014011521496621),\n",
              "  ('treatment', 0.03922364664614971)],\n",
              " 15: [('smoke', 0.1492572553344477),\n",
              "  ('quit', 0.12428433802988208),\n",
              "  ('alcohol', 0.07948416967027343),\n",
              "  ('nicotin', 0.05540817292584638),\n",
              "  ('drink', 0.04372153965700762),\n",
              "  ('surgeri', 0.042096000516094224),\n",
              "  ('program', 0.04185849248388796),\n",
              "  ('smoker', 0.04116739254841889),\n",
              "  ('cigarett', 0.03574720833925572),\n",
              "  ('help', 0.03364639365819102)],\n",
              " 16: [('driver', 0.11701036172209903),\n",
              "  ('drive', 0.10059490714364547),\n",
              "  ('vehicl', 0.06490015590158468),\n",
              "  ('road', 0.046491809815802726),\n",
              "  ('transport', 0.04477271233734707),\n",
              "  ('older', 0.040599574848433455),\n",
              "  ('test', 0.037642598498135754),\n",
              "  ('technolog', 0.033664905922698315),\n",
              "  ('abil', 0.03175398542126812),\n",
              "  ('system', 0.02963349312096492)]}"
            ]
          },
          "metadata": {},
          "execution_count": 40
        }
      ]
    },
    {
      "cell_type": "code",
      "source": [
        "# Assigning topics\n",
        "for i, topic in enumerate(news_df['topic']):\n",
        "  news_df.loc[i, 'topics'] = ''\n",
        "  temp_topics = []\n",
        "  for key, value in zip(my_topics.keys(), my_topics.values()):\n",
        "    if topic in value:\n",
        "      temp_topics.append(key)\n",
        "    news_df.loc[i, 'topics'] = ', '.join(temp_topics)"
      ],
      "metadata": {
        "id": "uA286DrUC8Yq"
      },
      "execution_count": null,
      "outputs": []
    },
    {
      "cell_type": "code",
      "source": [
        "news_df"
      ],
      "metadata": {
        "colab": {
          "base_uri": "https://localhost:8080/",
          "height": 971
        },
        "id": "EcwtReUDEICz",
        "outputId": "5aca7c07-e0ba-4993-89b9-93985d1971c7"
      },
      "execution_count": null,
      "outputs": [
        {
          "output_type": "execute_result",
          "data": {
            "text/plain": [
              "                                                   link       date  \\\n",
              "0     https://seniorsfirstbc.ca/news/seniors-first-b...  10/1/2021   \n",
              "1     https://seniorsfirstbc.ca/news/seniors-first-b...  7/26/2021   \n",
              "2     https://seniorsfirstbc.ca/news/vaccine-appoint...   3/1/2021   \n",
              "3                 https://seniorsfirstbc.ca/news/11839/   8/6/2020   \n",
              "4     https://seniorsfirstbc.ca/news/what-to-do-if-y...   8/5/2020   \n",
              "...                                                 ...        ...   \n",
              "1086  https://helpagecanada.ca/2015/09/helpage-inter...  9/28/2015   \n",
              "1087  https://helpagecanada.ca/2015/07/join-us-on-oc...  7/28/2015   \n",
              "1088  https://helpagecanada.ca/2015/06/minister-alic...  6/15/2015   \n",
              "1089  https://helpagecanada.ca/2015/02/february-2-20...   2/2/2015   \n",
              "1090  https://helpagecanada.ca/2014/09/june-15-2014-...  9/28/2014   \n",
              "\n",
              "                                                 header  \\\n",
              "0      Seniors First BC 2020-2021 Annual Report Release   \n",
              "1     Seniors First BC Hiring Part-Time Seniors Abus...   \n",
              "2                      Vaccine Appointments for Seniors   \n",
              "3                                  ABUSE VERSUS NEGLECT   \n",
              "4          What To Do if You’ve Fallen Victim to a Scam   \n",
              "...                                                 ...   \n",
              "1086  HelpAge International Releases Third Global Ag...   \n",
              "1087  Join us on October 1, 2015 for Seen Your Citiz...   \n",
              "1088  Minister Alice Wong marks Elder Abuse Day at H...   \n",
              "1089  HelpAge International Releases Report on Impac...   \n",
              "1090  Violence against older people: a global phenom...   \n",
              "\n",
              "                                              body_text  \\\n",
              "0     Seniors First BC recently released its Annual ...   \n",
              "1     We are hiring a part-time Intake Worker to ans...   \n",
              "2     Vaccine call centres for seniors open March 8,...   \n",
              "3     ABUSE VERSUS NEGLECT Abuse is an action that c...   \n",
              "4      What To Do if You’ve Fallen Victim to a Scam ...   \n",
              "...                                                 ...   \n",
              "1086  HelpAge International has released the third G...   \n",
              "1087  About a million Canadian seniors describe them...   \n",
              "1088  Alice Wong, Minister of State (Seniors), visit...   \n",
              "1089  In 2050, for the first time in history there w...   \n",
              "1090  June 15, 2014 – Violence against older people:...   \n",
              "\n",
              "                                           cleaned_text  \\\n",
              "0     Seniors First BC recently released its Annual ...   \n",
              "1     We are hiring a part-time Intake Worker to ans...   \n",
              "2     Vaccine call centres for seniors open March 8,...   \n",
              "3     ABUSE VERSUS NEGLECT Abuse is an action that c...   \n",
              "4     What To Do if You’ve Fallen Victim to a Scam S...   \n",
              "...                                                 ...   \n",
              "1086  International has released the third Global Ag...   \n",
              "1087  About a million Canadian seniors describe them...   \n",
              "1088  Alice Wong, Minister of State (Seniors), visit...   \n",
              "1089  In 2050, for the first time in history there w...   \n",
              "1090  2014 – Violence against older people: a global...   \n",
              "\n",
              "                    website  blob_polarity  \\\n",
              "0     seniors_first_bc_news       0.125000   \n",
              "1     seniors_first_bc_news       0.300000   \n",
              "2     seniors_first_bc_news       0.366667   \n",
              "3     seniors_first_bc_news       0.209425   \n",
              "4     seniors_first_bc_news       0.109195   \n",
              "...                     ...            ...   \n",
              "1086           helpage_news       0.068469   \n",
              "1087           helpage_news       0.070513   \n",
              "1088           helpage_news       0.091414   \n",
              "1089           helpage_news       0.098485   \n",
              "1090           helpage_news       0.150417   \n",
              "\n",
              "                                                 nostop  \\\n",
              "0     Seniors First BC recently released Annual Repo...   \n",
              "1     hiring part-time Intake Worker answer Seniors ...   \n",
              "2     Vaccine call centres seniors open March 8 , 20...   \n",
              "3     ABUSE VERSUS NEGLECT Abuse action causes harm ...   \n",
              "4     ’ Fallen Victim Scam Scammers target seniors h...   \n",
              "...                                                 ...   \n",
              "1086  International released third Global AgeWatch I...   \n",
              "1087  million Canadian seniors describe lonely socia...   \n",
              "1088  Alice Wong , Minister State ( Seniors ) , visi...   \n",
              "1089  2050 , first time history people 60+ world chi...   \n",
              "1090  2014 – Violence older people : global phenomen...   \n",
              "\n",
              "                                             lemmatized  topic  \\\n",
              "0     senior recent releas annual report report prov...      3   \n",
              "1     hire time intak worker answer senior abus info...      7   \n",
              "2     vaccin centr senior open march book vaccin app...      5   \n",
              "3     abus versus neglect abus action caus harm indi...     10   \n",
              "4     fall victim scam scammer target senior high sk...     -1   \n",
              "...                                                 ...    ...   \n",
              "1086  intern releas global agewatch index intern ind...     11   \n",
              "1087  million canadian senior lone social isol socia...      4   \n",
              "1088  alic wong minist state senior visit headquart ...      7   \n",
              "1089  time histori peopl world children live develop...     -1   \n",
              "1090  violenc older peopl global phenomenon violenc ...     10   \n",
              "\n",
              "                                     topics  \n",
              "0                                            \n",
              "1                                            \n",
              "2                    covid, health, vaccine  \n",
              "3                                     abuse  \n",
              "4                                    health  \n",
              "...                                     ...  \n",
              "1086                                         \n",
              "1087  health, house, money, social activity  \n",
              "1088                                         \n",
              "1089                                 health  \n",
              "1090                                  abuse  \n",
              "\n",
              "[1091 rows x 11 columns]"
            ],
            "text/html": [
              "\n",
              "  <div id=\"df-d4e72ffe-ffc8-4e47-a495-ba973a3e9f94\">\n",
              "    <div class=\"colab-df-container\">\n",
              "      <div>\n",
              "<style scoped>\n",
              "    .dataframe tbody tr th:only-of-type {\n",
              "        vertical-align: middle;\n",
              "    }\n",
              "\n",
              "    .dataframe tbody tr th {\n",
              "        vertical-align: top;\n",
              "    }\n",
              "\n",
              "    .dataframe thead th {\n",
              "        text-align: right;\n",
              "    }\n",
              "</style>\n",
              "<table border=\"1\" class=\"dataframe\">\n",
              "  <thead>\n",
              "    <tr style=\"text-align: right;\">\n",
              "      <th></th>\n",
              "      <th>link</th>\n",
              "      <th>date</th>\n",
              "      <th>header</th>\n",
              "      <th>body_text</th>\n",
              "      <th>cleaned_text</th>\n",
              "      <th>website</th>\n",
              "      <th>blob_polarity</th>\n",
              "      <th>nostop</th>\n",
              "      <th>lemmatized</th>\n",
              "      <th>topic</th>\n",
              "      <th>topics</th>\n",
              "    </tr>\n",
              "  </thead>\n",
              "  <tbody>\n",
              "    <tr>\n",
              "      <th>0</th>\n",
              "      <td>https://seniorsfirstbc.ca/news/seniors-first-b...</td>\n",
              "      <td>10/1/2021</td>\n",
              "      <td>Seniors First BC 2020-2021 Annual Report Release</td>\n",
              "      <td>Seniors First BC recently released its Annual ...</td>\n",
              "      <td>Seniors First BC recently released its Annual ...</td>\n",
              "      <td>seniors_first_bc_news</td>\n",
              "      <td>0.125000</td>\n",
              "      <td>Seniors First BC recently released Annual Repo...</td>\n",
              "      <td>senior recent releas annual report report prov...</td>\n",
              "      <td>3</td>\n",
              "      <td></td>\n",
              "    </tr>\n",
              "    <tr>\n",
              "      <th>1</th>\n",
              "      <td>https://seniorsfirstbc.ca/news/seniors-first-b...</td>\n",
              "      <td>7/26/2021</td>\n",
              "      <td>Seniors First BC Hiring Part-Time Seniors Abus...</td>\n",
              "      <td>We are hiring a part-time Intake Worker to ans...</td>\n",
              "      <td>We are hiring a part-time Intake Worker to ans...</td>\n",
              "      <td>seniors_first_bc_news</td>\n",
              "      <td>0.300000</td>\n",
              "      <td>hiring part-time Intake Worker answer Seniors ...</td>\n",
              "      <td>hire time intak worker answer senior abus info...</td>\n",
              "      <td>7</td>\n",
              "      <td></td>\n",
              "    </tr>\n",
              "    <tr>\n",
              "      <th>2</th>\n",
              "      <td>https://seniorsfirstbc.ca/news/vaccine-appoint...</td>\n",
              "      <td>3/1/2021</td>\n",
              "      <td>Vaccine Appointments for Seniors</td>\n",
              "      <td>Vaccine call centres for seniors open March 8,...</td>\n",
              "      <td>Vaccine call centres for seniors open March 8,...</td>\n",
              "      <td>seniors_first_bc_news</td>\n",
              "      <td>0.366667</td>\n",
              "      <td>Vaccine call centres seniors open March 8 , 20...</td>\n",
              "      <td>vaccin centr senior open march book vaccin app...</td>\n",
              "      <td>5</td>\n",
              "      <td>covid, health, vaccine</td>\n",
              "    </tr>\n",
              "    <tr>\n",
              "      <th>3</th>\n",
              "      <td>https://seniorsfirstbc.ca/news/11839/</td>\n",
              "      <td>8/6/2020</td>\n",
              "      <td>ABUSE VERSUS NEGLECT</td>\n",
              "      <td>ABUSE VERSUS NEGLECT Abuse is an action that c...</td>\n",
              "      <td>ABUSE VERSUS NEGLECT Abuse is an action that c...</td>\n",
              "      <td>seniors_first_bc_news</td>\n",
              "      <td>0.209425</td>\n",
              "      <td>ABUSE VERSUS NEGLECT Abuse action causes harm ...</td>\n",
              "      <td>abus versus neglect abus action caus harm indi...</td>\n",
              "      <td>10</td>\n",
              "      <td>abuse</td>\n",
              "    </tr>\n",
              "    <tr>\n",
              "      <th>4</th>\n",
              "      <td>https://seniorsfirstbc.ca/news/what-to-do-if-y...</td>\n",
              "      <td>8/5/2020</td>\n",
              "      <td>What To Do if You’ve Fallen Victim to a Scam</td>\n",
              "      <td>What To Do if You’ve Fallen Victim to a Scam ...</td>\n",
              "      <td>What To Do if You’ve Fallen Victim to a Scam S...</td>\n",
              "      <td>seniors_first_bc_news</td>\n",
              "      <td>0.109195</td>\n",
              "      <td>’ Fallen Victim Scam Scammers target seniors h...</td>\n",
              "      <td>fall victim scam scammer target senior high sk...</td>\n",
              "      <td>-1</td>\n",
              "      <td>health</td>\n",
              "    </tr>\n",
              "    <tr>\n",
              "      <th>...</th>\n",
              "      <td>...</td>\n",
              "      <td>...</td>\n",
              "      <td>...</td>\n",
              "      <td>...</td>\n",
              "      <td>...</td>\n",
              "      <td>...</td>\n",
              "      <td>...</td>\n",
              "      <td>...</td>\n",
              "      <td>...</td>\n",
              "      <td>...</td>\n",
              "      <td>...</td>\n",
              "    </tr>\n",
              "    <tr>\n",
              "      <th>1086</th>\n",
              "      <td>https://helpagecanada.ca/2015/09/helpage-inter...</td>\n",
              "      <td>9/28/2015</td>\n",
              "      <td>HelpAge International Releases Third Global Ag...</td>\n",
              "      <td>HelpAge International has released the third G...</td>\n",
              "      <td>International has released the third Global Ag...</td>\n",
              "      <td>helpage_news</td>\n",
              "      <td>0.068469</td>\n",
              "      <td>International released third Global AgeWatch I...</td>\n",
              "      <td>intern releas global agewatch index intern ind...</td>\n",
              "      <td>11</td>\n",
              "      <td></td>\n",
              "    </tr>\n",
              "    <tr>\n",
              "      <th>1087</th>\n",
              "      <td>https://helpagecanada.ca/2015/07/join-us-on-oc...</td>\n",
              "      <td>7/28/2015</td>\n",
              "      <td>Join us on October 1, 2015 for Seen Your Citiz...</td>\n",
              "      <td>About a million Canadian seniors describe them...</td>\n",
              "      <td>About a million Canadian seniors describe them...</td>\n",
              "      <td>helpage_news</td>\n",
              "      <td>0.070513</td>\n",
              "      <td>million Canadian seniors describe lonely socia...</td>\n",
              "      <td>million canadian senior lone social isol socia...</td>\n",
              "      <td>4</td>\n",
              "      <td>health, house, money, social activity</td>\n",
              "    </tr>\n",
              "    <tr>\n",
              "      <th>1088</th>\n",
              "      <td>https://helpagecanada.ca/2015/06/minister-alic...</td>\n",
              "      <td>6/15/2015</td>\n",
              "      <td>Minister Alice Wong marks Elder Abuse Day at H...</td>\n",
              "      <td>Alice Wong, Minister of State (Seniors), visit...</td>\n",
              "      <td>Alice Wong, Minister of State (Seniors), visit...</td>\n",
              "      <td>helpage_news</td>\n",
              "      <td>0.091414</td>\n",
              "      <td>Alice Wong , Minister State ( Seniors ) , visi...</td>\n",
              "      <td>alic wong minist state senior visit headquart ...</td>\n",
              "      <td>7</td>\n",
              "      <td></td>\n",
              "    </tr>\n",
              "    <tr>\n",
              "      <th>1089</th>\n",
              "      <td>https://helpagecanada.ca/2015/02/february-2-20...</td>\n",
              "      <td>2/2/2015</td>\n",
              "      <td>HelpAge International Releases Report on Impac...</td>\n",
              "      <td>In 2050, for the first time in history there w...</td>\n",
              "      <td>In 2050, for the first time in history there w...</td>\n",
              "      <td>helpage_news</td>\n",
              "      <td>0.098485</td>\n",
              "      <td>2050 , first time history people 60+ world chi...</td>\n",
              "      <td>time histori peopl world children live develop...</td>\n",
              "      <td>-1</td>\n",
              "      <td>health</td>\n",
              "    </tr>\n",
              "    <tr>\n",
              "      <th>1090</th>\n",
              "      <td>https://helpagecanada.ca/2014/09/june-15-2014-...</td>\n",
              "      <td>9/28/2014</td>\n",
              "      <td>Violence against older people: a global phenom...</td>\n",
              "      <td>June 15, 2014 – Violence against older people:...</td>\n",
              "      <td>2014 – Violence against older people: a global...</td>\n",
              "      <td>helpage_news</td>\n",
              "      <td>0.150417</td>\n",
              "      <td>2014 – Violence older people : global phenomen...</td>\n",
              "      <td>violenc older peopl global phenomenon violenc ...</td>\n",
              "      <td>10</td>\n",
              "      <td>abuse</td>\n",
              "    </tr>\n",
              "  </tbody>\n",
              "</table>\n",
              "<p>1091 rows × 11 columns</p>\n",
              "</div>\n",
              "      <button class=\"colab-df-convert\" onclick=\"convertToInteractive('df-d4e72ffe-ffc8-4e47-a495-ba973a3e9f94')\"\n",
              "              title=\"Convert this dataframe to an interactive table.\"\n",
              "              style=\"display:none;\">\n",
              "        \n",
              "  <svg xmlns=\"http://www.w3.org/2000/svg\" height=\"24px\"viewBox=\"0 0 24 24\"\n",
              "       width=\"24px\">\n",
              "    <path d=\"M0 0h24v24H0V0z\" fill=\"none\"/>\n",
              "    <path d=\"M18.56 5.44l.94 2.06.94-2.06 2.06-.94-2.06-.94-.94-2.06-.94 2.06-2.06.94zm-11 1L8.5 8.5l.94-2.06 2.06-.94-2.06-.94L8.5 2.5l-.94 2.06-2.06.94zm10 10l.94 2.06.94-2.06 2.06-.94-2.06-.94-.94-2.06-.94 2.06-2.06.94z\"/><path d=\"M17.41 7.96l-1.37-1.37c-.4-.4-.92-.59-1.43-.59-.52 0-1.04.2-1.43.59L10.3 9.45l-7.72 7.72c-.78.78-.78 2.05 0 2.83L4 21.41c.39.39.9.59 1.41.59.51 0 1.02-.2 1.41-.59l7.78-7.78 2.81-2.81c.8-.78.8-2.07 0-2.86zM5.41 20L4 18.59l7.72-7.72 1.47 1.35L5.41 20z\"/>\n",
              "  </svg>\n",
              "      </button>\n",
              "      \n",
              "  <style>\n",
              "    .colab-df-container {\n",
              "      display:flex;\n",
              "      flex-wrap:wrap;\n",
              "      gap: 12px;\n",
              "    }\n",
              "\n",
              "    .colab-df-convert {\n",
              "      background-color: #E8F0FE;\n",
              "      border: none;\n",
              "      border-radius: 50%;\n",
              "      cursor: pointer;\n",
              "      display: none;\n",
              "      fill: #1967D2;\n",
              "      height: 32px;\n",
              "      padding: 0 0 0 0;\n",
              "      width: 32px;\n",
              "    }\n",
              "\n",
              "    .colab-df-convert:hover {\n",
              "      background-color: #E2EBFA;\n",
              "      box-shadow: 0px 1px 2px rgba(60, 64, 67, 0.3), 0px 1px 3px 1px rgba(60, 64, 67, 0.15);\n",
              "      fill: #174EA6;\n",
              "    }\n",
              "\n",
              "    [theme=dark] .colab-df-convert {\n",
              "      background-color: #3B4455;\n",
              "      fill: #D2E3FC;\n",
              "    }\n",
              "\n",
              "    [theme=dark] .colab-df-convert:hover {\n",
              "      background-color: #434B5C;\n",
              "      box-shadow: 0px 1px 3px 1px rgba(0, 0, 0, 0.15);\n",
              "      filter: drop-shadow(0px 1px 2px rgba(0, 0, 0, 0.3));\n",
              "      fill: #FFFFFF;\n",
              "    }\n",
              "  </style>\n",
              "\n",
              "      <script>\n",
              "        const buttonEl =\n",
              "          document.querySelector('#df-d4e72ffe-ffc8-4e47-a495-ba973a3e9f94 button.colab-df-convert');\n",
              "        buttonEl.style.display =\n",
              "          google.colab.kernel.accessAllowed ? 'block' : 'none';\n",
              "\n",
              "        async function convertToInteractive(key) {\n",
              "          const element = document.querySelector('#df-d4e72ffe-ffc8-4e47-a495-ba973a3e9f94');\n",
              "          const dataTable =\n",
              "            await google.colab.kernel.invokeFunction('convertToInteractive',\n",
              "                                                     [key], {});\n",
              "          if (!dataTable) return;\n",
              "\n",
              "          const docLinkHtml = 'Like what you see? Visit the ' +\n",
              "            '<a target=\"_blank\" href=https://colab.research.google.com/notebooks/data_table.ipynb>data table notebook</a>'\n",
              "            + ' to learn more about interactive tables.';\n",
              "          element.innerHTML = '';\n",
              "          dataTable['output_type'] = 'display_data';\n",
              "          await google.colab.output.renderOutput(dataTable, element);\n",
              "          const docLink = document.createElement('div');\n",
              "          docLink.innerHTML = docLinkHtml;\n",
              "          element.appendChild(docLink);\n",
              "        }\n",
              "      </script>\n",
              "    </div>\n",
              "  </div>\n",
              "  "
            ]
          },
          "metadata": {},
          "execution_count": 42
        }
      ]
    },
    {
      "cell_type": "code",
      "source": [
        "news_df.to_csv('topic_elderly_news.csv')"
      ],
      "metadata": {
        "id": "_yEIY9scKsCY"
      },
      "execution_count": null,
      "outputs": []
    },
    {
      "cell_type": "markdown",
      "source": [
        "### Word Cloud"
      ],
      "metadata": {
        "id": "Nhtj-HODj0cf"
      }
    },
    {
      "cell_type": "code",
      "source": [
        "!pip -qq install wordcloud"
      ],
      "metadata": {
        "id": "-DZZ9CGhL6M4"
      },
      "execution_count": null,
      "outputs": []
    },
    {
      "cell_type": "code",
      "source": [
        "from wordcloud import WordCloud\n",
        "import matplotlib.pyplot as plt\n",
        "\n",
        "wc = WordCloud(background_color = 'black',\n",
        "               collocations = False,\n",
        "               width = 600,\n",
        "               height = 300).generate(', '.join(news_df['topics'].tolist()))\n",
        "\n",
        "plt.figure(figsize=(16, 8))\n",
        "plt.imshow(wc, interpolation = \"bilinear\")\n",
        "plt.axis(\"off\")\n",
        "plt.show"
      ],
      "metadata": {
        "colab": {
          "base_uri": "https://localhost:8080/",
          "height": 483
        },
        "id": "y_qf6dmPMWKZ",
        "outputId": "e40bb2bc-fee9-46fb-c30e-6d3701a3a07b"
      },
      "execution_count": null,
      "outputs": [
        {
          "output_type": "execute_result",
          "data": {
            "text/plain": [
              "<function matplotlib.pyplot.show>"
            ]
          },
          "metadata": {},
          "execution_count": 45
        },
        {
          "output_type": "display_data",
          "data": {
            "text/plain": [
              "<Figure size 1152x576 with 1 Axes>"
            ],
            "image/png": "[encoded data removed]"
          },
          "metadata": {
            "needs_background": "light"
          }
        }
      ]
    }
  ]
}