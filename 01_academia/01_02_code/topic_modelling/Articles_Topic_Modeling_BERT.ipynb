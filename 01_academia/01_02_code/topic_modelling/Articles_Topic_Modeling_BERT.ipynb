{
  "nbformat": 4,
  "nbformat_minor": 0,
  "metadata": {
    "colab": {
      "name": "Articles_Topic_Modeling_BERT.ipynb",
      "provenance": [],
      "collapsed_sections": []
    },
    "kernelspec": {
      "name": "python3",
      "display_name": "Python 3"
    },
    "language_info": {
      "name": "python"
    },
    "accelerator": "GPU",
    "widgets": {
      "application/vnd.jupyter.widget-state+json": {
        "3178702a1bf84decb45d606a93d4d5e1": {
          "model_module": "@jupyter-widgets/controls",
          "model_name": "HBoxModel",
          "model_module_version": "1.5.0",
          "state": {
            "_dom_classes": [],
            "_model_module": "@jupyter-widgets/controls",
            "_model_module_version": "1.5.0",
            "_model_name": "HBoxModel",
            "_view_count": null,
            "_view_module": "@jupyter-widgets/controls",
            "_view_module_version": "1.5.0",
            "_view_name": "HBoxView",
            "box_style": "",
            "children": [
              "IPY_MODEL_a3acc9ead84c4d5b90f440eb95a4220f",
              "IPY_MODEL_61aa8e57fb3c43a8acaf1300eeae5124",
              "IPY_MODEL_ba872113aec94082a08319d1656868f3"
            ],
            "layout": "IPY_MODEL_c3b069645b6f4fc2aa6d52040edb25b6"
          }
        },
        "a3acc9ead84c4d5b90f440eb95a4220f": {
          "model_module": "@jupyter-widgets/controls",
          "model_name": "HTMLModel",
          "model_module_version": "1.5.0",
          "state": {
            "_dom_classes": [],
            "_model_module": "@jupyter-widgets/controls",
            "_model_module_version": "1.5.0",
            "_model_name": "HTMLModel",
            "_view_count": null,
            "_view_module": "@jupyter-widgets/controls",
            "_view_module_version": "1.5.0",
            "_view_name": "HTMLView",
            "description": "",
            "description_tooltip": null,
            "layout": "IPY_MODEL_e3a0d6f07f7e443e8a9b981ab7e89342",
            "placeholder": "​",
            "style": "IPY_MODEL_5018062e74184dc1a4285fd4300c4d85",
            "value": "Batches: 100%"
          }
        },
        "61aa8e57fb3c43a8acaf1300eeae5124": {
          "model_module": "@jupyter-widgets/controls",
          "model_name": "FloatProgressModel",
          "model_module_version": "1.5.0",
          "state": {
            "_dom_classes": [],
            "_model_module": "@jupyter-widgets/controls",
            "_model_module_version": "1.5.0",
            "_model_name": "FloatProgressModel",
            "_view_count": null,
            "_view_module": "@jupyter-widgets/controls",
            "_view_module_version": "1.5.0",
            "_view_name": "ProgressView",
            "bar_style": "success",
            "description": "",
            "description_tooltip": null,
            "layout": "IPY_MODEL_f9681a99382f4cd9aa0075b71d35ec70",
            "max": 4,
            "min": 0,
            "orientation": "horizontal",
            "style": "IPY_MODEL_4690de66e0584dca972f7a80f43f1b40",
            "value": 4
          }
        },
        "ba872113aec94082a08319d1656868f3": {
          "model_module": "@jupyter-widgets/controls",
          "model_name": "HTMLModel",
          "model_module_version": "1.5.0",
          "state": {
            "_dom_classes": [],
            "_model_module": "@jupyter-widgets/controls",
            "_model_module_version": "1.5.0",
            "_model_name": "HTMLModel",
            "_view_count": null,
            "_view_module": "@jupyter-widgets/controls",
            "_view_module_version": "1.5.0",
            "_view_name": "HTMLView",
            "description": "",
            "description_tooltip": null,
            "layout": "IPY_MODEL_0cfba98208b846349bcd5c36a05133c0",
            "placeholder": "​",
            "style": "IPY_MODEL_c847c53351604c8cba841f7ddf7361d2",
            "value": " 4/4 [00:01&lt;00:00,  2.98it/s]"
          }
        },
        "c3b069645b6f4fc2aa6d52040edb25b6": {
          "model_module": "@jupyter-widgets/base",
          "model_name": "LayoutModel",
          "model_module_version": "1.2.0",
          "state": {
            "_model_module": "@jupyter-widgets/base",
            "_model_module_version": "1.2.0",
            "_model_name": "LayoutModel",
            "_view_count": null,
            "_view_module": "@jupyter-widgets/base",
            "_view_module_version": "1.2.0",
            "_view_name": "LayoutView",
            "align_content": null,
            "align_items": null,
            "align_self": null,
            "border": null,
            "bottom": null,
            "display": null,
            "flex": null,
            "flex_flow": null,
            "grid_area": null,
            "grid_auto_columns": null,
            "grid_auto_flow": null,
            "grid_auto_rows": null,
            "grid_column": null,
            "grid_gap": null,
            "grid_row": null,
            "grid_template_areas": null,
            "grid_template_columns": null,
            "grid_template_rows": null,
            "height": null,
            "justify_content": null,
            "justify_items": null,
            "left": null,
            "margin": null,
            "max_height": null,
            "max_width": null,
            "min_height": null,
            "min_width": null,
            "object_fit": null,
            "object_position": null,
            "order": null,
            "overflow": null,
            "overflow_x": null,
            "overflow_y": null,
            "padding": null,
            "right": null,
            "top": null,
            "visibility": null,
            "width": null
          }
        },
        "e3a0d6f07f7e443e8a9b981ab7e89342": {
          "model_module": "@jupyter-widgets/base",
          "model_name": "LayoutModel",
          "model_module_version": "1.2.0",
          "state": {
            "_model_module": "@jupyter-widgets/base",
            "_model_module_version": "1.2.0",
            "_model_name": "LayoutModel",
            "_view_count": null,
            "_view_module": "@jupyter-widgets/base",
            "_view_module_version": "1.2.0",
            "_view_name": "LayoutView",
            "align_content": null,
            "align_items": null,
            "align_self": null,
            "border": null,
            "bottom": null,
            "display": null,
            "flex": null,
            "flex_flow": null,
            "grid_area": null,
            "grid_auto_columns": null,
            "grid_auto_flow": null,
            "grid_auto_rows": null,
            "grid_column": null,
            "grid_gap": null,
            "grid_row": null,
            "grid_template_areas": null,
            "grid_template_columns": null,
            "grid_template_rows": null,
            "height": null,
            "justify_content": null,
            "justify_items": null,
            "left": null,
            "margin": null,
            "max_height": null,
            "max_width": null,
            "min_height": null,
            "min_width": null,
            "object_fit": null,
            "object_position": null,
            "order": null,
            "overflow": null,
            "overflow_x": null,
            "overflow_y": null,
            "padding": null,
            "right": null,
            "top": null,
            "visibility": null,
            "width": null
          }
        },
        "5018062e74184dc1a4285fd4300c4d85": {
          "model_module": "@jupyter-widgets/controls",
          "model_name": "DescriptionStyleModel",
          "model_module_version": "1.5.0",
          "state": {
            "_model_module": "@jupyter-widgets/controls",
            "_model_module_version": "1.5.0",
            "_model_name": "DescriptionStyleModel",
            "_view_count": null,
            "_view_module": "@jupyter-widgets/base",
            "_view_module_version": "1.2.0",
            "_view_name": "StyleView",
            "description_width": ""
          }
        },
        "f9681a99382f4cd9aa0075b71d35ec70": {
          "model_module": "@jupyter-widgets/base",
          "model_name": "LayoutModel",
          "model_module_version": "1.2.0",
          "state": {
            "_model_module": "@jupyter-widgets/base",
            "_model_module_version": "1.2.0",
            "_model_name": "LayoutModel",
            "_view_count": null,
            "_view_module": "@jupyter-widgets/base",
            "_view_module_version": "1.2.0",
            "_view_name": "LayoutView",
            "align_content": null,
            "align_items": null,
            "align_self": null,
            "border": null,
            "bottom": null,
            "display": null,
            "flex": null,
            "flex_flow": null,
            "grid_area": null,
            "grid_auto_columns": null,
            "grid_auto_flow": null,
            "grid_auto_rows": null,
            "grid_column": null,
            "grid_gap": null,
            "grid_row": null,
            "grid_template_areas": null,
            "grid_template_columns": null,
            "grid_template_rows": null,
            "height": null,
            "justify_content": null,
            "justify_items": null,
            "left": null,
            "margin": null,
            "max_height": null,
            "max_width": null,
            "min_height": null,
            "min_width": null,
            "object_fit": null,
            "object_position": null,
            "order": null,
            "overflow": null,
            "overflow_x": null,
            "overflow_y": null,
            "padding": null,
            "right": null,
            "top": null,
            "visibility": null,
            "width": null
          }
        },
        "4690de66e0584dca972f7a80f43f1b40": {
          "model_module": "@jupyter-widgets/controls",
          "model_name": "ProgressStyleModel",
          "model_module_version": "1.5.0",
          "state": {
            "_model_module": "@jupyter-widgets/controls",
            "_model_module_version": "1.5.0",
            "_model_name": "ProgressStyleModel",
            "_view_count": null,
            "_view_module": "@jupyter-widgets/base",
            "_view_module_version": "1.2.0",
            "_view_name": "StyleView",
            "bar_color": null,
            "description_width": ""
          }
        },
        "0cfba98208b846349bcd5c36a05133c0": {
          "model_module": "@jupyter-widgets/base",
          "model_name": "LayoutModel",
          "model_module_version": "1.2.0",
          "state": {
            "_model_module": "@jupyter-widgets/base",
            "_model_module_version": "1.2.0",
            "_model_name": "LayoutModel",
            "_view_count": null,
            "_view_module": "@jupyter-widgets/base",
            "_view_module_version": "1.2.0",
            "_view_name": "LayoutView",
            "align_content": null,
            "align_items": null,
            "align_self": null,
            "border": null,
            "bottom": null,
            "display": null,
            "flex": null,
            "flex_flow": null,
            "grid_area": null,
            "grid_auto_columns": null,
            "grid_auto_flow": null,
            "grid_auto_rows": null,
            "grid_column": null,
            "grid_gap": null,
            "grid_row": null,
            "grid_template_areas": null,
            "grid_template_columns": null,
            "grid_template_rows": null,
            "height": null,
            "justify_content": null,
            "justify_items": null,
            "left": null,
            "margin": null,
            "max_height": null,
            "max_width": null,
            "min_height": null,
            "min_width": null,
            "object_fit": null,
            "object_position": null,
            "order": null,
            "overflow": null,
            "overflow_x": null,
            "overflow_y": null,
            "padding": null,
            "right": null,
            "top": null,
            "visibility": null,
            "width": null
          }
        },
        "c847c53351604c8cba841f7ddf7361d2": {
          "model_module": "@jupyter-widgets/controls",
          "model_name": "DescriptionStyleModel",
          "model_module_version": "1.5.0",
          "state": {
            "_model_module": "@jupyter-widgets/controls",
            "_model_module_version": "1.5.0",
            "_model_name": "DescriptionStyleModel",
            "_view_count": null,
            "_view_module": "@jupyter-widgets/base",
            "_view_module_version": "1.2.0",
            "_view_name": "StyleView",
            "description_width": ""
          }
        }
      }
    }
  },
  "cells": [
    {
      "cell_type": "code",
      "source": [
        "!pip -qq install bertopic"
      ],
      "metadata": {
        "id": "5glQ_HTcLf8u"
      },
      "execution_count": 1,
      "outputs": []
    },
    {
      "cell_type": "code",
      "source": [
        "import pandas as pd\n",
        "from bertopic import BERTopic"
      ],
      "metadata": {
        "id": "_DuZEhkHLcv3"
      },
      "execution_count": 2,
      "outputs": []
    },
    {
      "cell_type": "code",
      "execution_count": 3,
      "metadata": {
        "colab": {
          "base_uri": "https://localhost:8080/",
          "height": 424
        },
        "id": "_grXeek8xzG9",
        "outputId": "d7ca53be-407a-4834-8d65-52bfb54374eb"
      },
      "outputs": [
        {
          "output_type": "execute_result",
          "data": {
            "text/plain": [
              "                                                 title               author  \\\n",
              "0    Addressing the challenges of client retention ...         David Burnes   \n",
              "1    What Does Engagement Look Like with Victims of...         David Burnes   \n",
              "2    \"linkAGEs - Aging in Intergenerational Societi...        Lynn McDonald   \n",
              "3    The potential for elders' cultural knowledge t...      George Sefa Dei   \n",
              "4    Supporting the creation of a LEARNing INteGrat...  Patrick Archambault   \n",
              "..                                                 ...                  ...   \n",
              "138  Restor(y)ing place-based Indigenous physical c...        Moss E Norman   \n",
              "139  Wholistic Indigenous Health and Wellness throu...        Moss E Norman   \n",
              "140  ATSA-ESI: Assistive Technology Supporting Agin...           Jesse Hoey   \n",
              "141  The Women and HIV Research Program: Impactful ...        Mona R Loutfy   \n",
              "142  Enhancing and Expanding the \"Know Your Status\"...        Mona R Loutfy   \n",
              "\n",
              "                         university  \\\n",
              "0             University of Toronto   \n",
              "1             University of Toronto   \n",
              "2             University of Toronto   \n",
              "3             University of Toronto   \n",
              "4                  Laval University   \n",
              "..                              ...   \n",
              "138  University of British Columbia   \n",
              "139  University of British Columbia   \n",
              "140          University of Waterloo   \n",
              "141        Women's College Hospital   \n",
              "142        Women's College Hospital   \n",
              "\n",
              "                                             link  \\\n",
              "0    https://cognit.ca/en/research/project/109991   \n",
              "1    https://cognit.ca/en/research/project/226573   \n",
              "2    https://cognit.ca/en/research/project/225173   \n",
              "3    https://cognit.ca/en/research/project/113011   \n",
              "4    https://cognit.ca/en/research/project/153228   \n",
              "..                                            ...   \n",
              "138  https://cognit.ca/en/research/project/113521   \n",
              "139  https://cognit.ca/en/research/project/216287   \n",
              "140    https://cognit.ca/en/research/project/9941   \n",
              "141  https://cognit.ca/en/research/project/147849   \n",
              "142  https://cognit.ca/en/research/project/147274   \n",
              "\n",
              "                                                  body  polarity  \n",
              "0    Elder abuse is a pervasive form of inter-perso...  0.088414  \n",
              "1                                           No summary  0.000000  \n",
              "2                                           No summary  0.000000  \n",
              "3    Black youth in Canada face significant dispari...  0.104545  \n",
              "4    Elderly patients do not always receive the bes...  0.409375  \n",
              "..                                                 ...       ...  \n",
              "138  This project engages two Swampy Cree (Muskéko ...  0.082702  \n",
              "139  Our primary objective is to assemble a disting...  0.107071  \n",
              "140  For the past twelve years I have been building...  0.112954  \n",
              "141  Dr. Mona Loutfy is recognized as a national an...  0.142929  \n",
              "142  First Nations people living on-reserve in Sask...  0.129583  \n",
              "\n",
              "[143 rows x 6 columns]"
            ],
            "text/html": [
              "\n",
              "  <div id=\"df-13ad2ef5-6234-496a-804f-83c21b9f5f7a\">\n",
              "    <div class=\"colab-df-container\">\n",
              "      <div>\n",
              "<style scoped>\n",
              "    .dataframe tbody tr th:only-of-type {\n",
              "        vertical-align: middle;\n",
              "    }\n",
              "\n",
              "    .dataframe tbody tr th {\n",
              "        vertical-align: top;\n",
              "    }\n",
              "\n",
              "    .dataframe thead th {\n",
              "        text-align: right;\n",
              "    }\n",
              "</style>\n",
              "<table border=\"1\" class=\"dataframe\">\n",
              "  <thead>\n",
              "    <tr style=\"text-align: right;\">\n",
              "      <th></th>\n",
              "      <th>title</th>\n",
              "      <th>author</th>\n",
              "      <th>university</th>\n",
              "      <th>link</th>\n",
              "      <th>body</th>\n",
              "      <th>polarity</th>\n",
              "    </tr>\n",
              "  </thead>\n",
              "  <tbody>\n",
              "    <tr>\n",
              "      <th>0</th>\n",
              "      <td>Addressing the challenges of client retention ...</td>\n",
              "      <td>David Burnes</td>\n",
              "      <td>University of Toronto</td>\n",
              "      <td>https://cognit.ca/en/research/project/109991</td>\n",
              "      <td>Elder abuse is a pervasive form of inter-perso...</td>\n",
              "      <td>0.088414</td>\n",
              "    </tr>\n",
              "    <tr>\n",
              "      <th>1</th>\n",
              "      <td>What Does Engagement Look Like with Victims of...</td>\n",
              "      <td>David Burnes</td>\n",
              "      <td>University of Toronto</td>\n",
              "      <td>https://cognit.ca/en/research/project/226573</td>\n",
              "      <td>No summary</td>\n",
              "      <td>0.000000</td>\n",
              "    </tr>\n",
              "    <tr>\n",
              "      <th>2</th>\n",
              "      <td>\"linkAGEs - Aging in Intergenerational Societi...</td>\n",
              "      <td>Lynn McDonald</td>\n",
              "      <td>University of Toronto</td>\n",
              "      <td>https://cognit.ca/en/research/project/225173</td>\n",
              "      <td>No summary</td>\n",
              "      <td>0.000000</td>\n",
              "    </tr>\n",
              "    <tr>\n",
              "      <th>3</th>\n",
              "      <td>The potential for elders' cultural knowledge t...</td>\n",
              "      <td>George Sefa Dei</td>\n",
              "      <td>University of Toronto</td>\n",
              "      <td>https://cognit.ca/en/research/project/113011</td>\n",
              "      <td>Black youth in Canada face significant dispari...</td>\n",
              "      <td>0.104545</td>\n",
              "    </tr>\n",
              "    <tr>\n",
              "      <th>4</th>\n",
              "      <td>Supporting the creation of a LEARNing INteGrat...</td>\n",
              "      <td>Patrick Archambault</td>\n",
              "      <td>Laval University</td>\n",
              "      <td>https://cognit.ca/en/research/project/153228</td>\n",
              "      <td>Elderly patients do not always receive the bes...</td>\n",
              "      <td>0.409375</td>\n",
              "    </tr>\n",
              "    <tr>\n",
              "      <th>...</th>\n",
              "      <td>...</td>\n",
              "      <td>...</td>\n",
              "      <td>...</td>\n",
              "      <td>...</td>\n",
              "      <td>...</td>\n",
              "      <td>...</td>\n",
              "    </tr>\n",
              "    <tr>\n",
              "      <th>138</th>\n",
              "      <td>Restor(y)ing place-based Indigenous physical c...</td>\n",
              "      <td>Moss E Norman</td>\n",
              "      <td>University of British Columbia</td>\n",
              "      <td>https://cognit.ca/en/research/project/113521</td>\n",
              "      <td>This project engages two Swampy Cree (Muskéko ...</td>\n",
              "      <td>0.082702</td>\n",
              "    </tr>\n",
              "    <tr>\n",
              "      <th>139</th>\n",
              "      <td>Wholistic Indigenous Health and Wellness throu...</td>\n",
              "      <td>Moss E Norman</td>\n",
              "      <td>University of British Columbia</td>\n",
              "      <td>https://cognit.ca/en/research/project/216287</td>\n",
              "      <td>Our primary objective is to assemble a disting...</td>\n",
              "      <td>0.107071</td>\n",
              "    </tr>\n",
              "    <tr>\n",
              "      <th>140</th>\n",
              "      <td>ATSA-ESI: Assistive Technology Supporting Agin...</td>\n",
              "      <td>Jesse Hoey</td>\n",
              "      <td>University of Waterloo</td>\n",
              "      <td>https://cognit.ca/en/research/project/9941</td>\n",
              "      <td>For the past twelve years I have been building...</td>\n",
              "      <td>0.112954</td>\n",
              "    </tr>\n",
              "    <tr>\n",
              "      <th>141</th>\n",
              "      <td>The Women and HIV Research Program: Impactful ...</td>\n",
              "      <td>Mona R Loutfy</td>\n",
              "      <td>Women's College Hospital</td>\n",
              "      <td>https://cognit.ca/en/research/project/147849</td>\n",
              "      <td>Dr. Mona Loutfy is recognized as a national an...</td>\n",
              "      <td>0.142929</td>\n",
              "    </tr>\n",
              "    <tr>\n",
              "      <th>142</th>\n",
              "      <td>Enhancing and Expanding the \"Know Your Status\"...</td>\n",
              "      <td>Mona R Loutfy</td>\n",
              "      <td>Women's College Hospital</td>\n",
              "      <td>https://cognit.ca/en/research/project/147274</td>\n",
              "      <td>First Nations people living on-reserve in Sask...</td>\n",
              "      <td>0.129583</td>\n",
              "    </tr>\n",
              "  </tbody>\n",
              "</table>\n",
              "<p>143 rows × 6 columns</p>\n",
              "</div>\n",
              "      <button class=\"colab-df-convert\" onclick=\"convertToInteractive('df-13ad2ef5-6234-496a-804f-83c21b9f5f7a')\"\n",
              "              title=\"Convert this dataframe to an interactive table.\"\n",
              "              style=\"display:none;\">\n",
              "        \n",
              "  <svg xmlns=\"http://www.w3.org/2000/svg\" height=\"24px\"viewBox=\"0 0 24 24\"\n",
              "       width=\"24px\">\n",
              "    <path d=\"M0 0h24v24H0V0z\" fill=\"none\"/>\n",
              "    <path d=\"M18.56 5.44l.94 2.06.94-2.06 2.06-.94-2.06-.94-.94-2.06-.94 2.06-2.06.94zm-11 1L8.5 8.5l.94-2.06 2.06-.94-2.06-.94L8.5 2.5l-.94 2.06-2.06.94zm10 10l.94 2.06.94-2.06 2.06-.94-2.06-.94-.94-2.06-.94 2.06-2.06.94z\"/><path d=\"M17.41 7.96l-1.37-1.37c-.4-.4-.92-.59-1.43-.59-.52 0-1.04.2-1.43.59L10.3 9.45l-7.72 7.72c-.78.78-.78 2.05 0 2.83L4 21.41c.39.39.9.59 1.41.59.51 0 1.02-.2 1.41-.59l7.78-7.78 2.81-2.81c.8-.78.8-2.07 0-2.86zM5.41 20L4 18.59l7.72-7.72 1.47 1.35L5.41 20z\"/>\n",
              "  </svg>\n",
              "      </button>\n",
              "      \n",
              "  <style>\n",
              "    .colab-df-container {\n",
              "      display:flex;\n",
              "      flex-wrap:wrap;\n",
              "      gap: 12px;\n",
              "    }\n",
              "\n",
              "    .colab-df-convert {\n",
              "      background-color: #E8F0FE;\n",
              "      border: none;\n",
              "      border-radius: 50%;\n",
              "      cursor: pointer;\n",
              "      display: none;\n",
              "      fill: #1967D2;\n",
              "      height: 32px;\n",
              "      padding: 0 0 0 0;\n",
              "      width: 32px;\n",
              "    }\n",
              "\n",
              "    .colab-df-convert:hover {\n",
              "      background-color: #E2EBFA;\n",
              "      box-shadow: 0px 1px 2px rgba(60, 64, 67, 0.3), 0px 1px 3px 1px rgba(60, 64, 67, 0.15);\n",
              "      fill: #174EA6;\n",
              "    }\n",
              "\n",
              "    [theme=dark] .colab-df-convert {\n",
              "      background-color: #3B4455;\n",
              "      fill: #D2E3FC;\n",
              "    }\n",
              "\n",
              "    [theme=dark] .colab-df-convert:hover {\n",
              "      background-color: #434B5C;\n",
              "      box-shadow: 0px 1px 3px 1px rgba(0, 0, 0, 0.15);\n",
              "      filter: drop-shadow(0px 1px 2px rgba(0, 0, 0, 0.3));\n",
              "      fill: #FFFFFF;\n",
              "    }\n",
              "  </style>\n",
              "\n",
              "      <script>\n",
              "        const buttonEl =\n",
              "          document.querySelector('#df-13ad2ef5-6234-496a-804f-83c21b9f5f7a button.colab-df-convert');\n",
              "        buttonEl.style.display =\n",
              "          google.colab.kernel.accessAllowed ? 'block' : 'none';\n",
              "\n",
              "        async function convertToInteractive(key) {\n",
              "          const element = document.querySelector('#df-13ad2ef5-6234-496a-804f-83c21b9f5f7a');\n",
              "          const dataTable =\n",
              "            await google.colab.kernel.invokeFunction('convertToInteractive',\n",
              "                                                     [key], {});\n",
              "          if (!dataTable) return;\n",
              "\n",
              "          const docLinkHtml = 'Like what you see? Visit the ' +\n",
              "            '<a target=\"_blank\" href=https://colab.research.google.com/notebooks/data_table.ipynb>data table notebook</a>'\n",
              "            + ' to learn more about interactive tables.';\n",
              "          element.innerHTML = '';\n",
              "          dataTable['output_type'] = 'display_data';\n",
              "          await google.colab.output.renderOutput(dataTable, element);\n",
              "          const docLink = document.createElement('div');\n",
              "          docLink.innerHTML = docLinkHtml;\n",
              "          element.appendChild(docLink);\n",
              "        }\n",
              "      </script>\n",
              "    </div>\n",
              "  </div>\n",
              "  "
            ]
          },
          "metadata": {},
          "execution_count": 3
        }
      ],
      "source": [
        "art_df = pd.read_csv(\"cognit_paper_unique_polarity.csv\" , header = 0)\n",
        "#Removing pre index row\n",
        "art_df.drop(art_df.columns[0], axis = 1, inplace = True)\n",
        "art_df.columns = [\"title\", \"author\", \"university\", \"link\",\"body\",\"polarity\",]\n",
        "art_df"
      ]
    },
    {
      "cell_type": "code",
      "source": [
        "#Removing articles with no body text\n",
        "art_df = art_df[art_df.body != \"No summary\"]\n",
        "#Removing duplicated news based on header and body text combination\n",
        "art_df = art_df.drop_duplicates(subset=['polarity'], keep=False)\n",
        "art_df.reset_index(drop=True, inplace = True)"
      ],
      "metadata": {
        "id": "a0t7sBC9N0N4"
      },
      "execution_count": 4,
      "outputs": []
    },
    {
      "cell_type": "code",
      "source": [
        "import nltk\n",
        "import gensim\n",
        "from nltk.stem import WordNetLemmatizer, SnowballStemmer\n",
        "from nltk.tokenize import sent_tokenize, word_tokenize\n",
        "from nltk.stem.porter import *\n",
        "from nltk.stem import PorterStemmer\n",
        "nltk.download('punkt')\n",
        "nltk.download('wordnet')\n",
        "\n",
        "stemmer = SnowballStemmer('english')"
      ],
      "metadata": {
        "colab": {
          "base_uri": "https://localhost:8080/"
        },
        "id": "o_gNno-aTHlH",
        "outputId": "dba129fc-7af6-4dce-be6b-bafae95b3ec2"
      },
      "execution_count": 5,
      "outputs": [
        {
          "output_type": "stream",
          "name": "stdout",
          "text": [
            "[nltk_data] Downloading package punkt to /root/nltk_data...\n",
            "[nltk_data]   Package punkt is already up-to-date!\n",
            "[nltk_data] Downloading package wordnet to /root/nltk_data...\n",
            "[nltk_data]   Package wordnet is already up-to-date!\n"
          ]
        }
      ]
    },
    {
      "cell_type": "code",
      "source": [
        "porter = PorterStemmer()\n",
        "\n",
        "def stemSentence(sentence):\n",
        "    token_words=word_tokenize(sentence)\n",
        "    token_words\n",
        "    stem_sentence=[]\n",
        "    for word in token_words:\n",
        "        stem_sentence.append(porter.stem(word))\n",
        "        stem_sentence.append(\" \")\n",
        "    return \"\".join(stem_sentence)"
      ],
      "metadata": {
        "id": "Gk7HyWAZTW2s"
      },
      "execution_count": 6,
      "outputs": []
    },
    {
      "cell_type": "code",
      "source": [
        "def lemmatize_stemming(text):\n",
        "    return stemmer.stem(WordNetLemmatizer().lemmatize(text, pos='v'))\n",
        "\n",
        "def preprocess(text):\n",
        "    result = []\n",
        "    for token in gensim.utils.simple_preprocess(text):\n",
        "        if token not in gensim.parsing.preprocessing.STOPWORDS and len(token) > 3:\n",
        "            result.append(lemmatize_stemming(token))\n",
        "    return result"
      ],
      "metadata": {
        "id": "lcQD0U6MS_4R"
      },
      "execution_count": 7,
      "outputs": []
    },
    {
      "cell_type": "code",
      "source": [
        "df_lemma ={}\n",
        "df_lemma['lemmatized'] = []\n",
        "for i in art_df['body']:\n",
        "  lemma = ' '.join(preprocess(i))\n",
        "  df_lemma['lemmatized'].append(lemma)"
      ],
      "metadata": {
        "id": "Pd0OcwKrTCt_"
      },
      "execution_count": 8,
      "outputs": []
    },
    {
      "cell_type": "code",
      "source": [
        "art_df['lemmatized'] = df_lemma['lemmatized']"
      ],
      "metadata": {
        "id": "2ZYOH0hZUFwY"
      },
      "execution_count": 9,
      "outputs": []
    },
    {
      "cell_type": "code",
      "source": [
        "# Instanciating BERTopic\n",
        "topic_model = BERTopic(language = \"english\", calculate_probabilities = True, verbose = True)"
      ],
      "metadata": {
        "id": "gm-R7HakMDdv"
      },
      "execution_count": 10,
      "outputs": []
    },
    {
      "cell_type": "code",
      "source": [
        "# Fitting\n",
        "topics, probs = topic_model.fit_transform(art_df['lemmatized'])"
      ],
      "metadata": {
        "colab": {
          "base_uri": "https://localhost:8080/",
          "height": 156,
          "referenced_widgets": [
            "3178702a1bf84decb45d606a93d4d5e1",
            "a3acc9ead84c4d5b90f440eb95a4220f",
            "61aa8e57fb3c43a8acaf1300eeae5124",
            "ba872113aec94082a08319d1656868f3",
            "c3b069645b6f4fc2aa6d52040edb25b6",
            "e3a0d6f07f7e443e8a9b981ab7e89342",
            "5018062e74184dc1a4285fd4300c4d85",
            "f9681a99382f4cd9aa0075b71d35ec70",
            "4690de66e0584dca972f7a80f43f1b40",
            "0cfba98208b846349bcd5c36a05133c0",
            "c847c53351604c8cba841f7ddf7361d2"
          ]
        },
        "id": "08dt7_y7MeZu",
        "outputId": "a163be1f-f581-43b4-bb0d-7cae1b083f5a"
      },
      "execution_count": 11,
      "outputs": [
        {
          "output_type": "display_data",
          "data": {
            "text/plain": [
              "Batches:   0%|          | 0/4 [00:00<?, ?it/s]"
            ],
            "application/vnd.jupyter.widget-view+json": {
              "version_major": 2,
              "version_minor": 0,
              "model_id": "3178702a1bf84decb45d606a93d4d5e1"
            }
          },
          "metadata": {}
        },
        {
          "output_type": "stream",
          "name": "stderr",
          "text": [
            "2022-03-19 22:44:01,903 - BERTopic - Transformed documents to Embeddings\n",
            "/usr/local/lib/python3.7/dist-packages/numba/np/ufunc/parallel.py:363: NumbaWarning: The TBB threading layer requires TBB version 2019.5 or later i.e., TBB_INTERFACE_VERSION >= 11005. Found TBB_INTERFACE_VERSION = 9107. The TBB threading layer is disabled.\n",
            "  warnings.warn(problem)\n",
            "2022-03-19 22:44:14,225 - BERTopic - Reduced dimensionality with UMAP\n",
            "2022-03-19 22:44:14,245 - BERTopic - Clustered UMAP embeddings with HDBSCAN\n"
          ]
        }
      ]
    },
    {
      "cell_type": "code",
      "source": [
        "topic_model.save(\"BERTopic_elderly_art_model\")"
      ],
      "metadata": {
        "id": "cYKaVr-ErVRw"
      },
      "execution_count": 12,
      "outputs": []
    },
    {
      "cell_type": "code",
      "source": [
        "topic_model = BERTopic.load(\"BERTopic_elderly_art_model\")"
      ],
      "metadata": {
        "id": "jSletjsDShnn"
      },
      "execution_count": 13,
      "outputs": []
    },
    {
      "cell_type": "code",
      "source": [
        "topic_model.get_topic_info().head(20)"
      ],
      "metadata": {
        "colab": {
          "base_uri": "https://localhost:8080/",
          "height": 143
        },
        "id": "u6lps2ibX3O8",
        "outputId": "2ed4d9b6-435c-476f-b139-1b4f848ccc58"
      },
      "execution_count": 14,
      "outputs": [
        {
          "output_type": "execute_result",
          "data": {
            "text/plain": [
              "   Topic  Count                                  Name\n",
              "0     -1     49  -1_indigen_communiti_research_health\n",
              "1      0     28    0_communiti_research_indigen_elder\n",
              "2      1     24           1_care_patient_hospit_studi"
            ],
            "text/html": [
              "\n",
              "  <div id=\"df-61cd19b4-1be8-4b9f-998e-b045a79bfa11\">\n",
              "    <div class=\"colab-df-container\">\n",
              "      <div>\n",
              "<style scoped>\n",
              "    .dataframe tbody tr th:only-of-type {\n",
              "        vertical-align: middle;\n",
              "    }\n",
              "\n",
              "    .dataframe tbody tr th {\n",
              "        vertical-align: top;\n",
              "    }\n",
              "\n",
              "    .dataframe thead th {\n",
              "        text-align: right;\n",
              "    }\n",
              "</style>\n",
              "<table border=\"1\" class=\"dataframe\">\n",
              "  <thead>\n",
              "    <tr style=\"text-align: right;\">\n",
              "      <th></th>\n",
              "      <th>Topic</th>\n",
              "      <th>Count</th>\n",
              "      <th>Name</th>\n",
              "    </tr>\n",
              "  </thead>\n",
              "  <tbody>\n",
              "    <tr>\n",
              "      <th>0</th>\n",
              "      <td>-1</td>\n",
              "      <td>49</td>\n",
              "      <td>-1_indigen_communiti_research_health</td>\n",
              "    </tr>\n",
              "    <tr>\n",
              "      <th>1</th>\n",
              "      <td>0</td>\n",
              "      <td>28</td>\n",
              "      <td>0_communiti_research_indigen_elder</td>\n",
              "    </tr>\n",
              "    <tr>\n",
              "      <th>2</th>\n",
              "      <td>1</td>\n",
              "      <td>24</td>\n",
              "      <td>1_care_patient_hospit_studi</td>\n",
              "    </tr>\n",
              "  </tbody>\n",
              "</table>\n",
              "</div>\n",
              "      <button class=\"colab-df-convert\" onclick=\"convertToInteractive('df-61cd19b4-1be8-4b9f-998e-b045a79bfa11')\"\n",
              "              title=\"Convert this dataframe to an interactive table.\"\n",
              "              style=\"display:none;\">\n",
              "        \n",
              "  <svg xmlns=\"http://www.w3.org/2000/svg\" height=\"24px\"viewBox=\"0 0 24 24\"\n",
              "       width=\"24px\">\n",
              "    <path d=\"M0 0h24v24H0V0z\" fill=\"none\"/>\n",
              "    <path d=\"M18.56 5.44l.94 2.06.94-2.06 2.06-.94-2.06-.94-.94-2.06-.94 2.06-2.06.94zm-11 1L8.5 8.5l.94-2.06 2.06-.94-2.06-.94L8.5 2.5l-.94 2.06-2.06.94zm10 10l.94 2.06.94-2.06 2.06-.94-2.06-.94-.94-2.06-.94 2.06-2.06.94z\"/><path d=\"M17.41 7.96l-1.37-1.37c-.4-.4-.92-.59-1.43-.59-.52 0-1.04.2-1.43.59L10.3 9.45l-7.72 7.72c-.78.78-.78 2.05 0 2.83L4 21.41c.39.39.9.59 1.41.59.51 0 1.02-.2 1.41-.59l7.78-7.78 2.81-2.81c.8-.78.8-2.07 0-2.86zM5.41 20L4 18.59l7.72-7.72 1.47 1.35L5.41 20z\"/>\n",
              "  </svg>\n",
              "      </button>\n",
              "      \n",
              "  <style>\n",
              "    .colab-df-container {\n",
              "      display:flex;\n",
              "      flex-wrap:wrap;\n",
              "      gap: 12px;\n",
              "    }\n",
              "\n",
              "    .colab-df-convert {\n",
              "      background-color: #E8F0FE;\n",
              "      border: none;\n",
              "      border-radius: 50%;\n",
              "      cursor: pointer;\n",
              "      display: none;\n",
              "      fill: #1967D2;\n",
              "      height: 32px;\n",
              "      padding: 0 0 0 0;\n",
              "      width: 32px;\n",
              "    }\n",
              "\n",
              "    .colab-df-convert:hover {\n",
              "      background-color: #E2EBFA;\n",
              "      box-shadow: 0px 1px 2px rgba(60, 64, 67, 0.3), 0px 1px 3px 1px rgba(60, 64, 67, 0.15);\n",
              "      fill: #174EA6;\n",
              "    }\n",
              "\n",
              "    [theme=dark] .colab-df-convert {\n",
              "      background-color: #3B4455;\n",
              "      fill: #D2E3FC;\n",
              "    }\n",
              "\n",
              "    [theme=dark] .colab-df-convert:hover {\n",
              "      background-color: #434B5C;\n",
              "      box-shadow: 0px 1px 3px 1px rgba(0, 0, 0, 0.15);\n",
              "      filter: drop-shadow(0px 1px 2px rgba(0, 0, 0, 0.3));\n",
              "      fill: #FFFFFF;\n",
              "    }\n",
              "  </style>\n",
              "\n",
              "      <script>\n",
              "        const buttonEl =\n",
              "          document.querySelector('#df-61cd19b4-1be8-4b9f-998e-b045a79bfa11 button.colab-df-convert');\n",
              "        buttonEl.style.display =\n",
              "          google.colab.kernel.accessAllowed ? 'block' : 'none';\n",
              "\n",
              "        async function convertToInteractive(key) {\n",
              "          const element = document.querySelector('#df-61cd19b4-1be8-4b9f-998e-b045a79bfa11');\n",
              "          const dataTable =\n",
              "            await google.colab.kernel.invokeFunction('convertToInteractive',\n",
              "                                                     [key], {});\n",
              "          if (!dataTable) return;\n",
              "\n",
              "          const docLinkHtml = 'Like what you see? Visit the ' +\n",
              "            '<a target=\"_blank\" href=https://colab.research.google.com/notebooks/data_table.ipynb>data table notebook</a>'\n",
              "            + ' to learn more about interactive tables.';\n",
              "          element.innerHTML = '';\n",
              "          dataTable['output_type'] = 'display_data';\n",
              "          await google.colab.output.renderOutput(dataTable, element);\n",
              "          const docLink = document.createElement('div');\n",
              "          docLink.innerHTML = docLinkHtml;\n",
              "          element.appendChild(docLink);\n",
              "        }\n",
              "      </script>\n",
              "    </div>\n",
              "  </div>\n",
              "  "
            ]
          },
          "metadata": {},
          "execution_count": 14
        }
      ]
    },
    {
      "cell_type": "code",
      "source": [
        "print(f\"Topics discovered: {max(topic_model.get_topic_info()['Topic']) +1}\")"
      ],
      "metadata": {
        "colab": {
          "base_uri": "https://localhost:8080/"
        },
        "id": "PMceygsgaBGr",
        "outputId": "00ecc7f2-b4d6-4c3b-dd7a-699c8fa228ff"
      },
      "execution_count": 15,
      "outputs": [
        {
          "output_type": "stream",
          "name": "stdout",
          "text": [
            "Topics discovered: 2\n"
          ]
        }
      ]
    },
    {
      "cell_type": "code",
      "source": [
        "art_df['topic'] = topics\n",
        "art_df.head()"
      ],
      "metadata": {
        "colab": {
          "base_uri": "https://localhost:8080/",
          "height": 337
        },
        "id": "CnOa_SXUvkDR",
        "outputId": "c51b4140-b2e9-4489-9de7-03b23f8d478d"
      },
      "execution_count": 16,
      "outputs": [
        {
          "output_type": "execute_result",
          "data": {
            "text/plain": [
              "                                               title               author  \\\n",
              "0  Addressing the challenges of client retention ...         David Burnes   \n",
              "1  The potential for elders' cultural knowledge t...      George Sefa Dei   \n",
              "2  Supporting the creation of a LEARNing INteGrat...  Patrick Archambault   \n",
              "3  Supporting the creation of a LEARNing INteGrat...  Patrick Archambault   \n",
              "4  The Canadian Network of COVID-19 Clinical Tria...  Patrick Archambault   \n",
              "\n",
              "              university                                          link  \\\n",
              "0  University of Toronto  https://cognit.ca/en/research/project/109991   \n",
              "1  University of Toronto  https://cognit.ca/en/research/project/113011   \n",
              "2       Laval University  https://cognit.ca/en/research/project/153228   \n",
              "3       Laval University  https://cognit.ca/en/research/project/153897   \n",
              "4       Laval University  https://cognit.ca/en/research/project/232693   \n",
              "\n",
              "                                                body  polarity  \\\n",
              "0  Elder abuse is a pervasive form of inter-perso...  0.088414   \n",
              "1  Black youth in Canada face significant dispari...  0.104545   \n",
              "2  Elderly patients do not always receive the bes...  0.409375   \n",
              "3  Elderly patients discharged from emergency dep...  0.237500   \n",
              "4  Nearly 350,000 Canadians have been diagnosed w...  0.229924   \n",
              "\n",
              "                                          lemmatized  topic  \n",
              "0  elder abus pervas form inter person violenc ca...      0  \n",
              "1  black youth canada face signific dispar educ s...      0  \n",
              "2  elder patient receiv best care help return hom...      1  \n",
              "3  elder patient discharg emerg depart repeat rea...      1  \n",
              "4  near canadian diagnos covid infect canada elde...     -1  "
            ],
            "text/html": [
              "\n",
              "  <div id=\"df-ae1557e4-57ab-4b18-b08e-e8f270c72ac6\">\n",
              "    <div class=\"colab-df-container\">\n",
              "      <div>\n",
              "<style scoped>\n",
              "    .dataframe tbody tr th:only-of-type {\n",
              "        vertical-align: middle;\n",
              "    }\n",
              "\n",
              "    .dataframe tbody tr th {\n",
              "        vertical-align: top;\n",
              "    }\n",
              "\n",
              "    .dataframe thead th {\n",
              "        text-align: right;\n",
              "    }\n",
              "</style>\n",
              "<table border=\"1\" class=\"dataframe\">\n",
              "  <thead>\n",
              "    <tr style=\"text-align: right;\">\n",
              "      <th></th>\n",
              "      <th>title</th>\n",
              "      <th>author</th>\n",
              "      <th>university</th>\n",
              "      <th>link</th>\n",
              "      <th>body</th>\n",
              "      <th>polarity</th>\n",
              "      <th>lemmatized</th>\n",
              "      <th>topic</th>\n",
              "    </tr>\n",
              "  </thead>\n",
              "  <tbody>\n",
              "    <tr>\n",
              "      <th>0</th>\n",
              "      <td>Addressing the challenges of client retention ...</td>\n",
              "      <td>David Burnes</td>\n",
              "      <td>University of Toronto</td>\n",
              "      <td>https://cognit.ca/en/research/project/109991</td>\n",
              "      <td>Elder abuse is a pervasive form of inter-perso...</td>\n",
              "      <td>0.088414</td>\n",
              "      <td>elder abus pervas form inter person violenc ca...</td>\n",
              "      <td>0</td>\n",
              "    </tr>\n",
              "    <tr>\n",
              "      <th>1</th>\n",
              "      <td>The potential for elders' cultural knowledge t...</td>\n",
              "      <td>George Sefa Dei</td>\n",
              "      <td>University of Toronto</td>\n",
              "      <td>https://cognit.ca/en/research/project/113011</td>\n",
              "      <td>Black youth in Canada face significant dispari...</td>\n",
              "      <td>0.104545</td>\n",
              "      <td>black youth canada face signific dispar educ s...</td>\n",
              "      <td>0</td>\n",
              "    </tr>\n",
              "    <tr>\n",
              "      <th>2</th>\n",
              "      <td>Supporting the creation of a LEARNing INteGrat...</td>\n",
              "      <td>Patrick Archambault</td>\n",
              "      <td>Laval University</td>\n",
              "      <td>https://cognit.ca/en/research/project/153228</td>\n",
              "      <td>Elderly patients do not always receive the bes...</td>\n",
              "      <td>0.409375</td>\n",
              "      <td>elder patient receiv best care help return hom...</td>\n",
              "      <td>1</td>\n",
              "    </tr>\n",
              "    <tr>\n",
              "      <th>3</th>\n",
              "      <td>Supporting the creation of a LEARNing INteGrat...</td>\n",
              "      <td>Patrick Archambault</td>\n",
              "      <td>Laval University</td>\n",
              "      <td>https://cognit.ca/en/research/project/153897</td>\n",
              "      <td>Elderly patients discharged from emergency dep...</td>\n",
              "      <td>0.237500</td>\n",
              "      <td>elder patient discharg emerg depart repeat rea...</td>\n",
              "      <td>1</td>\n",
              "    </tr>\n",
              "    <tr>\n",
              "      <th>4</th>\n",
              "      <td>The Canadian Network of COVID-19 Clinical Tria...</td>\n",
              "      <td>Patrick Archambault</td>\n",
              "      <td>Laval University</td>\n",
              "      <td>https://cognit.ca/en/research/project/232693</td>\n",
              "      <td>Nearly 350,000 Canadians have been diagnosed w...</td>\n",
              "      <td>0.229924</td>\n",
              "      <td>near canadian diagnos covid infect canada elde...</td>\n",
              "      <td>-1</td>\n",
              "    </tr>\n",
              "  </tbody>\n",
              "</table>\n",
              "</div>\n",
              "      <button class=\"colab-df-convert\" onclick=\"convertToInteractive('df-ae1557e4-57ab-4b18-b08e-e8f270c72ac6')\"\n",
              "              title=\"Convert this dataframe to an interactive table.\"\n",
              "              style=\"display:none;\">\n",
              "        \n",
              "  <svg xmlns=\"http://www.w3.org/2000/svg\" height=\"24px\"viewBox=\"0 0 24 24\"\n",
              "       width=\"24px\">\n",
              "    <path d=\"M0 0h24v24H0V0z\" fill=\"none\"/>\n",
              "    <path d=\"M18.56 5.44l.94 2.06.94-2.06 2.06-.94-2.06-.94-.94-2.06-.94 2.06-2.06.94zm-11 1L8.5 8.5l.94-2.06 2.06-.94-2.06-.94L8.5 2.5l-.94 2.06-2.06.94zm10 10l.94 2.06.94-2.06 2.06-.94-2.06-.94-.94-2.06-.94 2.06-2.06.94z\"/><path d=\"M17.41 7.96l-1.37-1.37c-.4-.4-.92-.59-1.43-.59-.52 0-1.04.2-1.43.59L10.3 9.45l-7.72 7.72c-.78.78-.78 2.05 0 2.83L4 21.41c.39.39.9.59 1.41.59.51 0 1.02-.2 1.41-.59l7.78-7.78 2.81-2.81c.8-.78.8-2.07 0-2.86zM5.41 20L4 18.59l7.72-7.72 1.47 1.35L5.41 20z\"/>\n",
              "  </svg>\n",
              "      </button>\n",
              "      \n",
              "  <style>\n",
              "    .colab-df-container {\n",
              "      display:flex;\n",
              "      flex-wrap:wrap;\n",
              "      gap: 12px;\n",
              "    }\n",
              "\n",
              "    .colab-df-convert {\n",
              "      background-color: #E8F0FE;\n",
              "      border: none;\n",
              "      border-radius: 50%;\n",
              "      cursor: pointer;\n",
              "      display: none;\n",
              "      fill: #1967D2;\n",
              "      height: 32px;\n",
              "      padding: 0 0 0 0;\n",
              "      width: 32px;\n",
              "    }\n",
              "\n",
              "    .colab-df-convert:hover {\n",
              "      background-color: #E2EBFA;\n",
              "      box-shadow: 0px 1px 2px rgba(60, 64, 67, 0.3), 0px 1px 3px 1px rgba(60, 64, 67, 0.15);\n",
              "      fill: #174EA6;\n",
              "    }\n",
              "\n",
              "    [theme=dark] .colab-df-convert {\n",
              "      background-color: #3B4455;\n",
              "      fill: #D2E3FC;\n",
              "    }\n",
              "\n",
              "    [theme=dark] .colab-df-convert:hover {\n",
              "      background-color: #434B5C;\n",
              "      box-shadow: 0px 1px 3px 1px rgba(0, 0, 0, 0.15);\n",
              "      filter: drop-shadow(0px 1px 2px rgba(0, 0, 0, 0.3));\n",
              "      fill: #FFFFFF;\n",
              "    }\n",
              "  </style>\n",
              "\n",
              "      <script>\n",
              "        const buttonEl =\n",
              "          document.querySelector('#df-ae1557e4-57ab-4b18-b08e-e8f270c72ac6 button.colab-df-convert');\n",
              "        buttonEl.style.display =\n",
              "          google.colab.kernel.accessAllowed ? 'block' : 'none';\n",
              "\n",
              "        async function convertToInteractive(key) {\n",
              "          const element = document.querySelector('#df-ae1557e4-57ab-4b18-b08e-e8f270c72ac6');\n",
              "          const dataTable =\n",
              "            await google.colab.kernel.invokeFunction('convertToInteractive',\n",
              "                                                     [key], {});\n",
              "          if (!dataTable) return;\n",
              "\n",
              "          const docLinkHtml = 'Like what you see? Visit the ' +\n",
              "            '<a target=\"_blank\" href=https://colab.research.google.com/notebooks/data_table.ipynb>data table notebook</a>'\n",
              "            + ' to learn more about interactive tables.';\n",
              "          element.innerHTML = '';\n",
              "          dataTable['output_type'] = 'display_data';\n",
              "          await google.colab.output.renderOutput(dataTable, element);\n",
              "          const docLink = document.createElement('div');\n",
              "          docLink.innerHTML = docLinkHtml;\n",
              "          element.appendChild(docLink);\n",
              "        }\n",
              "      </script>\n",
              "    </div>\n",
              "  </div>\n",
              "  "
            ]
          },
          "metadata": {},
          "execution_count": 16
        }
      ]
    },
    {
      "cell_type": "code",
      "source": [
        "art_df.to_csv('topic_elderly_articles.csv')"
      ],
      "metadata": {
        "id": "7cQAmN5jv6Q3"
      },
      "execution_count": 17,
      "outputs": []
    },
    {
      "cell_type": "code",
      "source": [
        "topic_model.visualize_barchart(top_n_topics=16)"
      ],
      "metadata": {
        "colab": {
          "base_uri": "https://localhost:8080/",
          "height": 342
        },
        "id": "_cF8wnDzZIqz",
        "outputId": "2184bc72-adeb-4ad8-9bf7-506c61daa6f5"
      },
      "execution_count": 18,
      "outputs": [
        {
          "output_type": "display_data",
          "data": {
            "text/html": [
              "<html>\n",
              "<head><meta charset=\"utf-8\" /></head>\n",
              "<body>\n",
              "    <div>            <script src=\"https://cdnjs.cloudflare.com/ajax/libs/mathjax/2.7.5/MathJax.js?config=TeX-AMS-MML_SVG\"></script><script type=\"text/javascript\">if (window.MathJax) {MathJax.Hub.Config({SVG: {font: \"STIX-Web\"}});}</script>                <script type=\"text/javascript\">window.PlotlyConfig = {MathJaxConfig: 'local'};</script>\n",
              "        <script src=\"https://cdn.plot.ly/plotly-2.8.3.min.js\"></script>                <div id=\"4f08eefe-6fbb-416d-9784-47dbe7fbf597\" class=\"plotly-graph-div\" style=\"height:325.0px; width:1000px;\"></div>            <script type=\"text/javascript\">                                    window.PLOTLYENV=window.PLOTLYENV || {};                                    if (document.getElementById(\"4f08eefe-6fbb-416d-9784-47dbe7fbf597\")) {                    Plotly.newPlot(                        \"4f08eefe-6fbb-416d-9784-47dbe7fbf597\",                        [{\"marker\":{\"color\":\"#D55E00\"},\"orientation\":\"h\",\"x\":[0.042805013657064114,0.04513979137433622,0.060336727687889675,0.06464594168077908,0.08559732626425048],\"y\":[\"knowledg  \",\"elder  \",\"indigen  \",\"research  \",\"communiti  \"],\"type\":\"bar\",\"xaxis\":\"x\",\"yaxis\":\"y\"},{\"marker\":{\"color\":\"#0072B2\"},\"orientation\":\"h\",\"x\":[0.039536673746943654,0.044705156023642,0.0514105337336219,0.0876763471728824,0.11443096680606475],\"y\":[\"long  \",\"studi  \",\"hospit  \",\"patient  \",\"care  \"],\"type\":\"bar\",\"xaxis\":\"x2\",\"yaxis\":\"y2\"}],                        {\"template\":{\"data\":{\"barpolar\":[{\"marker\":{\"line\":{\"color\":\"white\",\"width\":0.5},\"pattern\":{\"fillmode\":\"overlay\",\"size\":10,\"solidity\":0.2}},\"type\":\"barpolar\"}],\"bar\":[{\"error_x\":{\"color\":\"#2a3f5f\"},\"error_y\":{\"color\":\"#2a3f5f\"},\"marker\":{\"line\":{\"color\":\"white\",\"width\":0.5},\"pattern\":{\"fillmode\":\"overlay\",\"size\":10,\"solidity\":0.2}},\"type\":\"bar\"}],\"carpet\":[{\"aaxis\":{\"endlinecolor\":\"#2a3f5f\",\"gridcolor\":\"#C8D4E3\",\"linecolor\":\"#C8D4E3\",\"minorgridcolor\":\"#C8D4E3\",\"startlinecolor\":\"#2a3f5f\"},\"baxis\":{\"endlinecolor\":\"#2a3f5f\",\"gridcolor\":\"#C8D4E3\",\"linecolor\":\"#C8D4E3\",\"minorgridcolor\":\"#C8D4E3\",\"startlinecolor\":\"#2a3f5f\"},\"type\":\"carpet\"}],\"choropleth\":[{\"colorbar\":{\"outlinewidth\":0,\"ticks\":\"\"},\"type\":\"choropleth\"}],\"contourcarpet\":[{\"colorbar\":{\"outlinewidth\":0,\"ticks\":\"\"},\"type\":\"contourcarpet\"}],\"contour\":[{\"colorbar\":{\"outlinewidth\":0,\"ticks\":\"\"},\"colorscale\":[[0.0,\"#0d0887\"],[0.1111111111111111,\"#46039f\"],[0.2222222222222222,\"#7201a8\"],[0.3333333333333333,\"#9c179e\"],[0.4444444444444444,\"#bd3786\"],[0.5555555555555556,\"#d8576b\"],[0.6666666666666666,\"#ed7953\"],[0.7777777777777778,\"#fb9f3a\"],[0.8888888888888888,\"#fdca26\"],[1.0,\"#f0f921\"]],\"type\":\"contour\"}],\"heatmapgl\":[{\"colorbar\":{\"outlinewidth\":0,\"ticks\":\"\"},\"colorscale\":[[0.0,\"#0d0887\"],[0.1111111111111111,\"#46039f\"],[0.2222222222222222,\"#7201a8\"],[0.3333333333333333,\"#9c179e\"],[0.4444444444444444,\"#bd3786\"],[0.5555555555555556,\"#d8576b\"],[0.6666666666666666,\"#ed7953\"],[0.7777777777777778,\"#fb9f3a\"],[0.8888888888888888,\"#fdca26\"],[1.0,\"#f0f921\"]],\"type\":\"heatmapgl\"}],\"heatmap\":[{\"colorbar\":{\"outlinewidth\":0,\"ticks\":\"\"},\"colorscale\":[[0.0,\"#0d0887\"],[0.1111111111111111,\"#46039f\"],[0.2222222222222222,\"#7201a8\"],[0.3333333333333333,\"#9c179e\"],[0.4444444444444444,\"#bd3786\"],[0.5555555555555556,\"#d8576b\"],[0.6666666666666666,\"#ed7953\"],[0.7777777777777778,\"#fb9f3a\"],[0.8888888888888888,\"#fdca26\"],[1.0,\"#f0f921\"]],\"type\":\"heatmap\"}],\"histogram2dcontour\":[{\"colorbar\":{\"outlinewidth\":0,\"ticks\":\"\"},\"colorscale\":[[0.0,\"#0d0887\"],[0.1111111111111111,\"#46039f\"],[0.2222222222222222,\"#7201a8\"],[0.3333333333333333,\"#9c179e\"],[0.4444444444444444,\"#bd3786\"],[0.5555555555555556,\"#d8576b\"],[0.6666666666666666,\"#ed7953\"],[0.7777777777777778,\"#fb9f3a\"],[0.8888888888888888,\"#fdca26\"],[1.0,\"#f0f921\"]],\"type\":\"histogram2dcontour\"}],\"histogram2d\":[{\"colorbar\":{\"outlinewidth\":0,\"ticks\":\"\"},\"colorscale\":[[0.0,\"#0d0887\"],[0.1111111111111111,\"#46039f\"],[0.2222222222222222,\"#7201a8\"],[0.3333333333333333,\"#9c179e\"],[0.4444444444444444,\"#bd3786\"],[0.5555555555555556,\"#d8576b\"],[0.6666666666666666,\"#ed7953\"],[0.7777777777777778,\"#fb9f3a\"],[0.8888888888888888,\"#fdca26\"],[1.0,\"#f0f921\"]],\"type\":\"histogram2d\"}],\"histogram\":[{\"marker\":{\"pattern\":{\"fillmode\":\"overlay\",\"size\":10,\"solidity\":0.2}},\"type\":\"histogram\"}],\"mesh3d\":[{\"colorbar\":{\"outlinewidth\":0,\"ticks\":\"\"},\"type\":\"mesh3d\"}],\"parcoords\":[{\"line\":{\"colorbar\":{\"outlinewidth\":0,\"ticks\":\"\"}},\"type\":\"parcoords\"}],\"pie\":[{\"automargin\":true,\"type\":\"pie\"}],\"scatter3d\":[{\"line\":{\"colorbar\":{\"outlinewidth\":0,\"ticks\":\"\"}},\"marker\":{\"colorbar\":{\"outlinewidth\":0,\"ticks\":\"\"}},\"type\":\"scatter3d\"}],\"scattercarpet\":[{\"marker\":{\"colorbar\":{\"outlinewidth\":0,\"ticks\":\"\"}},\"type\":\"scattercarpet\"}],\"scattergeo\":[{\"marker\":{\"colorbar\":{\"outlinewidth\":0,\"ticks\":\"\"}},\"type\":\"scattergeo\"}],\"scattergl\":[{\"marker\":{\"colorbar\":{\"outlinewidth\":0,\"ticks\":\"\"}},\"type\":\"scattergl\"}],\"scattermapbox\":[{\"marker\":{\"colorbar\":{\"outlinewidth\":0,\"ticks\":\"\"}},\"type\":\"scattermapbox\"}],\"scatterpolargl\":[{\"marker\":{\"colorbar\":{\"outlinewidth\":0,\"ticks\":\"\"}},\"type\":\"scatterpolargl\"}],\"scatterpolar\":[{\"marker\":{\"colorbar\":{\"outlinewidth\":0,\"ticks\":\"\"}},\"type\":\"scatterpolar\"}],\"scatter\":[{\"marker\":{\"colorbar\":{\"outlinewidth\":0,\"ticks\":\"\"}},\"type\":\"scatter\"}],\"scatterternary\":[{\"marker\":{\"colorbar\":{\"outlinewidth\":0,\"ticks\":\"\"}},\"type\":\"scatterternary\"}],\"surface\":[{\"colorbar\":{\"outlinewidth\":0,\"ticks\":\"\"},\"colorscale\":[[0.0,\"#0d0887\"],[0.1111111111111111,\"#46039f\"],[0.2222222222222222,\"#7201a8\"],[0.3333333333333333,\"#9c179e\"],[0.4444444444444444,\"#bd3786\"],[0.5555555555555556,\"#d8576b\"],[0.6666666666666666,\"#ed7953\"],[0.7777777777777778,\"#fb9f3a\"],[0.8888888888888888,\"#fdca26\"],[1.0,\"#f0f921\"]],\"type\":\"surface\"}],\"table\":[{\"cells\":{\"fill\":{\"color\":\"#EBF0F8\"},\"line\":{\"color\":\"white\"}},\"header\":{\"fill\":{\"color\":\"#C8D4E3\"},\"line\":{\"color\":\"white\"}},\"type\":\"table\"}]},\"layout\":{\"annotationdefaults\":{\"arrowcolor\":\"#2a3f5f\",\"arrowhead\":0,\"arrowwidth\":1},\"autotypenumbers\":\"strict\",\"coloraxis\":{\"colorbar\":{\"outlinewidth\":0,\"ticks\":\"\"}},\"colorscale\":{\"diverging\":[[0,\"#8e0152\"],[0.1,\"#c51b7d\"],[0.2,\"#de77ae\"],[0.3,\"#f1b6da\"],[0.4,\"#fde0ef\"],[0.5,\"#f7f7f7\"],[0.6,\"#e6f5d0\"],[0.7,\"#b8e186\"],[0.8,\"#7fbc41\"],[0.9,\"#4d9221\"],[1,\"#276419\"]],\"sequential\":[[0.0,\"#0d0887\"],[0.1111111111111111,\"#46039f\"],[0.2222222222222222,\"#7201a8\"],[0.3333333333333333,\"#9c179e\"],[0.4444444444444444,\"#bd3786\"],[0.5555555555555556,\"#d8576b\"],[0.6666666666666666,\"#ed7953\"],[0.7777777777777778,\"#fb9f3a\"],[0.8888888888888888,\"#fdca26\"],[1.0,\"#f0f921\"]],\"sequentialminus\":[[0.0,\"#0d0887\"],[0.1111111111111111,\"#46039f\"],[0.2222222222222222,\"#7201a8\"],[0.3333333333333333,\"#9c179e\"],[0.4444444444444444,\"#bd3786\"],[0.5555555555555556,\"#d8576b\"],[0.6666666666666666,\"#ed7953\"],[0.7777777777777778,\"#fb9f3a\"],[0.8888888888888888,\"#fdca26\"],[1.0,\"#f0f921\"]]},\"colorway\":[\"#636efa\",\"#EF553B\",\"#00cc96\",\"#ab63fa\",\"#FFA15A\",\"#19d3f3\",\"#FF6692\",\"#B6E880\",\"#FF97FF\",\"#FECB52\"],\"font\":{\"color\":\"#2a3f5f\"},\"geo\":{\"bgcolor\":\"white\",\"lakecolor\":\"white\",\"landcolor\":\"white\",\"showlakes\":true,\"showland\":true,\"subunitcolor\":\"#C8D4E3\"},\"hoverlabel\":{\"align\":\"left\"},\"hovermode\":\"closest\",\"mapbox\":{\"style\":\"light\"},\"paper_bgcolor\":\"white\",\"plot_bgcolor\":\"white\",\"polar\":{\"angularaxis\":{\"gridcolor\":\"#EBF0F8\",\"linecolor\":\"#EBF0F8\",\"ticks\":\"\"},\"bgcolor\":\"white\",\"radialaxis\":{\"gridcolor\":\"#EBF0F8\",\"linecolor\":\"#EBF0F8\",\"ticks\":\"\"}},\"scene\":{\"xaxis\":{\"backgroundcolor\":\"white\",\"gridcolor\":\"#DFE8F3\",\"gridwidth\":2,\"linecolor\":\"#EBF0F8\",\"showbackground\":true,\"ticks\":\"\",\"zerolinecolor\":\"#EBF0F8\"},\"yaxis\":{\"backgroundcolor\":\"white\",\"gridcolor\":\"#DFE8F3\",\"gridwidth\":2,\"linecolor\":\"#EBF0F8\",\"showbackground\":true,\"ticks\":\"\",\"zerolinecolor\":\"#EBF0F8\"},\"zaxis\":{\"backgroundcolor\":\"white\",\"gridcolor\":\"#DFE8F3\",\"gridwidth\":2,\"linecolor\":\"#EBF0F8\",\"showbackground\":true,\"ticks\":\"\",\"zerolinecolor\":\"#EBF0F8\"}},\"shapedefaults\":{\"line\":{\"color\":\"#2a3f5f\"}},\"ternary\":{\"aaxis\":{\"gridcolor\":\"#DFE8F3\",\"linecolor\":\"#A2B1C6\",\"ticks\":\"\"},\"baxis\":{\"gridcolor\":\"#DFE8F3\",\"linecolor\":\"#A2B1C6\",\"ticks\":\"\"},\"bgcolor\":\"white\",\"caxis\":{\"gridcolor\":\"#DFE8F3\",\"linecolor\":\"#A2B1C6\",\"ticks\":\"\"}},\"title\":{\"x\":0.05},\"xaxis\":{\"automargin\":true,\"gridcolor\":\"#EBF0F8\",\"linecolor\":\"#EBF0F8\",\"ticks\":\"\",\"title\":{\"standoff\":15},\"zerolinecolor\":\"#EBF0F8\",\"zerolinewidth\":2},\"yaxis\":{\"automargin\":true,\"gridcolor\":\"#EBF0F8\",\"linecolor\":\"#EBF0F8\",\"ticks\":\"\",\"title\":{\"standoff\":15},\"zerolinecolor\":\"#EBF0F8\",\"zerolinewidth\":2}}},\"xaxis\":{\"anchor\":\"y\",\"domain\":[0.0,0.175],\"showgrid\":true},\"yaxis\":{\"anchor\":\"x\",\"domain\":[0.0,1.0],\"showgrid\":true},\"xaxis2\":{\"anchor\":\"y2\",\"domain\":[0.275,0.45],\"showgrid\":true},\"yaxis2\":{\"anchor\":\"x2\",\"domain\":[0.0,1.0],\"showgrid\":true},\"xaxis3\":{\"anchor\":\"y3\",\"domain\":[0.55,0.7250000000000001],\"showgrid\":true},\"yaxis3\":{\"anchor\":\"x3\",\"domain\":[0.0,1.0],\"showgrid\":true},\"xaxis4\":{\"anchor\":\"y4\",\"domain\":[0.825,1.0],\"showgrid\":true},\"yaxis4\":{\"anchor\":\"x4\",\"domain\":[0.0,1.0],\"showgrid\":true},\"annotations\":[{\"font\":{\"size\":16},\"showarrow\":false,\"text\":\"Topic 0\",\"x\":0.0875,\"xanchor\":\"center\",\"xref\":\"paper\",\"y\":1.0,\"yanchor\":\"bottom\",\"yref\":\"paper\"},{\"font\":{\"size\":16},\"showarrow\":false,\"text\":\"Topic 1\",\"x\":0.36250000000000004,\"xanchor\":\"center\",\"xref\":\"paper\",\"y\":1.0,\"yanchor\":\"bottom\",\"yref\":\"paper\"}],\"title\":{\"font\":{\"size\":22,\"color\":\"Black\"},\"text\":\"<b>Topic Word Scores\",\"x\":0.5,\"xanchor\":\"center\",\"yanchor\":\"top\"},\"hoverlabel\":{\"font\":{\"size\":16,\"family\":\"Rockwell\"},\"bgcolor\":\"white\"},\"showlegend\":false,\"width\":1000,\"height\":325.0},                        {\"responsive\": true}                    ).then(function(){\n",
              "                            \n",
              "var gd = document.getElementById('4f08eefe-6fbb-416d-9784-47dbe7fbf597');\n",
              "var x = new MutationObserver(function (mutations, observer) {{\n",
              "        var display = window.getComputedStyle(gd).display;\n",
              "        if (!display || display === 'none') {{\n",
              "            console.log([gd, 'removed!']);\n",
              "            Plotly.purge(gd);\n",
              "            observer.disconnect();\n",
              "        }}\n",
              "}});\n",
              "\n",
              "// Listen for the removal of the full notebook cells\n",
              "var notebookContainer = gd.closest('#notebook-container');\n",
              "if (notebookContainer) {{\n",
              "    x.observe(notebookContainer, {childList: true});\n",
              "}}\n",
              "\n",
              "// Listen for the clearing of the current output cell\n",
              "var outputEl = gd.closest('.output');\n",
              "if (outputEl) {{\n",
              "    x.observe(outputEl, {childList: true});\n",
              "}}\n",
              "\n",
              "                        })                };                            </script>        </div>\n",
              "</body>\n",
              "</html>"
            ]
          },
          "metadata": {}
        }
      ]
    },
    {
      "cell_type": "code",
      "source": [
        "topic_model.visualize_term_rank()"
      ],
      "metadata": {
        "colab": {
          "base_uri": "https://localhost:8080/",
          "height": 517
        },
        "id": "NdUMRIdgZZfb",
        "outputId": "2672279a-affa-420f-e6af-39e5b63f467a"
      },
      "execution_count": 19,
      "outputs": [
        {
          "output_type": "display_data",
          "data": {
            "text/html": [
              "<html>\n",
              "<head><meta charset=\"utf-8\" /></head>\n",
              "<body>\n",
              "    <div>            <script src=\"https://cdnjs.cloudflare.com/ajax/libs/mathjax/2.7.5/MathJax.js?config=TeX-AMS-MML_SVG\"></script><script type=\"text/javascript\">if (window.MathJax) {MathJax.Hub.Config({SVG: {font: \"STIX-Web\"}});}</script>                <script type=\"text/javascript\">window.PlotlyConfig = {MathJaxConfig: 'local'};</script>\n",
              "        <script src=\"https://cdn.plot.ly/plotly-2.8.3.min.js\"></script>                <div id=\"db7d443e-933d-4856-963b-57db556a830c\" class=\"plotly-graph-div\" style=\"height:500px; width:800px;\"></div>            <script type=\"text/javascript\">                                    window.PLOTLYENV=window.PLOTLYENV || {};                                    if (document.getElementById(\"db7d443e-933d-4856-963b-57db556a830c\")) {                    Plotly.newPlot(                        \"db7d443e-933d-4856-963b-57db556a830c\",                        [{\"hovertext\":\"<b>Topic -1</b>:indigen_communiti_research_health_\",\"line\":{\"color\":\"black\",\"width\":1.5},\"mode\":\"lines+lines\",\"name\":\"\",\"opacity\":0.1,\"x\":[1,2,3,4,5,6,7,8,9,10],\"y\":[0.04815706673361289,0.046276581362960784,0.04208218361002045,0.03296584883562139,0.032161774112043906,0.028649771599895933,0.02746646014418157,0.026844669276152842,0.026018362684468718,0.024008084900539815],\"type\":\"scatter\"},{\"hovertext\":\"<b>Topic 0</b>:communiti_research_indigen_elder_kn\",\"line\":{\"color\":\"black\",\"width\":1.5},\"mode\":\"lines+lines\",\"name\":\"\",\"opacity\":0.1,\"x\":[1,2,3,4,5,6,7,8,9,10],\"y\":[0.08559732626425048,0.06464594168077908,0.060336727687889675,0.04513979137433622,0.042805013657064114,0.04157010603005189,0.03983045755206047,0.035073839605457395,0.029955726223130554,0.029818483903840648],\"type\":\"scatter\"},{\"hovertext\":\"<b>Topic 1</b>:care_patient_hospit_studi_long_term\",\"line\":{\"color\":\"black\",\"width\":1.5},\"mode\":\"lines+lines\",\"name\":\"\",\"opacity\":0.1,\"x\":[1,2,3,4,5,6,7,8,9,10],\"y\":[0.11443096680606475,0.0876763471728824,0.0514105337336219,0.044705156023642,0.039536673746943654,0.039353058583586675,0.03783604547619882,0.03716504678769598,0.03690089549714741,0.03546755335006558],\"type\":\"scatter\"}],                        {\"template\":{\"data\":{\"barpolar\":[{\"marker\":{\"line\":{\"color\":\"white\",\"width\":0.5},\"pattern\":{\"fillmode\":\"overlay\",\"size\":10,\"solidity\":0.2}},\"type\":\"barpolar\"}],\"bar\":[{\"error_x\":{\"color\":\"#2a3f5f\"},\"error_y\":{\"color\":\"#2a3f5f\"},\"marker\":{\"line\":{\"color\":\"white\",\"width\":0.5},\"pattern\":{\"fillmode\":\"overlay\",\"size\":10,\"solidity\":0.2}},\"type\":\"bar\"}],\"carpet\":[{\"aaxis\":{\"endlinecolor\":\"#2a3f5f\",\"gridcolor\":\"#C8D4E3\",\"linecolor\":\"#C8D4E3\",\"minorgridcolor\":\"#C8D4E3\",\"startlinecolor\":\"#2a3f5f\"},\"baxis\":{\"endlinecolor\":\"#2a3f5f\",\"gridcolor\":\"#C8D4E3\",\"linecolor\":\"#C8D4E3\",\"minorgridcolor\":\"#C8D4E3\",\"startlinecolor\":\"#2a3f5f\"},\"type\":\"carpet\"}],\"choropleth\":[{\"colorbar\":{\"outlinewidth\":0,\"ticks\":\"\"},\"type\":\"choropleth\"}],\"contourcarpet\":[{\"colorbar\":{\"outlinewidth\":0,\"ticks\":\"\"},\"type\":\"contourcarpet\"}],\"contour\":[{\"colorbar\":{\"outlinewidth\":0,\"ticks\":\"\"},\"colorscale\":[[0.0,\"#0d0887\"],[0.1111111111111111,\"#46039f\"],[0.2222222222222222,\"#7201a8\"],[0.3333333333333333,\"#9c179e\"],[0.4444444444444444,\"#bd3786\"],[0.5555555555555556,\"#d8576b\"],[0.6666666666666666,\"#ed7953\"],[0.7777777777777778,\"#fb9f3a\"],[0.8888888888888888,\"#fdca26\"],[1.0,\"#f0f921\"]],\"type\":\"contour\"}],\"heatmapgl\":[{\"colorbar\":{\"outlinewidth\":0,\"ticks\":\"\"},\"colorscale\":[[0.0,\"#0d0887\"],[0.1111111111111111,\"#46039f\"],[0.2222222222222222,\"#7201a8\"],[0.3333333333333333,\"#9c179e\"],[0.4444444444444444,\"#bd3786\"],[0.5555555555555556,\"#d8576b\"],[0.6666666666666666,\"#ed7953\"],[0.7777777777777778,\"#fb9f3a\"],[0.8888888888888888,\"#fdca26\"],[1.0,\"#f0f921\"]],\"type\":\"heatmapgl\"}],\"heatmap\":[{\"colorbar\":{\"outlinewidth\":0,\"ticks\":\"\"},\"colorscale\":[[0.0,\"#0d0887\"],[0.1111111111111111,\"#46039f\"],[0.2222222222222222,\"#7201a8\"],[0.3333333333333333,\"#9c179e\"],[0.4444444444444444,\"#bd3786\"],[0.5555555555555556,\"#d8576b\"],[0.6666666666666666,\"#ed7953\"],[0.7777777777777778,\"#fb9f3a\"],[0.8888888888888888,\"#fdca26\"],[1.0,\"#f0f921\"]],\"type\":\"heatmap\"}],\"histogram2dcontour\":[{\"colorbar\":{\"outlinewidth\":0,\"ticks\":\"\"},\"colorscale\":[[0.0,\"#0d0887\"],[0.1111111111111111,\"#46039f\"],[0.2222222222222222,\"#7201a8\"],[0.3333333333333333,\"#9c179e\"],[0.4444444444444444,\"#bd3786\"],[0.5555555555555556,\"#d8576b\"],[0.6666666666666666,\"#ed7953\"],[0.7777777777777778,\"#fb9f3a\"],[0.8888888888888888,\"#fdca26\"],[1.0,\"#f0f921\"]],\"type\":\"histogram2dcontour\"}],\"histogram2d\":[{\"colorbar\":{\"outlinewidth\":0,\"ticks\":\"\"},\"colorscale\":[[0.0,\"#0d0887\"],[0.1111111111111111,\"#46039f\"],[0.2222222222222222,\"#7201a8\"],[0.3333333333333333,\"#9c179e\"],[0.4444444444444444,\"#bd3786\"],[0.5555555555555556,\"#d8576b\"],[0.6666666666666666,\"#ed7953\"],[0.7777777777777778,\"#fb9f3a\"],[0.8888888888888888,\"#fdca26\"],[1.0,\"#f0f921\"]],\"type\":\"histogram2d\"}],\"histogram\":[{\"marker\":{\"pattern\":{\"fillmode\":\"overlay\",\"size\":10,\"solidity\":0.2}},\"type\":\"histogram\"}],\"mesh3d\":[{\"colorbar\":{\"outlinewidth\":0,\"ticks\":\"\"},\"type\":\"mesh3d\"}],\"parcoords\":[{\"line\":{\"colorbar\":{\"outlinewidth\":0,\"ticks\":\"\"}},\"type\":\"parcoords\"}],\"pie\":[{\"automargin\":true,\"type\":\"pie\"}],\"scatter3d\":[{\"line\":{\"colorbar\":{\"outlinewidth\":0,\"ticks\":\"\"}},\"marker\":{\"colorbar\":{\"outlinewidth\":0,\"ticks\":\"\"}},\"type\":\"scatter3d\"}],\"scattercarpet\":[{\"marker\":{\"colorbar\":{\"outlinewidth\":0,\"ticks\":\"\"}},\"type\":\"scattercarpet\"}],\"scattergeo\":[{\"marker\":{\"colorbar\":{\"outlinewidth\":0,\"ticks\":\"\"}},\"type\":\"scattergeo\"}],\"scattergl\":[{\"marker\":{\"colorbar\":{\"outlinewidth\":0,\"ticks\":\"\"}},\"type\":\"scattergl\"}],\"scattermapbox\":[{\"marker\":{\"colorbar\":{\"outlinewidth\":0,\"ticks\":\"\"}},\"type\":\"scattermapbox\"}],\"scatterpolargl\":[{\"marker\":{\"colorbar\":{\"outlinewidth\":0,\"ticks\":\"\"}},\"type\":\"scatterpolargl\"}],\"scatterpolar\":[{\"marker\":{\"colorbar\":{\"outlinewidth\":0,\"ticks\":\"\"}},\"type\":\"scatterpolar\"}],\"scatter\":[{\"marker\":{\"colorbar\":{\"outlinewidth\":0,\"ticks\":\"\"}},\"type\":\"scatter\"}],\"scatterternary\":[{\"marker\":{\"colorbar\":{\"outlinewidth\":0,\"ticks\":\"\"}},\"type\":\"scatterternary\"}],\"surface\":[{\"colorbar\":{\"outlinewidth\":0,\"ticks\":\"\"},\"colorscale\":[[0.0,\"#0d0887\"],[0.1111111111111111,\"#46039f\"],[0.2222222222222222,\"#7201a8\"],[0.3333333333333333,\"#9c179e\"],[0.4444444444444444,\"#bd3786\"],[0.5555555555555556,\"#d8576b\"],[0.6666666666666666,\"#ed7953\"],[0.7777777777777778,\"#fb9f3a\"],[0.8888888888888888,\"#fdca26\"],[1.0,\"#f0f921\"]],\"type\":\"surface\"}],\"table\":[{\"cells\":{\"fill\":{\"color\":\"#EBF0F8\"},\"line\":{\"color\":\"white\"}},\"header\":{\"fill\":{\"color\":\"#C8D4E3\"},\"line\":{\"color\":\"white\"}},\"type\":\"table\"}]},\"layout\":{\"annotationdefaults\":{\"arrowcolor\":\"#2a3f5f\",\"arrowhead\":0,\"arrowwidth\":1},\"autotypenumbers\":\"strict\",\"coloraxis\":{\"colorbar\":{\"outlinewidth\":0,\"ticks\":\"\"}},\"colorscale\":{\"diverging\":[[0,\"#8e0152\"],[0.1,\"#c51b7d\"],[0.2,\"#de77ae\"],[0.3,\"#f1b6da\"],[0.4,\"#fde0ef\"],[0.5,\"#f7f7f7\"],[0.6,\"#e6f5d0\"],[0.7,\"#b8e186\"],[0.8,\"#7fbc41\"],[0.9,\"#4d9221\"],[1,\"#276419\"]],\"sequential\":[[0.0,\"#0d0887\"],[0.1111111111111111,\"#46039f\"],[0.2222222222222222,\"#7201a8\"],[0.3333333333333333,\"#9c179e\"],[0.4444444444444444,\"#bd3786\"],[0.5555555555555556,\"#d8576b\"],[0.6666666666666666,\"#ed7953\"],[0.7777777777777778,\"#fb9f3a\"],[0.8888888888888888,\"#fdca26\"],[1.0,\"#f0f921\"]],\"sequentialminus\":[[0.0,\"#0d0887\"],[0.1111111111111111,\"#46039f\"],[0.2222222222222222,\"#7201a8\"],[0.3333333333333333,\"#9c179e\"],[0.4444444444444444,\"#bd3786\"],[0.5555555555555556,\"#d8576b\"],[0.6666666666666666,\"#ed7953\"],[0.7777777777777778,\"#fb9f3a\"],[0.8888888888888888,\"#fdca26\"],[1.0,\"#f0f921\"]]},\"colorway\":[\"#636efa\",\"#EF553B\",\"#00cc96\",\"#ab63fa\",\"#FFA15A\",\"#19d3f3\",\"#FF6692\",\"#B6E880\",\"#FF97FF\",\"#FECB52\"],\"font\":{\"color\":\"#2a3f5f\"},\"geo\":{\"bgcolor\":\"white\",\"lakecolor\":\"white\",\"landcolor\":\"white\",\"showlakes\":true,\"showland\":true,\"subunitcolor\":\"#C8D4E3\"},\"hoverlabel\":{\"align\":\"left\"},\"hovermode\":\"closest\",\"mapbox\":{\"style\":\"light\"},\"paper_bgcolor\":\"white\",\"plot_bgcolor\":\"white\",\"polar\":{\"angularaxis\":{\"gridcolor\":\"#EBF0F8\",\"linecolor\":\"#EBF0F8\",\"ticks\":\"\"},\"bgcolor\":\"white\",\"radialaxis\":{\"gridcolor\":\"#EBF0F8\",\"linecolor\":\"#EBF0F8\",\"ticks\":\"\"}},\"scene\":{\"xaxis\":{\"backgroundcolor\":\"white\",\"gridcolor\":\"#DFE8F3\",\"gridwidth\":2,\"linecolor\":\"#EBF0F8\",\"showbackground\":true,\"ticks\":\"\",\"zerolinecolor\":\"#EBF0F8\"},\"yaxis\":{\"backgroundcolor\":\"white\",\"gridcolor\":\"#DFE8F3\",\"gridwidth\":2,\"linecolor\":\"#EBF0F8\",\"showbackground\":true,\"ticks\":\"\",\"zerolinecolor\":\"#EBF0F8\"},\"zaxis\":{\"backgroundcolor\":\"white\",\"gridcolor\":\"#DFE8F3\",\"gridwidth\":2,\"linecolor\":\"#EBF0F8\",\"showbackground\":true,\"ticks\":\"\",\"zerolinecolor\":\"#EBF0F8\"}},\"shapedefaults\":{\"line\":{\"color\":\"#2a3f5f\"}},\"ternary\":{\"aaxis\":{\"gridcolor\":\"#DFE8F3\",\"linecolor\":\"#A2B1C6\",\"ticks\":\"\"},\"baxis\":{\"gridcolor\":\"#DFE8F3\",\"linecolor\":\"#A2B1C6\",\"ticks\":\"\"},\"bgcolor\":\"white\",\"caxis\":{\"gridcolor\":\"#DFE8F3\",\"linecolor\":\"#A2B1C6\",\"ticks\":\"\"}},\"title\":{\"x\":0.05},\"xaxis\":{\"automargin\":true,\"gridcolor\":\"#EBF0F8\",\"linecolor\":\"#EBF0F8\",\"ticks\":\"\",\"title\":{\"standoff\":15},\"zerolinecolor\":\"#EBF0F8\",\"zerolinewidth\":2},\"yaxis\":{\"automargin\":true,\"gridcolor\":\"#EBF0F8\",\"linecolor\":\"#EBF0F8\",\"ticks\":\"\",\"title\":{\"standoff\":15},\"zerolinecolor\":\"#EBF0F8\",\"zerolinewidth\":2}}},\"xaxis\":{\"range\":[0,10],\"tick0\":1,\"dtick\":2,\"title\":{\"text\":\"Term Rank\"}},\"title\":{\"font\":{\"size\":22,\"color\":\"Black\"},\"text\":\"<b>Term score decline per Topic</b>\",\"y\":0.9,\"x\":0.5,\"xanchor\":\"center\",\"yanchor\":\"top\"},\"hoverlabel\":{\"font\":{\"size\":16,\"family\":\"Rockwell\"},\"bgcolor\":\"white\"},\"showlegend\":false,\"width\":800,\"height\":500,\"yaxis\":{\"title\":{\"text\":\"c-TF-IDF score\"}}},                        {\"responsive\": true}                    ).then(function(){\n",
              "                            \n",
              "var gd = document.getElementById('db7d443e-933d-4856-963b-57db556a830c');\n",
              "var x = new MutationObserver(function (mutations, observer) {{\n",
              "        var display = window.getComputedStyle(gd).display;\n",
              "        if (!display || display === 'none') {{\n",
              "            console.log([gd, 'removed!']);\n",
              "            Plotly.purge(gd);\n",
              "            observer.disconnect();\n",
              "        }}\n",
              "}});\n",
              "\n",
              "// Listen for the removal of the full notebook cells\n",
              "var notebookContainer = gd.closest('#notebook-container');\n",
              "if (notebookContainer) {{\n",
              "    x.observe(notebookContainer, {childList: true});\n",
              "}}\n",
              "\n",
              "// Listen for the clearing of the current output cell\n",
              "var outputEl = gd.closest('.output');\n",
              "if (outputEl) {{\n",
              "    x.observe(outputEl, {childList: true});\n",
              "}}\n",
              "\n",
              "                        })                };                            </script>        </div>\n",
              "</body>\n",
              "</html>"
            ]
          },
          "metadata": {}
        }
      ]
    },
    {
      "cell_type": "code",
      "source": [
        "topic_model.get_topic(2)"
      ],
      "metadata": {
        "colab": {
          "base_uri": "https://localhost:8080/"
        },
        "id": "rCFLz-LKZk3L",
        "outputId": "a04a27b0-cc5a-46d6-e62b-5a982520e9dd"
      },
      "execution_count": 20,
      "outputs": [
        {
          "output_type": "execute_result",
          "data": {
            "text/plain": [
              "False"
            ]
          },
          "metadata": {},
          "execution_count": 20
        }
      ]
    },
    {
      "cell_type": "code",
      "source": [
        "covid_topics, covid_topics_similarity = topic_model.find_topics(\"covid\", top_n=8)\n",
        "covid_topics, covid_topics_similarity"
      ],
      "metadata": {
        "colab": {
          "base_uri": "https://localhost:8080/"
        },
        "id": "p3G2YPzTcF1E",
        "outputId": "66dd2459-c36c-441a-82f2-42d2d733e247"
      },
      "execution_count": 21,
      "outputs": [
        {
          "output_type": "execute_result",
          "data": {
            "text/plain": [
              "([1, 0, -1], [0.4849139982707712, 0.4180574514429676, 0.3973658228199328])"
            ]
          },
          "metadata": {},
          "execution_count": 21
        }
      ]
    },
    {
      "cell_type": "code",
      "source": [
        "health_topics, health_topics_similarity = topic_model.find_topics(\"health\", top_n=4)\n",
        "health_topics, health_topics_similarity"
      ],
      "metadata": {
        "colab": {
          "base_uri": "https://localhost:8080/"
        },
        "id": "VbCerp8ednWS",
        "outputId": "0ca8515b-c3f5-4d11-ce9a-1e0e8de70ee1"
      },
      "execution_count": 22,
      "outputs": [
        {
          "output_type": "execute_result",
          "data": {
            "text/plain": [
              "([1, -1, 0], [0.5727169928591349, 0.5633738357677589, 0.556577353691488])"
            ]
          },
          "metadata": {},
          "execution_count": 22
        }
      ]
    },
    {
      "cell_type": "code",
      "source": [
        "house_topics, house_topics_similarity = topic_model.find_topics(\"house\", top_n=6)\n",
        "house_topics, house_topics_similarity"
      ],
      "metadata": {
        "colab": {
          "base_uri": "https://localhost:8080/"
        },
        "id": "h99E9GDZd6bi",
        "outputId": "1bdb2c9c-2d00-481d-ce3e-6b29998aaf9a"
      },
      "execution_count": 23,
      "outputs": [
        {
          "output_type": "execute_result",
          "data": {
            "text/plain": [
              "([1, 0, -1], [0.51598845931979, 0.42517072561480146, 0.41243256553387336])"
            ]
          },
          "metadata": {},
          "execution_count": 23
        }
      ]
    },
    {
      "cell_type": "code",
      "source": [
        "homecare_topics, homecare_topics_similarity = topic_model.find_topics(\"homecare\", top_n=3)\n",
        "homecare_topics, homecare_topics_similarity"
      ],
      "metadata": {
        "colab": {
          "base_uri": "https://localhost:8080/"
        },
        "id": "6z49v2mk3RZF",
        "outputId": "45393f71-073a-4b41-e499-cebae841f16c"
      },
      "execution_count": 24,
      "outputs": [
        {
          "output_type": "execute_result",
          "data": {
            "text/plain": [
              "([1, 0, -1], [0.44213178355956245, 0.36323926922637173, 0.34242777538395947])"
            ]
          },
          "metadata": {},
          "execution_count": 24
        }
      ]
    },
    {
      "cell_type": "code",
      "source": [
        "money_topics, money_topics_similarity = topic_model.find_topics(\"money\", top_n=3)\n",
        "money_topics, money_topics_similarity"
      ],
      "metadata": {
        "colab": {
          "base_uri": "https://localhost:8080/"
        },
        "id": "zQ0ZLCKuesVy",
        "outputId": "ca0d0fc0-36d0-4c74-abf7-bf3f258c7fc4"
      },
      "execution_count": 25,
      "outputs": [
        {
          "output_type": "execute_result",
          "data": {
            "text/plain": [
              "([1, 0, -1], [0.5043318813613653, 0.44667559542908397, 0.43080745867562])"
            ]
          },
          "metadata": {},
          "execution_count": 25
        }
      ]
    },
    {
      "cell_type": "code",
      "source": [
        "charity_topics, charity_topics_similarity = topic_model.find_topics(\"charity\", top_n=3)\n",
        "charity_topics, charity_topics_similarity"
      ],
      "metadata": {
        "colab": {
          "base_uri": "https://localhost:8080/"
        },
        "id": "1kQp3ijS7SEj",
        "outputId": "dd5b1df0-ff38-4b8a-a07d-5a9b419baa37"
      },
      "execution_count": 26,
      "outputs": [
        {
          "output_type": "execute_result",
          "data": {
            "text/plain": [
              "([1, 0, -1], [0.4967844039937608, 0.4377235699305154, 0.41876540107275717])"
            ]
          },
          "metadata": {},
          "execution_count": 26
        }
      ]
    },
    {
      "cell_type": "code",
      "source": [
        "safety_topics, safety_topics_similarity = topic_model.find_topics(\"safety\", top_n=3)\n",
        "safety_topics, safety_topics_similarity"
      ],
      "metadata": {
        "colab": {
          "base_uri": "https://localhost:8080/"
        },
        "id": "e-PrzC4Wgpxy",
        "outputId": "2383e9e8-f471-422f-f9cc-19078049d35d"
      },
      "execution_count": 27,
      "outputs": [
        {
          "output_type": "execute_result",
          "data": {
            "text/plain": [
              "([1, -1, 0], [0.4323693861323749, 0.40605540583825395, 0.3962346827076736])"
            ]
          },
          "metadata": {},
          "execution_count": 27
        }
      ]
    },
    {
      "cell_type": "code",
      "source": [
        "activity_topics, activity_topics_similarity = topic_model.find_topics(\"activity\", top_n=10)\n",
        "activity_topics, activity_topics_similarity"
      ],
      "metadata": {
        "colab": {
          "base_uri": "https://localhost:8080/"
        },
        "id": "YJHK2Ya1hdnS",
        "outputId": "0dc45127-8eb4-44d9-afd4-f65745f519b7"
      },
      "execution_count": 28,
      "outputs": [
        {
          "output_type": "execute_result",
          "data": {
            "text/plain": [
              "([-1, 0, 1], [0.5342175434522486, 0.5113490571754107, 0.42698350223760484])"
            ]
          },
          "metadata": {},
          "execution_count": 28
        }
      ]
    },
    {
      "cell_type": "code",
      "source": [
        "first_nations_topics, first_nations_topics_similarity = topic_model.find_topics(\"first nations\", top_n=8)\n",
        "first_nations_topics, first_nations_topics_similarity"
      ],
      "metadata": {
        "colab": {
          "base_uri": "https://localhost:8080/"
        },
        "id": "ps2NczH6hqWy",
        "outputId": "845f76d7-20c9-48c6-d45a-89b165f12f7c"
      },
      "execution_count": 29,
      "outputs": [
        {
          "output_type": "execute_result",
          "data": {
            "text/plain": [
              "([0, -1, 1], [0.2889421163148289, 0.2861545818610855, 0.26078324451475743])"
            ]
          },
          "metadata": {},
          "execution_count": 29
        }
      ]
    },
    {
      "cell_type": "code",
      "source": [
        "first_nations_topics, first_nations_topics_similarity = topic_model.find_topics(\"inter generation\", top_n=8)\n",
        "first_nations_topics, first_nations_topics_similarity"
      ],
      "metadata": {
        "id": "P_HfFpLp-_BL",
        "colab": {
          "base_uri": "https://localhost:8080/"
        },
        "outputId": "dc1465f4-c44d-4a19-c37f-fbb788674f6b"
      },
      "execution_count": 30,
      "outputs": [
        {
          "output_type": "execute_result",
          "data": {
            "text/plain": [
              "([-1, 0, 1], [0.4541878496661423, 0.4417010934366956, 0.3466739210052452])"
            ]
          },
          "metadata": {},
          "execution_count": 30
        }
      ]
    },
    {
      "cell_type": "code",
      "source": [
        "categories = ['covid', 'health', 'house', 'homecare', 'money', 'volunteer',\n",
        "              'safety', 'abuse', 'physical activity', 'social activity',\n",
        "              'first nations', 'schooling', 'environment', 'autonomy',\n",
        "              'freedom', 'climate', 'temperature', 'vaccine', 'grocery']\n",
        "\n",
        "similarity_cutoff = 0.50\n",
        "top_n = 20\n",
        "\n",
        "my_topics = {}\n",
        "for category in categories:\n",
        "  # Initiate category list\n",
        "  my_topics[str(category)] = []\n",
        "\n",
        "  # Get topics and similarities for given category\n",
        "  topics, similarities = topic_model.find_topics(category, top_n = top_n)\n",
        "\n",
        "  # Populate my_topics dict\n",
        "  for topic, similarity in zip(topics, similarities):\n",
        "    if similarity >= similarity_cutoff:\n",
        "      my_topics[str(category)].append(topic)"
      ],
      "metadata": {
        "id": "b80VIc2v-tIz"
      },
      "execution_count": 31,
      "outputs": []
    },
    {
      "cell_type": "code",
      "source": [
        "for key, value in zip(my_topics.keys(), my_topics.values()):\n",
        "  print(key, value)"
      ],
      "metadata": {
        "colab": {
          "base_uri": "https://localhost:8080/"
        },
        "id": "pduEop5KDbND",
        "outputId": "fd43560f-dfd5-472a-cfe8-01a58de6c435"
      },
      "execution_count": 32,
      "outputs": [
        {
          "output_type": "stream",
          "name": "stdout",
          "text": [
            "covid []\n",
            "health [1, -1, 0]\n",
            "house [1]\n",
            "homecare []\n",
            "money [1]\n",
            "volunteer [1]\n",
            "safety []\n",
            "abuse [1]\n",
            "physical activity []\n",
            "social activity []\n",
            "first nations []\n",
            "schooling []\n",
            "environment [-1, 0]\n",
            "autonomy []\n",
            "freedom []\n",
            "climate []\n",
            "temperature []\n",
            "vaccine []\n",
            "grocery []\n"
          ]
        }
      ]
    },
    {
      "cell_type": "code",
      "source": [
        "topic_model.get_topics()"
      ],
      "metadata": {
        "colab": {
          "base_uri": "https://localhost:8080/"
        },
        "id": "2ePZtwKHYzDt",
        "outputId": "1ed1c982-8842-48d6-8da7-2b040731a0bd"
      },
      "execution_count": 33,
      "outputs": [
        {
          "output_type": "execute_result",
          "data": {
            "text/plain": [
              "{-1: [('indigen', 0.04815706673361289),\n",
              "  ('communiti', 0.046276581362960784),\n",
              "  ('research', 0.04208218361002045),\n",
              "  ('health', 0.03296584883562139),\n",
              "  ('languag', 0.032161774112043906),\n",
              "  ('elder', 0.028649771599895933),\n",
              "  ('knowledg', 0.02746646014418157),\n",
              "  ('develop', 0.026844669276152842),\n",
              "  ('peopl', 0.026018362684468718),\n",
              "  ('need', 0.024008084900539815)],\n",
              " 0: [('communiti', 0.08559732626425048),\n",
              "  ('research', 0.06464594168077908),\n",
              "  ('indigen', 0.060336727687889675),\n",
              "  ('elder', 0.04513979137433622),\n",
              "  ('knowledg', 0.042805013657064114),\n",
              "  ('cultur', 0.04157010603005189),\n",
              "  ('health', 0.03983045755206047),\n",
              "  ('age', 0.035073839605457395),\n",
              "  ('well', 0.029955726223130554),\n",
              "  ('develop', 0.029818483903840648)],\n",
              " 1: [('care', 0.11443096680606475),\n",
              "  ('patient', 0.0876763471728824),\n",
              "  ('hospit', 0.0514105337336219),\n",
              "  ('studi', 0.044705156023642),\n",
              "  ('long', 0.039536673746943654),\n",
              "  ('term', 0.039353058583586675),\n",
              "  ('elder', 0.03783604547619882),\n",
              "  ('canadian', 0.03716504678769598),\n",
              "  ('home', 0.03690089549714741),\n",
              "  ('medic', 0.03546755335006558)]}"
            ]
          },
          "metadata": {},
          "execution_count": 33
        }
      ]
    },
    {
      "cell_type": "code",
      "source": [
        "# Assigning topics\n",
        "for i, topic in enumerate(art_df['topic']):\n",
        "  art_df.loc[i, 'topics'] = ''\n",
        "  temp_topics = []\n",
        "  for key, value in zip(my_topics.keys(), my_topics.values()):\n",
        "    if topic in value:\n",
        "      temp_topics.append(key)\n",
        "    art_df.loc[i, 'topics'] = ', '.join(temp_topics)"
      ],
      "metadata": {
        "id": "uA286DrUC8Yq"
      },
      "execution_count": 34,
      "outputs": []
    },
    {
      "cell_type": "code",
      "source": [
        "art_df"
      ],
      "metadata": {
        "colab": {
          "base_uri": "https://localhost:8080/",
          "height": 641
        },
        "id": "EcwtReUDEICz",
        "outputId": "fd59453a-e9c0-4178-de58-563cdc97cc36"
      },
      "execution_count": 35,
      "outputs": [
        {
          "output_type": "execute_result",
          "data": {
            "text/plain": [
              "                                                 title               author  \\\n",
              "0    Addressing the challenges of client retention ...         David Burnes   \n",
              "1    The potential for elders' cultural knowledge t...      George Sefa Dei   \n",
              "2    Supporting the creation of a LEARNing INteGrat...  Patrick Archambault   \n",
              "3    Supporting the creation of a LEARNing INteGrat...  Patrick Archambault   \n",
              "4    The Canadian Network of COVID-19 Clinical Tria...  Patrick Archambault   \n",
              "..                                                 ...                  ...   \n",
              "96   Restor(y)ing place-based Indigenous physical c...        Moss E Norman   \n",
              "97   Wholistic Indigenous Health and Wellness throu...        Moss E Norman   \n",
              "98   ATSA-ESI: Assistive Technology Supporting Agin...           Jesse Hoey   \n",
              "99   The Women and HIV Research Program: Impactful ...        Mona R Loutfy   \n",
              "100  Enhancing and Expanding the \"Know Your Status\"...        Mona R Loutfy   \n",
              "\n",
              "                         university  \\\n",
              "0             University of Toronto   \n",
              "1             University of Toronto   \n",
              "2                  Laval University   \n",
              "3                  Laval University   \n",
              "4                  Laval University   \n",
              "..                              ...   \n",
              "96   University of British Columbia   \n",
              "97   University of British Columbia   \n",
              "98           University of Waterloo   \n",
              "99         Women's College Hospital   \n",
              "100        Women's College Hospital   \n",
              "\n",
              "                                             link  \\\n",
              "0    https://cognit.ca/en/research/project/109991   \n",
              "1    https://cognit.ca/en/research/project/113011   \n",
              "2    https://cognit.ca/en/research/project/153228   \n",
              "3    https://cognit.ca/en/research/project/153897   \n",
              "4    https://cognit.ca/en/research/project/232693   \n",
              "..                                            ...   \n",
              "96   https://cognit.ca/en/research/project/113521   \n",
              "97   https://cognit.ca/en/research/project/216287   \n",
              "98     https://cognit.ca/en/research/project/9941   \n",
              "99   https://cognit.ca/en/research/project/147849   \n",
              "100  https://cognit.ca/en/research/project/147274   \n",
              "\n",
              "                                                  body  polarity  \\\n",
              "0    Elder abuse is a pervasive form of inter-perso...  0.088414   \n",
              "1    Black youth in Canada face significant dispari...  0.104545   \n",
              "2    Elderly patients do not always receive the bes...  0.409375   \n",
              "3    Elderly patients discharged from emergency dep...  0.237500   \n",
              "4    Nearly 350,000 Canadians have been diagnosed w...  0.229924   \n",
              "..                                                 ...       ...   \n",
              "96   This project engages two Swampy Cree (Muskéko ...  0.082702   \n",
              "97   Our primary objective is to assemble a disting...  0.107071   \n",
              "98   For the past twelve years I have been building...  0.112954   \n",
              "99   Dr. Mona Loutfy is recognized as a national an...  0.142929   \n",
              "100  First Nations people living on-reserve in Sask...  0.129583   \n",
              "\n",
              "                                            lemmatized  topic  \\\n",
              "0    elder abus pervas form inter person violenc ca...      0   \n",
              "1    black youth canada face signific dispar educ s...      0   \n",
              "2    elder patient receiv best care help return hom...      1   \n",
              "3    elder patient discharg emerg depart repeat rea...      1   \n",
              "4    near canadian diagnos covid infect canada elde...     -1   \n",
              "..                                                 ...    ...   \n",
              "96   project engag swampi cree muskéko ininiw natio...      0   \n",
              "97   primari object assembl distinguish group indig...      0   \n",
              "98   past year build sophist assist technolog desig...     -1   \n",
              "99   mona loutfi recogn nation intern leader area w...     -1   \n",
              "100  nation peopl live reserv saskatchewan highest ...     -1   \n",
              "\n",
              "                                     topics  \n",
              "0                       health, environment  \n",
              "1                       health, environment  \n",
              "2    health, house, money, volunteer, abuse  \n",
              "3    health, house, money, volunteer, abuse  \n",
              "4                       health, environment  \n",
              "..                                      ...  \n",
              "96                      health, environment  \n",
              "97                      health, environment  \n",
              "98                      health, environment  \n",
              "99                      health, environment  \n",
              "100                     health, environment  \n",
              "\n",
              "[101 rows x 9 columns]"
            ],
            "text/html": [
              "\n",
              "  <div id=\"df-681c2032-d358-47b5-b571-2f257f480f82\">\n",
              "    <div class=\"colab-df-container\">\n",
              "      <div>\n",
              "<style scoped>\n",
              "    .dataframe tbody tr th:only-of-type {\n",
              "        vertical-align: middle;\n",
              "    }\n",
              "\n",
              "    .dataframe tbody tr th {\n",
              "        vertical-align: top;\n",
              "    }\n",
              "\n",
              "    .dataframe thead th {\n",
              "        text-align: right;\n",
              "    }\n",
              "</style>\n",
              "<table border=\"1\" class=\"dataframe\">\n",
              "  <thead>\n",
              "    <tr style=\"text-align: right;\">\n",
              "      <th></th>\n",
              "      <th>title</th>\n",
              "      <th>author</th>\n",
              "      <th>university</th>\n",
              "      <th>link</th>\n",
              "      <th>body</th>\n",
              "      <th>polarity</th>\n",
              "      <th>lemmatized</th>\n",
              "      <th>topic</th>\n",
              "      <th>topics</th>\n",
              "    </tr>\n",
              "  </thead>\n",
              "  <tbody>\n",
              "    <tr>\n",
              "      <th>0</th>\n",
              "      <td>Addressing the challenges of client retention ...</td>\n",
              "      <td>David Burnes</td>\n",
              "      <td>University of Toronto</td>\n",
              "      <td>https://cognit.ca/en/research/project/109991</td>\n",
              "      <td>Elder abuse is a pervasive form of inter-perso...</td>\n",
              "      <td>0.088414</td>\n",
              "      <td>elder abus pervas form inter person violenc ca...</td>\n",
              "      <td>0</td>\n",
              "      <td>health, environment</td>\n",
              "    </tr>\n",
              "    <tr>\n",
              "      <th>1</th>\n",
              "      <td>The potential for elders' cultural knowledge t...</td>\n",
              "      <td>George Sefa Dei</td>\n",
              "      <td>University of Toronto</td>\n",
              "      <td>https://cognit.ca/en/research/project/113011</td>\n",
              "      <td>Black youth in Canada face significant dispari...</td>\n",
              "      <td>0.104545</td>\n",
              "      <td>black youth canada face signific dispar educ s...</td>\n",
              "      <td>0</td>\n",
              "      <td>health, environment</td>\n",
              "    </tr>\n",
              "    <tr>\n",
              "      <th>2</th>\n",
              "      <td>Supporting the creation of a LEARNing INteGrat...</td>\n",
              "      <td>Patrick Archambault</td>\n",
              "      <td>Laval University</td>\n",
              "      <td>https://cognit.ca/en/research/project/153228</td>\n",
              "      <td>Elderly patients do not always receive the bes...</td>\n",
              "      <td>0.409375</td>\n",
              "      <td>elder patient receiv best care help return hom...</td>\n",
              "      <td>1</td>\n",
              "      <td>health, house, money, volunteer, abuse</td>\n",
              "    </tr>\n",
              "    <tr>\n",
              "      <th>3</th>\n",
              "      <td>Supporting the creation of a LEARNing INteGrat...</td>\n",
              "      <td>Patrick Archambault</td>\n",
              "      <td>Laval University</td>\n",
              "      <td>https://cognit.ca/en/research/project/153897</td>\n",
              "      <td>Elderly patients discharged from emergency dep...</td>\n",
              "      <td>0.237500</td>\n",
              "      <td>elder patient discharg emerg depart repeat rea...</td>\n",
              "      <td>1</td>\n",
              "      <td>health, house, money, volunteer, abuse</td>\n",
              "    </tr>\n",
              "    <tr>\n",
              "      <th>4</th>\n",
              "      <td>The Canadian Network of COVID-19 Clinical Tria...</td>\n",
              "      <td>Patrick Archambault</td>\n",
              "      <td>Laval University</td>\n",
              "      <td>https://cognit.ca/en/research/project/232693</td>\n",
              "      <td>Nearly 350,000 Canadians have been diagnosed w...</td>\n",
              "      <td>0.229924</td>\n",
              "      <td>near canadian diagnos covid infect canada elde...</td>\n",
              "      <td>-1</td>\n",
              "      <td>health, environment</td>\n",
              "    </tr>\n",
              "    <tr>\n",
              "      <th>...</th>\n",
              "      <td>...</td>\n",
              "      <td>...</td>\n",
              "      <td>...</td>\n",
              "      <td>...</td>\n",
              "      <td>...</td>\n",
              "      <td>...</td>\n",
              "      <td>...</td>\n",
              "      <td>...</td>\n",
              "      <td>...</td>\n",
              "    </tr>\n",
              "    <tr>\n",
              "      <th>96</th>\n",
              "      <td>Restor(y)ing place-based Indigenous physical c...</td>\n",
              "      <td>Moss E Norman</td>\n",
              "      <td>University of British Columbia</td>\n",
              "      <td>https://cognit.ca/en/research/project/113521</td>\n",
              "      <td>This project engages two Swampy Cree (Muskéko ...</td>\n",
              "      <td>0.082702</td>\n",
              "      <td>project engag swampi cree muskéko ininiw natio...</td>\n",
              "      <td>0</td>\n",
              "      <td>health, environment</td>\n",
              "    </tr>\n",
              "    <tr>\n",
              "      <th>97</th>\n",
              "      <td>Wholistic Indigenous Health and Wellness throu...</td>\n",
              "      <td>Moss E Norman</td>\n",
              "      <td>University of British Columbia</td>\n",
              "      <td>https://cognit.ca/en/research/project/216287</td>\n",
              "      <td>Our primary objective is to assemble a disting...</td>\n",
              "      <td>0.107071</td>\n",
              "      <td>primari object assembl distinguish group indig...</td>\n",
              "      <td>0</td>\n",
              "      <td>health, environment</td>\n",
              "    </tr>\n",
              "    <tr>\n",
              "      <th>98</th>\n",
              "      <td>ATSA-ESI: Assistive Technology Supporting Agin...</td>\n",
              "      <td>Jesse Hoey</td>\n",
              "      <td>University of Waterloo</td>\n",
              "      <td>https://cognit.ca/en/research/project/9941</td>\n",
              "      <td>For the past twelve years I have been building...</td>\n",
              "      <td>0.112954</td>\n",
              "      <td>past year build sophist assist technolog desig...</td>\n",
              "      <td>-1</td>\n",
              "      <td>health, environment</td>\n",
              "    </tr>\n",
              "    <tr>\n",
              "      <th>99</th>\n",
              "      <td>The Women and HIV Research Program: Impactful ...</td>\n",
              "      <td>Mona R Loutfy</td>\n",
              "      <td>Women's College Hospital</td>\n",
              "      <td>https://cognit.ca/en/research/project/147849</td>\n",
              "      <td>Dr. Mona Loutfy is recognized as a national an...</td>\n",
              "      <td>0.142929</td>\n",
              "      <td>mona loutfi recogn nation intern leader area w...</td>\n",
              "      <td>-1</td>\n",
              "      <td>health, environment</td>\n",
              "    </tr>\n",
              "    <tr>\n",
              "      <th>100</th>\n",
              "      <td>Enhancing and Expanding the \"Know Your Status\"...</td>\n",
              "      <td>Mona R Loutfy</td>\n",
              "      <td>Women's College Hospital</td>\n",
              "      <td>https://cognit.ca/en/research/project/147274</td>\n",
              "      <td>First Nations people living on-reserve in Sask...</td>\n",
              "      <td>0.129583</td>\n",
              "      <td>nation peopl live reserv saskatchewan highest ...</td>\n",
              "      <td>-1</td>\n",
              "      <td>health, environment</td>\n",
              "    </tr>\n",
              "  </tbody>\n",
              "</table>\n",
              "<p>101 rows × 9 columns</p>\n",
              "</div>\n",
              "      <button class=\"colab-df-convert\" onclick=\"convertToInteractive('df-681c2032-d358-47b5-b571-2f257f480f82')\"\n",
              "              title=\"Convert this dataframe to an interactive table.\"\n",
              "              style=\"display:none;\">\n",
              "        \n",
              "  <svg xmlns=\"http://www.w3.org/2000/svg\" height=\"24px\"viewBox=\"0 0 24 24\"\n",
              "       width=\"24px\">\n",
              "    <path d=\"M0 0h24v24H0V0z\" fill=\"none\"/>\n",
              "    <path d=\"M18.56 5.44l.94 2.06.94-2.06 2.06-.94-2.06-.94-.94-2.06-.94 2.06-2.06.94zm-11 1L8.5 8.5l.94-2.06 2.06-.94-2.06-.94L8.5 2.5l-.94 2.06-2.06.94zm10 10l.94 2.06.94-2.06 2.06-.94-2.06-.94-.94-2.06-.94 2.06-2.06.94z\"/><path d=\"M17.41 7.96l-1.37-1.37c-.4-.4-.92-.59-1.43-.59-.52 0-1.04.2-1.43.59L10.3 9.45l-7.72 7.72c-.78.78-.78 2.05 0 2.83L4 21.41c.39.39.9.59 1.41.59.51 0 1.02-.2 1.41-.59l7.78-7.78 2.81-2.81c.8-.78.8-2.07 0-2.86zM5.41 20L4 18.59l7.72-7.72 1.47 1.35L5.41 20z\"/>\n",
              "  </svg>\n",
              "      </button>\n",
              "      \n",
              "  <style>\n",
              "    .colab-df-container {\n",
              "      display:flex;\n",
              "      flex-wrap:wrap;\n",
              "      gap: 12px;\n",
              "    }\n",
              "\n",
              "    .colab-df-convert {\n",
              "      background-color: #E8F0FE;\n",
              "      border: none;\n",
              "      border-radius: 50%;\n",
              "      cursor: pointer;\n",
              "      display: none;\n",
              "      fill: #1967D2;\n",
              "      height: 32px;\n",
              "      padding: 0 0 0 0;\n",
              "      width: 32px;\n",
              "    }\n",
              "\n",
              "    .colab-df-convert:hover {\n",
              "      background-color: #E2EBFA;\n",
              "      box-shadow: 0px 1px 2px rgba(60, 64, 67, 0.3), 0px 1px 3px 1px rgba(60, 64, 67, 0.15);\n",
              "      fill: #174EA6;\n",
              "    }\n",
              "\n",
              "    [theme=dark] .colab-df-convert {\n",
              "      background-color: #3B4455;\n",
              "      fill: #D2E3FC;\n",
              "    }\n",
              "\n",
              "    [theme=dark] .colab-df-convert:hover {\n",
              "      background-color: #434B5C;\n",
              "      box-shadow: 0px 1px 3px 1px rgba(0, 0, 0, 0.15);\n",
              "      filter: drop-shadow(0px 1px 2px rgba(0, 0, 0, 0.3));\n",
              "      fill: #FFFFFF;\n",
              "    }\n",
              "  </style>\n",
              "\n",
              "      <script>\n",
              "        const buttonEl =\n",
              "          document.querySelector('#df-681c2032-d358-47b5-b571-2f257f480f82 button.colab-df-convert');\n",
              "        buttonEl.style.display =\n",
              "          google.colab.kernel.accessAllowed ? 'block' : 'none';\n",
              "\n",
              "        async function convertToInteractive(key) {\n",
              "          const element = document.querySelector('#df-681c2032-d358-47b5-b571-2f257f480f82');\n",
              "          const dataTable =\n",
              "            await google.colab.kernel.invokeFunction('convertToInteractive',\n",
              "                                                     [key], {});\n",
              "          if (!dataTable) return;\n",
              "\n",
              "          const docLinkHtml = 'Like what you see? Visit the ' +\n",
              "            '<a target=\"_blank\" href=https://colab.research.google.com/notebooks/data_table.ipynb>data table notebook</a>'\n",
              "            + ' to learn more about interactive tables.';\n",
              "          element.innerHTML = '';\n",
              "          dataTable['output_type'] = 'display_data';\n",
              "          await google.colab.output.renderOutput(dataTable, element);\n",
              "          const docLink = document.createElement('div');\n",
              "          docLink.innerHTML = docLinkHtml;\n",
              "          element.appendChild(docLink);\n",
              "        }\n",
              "      </script>\n",
              "    </div>\n",
              "  </div>\n",
              "  "
            ]
          },
          "metadata": {},
          "execution_count": 35
        }
      ]
    },
    {
      "cell_type": "code",
      "source": [
        "art_df.to_csv('topic_elderly_articles.csv')"
      ],
      "metadata": {
        "id": "_yEIY9scKsCY"
      },
      "execution_count": 36,
      "outputs": []
    },
    {
      "cell_type": "code",
      "source": [
        "!pip -qq install wordcloud"
      ],
      "metadata": {
        "id": "-DZZ9CGhL6M4"
      },
      "execution_count": 37,
      "outputs": []
    },
    {
      "cell_type": "code",
      "source": [
        "from wordcloud import WordCloud\n",
        "import matplotlib.pyplot as plt\n",
        "\n",
        "wc = WordCloud(background_color = 'black',\n",
        "               collocations = False,\n",
        "               width = 600,\n",
        "               height = 300).generate(', '.join(art_df['topics'].tolist()))\n",
        "\n",
        "plt.figure(figsize=(16, 8))\n",
        "plt.imshow(wc, interpolation = \"bilinear\")\n",
        "plt.axis(\"off\")\n",
        "plt.show"
      ],
      "metadata": {
        "colab": {
          "base_uri": "https://localhost:8080/",
          "height": 483
        },
        "id": "y_qf6dmPMWKZ",
        "outputId": "8f385301-1083-4577-eb61-44966fbaf27d"
      },
      "execution_count": 38,
      "outputs": [
        {
          "output_type": "execute_result",
          "data": {
            "text/plain": [
              "<function matplotlib.pyplot.show>"
            ]
          },
          "metadata": {},
          "execution_count": 38
        },
        {
          "output_type": "display_data",
          "data": {
            "text/plain": [
              "<Figure size 1152x576 with 1 Axes>"
            ],
            "image/png": "[encoded data removed]"
          },
          "metadata": {
            "needs_background": "light"
          }
        }
      ]
    }
  ]
}